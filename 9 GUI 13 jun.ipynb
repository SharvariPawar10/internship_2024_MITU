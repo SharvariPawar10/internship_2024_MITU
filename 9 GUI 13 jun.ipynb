{
 "cells": [
  {
   "cell_type": "code",
   "execution_count": 13,
   "id": "a142044b-c83b-4450-a9d8-b1daf5e3037b",
   "metadata": {},
   "outputs": [],
   "source": [
    "import tkinter as tk\n",
    "from tkinter import BooleanVar\n",
    "from tkinter.ttk import *\n",
    "from tkinter import scrolledtext\n",
    "from tkinter import messagebox"
   ]
  },
  {
   "cell_type": "code",
   "execution_count": 4,
   "id": "47cd8b66-b1d6-43a2-8d11-5e2224909fc9",
   "metadata": {},
   "outputs": [],
   "source": [
    "top =tk.Tk()\n",
    "\n",
    "top.title('My Application')\n",
    "top.geometry('500x400')\n",
    "\n",
    "top.mainloop()"
   ]
  },
  {
   "cell_type": "code",
   "execution_count": 5,
   "id": "68676955-8e24-4060-923a-f0f5bfd430a5",
   "metadata": {},
   "outputs": [],
   "source": [
    "# taking button\n",
    "top =tk.Tk()\n",
    "\n",
    "top.title('My Application')\n",
    "top.geometry('500x400')\n",
    "\n",
    "b1 = tk.Button(top, text = 'Click me!!!').pack()\n",
    "\n",
    "top.mainloop()"
   ]
  },
  {
   "cell_type": "code",
   "execution_count": 6,
   "id": "ebb27f9b-377f-4382-8435-d5dfd4265d10",
   "metadata": {},
   "outputs": [],
   "source": [
    "#background colour to button\n",
    "top =tk.Tk()\n",
    "\n",
    "top.title('My Application')\n",
    "top.geometry('500x400')\n",
    "\n",
    "b1 = tk.Button(top, text = 'Click me!!!', bg= 'pink').pack()\n",
    "\n",
    "top.mainloop()"
   ]
  },
  {
   "cell_type": "code",
   "execution_count": 7,
   "id": "cd44102b-d77c-4acf-bb06-c3d64d0ed53c",
   "metadata": {},
   "outputs": [],
   "source": [
    "#Entry\n",
    "\n",
    "top =tk.Tk()\n",
    "\n",
    "top.title('My Application')\n",
    "top.geometry('500x400')\n",
    "\n",
    "b1 = tk.Button(top, text = 'Click me!!!', bg= 'pink').pack()\n",
    "e1= tk.Entry(top).pack()\n",
    "\n",
    "top.mainloop()\n"
   ]
  },
  {
   "cell_type": "code",
   "execution_count": 8,
   "id": "9290ec9f-db7f-4d09-aacf-33a06618ac9a",
   "metadata": {},
   "outputs": [],
   "source": [
    "#Text widget\n",
    "\n",
    "top =tk.Tk()\n",
    "\n",
    "top.title('My Application')\n",
    "top.geometry('500x400')\n",
    "\n",
    "b1 = tk.Button(top, text = 'Click me!!!', bg= 'pink').pack()\n",
    "e1= tk.Entry(top).pack()\n",
    "t1= tk.Text(top).pack()\n",
    "\n",
    "top.mainloop()"
   ]
  },
  {
   "cell_type": "code",
   "execution_count": 9,
   "id": "0f087c2f-b27d-4e28-a934-7c3be3e2b9fb",
   "metadata": {},
   "outputs": [],
   "source": [
    "#using grid instead of pack\n",
    "\n",
    "top =tk.Tk()\n",
    "\n",
    "top.title('My Application')\n",
    "top.geometry('500x400')\n",
    "\n",
    "b1 = tk.Button(top, text = 'Click me!!!', bg= 'pink').grid(column=0, row=1)\n",
    "e1= tk.Entry(top).grid(column=1, row=1)\n",
    "t1= tk.Text(top).grid(column=2, row=2)\n",
    "\n",
    "top.mainloop()"
   ]
  },
  {
   "cell_type": "code",
   "execution_count": 10,
   "id": "d852f135-eba3-476b-9b30-aa7f11e27fef",
   "metadata": {},
   "outputs": [],
   "source": [
    "#label widget\n",
    "\n",
    "top =tk.Tk()\n",
    "\n",
    "top.title('My Application')\n",
    "top.geometry('500x400')\n",
    "\n",
    "b1 = tk.Button(top, text = 'Click me!!!', bg= 'pink').grid(column=0, row=1)\n",
    "e1= tk.Entry(top).grid(column=1, row=1)\n",
    "t1= tk.Text(top).grid(column=2, row=2)\n",
    "l1 = tk.Label(top,text= 'Welcome',font = ('Ariel Bold', 50)).grid(column=2, row = 4)\n",
    "\n",
    "top.mainloop()"
   ]
  },
  {
   "cell_type": "code",
   "execution_count": 15,
   "id": "c79567a3-3adf-4c57-9c1e-5f06d9826bcb",
   "metadata": {},
   "outputs": [],
   "source": [
    "#combo box\n",
    "\n",
    "top =tk.Tk()\n",
    "\n",
    "top.title('My Application')\n",
    "top.geometry('500x400')\n",
    "\n",
    "b1 = tk.Button(top, text = 'Click me!!!', bg= 'pink').grid(column=0, row=1)\n",
    "e1= tk.Entry(top).grid(column=1, row=1)\n",
    "t1= tk.Text(top).grid(column=2, row=2)\n",
    "l1 = tk.Label(top,text= 'Welcome',font = ('Ariel Bold', 50)).grid(column=2, row = 4)\n",
    "\n",
    "combo= Combobox(top)\n",
    "combo['values']=[1,2,3,4,'next']\n",
    "combo.current(2)\n",
    "combo. grid(column=0, row=0)\n",
    "\n",
    "top.mainloop()"
   ]
  },
  {
   "cell_type": "code",
   "execution_count": 16,
   "id": "32874e6f-e3ae-43ac-b83e-a6d937d92c32",
   "metadata": {},
   "outputs": [],
   "source": [
    "#check button\n",
    "\n",
    "top =tk.Tk()\n",
    "\n",
    "top.title('My Application')\n",
    "top.geometry('500x400')\n",
    "\n",
    "b1 = tk.Button(top, text = 'Click me!!!', bg= 'pink').grid(column=0, row=1)\n",
    "e1= tk.Entry(top).grid(column=1, row=1)\n",
    "t1= tk.Text(top).grid(column=2, row=2)\n",
    "l1 = tk.Label(top,text= 'Welcome',font = ('Ariel Bold', 50)).grid(column=2, row = 4)\n",
    "\n",
    "combo= Combobox(top)\n",
    "combo['values']=[1,2,3,4,'next']\n",
    "combo.current(2)\n",
    "combo. grid(column=0, row=0)\n",
    "\n",
    "ch = BooleanVar()\n",
    "ch.set(True)\n",
    "cb = Checkbutton(top, text='Done', var=ch, width=30).grid(column=0, row=0)\n",
    "\n",
    "top.mainloop()"
   ]
  },
  {
   "cell_type": "code",
   "execution_count": 18,
   "id": "7534383f-6149-4ab6-9c44-ddc3a923e140",
   "metadata": {},
   "outputs": [],
   "source": [
    "#scrolled text\n",
    "\n",
    "top =tk.Tk()\n",
    "\n",
    "top.title('My Application')\n",
    "top.geometry('500x400')\n",
    "\n",
    "b1 = tk.Button(top, text = 'Click me!!!', bg= 'pink').grid(column=0, row=1)\n",
    "e1= tk.Entry(top).grid(column=1, row=1)\n",
    "t1= tk.Text(top).grid(column=2, row=2)\n",
    "l1 = tk.Label(top,text= 'Welcome',font = ('Ariel Bold', 50)).grid(column=2, row = 4)\n",
    "\n",
    "combo= Combobox(top)\n",
    "combo['values']=[1,2,3,4,'next']\n",
    "combo.current(2)\n",
    "combo. grid(column=0, row=0)\n",
    "\n",
    "ch = BooleanVar()\n",
    "ch.set(True)\n",
    "cb = Checkbutton(top, text='Done', var=ch, width=30).grid(column=0, row=0)\n",
    "\n",
    "st = scrolledtext.ScrolledText(top, width=40, height=10).grid(column=3, row=3)\n",
    "\n",
    "top.mainloop()"
   ]
  },
  {
   "cell_type": "markdown",
   "id": "6b93667a-0867-4eb2-b5da-c10feb7baab3",
   "metadata": {},
   "source": [
    "#### square of a number"
   ]
  },
  {
   "cell_type": "code",
   "execution_count": 21,
   "id": "fdc2e328-f651-4fc0-8b9a-5e8be35a2485",
   "metadata": {},
   "outputs": [],
   "source": [
    "top = tk.Tk()\n",
    "\n",
    "top.title('Square')\n",
    "top.geometry('500x400')\n",
    "\n",
    "a= tk.IntVar()\n",
    "\n",
    "def square():\n",
    "    num = a.get()\n",
    "    sq = num * num\n",
    "    result = tk.Label(top, text = 'square is %i' %sq).place(x = 120, y=170)\n",
    "    messagebox.showinfo(\"result\",\"square is %i\" %sq)\n",
    "\n",
    "l = tk.Label(top, text='INPUT').place(x=20, y=100)\n",
    "e = tk.Entry(top, textvariable = a).place(x=100, y=100)\n",
    "b = tk.Button(top, text='Submit', bg = 'pink', command = square).place(x=120 , y=150)\n",
    "\n",
    "top.mainloop()"
   ]
  },
  {
   "cell_type": "markdown",
   "id": "014c6740-dd02-4806-b2eb-227b53c9f336",
   "metadata": {},
   "source": [
    "#### Create for addition of 2 numbers"
   ]
  },
  {
   "cell_type": "code",
   "execution_count": 22,
   "id": "8213fe94-6a69-4871-98b3-b77b0acde3af",
   "metadata": {},
   "outputs": [],
   "source": [
    "top = tk.Tk()\n",
    "\n",
    "top.title('Calc.')\n",
    "top.geometry('500x400')\n",
    "\n",
    "a1 = tk.IntVar()\n",
    "a2 = tk.IntVar()\n",
    "\n",
    "def add():\n",
    "    ad = a1.get() + a2.get()\n",
    "    messagebox.showinfo(\"result\", \"Addition is %i\" %ad)\n",
    "\n",
    "l = tk.Label(top, text = 'INPUT').place(x = 20, y = 100)\n",
    "l1 = tk.Label(top, text = 'INPUT').place(x = 20, y = 130)\n",
    "e = tk.Entry(top, textvariable = a1).place(x = 100, y = 100)\n",
    "e1 = tk.Entry(top, textvariable = a2).place(x = 100, y = 130)\n",
    "\n",
    "b = tk.Button(top, text = 'Sumbit', bg = 'Orange', command = add, cursor = 'hand2').place(x = 120, y = 180)\n",
    "\n",
    "top.mainloop()\n"
   ]
  }
 ],
 "metadata": {
  "kernelspec": {
   "display_name": "Python 3 (ipykernel)",
   "language": "python",
   "name": "python3"
  },
  "language_info": {
   "codemirror_mode": {
    "name": "ipython",
    "version": 3
   },
   "file_extension": ".py",
   "mimetype": "text/x-python",
   "name": "python",
   "nbconvert_exporter": "python",
   "pygments_lexer": "ipython3",
   "version": "3.11.7"
  }
 },
 "nbformat": 4,
 "nbformat_minor": 5
}
