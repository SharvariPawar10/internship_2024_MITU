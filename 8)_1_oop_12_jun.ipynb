{
 "cells": [
  {
   "cell_type": "code",
   "execution_count": 2,
   "id": "bb18538d-e30c-4c2c-97c2-35d487d4fed2",
   "metadata": {},
   "outputs": [],
   "source": [
    "class Employee():  # creating the class\n",
    "    pass"
   ]
  },
  {
   "cell_type": "code",
   "execution_count": 3,
   "id": "bc99fc57-026d-4e5e-aff0-96687234912f",
   "metadata": {},
   "outputs": [],
   "source": [
    "emp1 = Employee() # creating an instance of a class\n",
    "emp2 = Employee()"
   ]
  },
  {
   "cell_type": "code",
   "execution_count": 4,
   "id": "badaf4b9-9e22-4328-bd24-5eecd4e9c6f0",
   "metadata": {},
   "outputs": [
    {
     "name": "stdout",
     "output_type": "stream",
     "text": [
      "<__main__.Employee object at 0x0000022933495FD0>\n",
      "<__main__.Employee object at 0x0000022933497950>\n"
     ]
    }
   ],
   "source": [
    "print(emp1)\n",
    "print(emp2)"
   ]
  },
  {
   "cell_type": "code",
   "execution_count": 5,
   "id": "8dbeef7d-e734-48b6-8433-15b67ed814e3",
   "metadata": {},
   "outputs": [],
   "source": [
    "# instance variable\n",
    "\n",
    "emp1.first = 'Sharvari'\n",
    "emp1.last = 'Pawar'\n",
    "emp1.salary = 65000\n",
    "\n",
    "emp2.first = 'Natasha'\n",
    "emp2.last = 'Negi'\n",
    "emp2.salary = 50000\n"
   ]
  },
  {
   "cell_type": "code",
   "execution_count": 6,
   "id": "b40b4e3e-7c76-4a2e-ad95-686497bb4cc5",
   "metadata": {},
   "outputs": [
    {
     "name": "stdout",
     "output_type": "stream",
     "text": [
      "Sharvari\n"
     ]
    }
   ],
   "source": [
    "print(emp1.first)"
   ]
  },
  {
   "cell_type": "code",
   "execution_count": 7,
   "id": "50fe72da-5e87-4c03-9dbd-d100872a2d78",
   "metadata": {},
   "outputs": [
    {
     "name": "stdout",
     "output_type": "stream",
     "text": [
      "50000\n"
     ]
    }
   ],
   "source": [
    "print(emp2.salary)"
   ]
  },
  {
   "cell_type": "code",
   "execution_count": 8,
   "id": "c9eb575e-792a-4f7d-be64-a11ac7c9cd9e",
   "metadata": {},
   "outputs": [],
   "source": [
    "class Employee():\n",
    "\n",
    "    def __init__(self,first,last,salary):\n",
    "        self.first = first\n",
    "        self.last = last\n",
    "        self.salary = salary"
   ]
  },
  {
   "cell_type": "code",
   "execution_count": 9,
   "id": "9a3f7894-0226-4e1d-a6e5-d636a48dd105",
   "metadata": {},
   "outputs": [],
   "source": [
    "emp1 = Employee('Sharvari','Pawar',50000)"
   ]
  },
  {
   "cell_type": "code",
   "execution_count": 10,
   "id": "72bc9ac5-52bf-46e6-b709-15fc32de7038",
   "metadata": {},
   "outputs": [
    {
     "name": "stdout",
     "output_type": "stream",
     "text": [
      "Sharvari\n"
     ]
    }
   ],
   "source": [
    "print(emp1.first)"
   ]
  },
  {
   "cell_type": "code",
   "execution_count": 11,
   "id": "f0fcd750-d312-4d82-87ef-3a29a98da6ec",
   "metadata": {},
   "outputs": [],
   "source": [
    "emp2 = Employee('Raj','Sharma',48000)"
   ]
  },
  {
   "cell_type": "code",
   "execution_count": 12,
   "id": "f9df76f3-9b73-4ab7-983b-8c9bc10b7dee",
   "metadata": {},
   "outputs": [
    {
     "name": "stdout",
     "output_type": "stream",
     "text": [
      "Sharma\n"
     ]
    }
   ],
   "source": [
    "print(emp2.last)"
   ]
  },
  {
   "cell_type": "code",
   "execution_count": 13,
   "id": "17e97b1a-5a26-40d8-9604-8b91bdc78fba",
   "metadata": {},
   "outputs": [],
   "source": [
    "class Employee():\n",
    "\n",
    "    def __init__(self,first,last,salary):\n",
    "        self.first = first\n",
    "        self.last = last\n",
    "        self.salary = salary\n",
    "\n",
    "    def show(self):\n",
    "       print(self.first + ' ' + 'ok')"
   ]
  },
  {
   "cell_type": "code",
   "execution_count": 14,
   "id": "b3c35904-de92-4498-a607-ad8ccfeee75d",
   "metadata": {},
   "outputs": [],
   "source": [
    "emp1 = Employee('Sharvari','Pawar',55000)"
   ]
  },
  {
   "cell_type": "code",
   "execution_count": 15,
   "id": "7c529d64-911c-46bd-b3cd-3b7a2b5b297f",
   "metadata": {},
   "outputs": [
    {
     "name": "stdout",
     "output_type": "stream",
     "text": [
      "Sharvari\n"
     ]
    }
   ],
   "source": [
    "print(emp1.first)"
   ]
  },
  {
   "cell_type": "code",
   "execution_count": 16,
   "id": "89c01ae0-1fa7-4c99-bdca-7eaadde21ec5",
   "metadata": {},
   "outputs": [],
   "source": [
    "emp2= Employee('Raj','Sharma',45000)\n"
   ]
  },
  {
   "cell_type": "code",
   "execution_count": 18,
   "id": "89140a28-2af8-4b12-af42-db747ef41a0d",
   "metadata": {},
   "outputs": [
    {
     "name": "stdout",
     "output_type": "stream",
     "text": [
      "Raj ok\n"
     ]
    }
   ],
   "source": [
    "emp2.show()"
   ]
  },
  {
   "cell_type": "code",
   "execution_count": 21,
   "id": "5dba1c61-cd94-449a-93a7-16f388ff97ef",
   "metadata": {},
   "outputs": [],
   "source": [
    "# encapsulation\n",
    "class Employee1():\n",
    "\n",
    "    def __init__(self, first, last, salary):\n",
    "        self.first = first\n",
    "        self.last = last  # private variable\n",
    "        self.salary = salary\n",
    "\n",
    "    def show(self):\n",
    "       print(self_salary)"
   ]
  },
  {
   "cell_type": "code",
   "execution_count": 22,
   "id": "36ae3df7-1137-43c2-990e-413bc217e0ab",
   "metadata": {},
   "outputs": [],
   "source": [
    "emp1 = Employee1('Sharvari','Pawar',50000)\n",
    "emp2 = Employee1('raj','Sharma',56000)"
   ]
  },
  {
   "cell_type": "code",
   "execution_count": 23,
   "id": "53567ace-a65a-4f9b-8df3-21d85850f779",
   "metadata": {},
   "outputs": [
    {
     "name": "stdout",
     "output_type": "stream",
     "text": [
      "Sharvari\n"
     ]
    }
   ],
   "source": [
    "print(emp1.first)"
   ]
  },
  {
   "cell_type": "code",
   "execution_count": 24,
   "id": "da6474ae-3c14-47a2-bb98-a1bd4b04784c",
   "metadata": {},
   "outputs": [
    {
     "name": "stdout",
     "output_type": "stream",
     "text": [
      "Pawar\n"
     ]
    }
   ],
   "source": [
    "print(emp1.last)"
   ]
  },
  {
   "cell_type": "code",
   "execution_count": 25,
   "id": "7886b0f5-1d65-45bd-b69d-ab65874a5b92",
   "metadata": {},
   "outputs": [
    {
     "name": "stdout",
     "output_type": "stream",
     "text": [
      "50000\n"
     ]
    }
   ],
   "source": [
    "print(emp1.salary)"
   ]
  },
  {
   "cell_type": "code",
   "execution_count": 26,
   "id": "0e8a60db-efc8-4291-ac05-a4ad1bda42fd",
   "metadata": {},
   "outputs": [],
   "source": [
    "# inheritance\n",
    "class Emp2(Employee1):\n",
    "    pass"
   ]
  },
  {
   "cell_type": "code",
   "execution_count": 27,
   "id": "1ba25f25-3fc5-4963-9cb9-e587a11e0a55",
   "metadata": {},
   "outputs": [],
   "source": [
    "emp3= Emp2('neha', 'kulkarni', 55000)"
   ]
  },
  {
   "cell_type": "code",
   "execution_count": 28,
   "id": "e4c0ea7b-d4f8-4d4d-9bba-70b255e06e8f",
   "metadata": {},
   "outputs": [
    {
     "ename": "NameError",
     "evalue": "name 'self_salary' is not defined",
     "output_type": "error",
     "traceback": [
      "\u001b[1;31m---------------------------------------------------------------------------\u001b[0m",
      "\u001b[1;31mNameError\u001b[0m                                 Traceback (most recent call last)",
      "Cell \u001b[1;32mIn[28], line 1\u001b[0m\n\u001b[1;32m----> 1\u001b[0m emp3\u001b[38;5;241m.\u001b[39mshow()\n",
      "Cell \u001b[1;32mIn[21], line 10\u001b[0m, in \u001b[0;36mEmployee1.show\u001b[1;34m(self)\u001b[0m\n\u001b[0;32m      9\u001b[0m \u001b[38;5;28;01mdef\u001b[39;00m \u001b[38;5;21mshow\u001b[39m(\u001b[38;5;28mself\u001b[39m):\n\u001b[1;32m---> 10\u001b[0m    \u001b[38;5;28mprint\u001b[39m(self_salary)\n",
      "\u001b[1;31mNameError\u001b[0m: name 'self_salary' is not defined"
     ]
    }
   ],
   "source": [
    "emp3.show()"
   ]
  },
  {
   "cell_type": "code",
   "execution_count": 31,
   "id": "050c81c6-0362-49d1-b42f-d171e0d0faf8",
   "metadata": {},
   "outputs": [],
   "source": [
    "'''Create a class called person\n",
    "attributes=> name, age, city,...(make use of default parameters also)\n",
    "create a method which will show all the info of a person '''\n",
    "\n",
    "class Person():\n",
    "\n",
    "    def __init__ (self, n, a=25):\n",
    "       self.name = n\n",
    "       self.age=a\n",
    "\n",
    "    def info(self):\n",
    "        print('name', self.name)\n",
    "        print('age',self.age)"
   ]
  },
  {
   "cell_type": "code",
   "execution_count": null,
   "id": "39113be8-4af7-429a-a458-05508eff250b",
   "metadata": {},
   "outputs": [],
   "source": [
    "p1 = Person('ajinkya',21)\n",
    "p2=Person"
   ]
  }
 ],
 "metadata": {
  "kernelspec": {
   "display_name": "Python 3 (ipykernel)",
   "language": "python",
   "name": "python3"
  },
  "language_info": {
   "codemirror_mode": {
    "name": "ipython",
    "version": 3
   },
   "file_extension": ".py",
   "mimetype": "text/x-python",
   "name": "python",
   "nbconvert_exporter": "python",
   "pygments_lexer": "ipython3",
   "version": "3.11.7"
  }
 },
 "nbformat": 4,
 "nbformat_minor": 5
}
