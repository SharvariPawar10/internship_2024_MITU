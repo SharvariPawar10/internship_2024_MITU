{
 "cells": [
  {
   "cell_type": "code",
   "execution_count": null,
   "id": "48ac26ec-3284-445f-ba31-8120fd5f72fd",
   "metadata": {},
   "outputs": [],
   "source": [
    "def dis():\n",
    "    print('hello')\n",
    "    print('this is module')"
   ]
  }
 ],
 "metadata": {
  "kernelspec": {
   "display_name": "Python 3 (ipykernel)",
   "language": "python",
   "name": "python3"
  },
  "language_info": {
   "codemirror_mode": {
    "name": "ipython",
    "version": 3
   },
   "file_extension": ".py",
   "mimetype": "text/x-python",
   "name": "python",
   "nbconvert_exporter": "python",
   "pygments_lexer": "ipython3",
   "version": "3.11.7"
  }
 },
 "nbformat": 4,
 "nbformat_minor": 5
}
