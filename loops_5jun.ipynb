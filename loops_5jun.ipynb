{
 "cells": [
  {
   "cell_type": "code",
   "execution_count": 1,
   "id": "2be25d77-cca1-4925-b169-114015d8ccd7",
   "metadata": {},
   "outputs": [
    {
     "name": "stdout",
     "output_type": "stream",
     "text": [
      "Sharvari\n",
      "Sharvari\n",
      "Sharvari\n",
      "Sharvari\n",
      "Sharvari\n"
     ]
    }
   ],
   "source": [
    "count = 1\n",
    "\n",
    "while count <= 5:\n",
    "    print('Sharvari')\n",
    "    count = count+1"
   ]
  },
  {
   "cell_type": "code",
   "execution_count": 2,
   "id": "f4d3c8df-9a99-41d1-bc39-2006b618ae9b",
   "metadata": {},
   "outputs": [
    {
     "name": "stdout",
     "output_type": "stream",
     "text": [
      "5 6 7 8 9 10 11 12 13 14 15 Goodbye!!!!\n"
     ]
    }
   ],
   "source": [
    "# print numbers from 5 to 15\n",
    "\n",
    "count = 5\n",
    "\n",
    "while count <= 15:\n",
    "    print(count, end =' ')\n",
    "    count += 1\n",
    "    \n",
    "print('Goodbye!!!!')"
   ]
  },
  {
   "cell_type": "code",
   "execution_count": 3,
   "id": "734475e8-7179-492b-a3a0-adb74868b056",
   "metadata": {},
   "outputs": [
    {
     "name": "stdout",
     "output_type": "stream",
     "text": [
      "16\n"
     ]
    }
   ],
   "source": [
    "print(count)"
   ]
  },
  {
   "cell_type": "code",
   "execution_count": 4,
   "id": "a82d0fa1-b446-458c-be99-62ce87899561",
   "metadata": {},
   "outputs": [
    {
     "name": "stdout",
     "output_type": "stream",
     "text": [
      "Addition is : 55\n"
     ]
    }
   ],
   "source": [
    "# print the addition of numbers from 1 to 20\n",
    "\n",
    "count = 1\n",
    "add = 0\n",
    "\n",
    "while count <=10:\n",
    "    add = add + count\n",
    "    count += 1\n",
    "\n",
    "print('Addition is :',add)"
   ]
  },
  {
   "cell_type": "code",
   "execution_count": 5,
   "id": "4a6c1686-58c4-46ea-b955-02c420374bf1",
   "metadata": {},
   "outputs": [
    {
     "name": "stdout",
     "output_type": "stream",
     "text": [
      "11\n"
     ]
    }
   ],
   "source": [
    "print(count)"
   ]
  },
  {
   "cell_type": "code",
   "execution_count": 6,
   "id": "f226cc0e-9642-4b04-a892-d4a38a4f4758",
   "metadata": {},
   "outputs": [
    {
     "name": "stdout",
     "output_type": "stream",
     "text": [
      "Addition is: 100\n"
     ]
    }
   ],
   "source": [
    "# print the addition of all odd numbers from 1 to 20\n",
    "\n",
    "count = 1\n",
    "add = 0\n",
    "\n",
    "while count <=20:\n",
    "    add= add + count\n",
    "    count +=2\n",
    "\n",
    "print('Addition is:',add)"
   ]
  },
  {
   "cell_type": "code",
   "execution_count": 7,
   "id": "f07751fe-c4e3-44d1-9eb5-c24fac1f8e39",
   "metadata": {},
   "outputs": [
    {
     "name": "stdout",
     "output_type": "stream",
     "text": [
      "factorial is: 120\n"
     ]
    }
   ],
   "source": [
    "# factorial => 5! => 5 * 4 * 3 * 2 * 1 = 120\n",
    "\n",
    "num = 1\n",
    "\n",
    "fact = 1\n",
    "\n",
    "while num <= 5:\n",
    "    fact = fact * num\n",
    "    num +=1\n",
    "\n",
    "print('factorial is:',fact)"
   ]
  },
  {
   "cell_type": "code",
   "execution_count": 8,
   "id": "aba0c508-ec50-4b46-82e3-5686249ca506",
   "metadata": {},
   "outputs": [
    {
     "name": "stdin",
     "output_type": "stream",
     "text": [
      "Enter the number 5\n"
     ]
    },
    {
     "name": "stdout",
     "output_type": "stream",
     "text": [
      "Fcatorial is: 120\n"
     ]
    }
   ],
   "source": [
    "num = int(input('Enter the number'))\n",
    "fact = 1\n",
    "\n",
    "while num >1:\n",
    "    fact = fact * num\n",
    "    num -= 1\n",
    "\n",
    "print('Fcatorial is:',fact)"
   ]
  },
  {
   "cell_type": "code",
   "execution_count": 9,
   "id": "ffbac31f-025e-42a4-a809-5124f49abe6c",
   "metadata": {},
   "outputs": [
    {
     "name": "stdin",
     "output_type": "stream",
     "text": [
      "Enter the number 5\n"
     ]
    },
    {
     "name": "stdout",
     "output_type": "stream",
     "text": [
      "loop ended\n",
      "Factorial is : 120\n"
     ]
    }
   ],
   "source": [
    "# else\n",
    "\n",
    "num = int(input('Enter the number'))\n",
    "fact = 1\n",
    "\n",
    "while num > 1:\n",
    "    fact = fact * num\n",
    "    num -=1\n",
    "else:\n",
    "    print('loop ended')\n",
    "\n",
    "print('Factorial is :',fact)"
   ]
  },
  {
   "cell_type": "code",
   "execution_count": 1,
   "id": "083b6d77-2b1e-4566-9ca5-dbfae0f7d65d",
   "metadata": {},
   "outputs": [],
   "source": [
    "''' infinite loop\n",
    "\n",
    "num = 2\n",
    "\n",
    "while num > 1:\n",
    "  print(num)\n",
    "  num += 1 ''';"
   ]
  },
  {
   "cell_type": "code",
   "execution_count": 2,
   "id": "b1f3feda-0552-47b4-9646-b4cc69e9c4ab",
   "metadata": {},
   "outputs": [],
   "source": [
    "''' while True:\n",
    "     print('a')\n",
    "     ''';"
   ]
  },
  {
   "cell_type": "code",
   "execution_count": 3,
   "id": "b651b3cf-28fe-4d0b-8adc-e21cb20874b9",
   "metadata": {},
   "outputs": [
    {
     "data": {
      "text/plain": [
       "4"
      ]
     },
     "execution_count": 3,
     "metadata": {},
     "output_type": "execute_result"
    }
   ],
   "source": [
    "num = 12345\n",
    "\n",
    "num % 10\n",
    "a = num // 10\n",
    "a % 10"
   ]
  },
  {
   "cell_type": "code",
   "execution_count": 4,
   "id": "4ca53d8f-3411-4c2e-b8ef-749842a372b7",
   "metadata": {},
   "outputs": [
    {
     "name": "stdin",
     "output_type": "stream",
     "text": [
      "Enter the number 1027\n"
     ]
    },
    {
     "name": "stdout",
     "output_type": "stream",
     "text": [
      "Addition of digits is: 10\n"
     ]
    }
   ],
   "source": [
    "# find the sum of digits in a number\n",
    "# 12345 => 1 + 2 + 3 + 4 + 5 = 15\n",
    "\n",
    "num = int(input('Enter the number'))\n",
    "\n",
    "add=0\n",
    "\n",
    "while num > 0:\n",
    "    rem = num % 10\n",
    "    add = add + rem\n",
    "    num = num // 10\n",
    "\n",
    "print('Addition of digits is:',add)\n",
    " "
   ]
  },
  {
   "cell_type": "markdown",
   "id": "3028a66c-2741-4fa0-9ec5-fe8ae689d247",
   "metadata": {},
   "source": [
    "### For loop"
   ]
  },
  {
   "cell_type": "code",
   "execution_count": 5,
   "id": "ac656bf5-3f8f-4b5c-a443-142ccf590d21",
   "metadata": {},
   "outputs": [
    {
     "name": "stdout",
     "output_type": "stream",
     "text": [
      "12\n",
      "34\n",
      "45\n",
      "21\n",
      "sharvari\n",
      "True\n"
     ]
    }
   ],
   "source": [
    "for n in 12, 34, 45, 21, 'sharvari',True:\n",
    "    print(n)"
   ]
  },
  {
   "cell_type": "code",
   "execution_count": 6,
   "id": "72d6fd51-5ca4-42fc-a7df-77cbcd3fdd4f",
   "metadata": {},
   "outputs": [
    {
     "name": "stdout",
     "output_type": "stream",
     "text": [
      "6.0\n",
      "17.0\n",
      "22.5\n",
      "10.5\n"
     ]
    }
   ],
   "source": [
    "for n in 12, 34, 45, 21:\n",
    "    print(n/2)"
   ]
  },
  {
   "cell_type": "code",
   "execution_count": 7,
   "id": "671e9851-649d-4c60-99ed-873168f1e5af",
   "metadata": {},
   "outputs": [],
   "source": [
    "#range function"
   ]
  },
  {
   "cell_type": "code",
   "execution_count": 8,
   "id": "c1b67fe4-3ae0-4a67-99d0-31e64aa33284",
   "metadata": {},
   "outputs": [
    {
     "data": {
      "text/plain": [
       "[0, 1, 2, 3, 4]"
      ]
     },
     "execution_count": 8,
     "metadata": {},
     "output_type": "execute_result"
    }
   ],
   "source": [
    "list(range(5))"
   ]
  },
  {
   "cell_type": "code",
   "execution_count": 9,
   "id": "59e1d1e3-b365-4337-a988-0efe624ece53",
   "metadata": {},
   "outputs": [
    {
     "data": {
      "text/plain": [
       "[5, 6, 7, 8, 9, 10, 11, 12, 13, 14, 15, 16, 17, 18, 19]"
      ]
     },
     "execution_count": 9,
     "metadata": {},
     "output_type": "execute_result"
    }
   ],
   "source": [
    "list(range(5, 20))"
   ]
  },
  {
   "cell_type": "code",
   "execution_count": 10,
   "id": "3ec66d2c-63c5-4df5-a2e3-f652bf018433",
   "metadata": {},
   "outputs": [
    {
     "data": {
      "text/plain": [
       "[5, 7, 9, 11, 13, 15, 17, 19]"
      ]
     },
     "execution_count": 10,
     "metadata": {},
     "output_type": "execute_result"
    }
   ],
   "source": [
    "list(range(5, 20,2))"
   ]
  },
  {
   "cell_type": "code",
   "execution_count": 11,
   "id": "5ce1bc48-a0d4-4cb6-a50d-b4b278c41c28",
   "metadata": {},
   "outputs": [],
   "source": [
    "# range(start, end + 1, step)"
   ]
  },
  {
   "cell_type": "code",
   "execution_count": 12,
   "id": "fed051aa-606e-460c-91cc-0205dfd5a128",
   "metadata": {},
   "outputs": [
    {
     "name": "stdout",
     "output_type": "stream",
     "text": [
      "1 2 3 4 5 6 7 8 9 10 "
     ]
    }
   ],
   "source": [
    "for n in range(1, 11):\n",
    "    print(n, end = ' ')"
   ]
  },
  {
   "cell_type": "code",
   "execution_count": 14,
   "id": "9b6569df-5b7d-41c9-b28f-e54aeebf098c",
   "metadata": {},
   "outputs": [
    {
     "name": "stdout",
     "output_type": "stream",
     "text": [
      "Addition is 100\n"
     ]
    }
   ],
   "source": [
    "# Addition of odd numbers from 1 to 20\n",
    "\n",
    "add = 0\n",
    "\n",
    "for n in range(1, 21, 2):\n",
    "    add = add + n\n",
    "\n",
    "print('Addition is',add)"
   ]
  },
  {
   "cell_type": "code",
   "execution_count": 15,
   "id": "bb0d5290-6b29-4a5e-b0eb-2caf20d4d445",
   "metadata": {},
   "outputs": [
    {
     "name": "stdout",
     "output_type": "stream",
     "text": [
      "Sharvari Sharvari Sharvari Sharvari Sharvari Sharvari Sharvari Sharvari Sharvari Sharvari "
     ]
    }
   ],
   "source": [
    "for n in range(10):\n",
    "    print('Sharvari',end=' ')"
   ]
  },
  {
   "cell_type": "code",
   "execution_count": 16,
   "id": "d8aeaf47-2d43-45a5-a5d7-748bf55bb588",
   "metadata": {},
   "outputs": [
    {
     "name": "stdout",
     "output_type": "stream",
     "text": [
      "abcd\n",
      "pqrs\n"
     ]
    }
   ],
   "source": [
    "for n in 'abcd', 'pqrs':\n",
    "    print(n)"
   ]
  },
  {
   "cell_type": "code",
   "execution_count": 17,
   "id": "be8ad7e1-fdc6-4831-98c9-f17423613643",
   "metadata": {},
   "outputs": [
    {
     "name": "stdout",
     "output_type": "stream",
     "text": [
      "23\n",
      "45\n",
      "32\n",
      "21\n",
      "67\n",
      "loop ended\n"
     ]
    }
   ],
   "source": [
    "l = [23, 45, 32, 21, 67]\n",
    "\n",
    "for n in l:\n",
    "    print(n)\n",
    "else:\n",
    "    print('loop ended')"
   ]
  },
  {
   "cell_type": "code",
   "execution_count": 18,
   "id": "9abc5535-bc7d-4d1f-9e74-2158a1dc8b02",
   "metadata": {},
   "outputs": [
    {
     "name": "stdin",
     "output_type": "stream",
     "text": [
      "Enter the number 5\n"
     ]
    },
    {
     "name": "stdout",
     "output_type": "stream",
     "text": [
      "Factorial is: 120\n"
     ]
    }
   ],
   "source": [
    "# Find factorial of a number...take user input\n",
    "\n",
    "num = int(input('Enter the number'))\n",
    "fact=1\n",
    "\n",
    "for n in range(1, num + 1):\n",
    "    fact = fact*n\n",
    "\n",
    "print('Factorial is:',fact)"
   ]
  },
  {
   "cell_type": "markdown",
   "id": "98190b63-a9fd-465a-969e-2eb1df3cbb8c",
   "metadata": {},
   "source": [
    "### Break statement"
   ]
  },
  {
   "cell_type": "code",
   "execution_count": 19,
   "id": "a3447517-90d1-4be2-8d88-ea56e891f5d7",
   "metadata": {},
   "outputs": [
    {
     "name": "stdout",
     "output_type": "stream",
     "text": [
      "1\n",
      "2\n",
      "3\n",
      "4\n"
     ]
    }
   ],
   "source": [
    "for n in range(1, 10):\n",
    "    if n == 5:\n",
    "        break\n",
    "    print(n)"
   ]
  },
  {
   "cell_type": "code",
   "execution_count": 20,
   "id": "3b01afe3-323a-4bb7-8f74-170dcc731f97",
   "metadata": {},
   "outputs": [
    {
     "name": "stdout",
     "output_type": "stream",
     "text": [
      "0\n",
      "1\n",
      "2\n",
      "3\n",
      "4\n",
      "5\n"
     ]
    }
   ],
   "source": [
    "count = 0\n",
    "while count < 10:\n",
    "    print(count)\n",
    "    if count == 5:\n",
    "        break\n",
    "    count+=1"
   ]
  },
  {
   "cell_type": "markdown",
   "id": "c4ac00aa-e5dd-49ab-8e6d-fdec7d91afa5",
   "metadata": {},
   "source": [
    "### Continue"
   ]
  },
  {
   "cell_type": "code",
   "execution_count": 21,
   "id": "67ae620d-1b81-4fe1-8330-1d209d0034aa",
   "metadata": {},
   "outputs": [
    {
     "name": "stdout",
     "output_type": "stream",
     "text": [
      "1\n",
      "2\n",
      "3\n",
      "4\n",
      "6\n",
      "7\n",
      "8\n",
      "9\n"
     ]
    }
   ],
   "source": [
    "for n in range(1, 10):\n",
    "    if n == 5:\n",
    "        continue\n",
    "    print(n)"
   ]
  },
  {
   "cell_type": "code",
   "execution_count": 23,
   "id": "cfb26ca3-6aa2-47b3-9a81-85ec903339c7",
   "metadata": {},
   "outputs": [
    {
     "name": "stdout",
     "output_type": "stream",
     "text": [
      "1\n",
      "3\n",
      "5\n",
      "7\n",
      "9\n",
      "11\n"
     ]
    }
   ],
   "source": [
    "#print odd numbers from 1 ro 12 using continue statement\n",
    "\n",
    "for i in range(1, 13):\n",
    "    if i % 2 == 0:\n",
    "        continue\n",
    "    print(i)"
   ]
  },
  {
   "cell_type": "markdown",
   "id": "a58d20a1-3707-4e21-9c76-44d557f3bf09",
   "metadata": {},
   "source": [
    "### Pass"
   ]
  },
  {
   "cell_type": "code",
   "execution_count": 24,
   "id": "79a6a526-699a-4225-877f-cd2153b20e99",
   "metadata": {},
   "outputs": [],
   "source": [
    "num = 5\n",
    "\n",
    "if num > 1:\n",
    "    pass"
   ]
  },
  {
   "cell_type": "code",
   "execution_count": 25,
   "id": "cc5cdd35-f88c-4798-be95-320a19288058",
   "metadata": {},
   "outputs": [],
   "source": [
    "'''\n",
    "*\n",
    "**\n",
    "***\n",
    "''';"
   ]
  },
  {
   "cell_type": "code",
   "execution_count": 29,
   "id": "2c221aff-3233-4958-bc65-3c9f01df36ac",
   "metadata": {},
   "outputs": [
    {
     "name": "stdin",
     "output_type": "stream",
     "text": [
      "Enter the number of rows 5\n"
     ]
    },
    {
     "name": "stdout",
     "output_type": "stream",
     "text": [
      "* \n",
      "* * \n",
      "* * * \n",
      "* * * * \n",
      "* * * * * \n"
     ]
    }
   ],
   "source": [
    "row = int(input('Enter the number of rows'))\n",
    "\n",
    "for i in range(1, row + 1):\n",
    "    for j in range(i):\n",
    "        print('*', end = ' ')\n",
    "    print()"
   ]
  },
  {
   "cell_type": "code",
   "execution_count": null,
   "id": "f3e92b95-6e0c-4456-a620-157875677c15",
   "metadata": {},
   "outputs": [],
   "source": []
  }
 ],
 "metadata": {
  "kernelspec": {
   "display_name": "Python 3 (ipykernel)",
   "language": "python",
   "name": "python3"
  },
  "language_info": {
   "codemirror_mode": {
    "name": "ipython",
    "version": 3
   },
   "file_extension": ".py",
   "mimetype": "text/x-python",
   "name": "python",
   "nbconvert_exporter": "python",
   "pygments_lexer": "ipython3",
   "version": "3.11.7"
  }
 },
 "nbformat": 4,
 "nbformat_minor": 5
}
