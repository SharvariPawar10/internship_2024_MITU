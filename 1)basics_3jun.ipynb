{
 "cells": [
  {
   "cell_type": "code",
   "execution_count": 1,
   "id": "4f16d7a8-581e-4fc6-82ed-69e5bade8526",
   "metadata": {},
   "outputs": [
    {
     "name": "stdout",
     "output_type": "stream",
     "text": [
      "Hello World\n"
     ]
    }
   ],
   "source": [
    "print(\"Hello World\")"
   ]
  },
  {
   "cell_type": "code",
   "execution_count": 3,
   "id": "4e2e1fa7-06e4-4fd0-b224-2d7592b0db1d",
   "metadata": {},
   "outputs": [],
   "source": [
    "num=10"
   ]
  },
  {
   "cell_type": "code",
   "execution_count": 4,
   "id": "5cc8a67e-89b5-4b0f-bed2-e18cc2e3380e",
   "metadata": {},
   "outputs": [
    {
     "name": "stdout",
     "output_type": "stream",
     "text": [
      "10\n"
     ]
    }
   ],
   "source": [
    "print(num)"
   ]
  },
  {
   "cell_type": "code",
   "execution_count": 5,
   "id": "419a736f-113b-4d97-bd86-8b13a7be387c",
   "metadata": {},
   "outputs": [
    {
     "name": "stdout",
     "output_type": "stream",
     "text": [
      "num\n"
     ]
    }
   ],
   "source": [
    "print('num')"
   ]
  },
  {
   "cell_type": "code",
   "execution_count": 7,
   "id": "edef239d-7dcf-480a-9074-c302f9000198",
   "metadata": {},
   "outputs": [],
   "source": [
    "num1=40"
   ]
  },
  {
   "cell_type": "code",
   "execution_count": 8,
   "id": "1b176528-d2c8-4d51-b11e-d98339a99545",
   "metadata": {},
   "outputs": [
    {
     "name": "stdout",
     "output_type": "stream",
     "text": [
      "40\n"
     ]
    }
   ],
   "source": [
    "print(num1)"
   ]
  },
  {
   "cell_type": "code",
   "execution_count": 9,
   "id": "e5883a8b-a433-49bc-a60b-fe251bb6a88c",
   "metadata": {},
   "outputs": [],
   "source": [
    "rate_of_interest=50"
   ]
  },
  {
   "cell_type": "code",
   "execution_count": 10,
   "id": "0f728282-44b9-48e2-b58c-ad25594cce3a",
   "metadata": {},
   "outputs": [
    {
     "data": {
      "text/plain": [
       "50"
      ]
     },
     "execution_count": 10,
     "metadata": {},
     "output_type": "execute_result"
    }
   ],
   "source": [
    "rate_of_interest"
   ]
  },
  {
   "cell_type": "code",
   "execution_count": 11,
   "id": "f2c0253f-916a-45f3-993d-d66cf6b7feb0",
   "metadata": {},
   "outputs": [],
   "source": [
    "num2=45.42"
   ]
  },
  {
   "cell_type": "code",
   "execution_count": 12,
   "id": "bc38d948-3162-4256-9b14-0fdb0b6ce7d2",
   "metadata": {},
   "outputs": [
    {
     "data": {
      "text/plain": [
       "45.42"
      ]
     },
     "execution_count": 12,
     "metadata": {},
     "output_type": "execute_result"
    }
   ],
   "source": [
    "num2"
   ]
  },
  {
   "cell_type": "code",
   "execution_count": 13,
   "id": "54b5bf9f-4766-474d-a1be-2c89cf137315",
   "metadata": {},
   "outputs": [],
   "source": [
    "num3='Sharvari'"
   ]
  },
  {
   "cell_type": "code",
   "execution_count": 14,
   "id": "ad91e751-4543-4299-ae1c-b2c8c8b40c86",
   "metadata": {},
   "outputs": [
    {
     "data": {
      "text/plain": [
       "'Sharvari'"
      ]
     },
     "execution_count": 14,
     "metadata": {},
     "output_type": "execute_result"
    }
   ],
   "source": [
    "num3"
   ]
  },
  {
   "cell_type": "code",
   "execution_count": 15,
   "id": "f5a7533b-0b37-4756-8fb1-b29288e1ca32",
   "metadata": {},
   "outputs": [
    {
     "name": "stdout",
     "output_type": "stream",
     "text": [
      "Sharvari\n"
     ]
    }
   ],
   "source": [
    "print(num3)"
   ]
  },
  {
   "cell_type": "code",
   "execution_count": 16,
   "id": "f2f68c77-b9fc-4a04-a1eb-d187ff39f2e2",
   "metadata": {},
   "outputs": [],
   "source": [
    "num1=34\n",
    "num2=56.70\n",
    "num3='Sharvari'"
   ]
  },
  {
   "cell_type": "code",
   "execution_count": 17,
   "id": "dc031b0f-8ed4-409e-9994-252d5e635968",
   "metadata": {},
   "outputs": [
    {
     "data": {
      "text/plain": [
       "int"
      ]
     },
     "execution_count": 17,
     "metadata": {},
     "output_type": "execute_result"
    }
   ],
   "source": [
    "type(num1)"
   ]
  },
  {
   "cell_type": "code",
   "execution_count": 18,
   "id": "7c6efce2-0556-422c-92a5-fb274c077438",
   "metadata": {},
   "outputs": [
    {
     "data": {
      "text/plain": [
       "float"
      ]
     },
     "execution_count": 18,
     "metadata": {},
     "output_type": "execute_result"
    }
   ],
   "source": [
    "type(num2)"
   ]
  },
  {
   "cell_type": "code",
   "execution_count": null,
   "id": "8b18ec38-ef0c-40a8-adef-5270b3e9ea77",
   "metadata": {},
   "outputs": [],
   "source": []
  },
  {
   "cell_type": "code",
   "execution_count": 19,
   "id": "7b75f318-8c8b-47af-a674-afefa2567ef4",
   "metadata": {},
   "outputs": [
    {
     "data": {
      "text/plain": [
       "str"
      ]
     },
     "execution_count": 19,
     "metadata": {},
     "output_type": "execute_result"
    }
   ],
   "source": [
    "type(num3)"
   ]
  },
  {
   "cell_type": "code",
   "execution_count": 22,
   "id": "7da9015d-db63-4278-af73-2a3734f3728d",
   "metadata": {},
   "outputs": [],
   "source": [
    "Pass = 23"
   ]
  },
  {
   "cell_type": "code",
   "execution_count": 23,
   "id": "f03b1a41-1f5c-454e-a4cc-175f1146e292",
   "metadata": {},
   "outputs": [
    {
     "data": {
      "text/plain": [
       "23"
      ]
     },
     "execution_count": 23,
     "metadata": {},
     "output_type": "execute_result"
    }
   ],
   "source": [
    "Pass"
   ]
  },
  {
   "cell_type": "code",
   "execution_count": 24,
   "id": "b54e4411-3aa1-4257-84e4-822af12cc157",
   "metadata": {},
   "outputs": [
    {
     "data": {
      "text/plain": [
       "34"
      ]
     },
     "execution_count": 24,
     "metadata": {},
     "output_type": "execute_result"
    }
   ],
   "source": [
    "num1"
   ]
  },
  {
   "cell_type": "code",
   "execution_count": 25,
   "id": "fdb94d8b-58c1-4a47-8b74-53a5309b1daf",
   "metadata": {},
   "outputs": [
    {
     "data": {
      "text/plain": [
       "94"
      ]
     },
     "execution_count": 25,
     "metadata": {},
     "output_type": "execute_result"
    }
   ],
   "source": [
    "num1 + 60"
   ]
  },
  {
   "cell_type": "code",
   "execution_count": 26,
   "id": "933843fd-2751-45dc-bae8-d9efdf67e425",
   "metadata": {},
   "outputs": [
    {
     "name": "stdout",
     "output_type": "stream",
     "text": [
      "94\n"
     ]
    }
   ],
   "source": [
    "num1 = num1 + 60\n",
    "print(num1)"
   ]
  },
  {
   "cell_type": "code",
   "execution_count": 27,
   "id": "410a70cd-8aba-4f9d-ab7f-85acae8f8321",
   "metadata": {},
   "outputs": [
    {
     "data": {
      "text/plain": [
       "246641181115674737572879729341852535845472679757957754711192657811148368546919174892110514866890661477499569337982885118937606860303163841070295398866533607809337852636197147315418929700392210651462724440708238178309894185203135792833848980162110753995902211626781494555216499024596716764902905744552108703670952535150525584801258802660812558084288017019479915631022570801002600528952445860747026702812407505259499851902779696981336334270791833799249293419903723739814800148096510712657333600844001944025174923762462743966499744099328929215674401276706442416675497711018975607489895414956665559258785226987261082702619240200148253830815546451425440080451512540457184681742016177"
      ]
     },
     "execution_count": 27,
     "metadata": {},
     "output_type": "execute_result"
    }
   ],
   "source": [
    "num = 321553 ** 123\n",
    "num"
   ]
  },
  {
   "cell_type": "code",
   "execution_count": 28,
   "id": "fe9155da-a8ff-4b2d-b5ee-aa9c279b9578",
   "metadata": {
    "jp-MarkdownHeadingCollapsed": true
   },
   "outputs": [],
   "source": [
    "# float datatype"
   ]
  },
  {
   "cell_type": "code",
   "execution_count": 30,
   "id": "02c659e9-94c7-4710-8534-0de131503d20",
   "metadata": {},
   "outputs": [],
   "source": [
    "num2 = 55.33"
   ]
  },
  {
   "cell_type": "code",
   "execution_count": 31,
   "id": "06102b7c-3de0-4933-987f-59d321cd7f33",
   "metadata": {},
   "outputs": [
    {
     "data": {
      "text/plain": [
       "670.0463"
      ]
     },
     "execution_count": 31,
     "metadata": {},
     "output_type": "execute_result"
    }
   ],
   "source": [
    "result = num2 * 12.11\n",
    "result"
   ]
  },
  {
   "cell_type": "code",
   "execution_count": 32,
   "id": "15dd5ebd-98c6-495d-aee6-d83cda2fc37a",
   "metadata": {},
   "outputs": [],
   "source": [
    "y=56e3       # =>e3 = 10 ** 3"
   ]
  },
  {
   "cell_type": "code",
   "execution_count": 33,
   "id": "94bd0447-9c7e-49c3-8949-d364c4cd89dc",
   "metadata": {},
   "outputs": [
    {
     "data": {
      "text/plain": [
       "56000.0"
      ]
     },
     "execution_count": 33,
     "metadata": {},
     "output_type": "execute_result"
    }
   ],
   "source": [
    "y"
   ]
  },
  {
   "cell_type": "code",
   "execution_count": 34,
   "id": "f80ac678-cb40-4137-a97d-24f66f864535",
   "metadata": {},
   "outputs": [],
   "source": [
    "z= 49e-2"
   ]
  },
  {
   "cell_type": "code",
   "execution_count": 35,
   "id": "4039f541-ad01-4742-8041-2815a8c36ab7",
   "metadata": {},
   "outputs": [
    {
     "data": {
      "text/plain": [
       "0.49"
      ]
     },
     "execution_count": 35,
     "metadata": {},
     "output_type": "execute_result"
    }
   ],
   "source": [
    "z"
   ]
  },
  {
   "cell_type": "code",
   "execution_count": 36,
   "id": "93659ab3-d3c2-4e93-890f-661351a5ac90",
   "metadata": {},
   "outputs": [],
   "source": [
    "# string datatype"
   ]
  },
  {
   "cell_type": "code",
   "execution_count": 37,
   "id": "b05686bc-1f54-4e36-a5ec-bba6a17971f7",
   "metadata": {},
   "outputs": [],
   "source": [
    "name = 'Sharvari'"
   ]
  },
  {
   "cell_type": "code",
   "execution_count": 38,
   "id": "8fa1c7df-9b33-4c08-9584-95f5e2b8d875",
   "metadata": {},
   "outputs": [
    {
     "name": "stdout",
     "output_type": "stream",
     "text": [
      "Sharvari\n"
     ]
    }
   ],
   "source": [
    "print(name)"
   ]
  },
  {
   "cell_type": "code",
   "execution_count": 39,
   "id": "2b26ff6a-7097-482c-81a3-a407f3c08fa3",
   "metadata": {},
   "outputs": [],
   "source": [
    "sent = 'I like Python programming '"
   ]
  },
  {
   "cell_type": "code",
   "execution_count": 40,
   "id": "7d7054e0-fe33-4d7f-8ddd-8d963efc79c5",
   "metadata": {},
   "outputs": [
    {
     "name": "stdout",
     "output_type": "stream",
     "text": [
      "I like Python programming \n"
     ]
    }
   ],
   "source": [
    "print(sent)"
   ]
  },
  {
   "cell_type": "code",
   "execution_count": 41,
   "id": "653b0d33-fef3-4189-bbee-ddabe6b9ddf0",
   "metadata": {},
   "outputs": [],
   "source": [
    "sent = \"I like 'python' programming\""
   ]
  },
  {
   "cell_type": "code",
   "execution_count": 42,
   "id": "934d8706-8e0f-4803-a84d-d4ef7bdc3dcf",
   "metadata": {},
   "outputs": [
    {
     "name": "stdout",
     "output_type": "stream",
     "text": [
      "I like 'python' programming\n"
     ]
    }
   ],
   "source": [
    "print(sent)"
   ]
  },
  {
   "cell_type": "code",
   "execution_count": 43,
   "id": "ee55f1ca-831f-45dc-8835-2905b0991717",
   "metadata": {},
   "outputs": [],
   "source": [
    "sent = 'I like \"python\" programming'"
   ]
  },
  {
   "cell_type": "code",
   "execution_count": 44,
   "id": "7b6ff39c-b889-4be6-992b-0363304eed1e",
   "metadata": {},
   "outputs": [
    {
     "name": "stdout",
     "output_type": "stream",
     "text": [
      "I like \"python\" programming\n"
     ]
    }
   ],
   "source": [
    "print(sent)"
   ]
  },
  {
   "cell_type": "code",
   "execution_count": 45,
   "id": "e335cc17-1a2f-456e-82f7-f0da3eb20615",
   "metadata": {},
   "outputs": [],
   "source": [
    "#multiple assignment\n",
    "\n",
    "num1 , num2 , num3 =12 , 34.45 , 'Sharvari'"
   ]
  },
  {
   "cell_type": "code",
   "execution_count": 46,
   "id": "5934b5e5-96b6-4caf-8358-8592d7b332ef",
   "metadata": {},
   "outputs": [
    {
     "data": {
      "text/plain": [
       "12"
      ]
     },
     "execution_count": 46,
     "metadata": {},
     "output_type": "execute_result"
    }
   ],
   "source": [
    "num1"
   ]
  },
  {
   "cell_type": "code",
   "execution_count": 47,
   "id": "b0784dcc-24b2-4e5a-be03-ad26cb42006c",
   "metadata": {},
   "outputs": [
    {
     "data": {
      "text/plain": [
       "34.45"
      ]
     },
     "execution_count": 47,
     "metadata": {},
     "output_type": "execute_result"
    }
   ],
   "source": [
    "num2"
   ]
  },
  {
   "cell_type": "code",
   "execution_count": 48,
   "id": "2c5411a2-8eeb-49bd-8d9c-7070ebd59639",
   "metadata": {},
   "outputs": [
    {
     "data": {
      "text/plain": [
       "'Sharvari'"
      ]
     },
     "execution_count": 48,
     "metadata": {},
     "output_type": "execute_result"
    }
   ],
   "source": [
    "num3"
   ]
  },
  {
   "cell_type": "code",
   "execution_count": 49,
   "id": "cbcd8eb9-9c75-4db0-b143-ff222249f594",
   "metadata": {},
   "outputs": [
    {
     "name": "stdout",
     "output_type": "stream",
     "text": [
      "12 Sharvari 34.45\n"
     ]
    }
   ],
   "source": [
    "print(num1 , num3 , num2 )"
   ]
  },
  {
   "cell_type": "code",
   "execution_count": 51,
   "id": "8874818c-56c6-4eac-8114-c480acb1f27e",
   "metadata": {},
   "outputs": [
    {
     "data": {
      "text/plain": [
       "75"
      ]
     },
     "execution_count": 51,
     "metadata": {},
     "output_type": "execute_result"
    }
   ],
   "source": [
    "num1 = 45\n",
    "num2 =30\n",
    "result = num1 + num2\n",
    "result"
   ]
  },
  {
   "cell_type": "code",
   "execution_count": 52,
   "id": "8027e5c0-7bf9-4c12-afc6-932db6af407f",
   "metadata": {},
   "outputs": [
    {
     "name": "stdout",
     "output_type": "stream",
     "text": [
      "75\n"
     ]
    }
   ],
   "source": [
    "num1 =45; num2 = 30; result = num1 + num2; print(result)"
   ]
  },
  {
   "cell_type": "markdown",
   "id": "801b98fd-6f9b-4a25-8c13-021f48c498eb",
   "metadata": {},
   "source": [
    "# string operations"
   ]
  },
  {
   "cell_type": "code",
   "execution_count": 53,
   "id": "e245786b-041f-4706-b3f5-d6b10b81cb21",
   "metadata": {},
   "outputs": [],
   "source": [
    "name = 'Sharvari'"
   ]
  },
  {
   "cell_type": "code",
   "execution_count": 54,
   "id": "591c936a-9989-4e86-a2bc-7a8d4c90da37",
   "metadata": {},
   "outputs": [
    {
     "data": {
      "text/plain": [
       "'sharvari'"
      ]
     },
     "execution_count": 54,
     "metadata": {},
     "output_type": "execute_result"
    }
   ],
   "source": [
    "name.lower()"
   ]
  },
  {
   "cell_type": "code",
   "execution_count": 55,
   "id": "4a3d7a02-62d6-433e-900b-593c81e5907b",
   "metadata": {},
   "outputs": [
    {
     "data": {
      "text/plain": [
       "'Sharvari'"
      ]
     },
     "execution_count": 55,
     "metadata": {},
     "output_type": "execute_result"
    }
   ],
   "source": [
    "name"
   ]
  },
  {
   "cell_type": "code",
   "execution_count": 56,
   "id": "ad1b5a32-4dbd-4630-a21e-cb3ae38702c6",
   "metadata": {},
   "outputs": [
    {
     "data": {
      "text/plain": [
       "'SHARVARI'"
      ]
     },
     "execution_count": 56,
     "metadata": {},
     "output_type": "execute_result"
    }
   ],
   "source": [
    "name.upper()"
   ]
  },
  {
   "cell_type": "code",
   "execution_count": 57,
   "id": "c57557e7-c7a1-45a1-ac42-b2bb4d29c853",
   "metadata": {},
   "outputs": [
    {
     "data": {
      "text/plain": [
       "'sHARVARI'"
      ]
     },
     "execution_count": 57,
     "metadata": {},
     "output_type": "execute_result"
    }
   ],
   "source": [
    "name.swapcase()"
   ]
  },
  {
   "cell_type": "code",
   "execution_count": 58,
   "id": "17859835-73be-47c0-95a1-923068e4fc55",
   "metadata": {},
   "outputs": [
    {
     "data": {
      "text/plain": [
       "8"
      ]
     },
     "execution_count": 58,
     "metadata": {},
     "output_type": "execute_result"
    }
   ],
   "source": [
    "len(name)"
   ]
  },
  {
   "cell_type": "code",
   "execution_count": 59,
   "id": "be130592-ec64-4d13-9b14-e98c2f86d2bd",
   "metadata": {},
   "outputs": [
    {
     "data": {
      "text/plain": [
       "'Sharvari'"
      ]
     },
     "execution_count": 59,
     "metadata": {},
     "output_type": "execute_result"
    }
   ],
   "source": [
    "name"
   ]
  },
  {
   "cell_type": "code",
   "execution_count": 60,
   "id": "9a1d8b3a-6dd7-477b-b688-cb7c3870603a",
   "metadata": {},
   "outputs": [
    {
     "data": {
      "text/plain": [
       "False"
      ]
     },
     "execution_count": 60,
     "metadata": {},
     "output_type": "execute_result"
    }
   ],
   "source": [
    "name.isupper()"
   ]
  },
  {
   "cell_type": "code",
   "execution_count": 61,
   "id": "6644c04a-5ec4-4e39-88ae-5ee38272b557",
   "metadata": {},
   "outputs": [
    {
     "data": {
      "text/plain": [
       "False"
      ]
     },
     "execution_count": 61,
     "metadata": {},
     "output_type": "execute_result"
    }
   ],
   "source": [
    "name.islower()"
   ]
  },
  {
   "cell_type": "code",
   "execution_count": 62,
   "id": "55f3a363-8d46-4f4b-9457-7f8717ead250",
   "metadata": {},
   "outputs": [
    {
     "data": {
      "text/plain": [
       "True"
      ]
     },
     "execution_count": 62,
     "metadata": {},
     "output_type": "execute_result"
    }
   ],
   "source": [
    "name.istitle()"
   ]
  },
  {
   "cell_type": "code",
   "execution_count": 63,
   "id": "a3285023-698f-41fe-93e0-43d4b133ce6c",
   "metadata": {},
   "outputs": [],
   "source": [
    "n1 = 'athArv'"
   ]
  },
  {
   "cell_type": "code",
   "execution_count": 64,
   "id": "d918bf20-72f0-474e-a1cc-5277f1a69702",
   "metadata": {},
   "outputs": [
    {
     "data": {
      "text/plain": [
       "'ATHARV'"
      ]
     },
     "execution_count": 64,
     "metadata": {},
     "output_type": "execute_result"
    }
   ],
   "source": [
    "n1.upper()"
   ]
  },
  {
   "cell_type": "code",
   "execution_count": 65,
   "id": "31934a6f-5d6c-42d0-9a93-ff8cae2925ff",
   "metadata": {},
   "outputs": [
    {
     "data": {
      "text/plain": [
       "'Atharv'"
      ]
     },
     "execution_count": 65,
     "metadata": {},
     "output_type": "execute_result"
    }
   ],
   "source": [
    "n1.title()"
   ]
  },
  {
   "cell_type": "code",
   "execution_count": 66,
   "id": "faf4ad70-cfe4-4bcc-910b-b44ae78a2393",
   "metadata": {},
   "outputs": [],
   "source": [
    "a = '23'"
   ]
  },
  {
   "cell_type": "code",
   "execution_count": 67,
   "id": "2ea8a04c-b19b-402a-9335-00f28f5f012f",
   "metadata": {},
   "outputs": [
    {
     "data": {
      "text/plain": [
       "str"
      ]
     },
     "execution_count": 67,
     "metadata": {},
     "output_type": "execute_result"
    }
   ],
   "source": [
    "type(a)"
   ]
  },
  {
   "cell_type": "code",
   "execution_count": 68,
   "id": "a21ae305-2a4c-474b-ab28-b41516b2e58f",
   "metadata": {},
   "outputs": [],
   "source": [
    "data1 = 'Sharvari'\n",
    "data2 = '5545'\n",
    "data3 = 'A72'"
   ]
  },
  {
   "cell_type": "code",
   "execution_count": 69,
   "id": "02503c00-2d1f-4ba3-a72c-57e7ef582bd1",
   "metadata": {},
   "outputs": [
    {
     "data": {
      "text/plain": [
       "True"
      ]
     },
     "execution_count": 69,
     "metadata": {},
     "output_type": "execute_result"
    }
   ],
   "source": [
    "data1.isalpha()"
   ]
  },
  {
   "cell_type": "code",
   "execution_count": 70,
   "id": "89c29043-d3fc-49c8-a348-5f4d2bd2e710",
   "metadata": {},
   "outputs": [
    {
     "data": {
      "text/plain": [
       "False"
      ]
     },
     "execution_count": 70,
     "metadata": {},
     "output_type": "execute_result"
    }
   ],
   "source": [
    "data2.isalpha()"
   ]
  },
  {
   "cell_type": "code",
   "execution_count": 71,
   "id": "8a725203-affa-408f-981d-26f8acfab968",
   "metadata": {},
   "outputs": [
    {
     "data": {
      "text/plain": [
       "False"
      ]
     },
     "execution_count": 71,
     "metadata": {},
     "output_type": "execute_result"
    }
   ],
   "source": [
    "data3.isalpha()"
   ]
  },
  {
   "cell_type": "code",
   "execution_count": 72,
   "id": "33e8e6b6-5475-444f-8ee4-3dc320cdee91",
   "metadata": {},
   "outputs": [
    {
     "data": {
      "text/plain": [
       "False"
      ]
     },
     "execution_count": 72,
     "metadata": {},
     "output_type": "execute_result"
    }
   ],
   "source": [
    "data1.isdigit()"
   ]
  },
  {
   "cell_type": "code",
   "execution_count": 73,
   "id": "bec2481e-cba1-497a-878d-0de580655cc8",
   "metadata": {},
   "outputs": [
    {
     "data": {
      "text/plain": [
       "True"
      ]
     },
     "execution_count": 73,
     "metadata": {},
     "output_type": "execute_result"
    }
   ],
   "source": [
    "data2.isdigit()"
   ]
  },
  {
   "cell_type": "code",
   "execution_count": 74,
   "id": "b41a14e9-f897-4098-bb03-96bcda5972f9",
   "metadata": {},
   "outputs": [
    {
     "data": {
      "text/plain": [
       "False"
      ]
     },
     "execution_count": 74,
     "metadata": {},
     "output_type": "execute_result"
    }
   ],
   "source": [
    "data3.isdigit()"
   ]
  },
  {
   "cell_type": "code",
   "execution_count": 75,
   "id": "937c2f7c-c0b6-4f93-808b-43f5cc20d20a",
   "metadata": {},
   "outputs": [
    {
     "data": {
      "text/plain": [
       "True"
      ]
     },
     "execution_count": 75,
     "metadata": {},
     "output_type": "execute_result"
    }
   ],
   "source": [
    "data1.isalnum()"
   ]
  },
  {
   "cell_type": "code",
   "execution_count": 76,
   "id": "f33ecc06-e6a5-4a4e-969e-ecbca708d2cc",
   "metadata": {},
   "outputs": [
    {
     "data": {
      "text/plain": [
       "True"
      ]
     },
     "execution_count": 76,
     "metadata": {},
     "output_type": "execute_result"
    }
   ],
   "source": [
    "data2.isalnum()"
   ]
  },
  {
   "cell_type": "code",
   "execution_count": 77,
   "id": "33f2f9de-92dc-4ffc-9c35-27fa23dc1baa",
   "metadata": {},
   "outputs": [
    {
     "data": {
      "text/plain": [
       "True"
      ]
     },
     "execution_count": 77,
     "metadata": {},
     "output_type": "execute_result"
    }
   ],
   "source": [
    "data3.isalnum()"
   ]
  },
  {
   "cell_type": "code",
   "execution_count": 78,
   "id": "a763a509-5a82-44bb-b922-ecde84c84d18",
   "metadata": {},
   "outputs": [],
   "source": [
    "data = ' Sharvari '"
   ]
  },
  {
   "cell_type": "code",
   "execution_count": 80,
   "id": "4f734541-5a33-4ea3-9b49-c68fedccd156",
   "metadata": {},
   "outputs": [
    {
     "name": "stdout",
     "output_type": "stream",
     "text": [
      " Sharvari \n"
     ]
    }
   ],
   "source": [
    "print(data)"
   ]
  },
  {
   "cell_type": "code",
   "execution_count": 81,
   "id": "481fb83d-bdf1-4c9e-88f5-0703a1aa51a7",
   "metadata": {},
   "outputs": [
    {
     "data": {
      "text/plain": [
       "'Sharvari '"
      ]
     },
     "execution_count": 81,
     "metadata": {},
     "output_type": "execute_result"
    }
   ],
   "source": [
    "data.lstrip()"
   ]
  },
  {
   "cell_type": "code",
   "execution_count": 82,
   "id": "969b28d4-9087-42d4-ba7f-10b6fa19b906",
   "metadata": {},
   "outputs": [
    {
     "data": {
      "text/plain": [
       "' Sharvari'"
      ]
     },
     "execution_count": 82,
     "metadata": {},
     "output_type": "execute_result"
    }
   ],
   "source": [
    "data.rstrip()"
   ]
  },
  {
   "cell_type": "code",
   "execution_count": 85,
   "id": "e2c76728-27dc-4787-b929-294106b13361",
   "metadata": {},
   "outputs": [
    {
     "data": {
      "text/plain": [
       "'Sharvari'"
      ]
     },
     "execution_count": 85,
     "metadata": {},
     "output_type": "execute_result"
    }
   ],
   "source": [
    "data = data.strip()\n",
    "data"
   ]
  },
  {
   "cell_type": "code",
   "execution_count": 86,
   "id": "1441495c-9844-48d2-98af-04b0d6553ab4",
   "metadata": {},
   "outputs": [
    {
     "data": {
      "text/plain": [
       "'Sharvari'"
      ]
     },
     "execution_count": 86,
     "metadata": {},
     "output_type": "execute_result"
    }
   ],
   "source": [
    "data"
   ]
  },
  {
   "cell_type": "code",
   "execution_count": 88,
   "id": "c5b718a9-0307-443d-9ca6-5c3c737d9105",
   "metadata": {},
   "outputs": [
    {
     "data": {
      "text/plain": [
       "True"
      ]
     },
     "execution_count": 88,
     "metadata": {},
     "output_type": "execute_result"
    }
   ],
   "source": [
    "data.startswith('S')"
   ]
  },
  {
   "cell_type": "code",
   "execution_count": 89,
   "id": "944327fa-476e-4ac3-a736-33350e8f47a9",
   "metadata": {},
   "outputs": [
    {
     "data": {
      "text/plain": [
       "True"
      ]
     },
     "execution_count": 89,
     "metadata": {},
     "output_type": "execute_result"
    }
   ],
   "source": [
    "data.startswith('Sh')"
   ]
  },
  {
   "cell_type": "code",
   "execution_count": 90,
   "id": "0927e812-cf02-4fee-8ab1-97f84c606d7e",
   "metadata": {},
   "outputs": [
    {
     "data": {
      "text/plain": [
       "True"
      ]
     },
     "execution_count": 90,
     "metadata": {},
     "output_type": "execute_result"
    }
   ],
   "source": [
    "data.endswith('i')"
   ]
  },
  {
   "cell_type": "code",
   "execution_count": 91,
   "id": "9a58f350-a032-4982-9eb4-32e394add98a",
   "metadata": {},
   "outputs": [
    {
     "data": {
      "text/plain": [
       "'Shharvari'"
      ]
     },
     "execution_count": 91,
     "metadata": {},
     "output_type": "execute_result"
    }
   ],
   "source": [
    "data.replace('S', 'Sh')"
   ]
  },
  {
   "cell_type": "code",
   "execution_count": 92,
   "id": "52ea3416-b4c5-4d72-b31c-b9aae5a6ecc4",
   "metadata": {},
   "outputs": [
    {
     "data": {
      "text/plain": [
       "'Sharvari'"
      ]
     },
     "execution_count": 92,
     "metadata": {},
     "output_type": "execute_result"
    }
   ],
   "source": [
    "data"
   ]
  },
  {
   "cell_type": "code",
   "execution_count": 93,
   "id": "db43520e-27e0-465c-acf9-734d4feaaa3f",
   "metadata": {},
   "outputs": [
    {
     "data": {
      "text/plain": [
       "2"
      ]
     },
     "execution_count": 93,
     "metadata": {},
     "output_type": "execute_result"
    }
   ],
   "source": [
    "data.find('a')"
   ]
  },
  {
   "cell_type": "code",
   "execution_count": 94,
   "id": "8f67832a-2052-49f1-b180-d2d0302b6636",
   "metadata": {},
   "outputs": [
    {
     "data": {
      "text/plain": [
       "['__add__',\n",
       " '__class__',\n",
       " '__contains__',\n",
       " '__delattr__',\n",
       " '__dir__',\n",
       " '__doc__',\n",
       " '__eq__',\n",
       " '__format__',\n",
       " '__ge__',\n",
       " '__getattribute__',\n",
       " '__getitem__',\n",
       " '__getnewargs__',\n",
       " '__getstate__',\n",
       " '__gt__',\n",
       " '__hash__',\n",
       " '__init__',\n",
       " '__init_subclass__',\n",
       " '__iter__',\n",
       " '__le__',\n",
       " '__len__',\n",
       " '__lt__',\n",
       " '__mod__',\n",
       " '__mul__',\n",
       " '__ne__',\n",
       " '__new__',\n",
       " '__reduce__',\n",
       " '__reduce_ex__',\n",
       " '__repr__',\n",
       " '__rmod__',\n",
       " '__rmul__',\n",
       " '__setattr__',\n",
       " '__sizeof__',\n",
       " '__str__',\n",
       " '__subclasshook__',\n",
       " 'capitalize',\n",
       " 'casefold',\n",
       " 'center',\n",
       " 'count',\n",
       " 'encode',\n",
       " 'endswith',\n",
       " 'expandtabs',\n",
       " 'find',\n",
       " 'format',\n",
       " 'format_map',\n",
       " 'index',\n",
       " 'isalnum',\n",
       " 'isalpha',\n",
       " 'isascii',\n",
       " 'isdecimal',\n",
       " 'isdigit',\n",
       " 'isidentifier',\n",
       " 'islower',\n",
       " 'isnumeric',\n",
       " 'isprintable',\n",
       " 'isspace',\n",
       " 'istitle',\n",
       " 'isupper',\n",
       " 'join',\n",
       " 'ljust',\n",
       " 'lower',\n",
       " 'lstrip',\n",
       " 'maketrans',\n",
       " 'partition',\n",
       " 'removeprefix',\n",
       " 'removesuffix',\n",
       " 'replace',\n",
       " 'rfind',\n",
       " 'rindex',\n",
       " 'rjust',\n",
       " 'rpartition',\n",
       " 'rsplit',\n",
       " 'rstrip',\n",
       " 'split',\n",
       " 'splitlines',\n",
       " 'startswith',\n",
       " 'strip',\n",
       " 'swapcase',\n",
       " 'title',\n",
       " 'translate',\n",
       " 'upper',\n",
       " 'zfill']"
      ]
     },
     "execution_count": 94,
     "metadata": {},
     "output_type": "execute_result"
    }
   ],
   "source": [
    "dir(data)"
   ]
  },
  {
   "cell_type": "code",
   "execution_count": 95,
   "id": "500083ed-1457-4d1b-b094-4a7bcc6986b9",
   "metadata": {},
   "outputs": [
    {
     "name": "stdout",
     "output_type": "stream",
     "text": [
      "Help on built-in function isdecimal:\n",
      "\n",
      "isdecimal() method of builtins.str instance\n",
      "    Return True if the string is a decimal string, False otherwise.\n",
      "    \n",
      "    A string is a decimal string if all characters in the string are decimal and\n",
      "    there is at least one character in the string.\n",
      "\n"
     ]
    }
   ],
   "source": [
    "help(data.isdecimal)"
   ]
  },
  {
   "cell_type": "code",
   "execution_count": 96,
   "id": "fa59c36d-2bd8-48d2-bc9f-3689506ed20d",
   "metadata": {},
   "outputs": [
    {
     "name": "stdout",
     "output_type": "stream",
     "text": [
      "Help on class str in module builtins:\n",
      "\n",
      "class str(object)\n",
      " |  str(object='') -> str\n",
      " |  str(bytes_or_buffer[, encoding[, errors]]) -> str\n",
      " |  \n",
      " |  Create a new string object from the given object. If encoding or\n",
      " |  errors is specified, then the object must expose a data buffer\n",
      " |  that will be decoded using the given encoding and error handler.\n",
      " |  Otherwise, returns the result of object.__str__() (if defined)\n",
      " |  or repr(object).\n",
      " |  encoding defaults to sys.getdefaultencoding().\n",
      " |  errors defaults to 'strict'.\n",
      " |  \n",
      " |  Methods defined here:\n",
      " |  \n",
      " |  __add__(self, value, /)\n",
      " |      Return self+value.\n",
      " |  \n",
      " |  __contains__(self, key, /)\n",
      " |      Return key in self.\n",
      " |  \n",
      " |  __eq__(self, value, /)\n",
      " |      Return self==value.\n",
      " |  \n",
      " |  __format__(self, format_spec, /)\n",
      " |      Return a formatted version of the string as described by format_spec.\n",
      " |  \n",
      " |  __ge__(self, value, /)\n",
      " |      Return self>=value.\n",
      " |  \n",
      " |  __getattribute__(self, name, /)\n",
      " |      Return getattr(self, name).\n",
      " |  \n",
      " |  __getitem__(self, key, /)\n",
      " |      Return self[key].\n",
      " |  \n",
      " |  __getnewargs__(...)\n",
      " |  \n",
      " |  __gt__(self, value, /)\n",
      " |      Return self>value.\n",
      " |  \n",
      " |  __hash__(self, /)\n",
      " |      Return hash(self).\n",
      " |  \n",
      " |  __iter__(self, /)\n",
      " |      Implement iter(self).\n",
      " |  \n",
      " |  __le__(self, value, /)\n",
      " |      Return self<=value.\n",
      " |  \n",
      " |  __len__(self, /)\n",
      " |      Return len(self).\n",
      " |  \n",
      " |  __lt__(self, value, /)\n",
      " |      Return self<value.\n",
      " |  \n",
      " |  __mod__(self, value, /)\n",
      " |      Return self%value.\n",
      " |  \n",
      " |  __mul__(self, value, /)\n",
      " |      Return self*value.\n",
      " |  \n",
      " |  __ne__(self, value, /)\n",
      " |      Return self!=value.\n",
      " |  \n",
      " |  __repr__(self, /)\n",
      " |      Return repr(self).\n",
      " |  \n",
      " |  __rmod__(self, value, /)\n",
      " |      Return value%self.\n",
      " |  \n",
      " |  __rmul__(self, value, /)\n",
      " |      Return value*self.\n",
      " |  \n",
      " |  __sizeof__(self, /)\n",
      " |      Return the size of the string in memory, in bytes.\n",
      " |  \n",
      " |  __str__(self, /)\n",
      " |      Return str(self).\n",
      " |  \n",
      " |  capitalize(self, /)\n",
      " |      Return a capitalized version of the string.\n",
      " |      \n",
      " |      More specifically, make the first character have upper case and the rest lower\n",
      " |      case.\n",
      " |  \n",
      " |  casefold(self, /)\n",
      " |      Return a version of the string suitable for caseless comparisons.\n",
      " |  \n",
      " |  center(self, width, fillchar=' ', /)\n",
      " |      Return a centered string of length width.\n",
      " |      \n",
      " |      Padding is done using the specified fill character (default is a space).\n",
      " |  \n",
      " |  count(...)\n",
      " |      S.count(sub[, start[, end]]) -> int\n",
      " |      \n",
      " |      Return the number of non-overlapping occurrences of substring sub in\n",
      " |      string S[start:end].  Optional arguments start and end are\n",
      " |      interpreted as in slice notation.\n",
      " |  \n",
      " |  encode(self, /, encoding='utf-8', errors='strict')\n",
      " |      Encode the string using the codec registered for encoding.\n",
      " |      \n",
      " |      encoding\n",
      " |        The encoding in which to encode the string.\n",
      " |      errors\n",
      " |        The error handling scheme to use for encoding errors.\n",
      " |        The default is 'strict' meaning that encoding errors raise a\n",
      " |        UnicodeEncodeError.  Other possible values are 'ignore', 'replace' and\n",
      " |        'xmlcharrefreplace' as well as any other name registered with\n",
      " |        codecs.register_error that can handle UnicodeEncodeErrors.\n",
      " |  \n",
      " |  endswith(...)\n",
      " |      S.endswith(suffix[, start[, end]]) -> bool\n",
      " |      \n",
      " |      Return True if S ends with the specified suffix, False otherwise.\n",
      " |      With optional start, test S beginning at that position.\n",
      " |      With optional end, stop comparing S at that position.\n",
      " |      suffix can also be a tuple of strings to try.\n",
      " |  \n",
      " |  expandtabs(self, /, tabsize=8)\n",
      " |      Return a copy where all tab characters are expanded using spaces.\n",
      " |      \n",
      " |      If tabsize is not given, a tab size of 8 characters is assumed.\n",
      " |  \n",
      " |  find(...)\n",
      " |      S.find(sub[, start[, end]]) -> int\n",
      " |      \n",
      " |      Return the lowest index in S where substring sub is found,\n",
      " |      such that sub is contained within S[start:end].  Optional\n",
      " |      arguments start and end are interpreted as in slice notation.\n",
      " |      \n",
      " |      Return -1 on failure.\n",
      " |  \n",
      " |  format(...)\n",
      " |      S.format(*args, **kwargs) -> str\n",
      " |      \n",
      " |      Return a formatted version of S, using substitutions from args and kwargs.\n",
      " |      The substitutions are identified by braces ('{' and '}').\n",
      " |  \n",
      " |  format_map(...)\n",
      " |      S.format_map(mapping) -> str\n",
      " |      \n",
      " |      Return a formatted version of S, using substitutions from mapping.\n",
      " |      The substitutions are identified by braces ('{' and '}').\n",
      " |  \n",
      " |  index(...)\n",
      " |      S.index(sub[, start[, end]]) -> int\n",
      " |      \n",
      " |      Return the lowest index in S where substring sub is found,\n",
      " |      such that sub is contained within S[start:end].  Optional\n",
      " |      arguments start and end are interpreted as in slice notation.\n",
      " |      \n",
      " |      Raises ValueError when the substring is not found.\n",
      " |  \n",
      " |  isalnum(self, /)\n",
      " |      Return True if the string is an alpha-numeric string, False otherwise.\n",
      " |      \n",
      " |      A string is alpha-numeric if all characters in the string are alpha-numeric and\n",
      " |      there is at least one character in the string.\n",
      " |  \n",
      " |  isalpha(self, /)\n",
      " |      Return True if the string is an alphabetic string, False otherwise.\n",
      " |      \n",
      " |      A string is alphabetic if all characters in the string are alphabetic and there\n",
      " |      is at least one character in the string.\n",
      " |  \n",
      " |  isascii(self, /)\n",
      " |      Return True if all characters in the string are ASCII, False otherwise.\n",
      " |      \n",
      " |      ASCII characters have code points in the range U+0000-U+007F.\n",
      " |      Empty string is ASCII too.\n",
      " |  \n",
      " |  isdecimal(self, /)\n",
      " |      Return True if the string is a decimal string, False otherwise.\n",
      " |      \n",
      " |      A string is a decimal string if all characters in the string are decimal and\n",
      " |      there is at least one character in the string.\n",
      " |  \n",
      " |  isdigit(self, /)\n",
      " |      Return True if the string is a digit string, False otherwise.\n",
      " |      \n",
      " |      A string is a digit string if all characters in the string are digits and there\n",
      " |      is at least one character in the string.\n",
      " |  \n",
      " |  isidentifier(self, /)\n",
      " |      Return True if the string is a valid Python identifier, False otherwise.\n",
      " |      \n",
      " |      Call keyword.iskeyword(s) to test whether string s is a reserved identifier,\n",
      " |      such as \"def\" or \"class\".\n",
      " |  \n",
      " |  islower(self, /)\n",
      " |      Return True if the string is a lowercase string, False otherwise.\n",
      " |      \n",
      " |      A string is lowercase if all cased characters in the string are lowercase and\n",
      " |      there is at least one cased character in the string.\n",
      " |  \n",
      " |  isnumeric(self, /)\n",
      " |      Return True if the string is a numeric string, False otherwise.\n",
      " |      \n",
      " |      A string is numeric if all characters in the string are numeric and there is at\n",
      " |      least one character in the string.\n",
      " |  \n",
      " |  isprintable(self, /)\n",
      " |      Return True if the string is printable, False otherwise.\n",
      " |      \n",
      " |      A string is printable if all of its characters are considered printable in\n",
      " |      repr() or if it is empty.\n",
      " |  \n",
      " |  isspace(self, /)\n",
      " |      Return True if the string is a whitespace string, False otherwise.\n",
      " |      \n",
      " |      A string is whitespace if all characters in the string are whitespace and there\n",
      " |      is at least one character in the string.\n",
      " |  \n",
      " |  istitle(self, /)\n",
      " |      Return True if the string is a title-cased string, False otherwise.\n",
      " |      \n",
      " |      In a title-cased string, upper- and title-case characters may only\n",
      " |      follow uncased characters and lowercase characters only cased ones.\n",
      " |  \n",
      " |  isupper(self, /)\n",
      " |      Return True if the string is an uppercase string, False otherwise.\n",
      " |      \n",
      " |      A string is uppercase if all cased characters in the string are uppercase and\n",
      " |      there is at least one cased character in the string.\n",
      " |  \n",
      " |  join(self, iterable, /)\n",
      " |      Concatenate any number of strings.\n",
      " |      \n",
      " |      The string whose method is called is inserted in between each given string.\n",
      " |      The result is returned as a new string.\n",
      " |      \n",
      " |      Example: '.'.join(['ab', 'pq', 'rs']) -> 'ab.pq.rs'\n",
      " |  \n",
      " |  ljust(self, width, fillchar=' ', /)\n",
      " |      Return a left-justified string of length width.\n",
      " |      \n",
      " |      Padding is done using the specified fill character (default is a space).\n",
      " |  \n",
      " |  lower(self, /)\n",
      " |      Return a copy of the string converted to lowercase.\n",
      " |  \n",
      " |  lstrip(self, chars=None, /)\n",
      " |      Return a copy of the string with leading whitespace removed.\n",
      " |      \n",
      " |      If chars is given and not None, remove characters in chars instead.\n",
      " |  \n",
      " |  partition(self, sep, /)\n",
      " |      Partition the string into three parts using the given separator.\n",
      " |      \n",
      " |      This will search for the separator in the string.  If the separator is found,\n",
      " |      returns a 3-tuple containing the part before the separator, the separator\n",
      " |      itself, and the part after it.\n",
      " |      \n",
      " |      If the separator is not found, returns a 3-tuple containing the original string\n",
      " |      and two empty strings.\n",
      " |  \n",
      " |  removeprefix(self, prefix, /)\n",
      " |      Return a str with the given prefix string removed if present.\n",
      " |      \n",
      " |      If the string starts with the prefix string, return string[len(prefix):].\n",
      " |      Otherwise, return a copy of the original string.\n",
      " |  \n",
      " |  removesuffix(self, suffix, /)\n",
      " |      Return a str with the given suffix string removed if present.\n",
      " |      \n",
      " |      If the string ends with the suffix string and that suffix is not empty,\n",
      " |      return string[:-len(suffix)]. Otherwise, return a copy of the original\n",
      " |      string.\n",
      " |  \n",
      " |  replace(self, old, new, count=-1, /)\n",
      " |      Return a copy with all occurrences of substring old replaced by new.\n",
      " |      \n",
      " |        count\n",
      " |          Maximum number of occurrences to replace.\n",
      " |          -1 (the default value) means replace all occurrences.\n",
      " |      \n",
      " |      If the optional argument count is given, only the first count occurrences are\n",
      " |      replaced.\n",
      " |  \n",
      " |  rfind(...)\n",
      " |      S.rfind(sub[, start[, end]]) -> int\n",
      " |      \n",
      " |      Return the highest index in S where substring sub is found,\n",
      " |      such that sub is contained within S[start:end].  Optional\n",
      " |      arguments start and end are interpreted as in slice notation.\n",
      " |      \n",
      " |      Return -1 on failure.\n",
      " |  \n",
      " |  rindex(...)\n",
      " |      S.rindex(sub[, start[, end]]) -> int\n",
      " |      \n",
      " |      Return the highest index in S where substring sub is found,\n",
      " |      such that sub is contained within S[start:end].  Optional\n",
      " |      arguments start and end are interpreted as in slice notation.\n",
      " |      \n",
      " |      Raises ValueError when the substring is not found.\n",
      " |  \n",
      " |  rjust(self, width, fillchar=' ', /)\n",
      " |      Return a right-justified string of length width.\n",
      " |      \n",
      " |      Padding is done using the specified fill character (default is a space).\n",
      " |  \n",
      " |  rpartition(self, sep, /)\n",
      " |      Partition the string into three parts using the given separator.\n",
      " |      \n",
      " |      This will search for the separator in the string, starting at the end. If\n",
      " |      the separator is found, returns a 3-tuple containing the part before the\n",
      " |      separator, the separator itself, and the part after it.\n",
      " |      \n",
      " |      If the separator is not found, returns a 3-tuple containing two empty strings\n",
      " |      and the original string.\n",
      " |  \n",
      " |  rsplit(self, /, sep=None, maxsplit=-1)\n",
      " |      Return a list of the substrings in the string, using sep as the separator string.\n",
      " |      \n",
      " |        sep\n",
      " |          The separator used to split the string.\n",
      " |      \n",
      " |          When set to None (the default value), will split on any whitespace\n",
      " |          character (including \\n \\r \\t \\f and spaces) and will discard\n",
      " |          empty strings from the result.\n",
      " |        maxsplit\n",
      " |          Maximum number of splits (starting from the left).\n",
      " |          -1 (the default value) means no limit.\n",
      " |      \n",
      " |      Splitting starts at the end of the string and works to the front.\n",
      " |  \n",
      " |  rstrip(self, chars=None, /)\n",
      " |      Return a copy of the string with trailing whitespace removed.\n",
      " |      \n",
      " |      If chars is given and not None, remove characters in chars instead.\n",
      " |  \n",
      " |  split(self, /, sep=None, maxsplit=-1)\n",
      " |      Return a list of the substrings in the string, using sep as the separator string.\n",
      " |      \n",
      " |        sep\n",
      " |          The separator used to split the string.\n",
      " |      \n",
      " |          When set to None (the default value), will split on any whitespace\n",
      " |          character (including \\n \\r \\t \\f and spaces) and will discard\n",
      " |          empty strings from the result.\n",
      " |        maxsplit\n",
      " |          Maximum number of splits (starting from the left).\n",
      " |          -1 (the default value) means no limit.\n",
      " |      \n",
      " |      Note, str.split() is mainly useful for data that has been intentionally\n",
      " |      delimited.  With natural text that includes punctuation, consider using\n",
      " |      the regular expression module.\n",
      " |  \n",
      " |  splitlines(self, /, keepends=False)\n",
      " |      Return a list of the lines in the string, breaking at line boundaries.\n",
      " |      \n",
      " |      Line breaks are not included in the resulting list unless keepends is given and\n",
      " |      true.\n",
      " |  \n",
      " |  startswith(...)\n",
      " |      S.startswith(prefix[, start[, end]]) -> bool\n",
      " |      \n",
      " |      Return True if S starts with the specified prefix, False otherwise.\n",
      " |      With optional start, test S beginning at that position.\n",
      " |      With optional end, stop comparing S at that position.\n",
      " |      prefix can also be a tuple of strings to try.\n",
      " |  \n",
      " |  strip(self, chars=None, /)\n",
      " |      Return a copy of the string with leading and trailing whitespace removed.\n",
      " |      \n",
      " |      If chars is given and not None, remove characters in chars instead.\n",
      " |  \n",
      " |  swapcase(self, /)\n",
      " |      Convert uppercase characters to lowercase and lowercase characters to uppercase.\n",
      " |  \n",
      " |  title(self, /)\n",
      " |      Return a version of the string where each word is titlecased.\n",
      " |      \n",
      " |      More specifically, words start with uppercased characters and all remaining\n",
      " |      cased characters have lower case.\n",
      " |  \n",
      " |  translate(self, table, /)\n",
      " |      Replace each character in the string using the given translation table.\n",
      " |      \n",
      " |        table\n",
      " |          Translation table, which must be a mapping of Unicode ordinals to\n",
      " |          Unicode ordinals, strings, or None.\n",
      " |      \n",
      " |      The table must implement lookup/indexing via __getitem__, for instance a\n",
      " |      dictionary or list.  If this operation raises LookupError, the character is\n",
      " |      left untouched.  Characters mapped to None are deleted.\n",
      " |  \n",
      " |  upper(self, /)\n",
      " |      Return a copy of the string converted to uppercase.\n",
      " |  \n",
      " |  zfill(self, width, /)\n",
      " |      Pad a numeric string with zeros on the left, to fill a field of the given width.\n",
      " |      \n",
      " |      The string is never truncated.\n",
      " |  \n",
      " |  ----------------------------------------------------------------------\n",
      " |  Static methods defined here:\n",
      " |  \n",
      " |  __new__(*args, **kwargs) from builtins.type\n",
      " |      Create and return a new object.  See help(type) for accurate signature.\n",
      " |  \n",
      " |  maketrans(...)\n",
      " |      Return a translation table usable for str.translate().\n",
      " |      \n",
      " |      If there is only one argument, it must be a dictionary mapping Unicode\n",
      " |      ordinals (integers) or characters to Unicode ordinals, strings or None.\n",
      " |      Character keys will be then converted to ordinals.\n",
      " |      If there are two arguments, they must be strings of equal length, and\n",
      " |      in the resulting dictionary, each character in x will be mapped to the\n",
      " |      character at the same position in y. If there is a third argument, it\n",
      " |      must be a string, whose characters will be mapped to None in the result.\n",
      "\n"
     ]
    }
   ],
   "source": [
    "help(str)"
   ]
  },
  {
   "cell_type": "markdown",
   "id": "778c4755-744b-45cd-9c1e-91ad611e0be5",
   "metadata": {},
   "source": [
    "### string concatenation"
   ]
  },
  {
   "cell_type": "code",
   "execution_count": 97,
   "id": "df07aee3-9e59-41da-8f73-759a06e39567",
   "metadata": {},
   "outputs": [],
   "source": [
    "name1 ='Hello'\n",
    "name2 ='World'"
   ]
  },
  {
   "cell_type": "code",
   "execution_count": 98,
   "id": "bbbe7bf1-e097-43fd-9c68-6608c81a99fd",
   "metadata": {},
   "outputs": [
    {
     "name": "stdout",
     "output_type": "stream",
     "text": [
      "HelloWorld\n"
     ]
    }
   ],
   "source": [
    "result =name1+name2\n",
    "print(result)"
   ]
  },
  {
   "cell_type": "markdown",
   "id": "cd946c80-d36b-4d94-a587-d55dc5bb582b",
   "metadata": {},
   "source": [
    "#### string repeatation"
   ]
  },
  {
   "cell_type": "code",
   "execution_count": 99,
   "id": "ac9f9401-87b5-4dc6-9486-130bc264800b",
   "metadata": {},
   "outputs": [
    {
     "data": {
      "text/plain": [
       "'HelloHelloHello'"
      ]
     },
     "execution_count": 99,
     "metadata": {},
     "output_type": "execute_result"
    }
   ],
   "source": [
    "name1 * 3"
   ]
  },
  {
   "cell_type": "markdown",
   "id": "cc1da95e-5414-4220-87f9-43f76fbf92db",
   "metadata": {},
   "source": [
    "#### Escape Sequence"
   ]
  },
  {
   "cell_type": "code",
   "execution_count": 100,
   "id": "fce23821-0a18-42f3-b092-86db3b7aaea8",
   "metadata": {},
   "outputs": [
    {
     "name": "stdout",
     "output_type": "stream",
     "text": [
      "Hello World\n"
     ]
    }
   ],
   "source": [
    "print('Hello World')"
   ]
  },
  {
   "cell_type": "code",
   "execution_count": 101,
   "id": "8d53eddd-f28b-4993-bf93-a77d57f6a2e1",
   "metadata": {},
   "outputs": [
    {
     "name": "stdout",
     "output_type": "stream",
     "text": [
      "Hello\n",
      "World\n"
     ]
    }
   ],
   "source": [
    "print('Hello\\nWorld')"
   ]
  },
  {
   "cell_type": "code",
   "execution_count": 102,
   "id": "9fef4141-9755-4c11-9e88-8e0c199a6bd2",
   "metadata": {},
   "outputs": [
    {
     "name": "stdout",
     "output_type": "stream",
     "text": [
      "Hello\tWorld\n"
     ]
    }
   ],
   "source": [
    "print('Hello\\tWorld')"
   ]
  },
  {
   "cell_type": "code",
   "execution_count": 103,
   "id": "cca0d78b-0bd8-40fe-b0ad-f11ab2476b35",
   "metadata": {},
   "outputs": [
    {
     "name": "stdout",
     "output_type": "stream",
     "text": [
      "Hello'World\n"
     ]
    }
   ],
   "source": [
    "print('Hello\\'World')"
   ]
  },
  {
   "cell_type": "markdown",
   "id": "b8c27747-61f3-413b-9d2c-530252ed7cad",
   "metadata": {},
   "source": [
    "#### docstring"
   ]
  },
  {
   "cell_type": "code",
   "execution_count": 104,
   "id": "f8aad488-65b1-45ca-89c8-f404ebc6e428",
   "metadata": {},
   "outputs": [
    {
     "name": "stdout",
     "output_type": "stream",
     "text": [
      "this is 1st line\n",
      "this is 2nd line\n",
      "this is 3rd line\n"
     ]
    }
   ],
   "source": [
    "print('''this is 1st line\n",
    "this is 2nd line\n",
    "this is 3rd line''')"
   ]
  },
  {
   "cell_type": "markdown",
   "id": "076de68f-ae88-481e-a98d-afb80c65b287",
   "metadata": {},
   "source": [
    "##### ASCII"
   ]
  },
  {
   "cell_type": "code",
   "execution_count": 105,
   "id": "fb80d137-ea76-4457-bfc2-b37149fe7efa",
   "metadata": {},
   "outputs": [
    {
     "data": {
      "text/plain": [
       "65"
      ]
     },
     "execution_count": 105,
     "metadata": {},
     "output_type": "execute_result"
    }
   ],
   "source": [
    "ord('A')"
   ]
  },
  {
   "cell_type": "code",
   "execution_count": 106,
   "id": "377e1722-b249-49e7-97c6-5b098a42c230",
   "metadata": {},
   "outputs": [
    {
     "data": {
      "text/plain": [
       "97"
      ]
     },
     "execution_count": 106,
     "metadata": {},
     "output_type": "execute_result"
    }
   ],
   "source": [
    "ord('a')"
   ]
  },
  {
   "cell_type": "code",
   "execution_count": 107,
   "id": "def1f980-4959-4bc5-ab90-ebceb2c9c849",
   "metadata": {},
   "outputs": [
    {
     "data": {
      "text/plain": [
       "35"
      ]
     },
     "execution_count": 107,
     "metadata": {},
     "output_type": "execute_result"
    }
   ],
   "source": [
    "ord('#')"
   ]
  },
  {
   "cell_type": "code",
   "execution_count": 108,
   "id": "b60452d9-b149-445e-83d0-deb9e03bfae0",
   "metadata": {},
   "outputs": [
    {
     "data": {
      "text/plain": [
       "'a'"
      ]
     },
     "execution_count": 108,
     "metadata": {},
     "output_type": "execute_result"
    }
   ],
   "source": [
    "chr(97)"
   ]
  },
  {
   "cell_type": "code",
   "execution_count": 109,
   "id": "2a73b017-b1ac-41ee-b923-f99815ff6f29",
   "metadata": {},
   "outputs": [
    {
     "data": {
      "text/plain": [
       "'-'"
      ]
     },
     "execution_count": 109,
     "metadata": {},
     "output_type": "execute_result"
    }
   ],
   "source": [
    "chr(45)"
   ]
  },
  {
   "cell_type": "code",
   "execution_count": 110,
   "id": "29f0797d-c1c7-46b7-a923-879125e90831",
   "metadata": {},
   "outputs": [
    {
     "data": {
      "text/plain": [
       "'²'"
      ]
     },
     "execution_count": 110,
     "metadata": {},
     "output_type": "execute_result"
    }
   ],
   "source": [
    "chr(178)"
   ]
  },
  {
   "cell_type": "code",
   "execution_count": 111,
   "id": "20765e51-8f20-47e3-a64e-a40977e1ed7d",
   "metadata": {},
   "outputs": [
    {
     "data": {
      "text/plain": [
       "'x²'"
      ]
     },
     "execution_count": 111,
     "metadata": {},
     "output_type": "execute_result"
    }
   ],
   "source": [
    "'x' + chr(178)"
   ]
  },
  {
   "cell_type": "markdown",
   "id": "de94c8b9-3710-469a-94b4-c0f3c278223c",
   "metadata": {},
   "source": [
    "#### print function"
   ]
  },
  {
   "cell_type": "code",
   "execution_count": 112,
   "id": "1a63eeda-ec5f-4c7c-a44f-a64f803bd907",
   "metadata": {},
   "outputs": [],
   "source": [
    "name = 'Riya'\n",
    "marks = 78.23"
   ]
  },
  {
   "cell_type": "code",
   "execution_count": 113,
   "id": "ee576340-dd96-4df9-97f9-2fbc57b9b742",
   "metadata": {},
   "outputs": [
    {
     "name": "stdout",
     "output_type": "stream",
     "text": [
      "my name is Riya and marks are 78.23\n"
     ]
    }
   ],
   "source": [
    "# my name is riya and marks are 78.23\n",
    "print('my name is', name, 'and marks are', marks) "
   ]
  },
  {
   "cell_type": "markdown",
   "id": "037beb31-cb58-49d2-bd5e-599cf6e16be3",
   "metadata": {},
   "source": [
    "#### formatted print"
   ]
  },
  {
   "cell_type": "code",
   "execution_count": 114,
   "id": "784823fe-639c-40ce-8aa4-1f580f02df31",
   "metadata": {},
   "outputs": [
    {
     "name": "stdout",
     "output_type": "stream",
     "text": [
      "my name is Riya and marks are 78.230000\n"
     ]
    }
   ],
   "source": [
    "print('my name is %s and marks are %f' %(name,marks))"
   ]
  },
  {
   "cell_type": "code",
   "execution_count": 115,
   "id": "dcd0a18c-c158-4c7e-9334-a88cfcd0a486",
   "metadata": {},
   "outputs": [
    {
     "name": "stdout",
     "output_type": "stream",
     "text": [
      "my name is Riya and marks are 78.230\n"
     ]
    }
   ],
   "source": [
    "print('my name is %s and marks are %.3f' %(name,marks))"
   ]
  },
  {
   "cell_type": "code",
   "execution_count": 116,
   "id": "034d87d3-9988-4bbc-a073-bc9e090d0e9c",
   "metadata": {},
   "outputs": [],
   "source": [
    "city='Pune'"
   ]
  },
  {
   "cell_type": "code",
   "execution_count": 117,
   "id": "761eb132-e626-4a5a-aa00-c9b89561c21a",
   "metadata": {},
   "outputs": [
    {
     "name": "stdout",
     "output_type": "stream",
     "text": [
      "Riya 78.23 Pune\n"
     ]
    }
   ],
   "source": [
    "print(name, marks, city)"
   ]
  },
  {
   "cell_type": "code",
   "execution_count": 118,
   "id": "dad3943f-c563-48d2-b373-4a5e69fdb738",
   "metadata": {},
   "outputs": [
    {
     "name": "stdout",
     "output_type": "stream",
     "text": [
      "Riya\n",
      "78.23\n",
      "Pune\n"
     ]
    }
   ],
   "source": [
    "print(name, marks, city, sep = '\\n')"
   ]
  },
  {
   "cell_type": "code",
   "execution_count": 119,
   "id": "0f9b46aa-0f2c-435b-8c56-d6ea68c6ee91",
   "metadata": {},
   "outputs": [
    {
     "name": "stdout",
     "output_type": "stream",
     "text": [
      "Riya\t78.23\tPune\n"
     ]
    }
   ],
   "source": [
    "print(name, marks, city, sep = '\\t')"
   ]
  },
  {
   "cell_type": "code",
   "execution_count": 120,
   "id": "11ad42f6-0049-4554-89b1-ea11e7d67154",
   "metadata": {},
   "outputs": [
    {
     "name": "stdout",
     "output_type": "stream",
     "text": [
      "Riya*78.23*Pune\n"
     ]
    }
   ],
   "source": [
    "print(name, marks, city, sep = '*')"
   ]
  },
  {
   "cell_type": "code",
   "execution_count": 121,
   "id": "7f5ee255-3b1c-49c3-967f-fff93f65a6aa",
   "metadata": {},
   "outputs": [
    {
     "name": "stdout",
     "output_type": "stream",
     "text": [
      "Riya 78.23 Pune*"
     ]
    }
   ],
   "source": [
    "print(name, marks, city, end = '*')"
   ]
  },
  {
   "cell_type": "markdown",
   "id": "f3f8e29d-2509-4116-8123-fce2f6711031",
   "metadata": {},
   "source": [
    "#### operators"
   ]
  },
  {
   "cell_type": "code",
   "execution_count": 122,
   "id": "9f653840-8862-40d0-a83c-f3cf10a2a392",
   "metadata": {},
   "outputs": [],
   "source": [
    "#arithmetic"
   ]
  },
  {
   "cell_type": "code",
   "execution_count": 123,
   "id": "a4deb62c-6075-489a-b949-d2b65dad4fb4",
   "metadata": {},
   "outputs": [],
   "source": [
    "num1 = 12\n",
    "num2 = 5"
   ]
  },
  {
   "cell_type": "code",
   "execution_count": 124,
   "id": "811efd56-c3aa-49f1-9894-52d996675e14",
   "metadata": {},
   "outputs": [
    {
     "data": {
      "text/plain": [
       "17"
      ]
     },
     "execution_count": 124,
     "metadata": {},
     "output_type": "execute_result"
    }
   ],
   "source": [
    "num1 + num2"
   ]
  },
  {
   "cell_type": "code",
   "execution_count": 125,
   "id": "7eee77e3-5908-4c6e-b0dd-f16520939063",
   "metadata": {},
   "outputs": [
    {
     "data": {
      "text/plain": [
       "7"
      ]
     },
     "execution_count": 125,
     "metadata": {},
     "output_type": "execute_result"
    }
   ],
   "source": [
    "num1 - num2"
   ]
  },
  {
   "cell_type": "code",
   "execution_count": 126,
   "id": "5b1e51da-303b-440d-b205-1ac31c929599",
   "metadata": {},
   "outputs": [
    {
     "data": {
      "text/plain": [
       "60"
      ]
     },
     "execution_count": 126,
     "metadata": {},
     "output_type": "execute_result"
    }
   ],
   "source": [
    "num1 * num2"
   ]
  },
  {
   "cell_type": "code",
   "execution_count": 127,
   "id": "809d8f6b-5b62-4f31-a470-588dcbcad233",
   "metadata": {},
   "outputs": [
    {
     "data": {
      "text/plain": [
       "2.4"
      ]
     },
     "execution_count": 127,
     "metadata": {},
     "output_type": "execute_result"
    }
   ],
   "source": [
    "num1 /num2"
   ]
  },
  {
   "cell_type": "code",
   "execution_count": 128,
   "id": "46848d45-4faf-4abd-9217-65bb728ed384",
   "metadata": {},
   "outputs": [
    {
     "data": {
      "text/plain": [
       "248832"
      ]
     },
     "execution_count": 128,
     "metadata": {},
     "output_type": "execute_result"
    }
   ],
   "source": [
    "num1 ** num2"
   ]
  },
  {
   "cell_type": "code",
   "execution_count": 129,
   "id": "6f7f914a-685a-4786-bcfc-9812b8519353",
   "metadata": {},
   "outputs": [
    {
     "data": {
      "text/plain": [
       "2"
      ]
     },
     "execution_count": 129,
     "metadata": {},
     "output_type": "execute_result"
    }
   ],
   "source": [
    "num1 // num2     #floor division"
   ]
  },
  {
   "cell_type": "code",
   "execution_count": 130,
   "id": "a8b299f5-130c-4c96-b1da-03d5cdfa754d",
   "metadata": {},
   "outputs": [
    {
     "data": {
      "text/plain": [
       "2"
      ]
     },
     "execution_count": 130,
     "metadata": {},
     "output_type": "execute_result"
    }
   ],
   "source": [
    "num1 % num2       #mod => remainder"
   ]
  },
  {
   "cell_type": "code",
   "execution_count": 131,
   "id": "57a88964-1137-40b7-80f9-ce69a0f30dee",
   "metadata": {},
   "outputs": [],
   "source": [
    "#relational \n"
   ]
  },
  {
   "cell_type": "code",
   "execution_count": 132,
   "id": "c6a6c6d3-5c72-4060-8512-394b03d1c882",
   "metadata": {},
   "outputs": [
    {
     "data": {
      "text/plain": [
       "True"
      ]
     },
     "execution_count": 132,
     "metadata": {},
     "output_type": "execute_result"
    }
   ],
   "source": [
    "num1>num2"
   ]
  },
  {
   "cell_type": "code",
   "execution_count": 134,
   "id": "7eb85cc5-29d0-4431-b572-1184195ad471",
   "metadata": {},
   "outputs": [
    {
     "data": {
      "text/plain": [
       "False"
      ]
     },
     "execution_count": 134,
     "metadata": {},
     "output_type": "execute_result"
    }
   ],
   "source": [
    "num1 <=num2"
   ]
  },
  {
   "cell_type": "code",
   "execution_count": 135,
   "id": "bb2e62b7-1f2b-4eb0-8d71-244cd750aea5",
   "metadata": {},
   "outputs": [
    {
     "data": {
      "text/plain": [
       "False"
      ]
     },
     "execution_count": 135,
     "metadata": {},
     "output_type": "execute_result"
    }
   ],
   "source": [
    "num1 == num2"
   ]
  },
  {
   "cell_type": "code",
   "execution_count": 136,
   "id": "eecd7974-09a7-4e38-9eb1-2a05d0cbe240",
   "metadata": {},
   "outputs": [
    {
     "data": {
      "text/plain": [
       "True"
      ]
     },
     "execution_count": 136,
     "metadata": {},
     "output_type": "execute_result"
    }
   ],
   "source": [
    "num1 !=num2"
   ]
  },
  {
   "cell_type": "code",
   "execution_count": 137,
   "id": "6391d838-ed31-47b0-b27f-a91950ce7956",
   "metadata": {},
   "outputs": [],
   "source": [
    "#logical"
   ]
  },
  {
   "cell_type": "code",
   "execution_count": 138,
   "id": "c1a7ed0f-353e-44d0-bc92-6cb895b979f3",
   "metadata": {},
   "outputs": [
    {
     "data": {
      "text/plain": [
       "True"
      ]
     },
     "execution_count": 138,
     "metadata": {},
     "output_type": "execute_result"
    }
   ],
   "source": [
    "num1 > num2 and num1 >0"
   ]
  },
  {
   "cell_type": "code",
   "execution_count": 139,
   "id": "dd0fc7e1-aa63-41df-b7d1-364563198690",
   "metadata": {},
   "outputs": [
    {
     "data": {
      "text/plain": [
       "True"
      ]
     },
     "execution_count": 139,
     "metadata": {},
     "output_type": "execute_result"
    }
   ],
   "source": [
    "num1 >num2 or num1>1000"
   ]
  },
  {
   "cell_type": "code",
   "execution_count": 140,
   "id": "6bd62d6c-4f22-44f7-842a-2aa35a1d6256",
   "metadata": {},
   "outputs": [
    {
     "data": {
      "text/plain": [
       "False"
      ]
     },
     "execution_count": 140,
     "metadata": {},
     "output_type": "execute_result"
    }
   ],
   "source": [
    "num1 >num2 and num1>1000"
   ]
  },
  {
   "cell_type": "code",
   "execution_count": 141,
   "id": "a828faf0-acbe-4fe0-8a2b-bc8ed9fa2cb4",
   "metadata": {},
   "outputs": [],
   "source": [
    "#assignment"
   ]
  },
  {
   "cell_type": "code",
   "execution_count": 142,
   "id": "28c1ea61-ab33-45d3-8ada-4142d32ec783",
   "metadata": {},
   "outputs": [],
   "source": [
    "num= 20"
   ]
  },
  {
   "cell_type": "code",
   "execution_count": 143,
   "id": "4b754c5b-6833-464f-8f00-c0f9edf71c71",
   "metadata": {},
   "outputs": [
    {
     "data": {
      "text/plain": [
       "20"
      ]
     },
     "execution_count": 143,
     "metadata": {},
     "output_type": "execute_result"
    }
   ],
   "source": [
    "num"
   ]
  },
  {
   "cell_type": "code",
   "execution_count": 144,
   "id": "d36b41c1-462d-4532-9627-3af9ed022076",
   "metadata": {},
   "outputs": [],
   "source": [
    "num +=10     # => num=num+10"
   ]
  },
  {
   "cell_type": "code",
   "execution_count": 145,
   "id": "c48169cf-d861-44ba-b762-25b7508592c2",
   "metadata": {},
   "outputs": [
    {
     "data": {
      "text/plain": [
       "30"
      ]
     },
     "execution_count": 145,
     "metadata": {},
     "output_type": "execute_result"
    }
   ],
   "source": [
    "num"
   ]
  },
  {
   "cell_type": "code",
   "execution_count": 146,
   "id": "c7d250ce-59c2-4655-a631-a58341764662",
   "metadata": {},
   "outputs": [],
   "source": [
    "#membership selection"
   ]
  },
  {
   "cell_type": "code",
   "execution_count": 147,
   "id": "41a5efa2-3fd0-4c87-991c-073fa3493da5",
   "metadata": {},
   "outputs": [
    {
     "data": {
      "text/plain": [
       "'Riya'"
      ]
     },
     "execution_count": 147,
     "metadata": {},
     "output_type": "execute_result"
    }
   ],
   "source": [
    "name"
   ]
  },
  {
   "cell_type": "code",
   "execution_count": 148,
   "id": "87729dbb-5a55-47ad-94d1-42bb118ad0cc",
   "metadata": {},
   "outputs": [
    {
     "data": {
      "text/plain": [
       "True"
      ]
     },
     "execution_count": 148,
     "metadata": {},
     "output_type": "execute_result"
    }
   ],
   "source": [
    "'i' in name"
   ]
  },
  {
   "cell_type": "code",
   "execution_count": 149,
   "id": "9fe72761-8462-491c-8b85-04d03c1226a8",
   "metadata": {},
   "outputs": [
    {
     "data": {
      "text/plain": [
       "False"
      ]
     },
     "execution_count": 149,
     "metadata": {},
     "output_type": "execute_result"
    }
   ],
   "source": [
    "'I' in name"
   ]
  },
  {
   "cell_type": "code",
   "execution_count": 150,
   "id": "00518127-7624-4c42-b9d3-88d19f019ce0",
   "metadata": {},
   "outputs": [
    {
     "data": {
      "text/plain": [
       "False"
      ]
     },
     "execution_count": 150,
     "metadata": {},
     "output_type": "execute_result"
    }
   ],
   "source": [
    "'i' not in name"
   ]
  },
  {
   "cell_type": "code",
   "execution_count": 151,
   "id": "1797da4d-e8df-46a8-bc70-332ee4339e4b",
   "metadata": {},
   "outputs": [],
   "source": [
    "#type casting"
   ]
  },
  {
   "cell_type": "code",
   "execution_count": 152,
   "id": "745f8628-fcbf-4926-b346-5ef2e1709c7a",
   "metadata": {},
   "outputs": [],
   "source": [
    "name = 'Sharvari'\n",
    "data = '1234'\n",
    "num = 34\n",
    "num1 = 50.53"
   ]
  },
  {
   "cell_type": "code",
   "execution_count": 153,
   "id": "da591b2a-f3d7-47e9-a3ef-521f5f9f514e",
   "metadata": {},
   "outputs": [
    {
     "data": {
      "text/plain": [
       "1234"
      ]
     },
     "execution_count": 153,
     "metadata": {},
     "output_type": "execute_result"
    }
   ],
   "source": [
    "int(data)"
   ]
  },
  {
   "cell_type": "code",
   "execution_count": 155,
   "id": "76beebba-cf53-4cdc-8af0-34d79d2afd37",
   "metadata": {},
   "outputs": [
    {
     "data": {
      "text/plain": [
       "34.0"
      ]
     },
     "execution_count": 155,
     "metadata": {},
     "output_type": "execute_result"
    }
   ],
   "source": [
    "float(num)"
   ]
  },
  {
   "cell_type": "code",
   "execution_count": 156,
   "id": "6821b143-72ba-4019-810c-b355200e1440",
   "metadata": {},
   "outputs": [
    {
     "data": {
      "text/plain": [
       "50"
      ]
     },
     "execution_count": 156,
     "metadata": {},
     "output_type": "execute_result"
    }
   ],
   "source": [
    "int(num1)"
   ]
  },
  {
   "cell_type": "code",
   "execution_count": 157,
   "id": "9ad9d563-b6eb-4ed3-9463-a37debd63944",
   "metadata": {},
   "outputs": [
    {
     "data": {
      "text/plain": [
       "'50.53'"
      ]
     },
     "execution_count": 157,
     "metadata": {},
     "output_type": "execute_result"
    }
   ],
   "source": [
    "str(num1)"
   ]
  },
  {
   "cell_type": "code",
   "execution_count": 158,
   "id": "3b87cb87-cec6-4b3e-b6af-f8f98bf399f3",
   "metadata": {},
   "outputs": [],
   "source": [
    "name = 'sharvari'\n",
    "data = 72"
   ]
  },
  {
   "cell_type": "code",
   "execution_count": 159,
   "id": "2861a443-ea11-440e-8761-b8f6079688a3",
   "metadata": {},
   "outputs": [],
   "source": [
    "password = name + str(data)"
   ]
  },
  {
   "cell_type": "code",
   "execution_count": 160,
   "id": "6e087f94-44f4-4fec-a10d-e3b5e8bce53e",
   "metadata": {},
   "outputs": [
    {
     "data": {
      "text/plain": [
       "'sharvari72'"
      ]
     },
     "execution_count": 160,
     "metadata": {},
     "output_type": "execute_result"
    }
   ],
   "source": [
    "password"
   ]
  },
  {
   "cell_type": "code",
   "execution_count": 161,
   "id": "90e0d3e4-f979-4886-850a-6d1eaa6430ba",
   "metadata": {},
   "outputs": [],
   "source": [
    "#user input"
   ]
  },
  {
   "cell_type": "code",
   "execution_count": 162,
   "id": "1386d784-c692-4043-b8c4-ce489c92a469",
   "metadata": {},
   "outputs": [
    {
     "name": "stdin",
     "output_type": "stream",
     "text": [
      "Enter the 1st number 10\n",
      "Enter the 2nd number 27\n"
     ]
    },
    {
     "name": "stdout",
     "output_type": "stream",
     "text": [
      "Addition is: 37\n"
     ]
    }
   ],
   "source": [
    "num1 = int(input('Enter the 1st number'))\n",
    "num2 = int(input('Enter the 2nd number'))\n",
    "result = num1 +num2\n",
    "print('Addition is:',result)"
   ]
  },
  {
   "cell_type": "code",
   "execution_count": 2,
   "id": "8d64cbbd-caeb-4ee8-8840-705548586da0",
   "metadata": {},
   "outputs": [
    {
     "name": "stdin",
     "output_type": "stream",
     "text": [
      "Enter the string Sharvari\n",
      "Enter no. of repeatation 5\n"
     ]
    },
    {
     "name": "stdout",
     "output_type": "stream",
     "text": [
      "SharvariSharvariSharvariSharvariSharvari\n"
     ]
    }
   ],
   "source": [
    "# write a program to repeat a string take user input\n",
    "\n",
    "in1 = input('Enter the string')\n",
    "in2 = int(input('Enter no. of repeatation'))\n",
    "\n",
    "print(in1 * in2)"
   ]
  },
  {
   "cell_type": "code",
   "execution_count": 3,
   "id": "9a0faaaf-1eac-49eb-abf7-5cd56efc4ac2",
   "metadata": {},
   "outputs": [
    {
     "name": "stdin",
     "output_type": "stream",
     "text": [
      "Enter the base  5\n",
      "Enter the height 10\n"
     ]
    },
    {
     "name": "stdout",
     "output_type": "stream",
     "text": [
      "Area of triangle is  25.0\n"
     ]
    }
   ],
   "source": [
    "'''Take a base and height of the triangle as input and find the area of it.''';\n",
    "\n",
    "base = float(input('Enter the base '))\n",
    "height = float(input('Enter the height'))\n",
    "\n",
    "print('Area of triangle is ',0.5* base * height)"
   ]
  },
  {
   "cell_type": "code",
   "execution_count": 6,
   "id": "df399c73-79fa-48ba-837b-85cba1494d60",
   "metadata": {},
   "outputs": [
    {
     "name": "stdin",
     "output_type": "stream",
     "text": [
      "Enter the number of seconds  3665\n"
     ]
    },
    {
     "name": "stdout",
     "output_type": "stream",
     "text": [
      "1\n",
      "1\n",
      "5\n",
      "conversion is  1 1 5\n"
     ]
    }
   ],
   "source": [
    "'''\n",
    "Take seconds as user input\n",
    "convert to hour:min:sec format\n",
    "ex.... 3665 sec => 1:01:05\n",
    "'''\n",
    "\n",
    "sec = int(input('Enter the number of seconds '))\n",
    "\n",
    "hours = sec // 3600\n",
    "print(hours)\n",
    "rem_sec =sec%3600\n",
    "minute = rem_sec //60\n",
    "print(minute)\n",
    "\n",
    "seconds = rem_sec % 60\n",
    "print(seconds)\n",
    "\n",
    "print('conversion is ',hours,minute,seconds)"
   ]
  },
  {
   "cell_type": "code",
   "execution_count": null,
   "id": "4420fa9f-6e97-447f-adce-1980468ef6a9",
   "metadata": {},
   "outputs": [],
   "source": []
  }
 ],
 "metadata": {
  "kernelspec": {
   "display_name": "Python 3 (ipykernel)",
   "language": "python",
   "name": "python3"
  },
  "language_info": {
   "codemirror_mode": {
    "name": "ipython",
    "version": 3
   },
   "file_extension": ".py",
   "mimetype": "text/x-python",
   "name": "python",
   "nbconvert_exporter": "python",
   "pygments_lexer": "ipython3",
   "version": "3.11.7"
  }
 },
 "nbformat": 4,
 "nbformat_minor": 5
}
