{
 "cells": [
  {
   "cell_type": "markdown",
   "id": "9ea517a8-3e14-4366-97f8-b7ecf11bd4f0",
   "metadata": {},
   "source": [
    "##### Q.1) Write a program to convert specified days into years,weeks and days\n",
    "##### Take user input\n",
    "##### Ignore the leap year"
   ]
  },
  {
   "cell_type": "code",
   "execution_count": 3,
   "id": "e4644c17-592c-4380-8801-630e47d54ef7",
   "metadata": {},
   "outputs": [
    {
     "name": "stdin",
     "output_type": "stream",
     "text": [
      "Enter no. of days: 1005\n"
     ]
    },
    {
     "name": "stdout",
     "output_type": "stream",
     "text": [
      "year =  2 months=  9 days=  5\n"
     ]
    }
   ],
   "source": [
    "no = int(input('Enter no. of days:'))\n",
    "year = no // 365\n",
    "\n",
    "rem_days =no % 365\n",
    "month = rem_days //30\n",
    "\n",
    "days= rem_days % 30\n",
    "\n",
    "print('year = ',year,'months= ',month,'days= ',days)"
   ]
  },
  {
   "cell_type": "markdown",
   "id": "e64658eb-482b-4841-b3f6-65a3be21cb67",
   "metadata": {},
   "source": [
    "##### Q.2) Write a program to input basicPython salary of an employee and calculate its gross salary according to following:\n",
    "##### basic salary <= 10000: hra = 20%, da = 80%\n",
    "##### basic salary <= 20000: hra = 30%, da = 90%\n",
    "##### basic salary > 20000: hra = 35%, da = 95%"
   ]
  },
  {
   "cell_type": "code",
   "execution_count": 5,
   "id": "1aeef30c-cb94-42ad-a67b-3e5e5152f69d",
   "metadata": {},
   "outputs": [
    {
     "name": "stdin",
     "output_type": "stream",
     "text": [
      "Enter the basic salary of an employee 15000\n"
     ]
    },
    {
     "name": "stdout",
     "output_type": "stream",
     "text": [
      "Gross Salary = 33000.0\n"
     ]
    }
   ],
   "source": [
    "basic_salary = int(input('Enter the basic salary of an employee'))\n",
    "\n",
    "if basic_salary <= 10000:\n",
    "    hra = basic_salary * 0.20\n",
    "    da = basic_salary * 0.80\n",
    "    gross_salary = basic_salary + hra + da\n",
    "    print('Gross Salary =',gross_salary)\n",
    "\n",
    "elif basic_salary <= 20000:\n",
    "    hra = basic_salary * 0.30\n",
    "    da = basic_salary * 0.90\n",
    "    gross_salary = basic_salary + hra + da\n",
    "    print('Gross Salary =',gross_salary)\n",
    "\n",
    "elif basic_salary > 20000:\n",
    "    hra = basic_salary * 0.35\n",
    "    da = basic_salary * 0.95\n",
    "    gross_salary = basic_salary + hra + da\n",
    "    print('Gross Salary =',gross_salary)\n",
    "\n",
    "else:\n",
    "    print('Issue in  entered salary')"
   ]
  },
  {
   "cell_type": "markdown",
   "id": "67060b08-adcc-48b9-980c-7aa65dab98e3",
   "metadata": {},
   "source": [
    "##### Q.3) WAP to input electricity unit charges and calculate total elctricity bill according to given conditions:\n",
    "##### For first 50 units rs. 0.50/unit\n",
    "##### For next 100 units rs. 0.75/unit\n",
    "##### For next 100 units rs. 1.25/unit\n",
    "##### For unit above 250 units rs. 1.50/unit\n",
    "##### An additional surcharge of 17% is added to the bille bill"
   ]
  },
  {
   "cell_type": "code",
   "execution_count": 7,
   "id": "cc11f1da-7193-4474-bea1-5140a60a708f",
   "metadata": {},
   "outputs": [
    {
     "name": "stdin",
     "output_type": "stream",
     "text": [
      "Enter no. of unit: 100\n"
     ]
    },
    {
     "name": "stdout",
     "output_type": "stream",
     "text": [
      "Bill= 75.0\n",
      "Total bill = 75.17\n"
     ]
    }
   ],
   "source": [
    "unit = int(input('Enter no. of unit:'))\n",
    "if unit <= 50:\n",
    "    amt = unit * 0.5\n",
    "    print('Bill=',amt)\n",
    "\n",
    "elif unit <=150 and unit>50:\n",
    "    amt = unit * 0.75\n",
    "    print('Bill=',amt)\n",
    "\n",
    "if unit <= 250 and unit>150:\n",
    "    amt = unit * 1.25\n",
    "    print('Bill=',amt)\n",
    "\n",
    "if unit > 250:\n",
    "    amt = unit * 1.50\n",
    "    print('Bill=',amt)\n",
    "\n",
    "total_bill = amt + 0.17\n",
    "print('Total bill =',total_bill)"
   ]
  },
  {
   "cell_type": "markdown",
   "id": "90d08c87-c4e8-4eb0-9bb9-c2784dc274f4",
   "metadata": {},
   "source": [
    "##### Q.4) WAP to print given pattern:\n",
    "##### 1\n",
    "##### 22\n",
    "##### 333\n",
    "##### 4444 \n",
    "##### 55555"
   ]
  },
  {
   "cell_type": "code",
   "execution_count": 8,
   "id": "e7f9c8b4-7126-4cbb-ba3e-64edbe143a22",
   "metadata": {},
   "outputs": [
    {
     "name": "stdin",
     "output_type": "stream",
     "text": [
      "Enter no. of rows you want to print: 5\n"
     ]
    },
    {
     "name": "stdout",
     "output_type": "stream",
     "text": [
      " \n",
      "1  \n",
      "2 2  \n",
      "3 3 3  \n",
      "4 4 4 4  \n",
      "5 5 5 5 5 "
     ]
    }
   ],
   "source": [
    "row = int(input('Enter no. of rows you want to print:'))\n",
    "for i in range(1, row+1):\n",
    "    print(' ')\n",
    "    for j in range(i):\n",
    "        print(i, end=' ')"
   ]
  },
  {
   "cell_type": "markdown",
   "id": "60d46e95-ee67-41d5-bbea-c30011e222d9",
   "metadata": {},
   "source": [
    "##### Q.5) WAP to calculate product of digits of a number. Read value of n from user"
   ]
  },
  {
   "cell_type": "code",
   "execution_count": 9,
   "id": "54a92ab9-859c-4260-9610-289a60ad938e",
   "metadata": {},
   "outputs": [
    {
     "name": "stdin",
     "output_type": "stream",
     "text": [
      "Enter the number: 12345\n"
     ]
    },
    {
     "name": "stdout",
     "output_type": "stream",
     "text": [
      "Product= 120\n"
     ]
    }
   ],
   "source": [
    "n = int(input('Enter the number:'))\n",
    "mul = 1\n",
    "while n > 0:\n",
    "    rem = n % 10\n",
    "    mul =mul * rem\n",
    "    n = n // 10\n",
    "print('Product=',mul)"
   ]
  },
  {
   "cell_type": "markdown",
   "id": "1f1c863a-2a6f-4bdd-96b2-6b00f15907cb",
   "metadata": {},
   "source": [
    "##### Q.6) Create list of elements like: x=[ 45, 67,12,'hello',23.45,'world'] and perform following operations:\n",
    "##### 1. extract only string values from this list\n",
    "##### 2. create a new list with strings in uppercase\n",
    "##### 3. find addition of integer values\n",
    "##### 4. check that value 56 is present in it or not\n",
    "##### 5. print list in reverse order\n",
    "##### 6. delete string hello from it\n",
    "##### 7. insert new value 36 at 5th position in list\n",
    "##### 8. count total no. of elements in list now\n",
    "##### 9. extract values from 2nd index to 5th index\n",
    "##### 10. append[34,'pune'] to the list\n",
    "##### 11. delete the last element from the list"
   ]
  },
  {
   "cell_type": "code",
   "execution_count": 10,
   "id": "81cc9899-a955-442a-a649-43e17e816f94",
   "metadata": {},
   "outputs": [],
   "source": [
    "x = [45, 67, 12, 'hello', 23.45, 'world']"
   ]
  },
  {
   "cell_type": "code",
   "execution_count": 11,
   "id": "2af0e227-c206-44cc-9266-7c7047972212",
   "metadata": {},
   "outputs": [
    {
     "data": {
      "text/plain": [
       "('hello', 'world')"
      ]
     },
     "execution_count": 11,
     "metadata": {},
     "output_type": "execute_result"
    }
   ],
   "source": [
    "#1\n",
    "\n",
    "y=x[3],x[-1]\n",
    "y"
   ]
  },
  {
   "cell_type": "code",
   "execution_count": 12,
   "id": "748bd7ac-fbad-448a-8f1b-6ba8c0b3f901",
   "metadata": {},
   "outputs": [
    {
     "data": {
      "text/plain": [
       "['HELLO', 'WORLD']"
      ]
     },
     "execution_count": 12,
     "metadata": {},
     "output_type": "execute_result"
    }
   ],
   "source": [
    "#2\n",
    "\n",
    "y=[n.upper() for n in y]\n",
    "y"
   ]
  },
  {
   "cell_type": "code",
   "execution_count": 13,
   "id": "006dccd0-0328-4f12-9095-10d5987faf49",
   "metadata": {},
   "outputs": [
    {
     "data": {
      "text/plain": [
       "147.45"
      ]
     },
     "execution_count": 13,
     "metadata": {},
     "output_type": "execute_result"
    }
   ],
   "source": [
    "#3\n",
    "\n",
    "e=[45,67,12,23.45]\n",
    "sum(e)"
   ]
  },
  {
   "cell_type": "code",
   "execution_count": 14,
   "id": "ad99d148-fd5f-46b4-bab6-5bd313a7cbb5",
   "metadata": {},
   "outputs": [
    {
     "data": {
      "text/plain": [
       "False"
      ]
     },
     "execution_count": 14,
     "metadata": {},
     "output_type": "execute_result"
    }
   ],
   "source": [
    "#4\n",
    "\n",
    "56 in x"
   ]
  },
  {
   "cell_type": "code",
   "execution_count": 15,
   "id": "544a8a1c-ccdd-4db3-b6a3-dbac3da9cf46",
   "metadata": {},
   "outputs": [
    {
     "data": {
      "text/plain": [
       "['world', 23.45, 'hello', 12, 67, 45]"
      ]
     },
     "execution_count": 15,
     "metadata": {},
     "output_type": "execute_result"
    }
   ],
   "source": [
    "#5\n",
    "\n",
    "x.reverse()\n",
    "x"
   ]
  },
  {
   "cell_type": "code",
   "execution_count": 16,
   "id": "fe98bd1c-00de-4866-b880-ea7d1ac13d45",
   "metadata": {},
   "outputs": [
    {
     "data": {
      "text/plain": [
       "['world', 23.45, 12, 67, 45]"
      ]
     },
     "execution_count": 16,
     "metadata": {},
     "output_type": "execute_result"
    }
   ],
   "source": [
    "#6\n",
    "\n",
    "x.remove('hello')\n",
    "x"
   ]
  },
  {
   "cell_type": "code",
   "execution_count": 17,
   "id": "e8630445-211e-4f5e-bf13-95f1ccae4e14",
   "metadata": {},
   "outputs": [
    {
     "data": {
      "text/plain": [
       "['world', 23.45, 12, 67, 36, 45]"
      ]
     },
     "execution_count": 17,
     "metadata": {},
     "output_type": "execute_result"
    }
   ],
   "source": [
    "#7\n",
    "\n",
    "x.insert(4,36)\n",
    "x"
   ]
  },
  {
   "cell_type": "code",
   "execution_count": 18,
   "id": "3932e154-f838-4aa0-92fd-802672b8f4ec",
   "metadata": {},
   "outputs": [
    {
     "data": {
      "text/plain": [
       "6"
      ]
     },
     "execution_count": 18,
     "metadata": {},
     "output_type": "execute_result"
    }
   ],
   "source": [
    "#8\n",
    "\n",
    "len(x)"
   ]
  },
  {
   "cell_type": "code",
   "execution_count": 19,
   "id": "d77e5165-0f42-4955-82de-bb13a6ba8ae0",
   "metadata": {},
   "outputs": [
    {
     "data": {
      "text/plain": [
       "[12, 67, 36]"
      ]
     },
     "execution_count": 19,
     "metadata": {},
     "output_type": "execute_result"
    }
   ],
   "source": [
    "#9\n",
    "\n",
    "x[2:5]"
   ]
  },
  {
   "cell_type": "code",
   "execution_count": 20,
   "id": "d43c7e45-909b-4538-8cdb-0fba04b46979",
   "metadata": {},
   "outputs": [
    {
     "data": {
      "text/plain": [
       "['world', 23.45, 12, 67, 36, 45, [34, 'pune']]"
      ]
     },
     "execution_count": 20,
     "metadata": {},
     "output_type": "execute_result"
    }
   ],
   "source": [
    "#10\n",
    "\n",
    "x.append([34,'pune'])\n",
    "x"
   ]
  },
  {
   "cell_type": "code",
   "execution_count": 21,
   "id": "6ed47d16-34f5-4cab-ac33-2d2975b61fda",
   "metadata": {},
   "outputs": [
    {
     "data": {
      "text/plain": [
       "['world', 23.45, 12, 67, 36, 45]"
      ]
     },
     "execution_count": 21,
     "metadata": {},
     "output_type": "execute_result"
    }
   ],
   "source": [
    "#11\n",
    "\n",
    "x.pop(-1)\n",
    "x"
   ]
  },
  {
   "cell_type": "markdown",
   "id": "2aa705b4-f400-4ec9-ac88-3a33effe56c8",
   "metadata": {},
   "source": [
    "##### Q.7) Create a tuple of elements with 5 float values in it and perform following operations:\n",
    "##### 1. print data in sorted manner\n",
    "##### 2. check to see that element 50 is present in it\n",
    "##### 3. convert this tuple in set"
   ]
  },
  {
   "cell_type": "code",
   "execution_count": 24,
   "id": "11aad417-b971-41e3-b3e8-93706875a7a3",
   "metadata": {},
   "outputs": [
    {
     "data": {
      "text/plain": [
       "(12.23, 34.45, 76.32, 56.87, 23.85)"
      ]
     },
     "execution_count": 24,
     "metadata": {},
     "output_type": "execute_result"
    }
   ],
   "source": [
    "t=(12.23,34.45,76.32,56.87,23.85)\n",
    "t"
   ]
  },
  {
   "cell_type": "code",
   "execution_count": 25,
   "id": "7a5e092a-a9eb-4266-b426-dfa9deec2a51",
   "metadata": {},
   "outputs": [
    {
     "data": {
      "text/plain": [
       "[12.23, 23.85, 34.45, 56.87, 76.32]"
      ]
     },
     "execution_count": 25,
     "metadata": {},
     "output_type": "execute_result"
    }
   ],
   "source": [
    "#1\n",
    "\n",
    "sorted(t)"
   ]
  },
  {
   "cell_type": "code",
   "execution_count": 26,
   "id": "11f2b807-34b9-457d-9227-1c24cf4ecf8f",
   "metadata": {},
   "outputs": [
    {
     "data": {
      "text/plain": [
       "False"
      ]
     },
     "execution_count": 26,
     "metadata": {},
     "output_type": "execute_result"
    }
   ],
   "source": [
    "#2\n",
    "\n",
    "50 in t"
   ]
  },
  {
   "cell_type": "code",
   "execution_count": 27,
   "id": "2e88638f-d062-4ce7-aff4-fd2883b1d4fb",
   "metadata": {},
   "outputs": [
    {
     "data": {
      "text/plain": [
       "[12.23, 34.45, 76.32, 56.87, 23.85]"
      ]
     },
     "execution_count": 27,
     "metadata": {},
     "output_type": "execute_result"
    }
   ],
   "source": [
    "#3\n",
    "\n",
    "m=list(t)\n",
    "m"
   ]
  },
  {
   "cell_type": "markdown",
   "id": "a3ed11d1-6a18-4863-8c15-b8f77748873f",
   "metadata": {},
   "source": [
    "##### Q.8)create a dictionary of elements:{'a':'apple','b':'ball','c':'cat','d':'doll','k':'king'} and perform operations:\n",
    "##### 1.access data at key 'k'\n",
    "##### 2. add a new value 'z':'zebra'\n",
    "##### 3. replace contents of 'd' as 'dog'\n",
    "##### 4. print alll values from dictionary\n",
    "##### 5. find length of this dictionary"
   ]
  },
  {
   "cell_type": "code",
   "execution_count": 28,
   "id": "9f18e5a6-88b6-49c0-8a91-66b406fb1e70",
   "metadata": {},
   "outputs": [
    {
     "data": {
      "text/plain": [
       "{'a': 'apple', 'b': 'ball', 'c': 'cat', 'd': 'doll', 'k': 'king'}"
      ]
     },
     "execution_count": 28,
     "metadata": {},
     "output_type": "execute_result"
    }
   ],
   "source": [
    "d={'a':'apple','b':'ball','c':'cat','d':'doll','k':'king'}\n",
    "d"
   ]
  },
  {
   "cell_type": "code",
   "execution_count": 29,
   "id": "8972f1c2-32f1-4ef1-9af7-fd01c6d5811e",
   "metadata": {},
   "outputs": [
    {
     "data": {
      "text/plain": [
       "'king'"
      ]
     },
     "execution_count": 29,
     "metadata": {},
     "output_type": "execute_result"
    }
   ],
   "source": [
    "#1\n",
    "\n",
    "d['k']"
   ]
  },
  {
   "cell_type": "code",
   "execution_count": 30,
   "id": "f34c4b8e-d72c-414a-8d48-876d354a3f3f",
   "metadata": {},
   "outputs": [
    {
     "data": {
      "text/plain": [
       "{'a': 'apple', 'b': 'ball', 'c': 'cat', 'd': 'doll', 'k': 'king', 'z': 'zebra'}"
      ]
     },
     "execution_count": 30,
     "metadata": {},
     "output_type": "execute_result"
    }
   ],
   "source": [
    "#2\n",
    "\n",
    "d['z']='zebra'\n",
    "d"
   ]
  },
  {
   "cell_type": "code",
   "execution_count": 31,
   "id": "05afae0f-f413-4881-be4c-45c77259aa81",
   "metadata": {},
   "outputs": [
    {
     "data": {
      "text/plain": [
       "{'a': 'apple', 'b': 'ball', 'c': 'cat', 'd': 'dog', 'k': 'king', 'z': 'zebra'}"
      ]
     },
     "execution_count": 31,
     "metadata": {},
     "output_type": "execute_result"
    }
   ],
   "source": [
    "#3\n",
    "\n",
    "d['d']='dog'\n",
    "d"
   ]
  },
  {
   "cell_type": "code",
   "execution_count": 32,
   "id": "a2260af0-9f37-4580-a44b-8ba0c7c1fc56",
   "metadata": {},
   "outputs": [
    {
     "data": {
      "text/plain": [
       "dict_values(['apple', 'ball', 'cat', 'dog', 'king', 'zebra'])"
      ]
     },
     "execution_count": 32,
     "metadata": {},
     "output_type": "execute_result"
    }
   ],
   "source": [
    "#4\n",
    "\n",
    "d.values()"
   ]
  },
  {
   "cell_type": "code",
   "execution_count": 33,
   "id": "c9131a76-cce0-4638-bba4-226858235c71",
   "metadata": {},
   "outputs": [
    {
     "data": {
      "text/plain": [
       "6"
      ]
     },
     "execution_count": 33,
     "metadata": {},
     "output_type": "execute_result"
    }
   ],
   "source": [
    "#5\n",
    "\n",
    "len(d)"
   ]
  },
  {
   "cell_type": "markdown",
   "id": "3b954aba-25d9-4ab7-b463-9345ca8d2380",
   "metadata": {},
   "source": [
    "##### Q.9) WAP to find second largest element in list"
   ]
  },
  {
   "cell_type": "code",
   "execution_count": 34,
   "id": "1d81a865-b0d7-4b7a-8289-0749f2172a62",
   "metadata": {},
   "outputs": [
    {
     "name": "stdout",
     "output_type": "stream",
     "text": [
      "second largest element is: 45\n"
     ]
    }
   ],
   "source": [
    "l=[12,23,34,45,56]\n",
    "sorted(l)\n",
    "print('second largest element is:',l[-2])"
   ]
  },
  {
   "cell_type": "markdown",
   "id": "731d4637-29e0-43d4-9860-bd602edbed95",
   "metadata": {},
   "source": [
    "##### Q.10) This is the list of some metallic elements:\n",
    "#####       metals=['silver','gold',...]\n",
    "#####       make a new list that is almost identical to metals list:\n",
    "#####       the new contains same items,in same order,except that it does NOT contain the item 'copper'."
   ]
  },
  {
   "cell_type": "code",
   "execution_count": 35,
   "id": "48422080-41b3-4618-8b34-c81cca78de43",
   "metadata": {},
   "outputs": [
    {
     "name": "stdout",
     "output_type": "stream",
     "text": [
      "metals from first list= ['silver', 'gold', 'copper', 'iron', 'zinc']\n",
      "metals from second list= ['silver', 'gold', 'iron', 'zinc']\n"
     ]
    }
   ],
   "source": [
    "metals=['silver','gold','copper','iron','zinc']\n",
    "print('metals from first list=',metals)\n",
    "metals.remove('copper')\n",
    "metals2=metals.copy()\n",
    "print('metals from second list=',metals2)"
   ]
  }
 ],
 "metadata": {
  "kernelspec": {
   "display_name": "Python 3 (ipykernel)",
   "language": "python",
   "name": "python3"
  },
  "language_info": {
   "codemirror_mode": {
    "name": "ipython",
    "version": 3
   },
   "file_extension": ".py",
   "mimetype": "text/x-python",
   "name": "python",
   "nbconvert_exporter": "python",
   "pygments_lexer": "ipython3",
   "version": "3.11.7"
  }
 },
 "nbformat": 4,
 "nbformat_minor": 5
}
