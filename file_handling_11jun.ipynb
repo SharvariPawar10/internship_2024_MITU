{
 "cells": [
  {
   "cell_type": "code",
   "execution_count": 6,
   "id": "f3929301-56ff-4e32-ba1a-fb09130640bc",
   "metadata": {},
   "outputs": [],
   "source": [
    "f = open('pune.txt','r')"
   ]
  },
  {
   "cell_type": "code",
   "execution_count": 7,
   "id": "3183e0e8-8027-4b1b-a4b3-78e1734a3eb2",
   "metadata": {},
   "outputs": [
    {
     "name": "stdout",
     "output_type": "stream",
     "text": [
      "pune.txt\n"
     ]
    }
   ],
   "source": [
    "print(f.name)"
   ]
  },
  {
   "cell_type": "code",
   "execution_count": 8,
   "id": "3f04d301-cc83-4d48-a066-ba817b773491",
   "metadata": {},
   "outputs": [
    {
     "data": {
      "text/plain": [
       "'This article is about the city in India. For its namesake district, see Pune district. For other uses, see Pune (disambiguation).\\n\"Poona\" redirects here. For other uses, see Poona (disambiguation).\\nNot to be confused with Puno.\\nPune  is a city in Maharashtra state in the Deccan plateau in Western India. It is the administrative headquarters of the Pune district, and of Pune division. According to the 2011 Census of India, Pune has 7.2 million residents in the metropolitan region, making it the eighth-most populous metropolitan area in India.The city of Pune is part of Pune Metropolitan Region. Pune is one of the largest IT hubs in India. It is also one of the most important automobile and manufacturing hubs of India. Pune is often referred to as the \"Oxford of the East\" because of its highly regarded educational institutions.It has been ranked \"the most liveable city in India\" several times.\\n\\nPune at different points in time has been ruled by the Rashtrakuta dynasty, Ahmadnagar Sultanate, the Mughals, and the Adil Shahi dynasty. In the 18th century, the city was part of the Maratha Empire, and the seat of the Peshwas, the prime ministers of the Maratha Empire. Many historical landmarks like Pataleshwar caves, Shaniwarwada, Shinde Chhatri, and Vishrambaug Wada date to this era. Historical sites from different eras dot the city.\\n\\nPune has historically been a major cultural centre, with important figures like Dnyaneshwar, Shivaji, Tukaram, Baji Rao I, Balaji Baji Rao, Madhavrao I, Nana Fadnavis, Mahadev Govind Ranade, Gopal Krishna Gokhale, Mahatma Jyotirao Phule, Savitribai Phule, Gopal Ganesh Agarkar, Tarabai Shinde, Dhondo Keshav Karve, and Pandita Ramabai doing their life\\'s work in Pune City or in an area that falls in Pune Metropolitan Region. Pune was a major centre of resistance to British Raj, with people like Gopal Krishna Gokhale, Bal Gangadhar Tilak and Vinayak Damodar Savarkar playing leading roles in struggle for Indian independence in their times.'"
      ]
     },
     "execution_count": 8,
     "metadata": {},
     "output_type": "execute_result"
    }
   ],
   "source": [
    "f.read()"
   ]
  },
  {
   "cell_type": "code",
   "execution_count": 9,
   "id": "8d2a355f-0c1e-47a0-a099-646304800270",
   "metadata": {},
   "outputs": [
    {
     "name": "stdout",
     "output_type": "stream",
     "text": [
      "r\n"
     ]
    }
   ],
   "source": [
    "print(f.mode)"
   ]
  },
  {
   "cell_type": "code",
   "execution_count": 10,
   "id": "fd244edd-ebad-4c23-83ac-6045fd566ae6",
   "metadata": {},
   "outputs": [],
   "source": [
    "f.close()"
   ]
  },
  {
   "cell_type": "code",
   "execution_count": 11,
   "id": "381a2bf9-b5ee-4901-bc44-bd3ef4704274",
   "metadata": {},
   "outputs": [
    {
     "data": {
      "text/plain": [
       "<_io.TextIOWrapper name='pune.txt' mode='r' encoding='cp1252'>"
      ]
     },
     "execution_count": 11,
     "metadata": {},
     "output_type": "execute_result"
    }
   ],
   "source": [
    "f"
   ]
  },
  {
   "cell_type": "code",
   "execution_count": 12,
   "id": "abe92dc4-9252-4b6d-8aa6-7b8247a8c8a8",
   "metadata": {},
   "outputs": [
    {
     "data": {
      "text/plain": [
       "True"
      ]
     },
     "execution_count": 12,
     "metadata": {},
     "output_type": "execute_result"
    }
   ],
   "source": [
    "f.closed"
   ]
  },
  {
   "cell_type": "code",
   "execution_count": 13,
   "id": "0844c81a-f7d1-47aa-80ed-3858e94b50fe",
   "metadata": {},
   "outputs": [],
   "source": [
    "# open with context manager\n",
    "\n",
    "with open('pune.txt', 'r') as f:\n",
    "    pass"
   ]
  },
  {
   "cell_type": "code",
   "execution_count": 14,
   "id": "7fa67c52-ebf9-443e-8ac5-ab0aa75bf965",
   "metadata": {},
   "outputs": [
    {
     "data": {
      "text/plain": [
       "True"
      ]
     },
     "execution_count": 14,
     "metadata": {},
     "output_type": "execute_result"
    }
   ],
   "source": [
    "f.closed"
   ]
  },
  {
   "cell_type": "code",
   "execution_count": 15,
   "id": "37b51a4a-e7df-4ec0-a615-ec8ebe0ea264",
   "metadata": {},
   "outputs": [
    {
     "name": "stdout",
     "output_type": "stream",
     "text": [
      "This article is about the city in India. For its namesake district, see Pune district. For other uses, see Pune (disambiguation).\n",
      "\"Poona\" redirects here. For other uses, see Poona (disambiguation).\n",
      "Not to be confused with Puno.\n",
      "Pune  is a city in Maharashtra state in the Deccan plateau in Western India. It is the administrative headquarters of the Pune district, and of Pune division. According to the 2011 Census of India, Pune has 7.2 million residents in the metropolitan region, making it the eighth-most populous metropolitan area in India.The city of Pune is part of Pune Metropolitan Region. Pune is one of the largest IT hubs in India. It is also one of the most important automobile and manufacturing hubs of India. Pune is often referred to as the \"Oxford of the East\" because of its highly regarded educational institutions.It has been ranked \"the most liveable city in India\" several times.\n",
      "\n",
      "Pune at different points in time has been ruled by the Rashtrakuta dynasty, Ahmadnagar Sultanate, the Mughals, and the Adil Shahi dynasty. In the 18th century, the city was part of the Maratha Empire, and the seat of the Peshwas, the prime ministers of the Maratha Empire. Many historical landmarks like Pataleshwar caves, Shaniwarwada, Shinde Chhatri, and Vishrambaug Wada date to this era. Historical sites from different eras dot the city.\n",
      "\n",
      "Pune has historically been a major cultural centre, with important figures like Dnyaneshwar, Shivaji, Tukaram, Baji Rao I, Balaji Baji Rao, Madhavrao I, Nana Fadnavis, Mahadev Govind Ranade, Gopal Krishna Gokhale, Mahatma Jyotirao Phule, Savitribai Phule, Gopal Ganesh Agarkar, Tarabai Shinde, Dhondo Keshav Karve, and Pandita Ramabai doing their life's work in Pune City or in an area that falls in Pune Metropolitan Region. Pune was a major centre of resistance to British Raj, with people like Gopal Krishna Gokhale, Bal Gangadhar Tilak and Vinayak Damodar Savarkar playing leading roles in struggle for Indian independence in their times.\n"
     ]
    }
   ],
   "source": [
    "\n",
    "with open('pune.txt', 'r') as f:\n",
    "    content = f.read()\n",
    "    print(content)"
   ]
  },
  {
   "cell_type": "code",
   "execution_count": 16,
   "id": "a37a0496-a4da-4102-83c8-84a2a4ecb0b9",
   "metadata": {},
   "outputs": [
    {
     "name": "stdout",
     "output_type": "stream",
     "text": [
      "['This article is about the city in India. For its namesake district, see Pune district. For other uses, see Pune (disambiguation).\\n', '\"Poona\" redirects here. For other uses, see Poona (disambiguation).\\n', 'Not to be confused with Puno.\\n', 'Pune  is a city in Maharashtra state in the Deccan plateau in Western India. It is the administrative headquarters of the Pune district, and of Pune division. According to the 2011 Census of India, Pune has 7.2 million residents in the metropolitan region, making it the eighth-most populous metropolitan area in India.The city of Pune is part of Pune Metropolitan Region. Pune is one of the largest IT hubs in India. It is also one of the most important automobile and manufacturing hubs of India. Pune is often referred to as the \"Oxford of the East\" because of its highly regarded educational institutions.It has been ranked \"the most liveable city in India\" several times.\\n', '\\n', 'Pune at different points in time has been ruled by the Rashtrakuta dynasty, Ahmadnagar Sultanate, the Mughals, and the Adil Shahi dynasty. In the 18th century, the city was part of the Maratha Empire, and the seat of the Peshwas, the prime ministers of the Maratha Empire. Many historical landmarks like Pataleshwar caves, Shaniwarwada, Shinde Chhatri, and Vishrambaug Wada date to this era. Historical sites from different eras dot the city.\\n', '\\n', \"Pune has historically been a major cultural centre, with important figures like Dnyaneshwar, Shivaji, Tukaram, Baji Rao I, Balaji Baji Rao, Madhavrao I, Nana Fadnavis, Mahadev Govind Ranade, Gopal Krishna Gokhale, Mahatma Jyotirao Phule, Savitribai Phule, Gopal Ganesh Agarkar, Tarabai Shinde, Dhondo Keshav Karve, and Pandita Ramabai doing their life's work in Pune City or in an area that falls in Pune Metropolitan Region. Pune was a major centre of resistance to British Raj, with people like Gopal Krishna Gokhale, Bal Gangadhar Tilak and Vinayak Damodar Savarkar playing leading roles in struggle for Indian independence in their times.\"]\n"
     ]
    }
   ],
   "source": [
    "with open('pune.txt', 'r') as f:\n",
    "    content = f.readlines()\n",
    "    print(content)"
   ]
  },
  {
   "cell_type": "code",
   "execution_count": 17,
   "id": "ffee77f1-fcb5-40bc-84eb-5eeb439b3b62",
   "metadata": {},
   "outputs": [
    {
     "name": "stdout",
     "output_type": "stream",
     "text": [
      "['this is 1st line\\n', 'this is 2nd line\\n', 'this is 3rd line\\n', 'this is 4rth line']\n"
     ]
    }
   ],
   "source": [
    "with open('sample.txt', 'r') as f:\n",
    "    content = f.readlines()\n",
    "    print(content)"
   ]
  },
  {
   "cell_type": "code",
   "execution_count": 20,
   "id": "e7c8c0a4-b8c6-4ce8-a663-7c2947843f10",
   "metadata": {},
   "outputs": [
    {
     "name": "stdout",
     "output_type": "stream",
     "text": [
      "this is 1st line\n",
      "\n"
     ]
    }
   ],
   "source": [
    "with open('sample.txt', 'r') as f:\n",
    "    content = f.readline()\n",
    "    print(content)"
   ]
  },
  {
   "cell_type": "code",
   "execution_count": 27,
   "id": "56d113ea-6e53-400d-98ef-33a4ac32e1d7",
   "metadata": {},
   "outputs": [
    {
     "name": "stdout",
     "output_type": "stream",
     "text": [
      "this is 1st line\n",
      "this is 2nd line\n",
      "\n"
     ]
    }
   ],
   "source": [
    "with open('sample.txt', 'r') as f:\n",
    "    content = f.readline()\n",
    "    print(content, end = '')\n",
    "\n",
    "    content = f.readline()\n",
    "    print(content)"
   ]
  },
  {
   "cell_type": "code",
   "execution_count": 31,
   "id": "06d6db4d-66cb-4d95-879a-03a564544614",
   "metadata": {},
   "outputs": [
    {
     "name": "stdout",
     "output_type": "stream",
     "text": [
      "this is 1st line\n",
      "this is 2nd line\n",
      "this is 3rd line\n",
      "this is 4rth line"
     ]
    }
   ],
   "source": [
    "with open('sample.txt', 'r') as f:\n",
    "    for line in f:\n",
    "        print(line, end = '')"
   ]
  },
  {
   "cell_type": "code",
   "execution_count": 32,
   "id": "d308f7d6-2823-4fcc-898a-d3a5cea7caa6",
   "metadata": {},
   "outputs": [
    {
     "name": "stdout",
     "output_type": "stream",
     "text": [
      "thi\n"
     ]
    }
   ],
   "source": [
    "# read the 3 character\n",
    "\n",
    "with open('sample.txt', 'r') as f:\n",
    "    content = f.read(3)\n",
    "    print(content)"
   ]
  },
  {
   "cell_type": "code",
   "execution_count": 37,
   "id": "d9315eb0-1794-4101-a796-cea710b262fa",
   "metadata": {},
   "outputs": [
    {
     "name": "stdout",
     "output_type": "stream",
     "text": [
      "this *is 1s*t lin*e\n",
      "thi*s is *2nd l*ine\n",
      "t*his i*s 3rd* line*\n",
      "this* is 4*rth l*ine*"
     ]
    }
   ],
   "source": [
    "# use loop to read entire file... 5 character at a time\n",
    "\n",
    "with open('sample.txt', 'r') as f:\n",
    "    size = 5\n",
    "\n",
    "    content = f.read(size)\n",
    "    while len(content)>0:\n",
    "        print(content , end='*')\n",
    "        content = f.read(size)"
   ]
  },
  {
   "cell_type": "code",
   "execution_count": 39,
   "id": "db503bb0-965d-4814-9f16-f5eb98daa912",
   "metadata": {},
   "outputs": [
    {
     "name": "stdout",
     "output_type": "stream",
     "text": [
      "this \n",
      "this \n"
     ]
    }
   ],
   "source": [
    "with open('sample.txt', 'r') as f:\n",
    "    size = 5\n",
    "\n",
    "    content = f.read(size)\n",
    "    print(content)\n",
    "\n",
    "    f.seek(0)      #will start from the beginning\n",
    "\n",
    "    content = f.read(size)\n",
    "    print(content)"
   ]
  },
  {
   "cell_type": "markdown",
   "id": "185be330-0229-4c6f-b716-0973fe03e6a1",
   "metadata": {},
   "source": [
    "### Write"
   ]
  },
  {
   "cell_type": "code",
   "execution_count": 40,
   "id": "511ab213-1ad0-4511-afa4-16916aeee6b7",
   "metadata": {},
   "outputs": [],
   "source": [
    "with open('write.txt','w')as w:\n",
    "    pass"
   ]
  },
  {
   "cell_type": "code",
   "execution_count": 42,
   "id": "96bdfbd3-685f-41bf-bbe9-dc8b4d412f79",
   "metadata": {},
   "outputs": [],
   "source": [
    "with open('write.txt','w')as w:\n",
    "    w.write('My name is Sharvari')"
   ]
  },
  {
   "cell_type": "code",
   "execution_count": 44,
   "id": "b0b72a4a-25a1-45b1-b136-98394b1d113f",
   "metadata": {},
   "outputs": [],
   "source": [
    "with open('write.txt','w')as w:\n",
    "    w.write('My name is Sharvari')\n",
    "    w.write('I am living in Pune')"
   ]
  },
  {
   "cell_type": "code",
   "execution_count": 47,
   "id": "970d8dd4-20f0-45c1-9079-42edd370addc",
   "metadata": {},
   "outputs": [],
   "source": [
    "with open ('write.txt','w') as w:\n",
    "    w.write('my name is sharvari')\n",
    "    w.seek(0)\n",
    "    w.write('SSSSSS')"
   ]
  },
  {
   "cell_type": "code",
   "execution_count": 48,
   "id": "4d62f123-6def-4738-b5aa-c39030e67bfb",
   "metadata": {},
   "outputs": [],
   "source": [
    "#create a new file which will be the copy of pune.txt\n",
    "\n",
    "with open('pune.txt','r') as rf:\n",
    "    with open('pune_copy.txt', 'w') as w:\n",
    "        for line in rf:\n",
    "          w.write(line)"
   ]
  },
  {
   "cell_type": "code",
   "execution_count": 52,
   "id": "07f3752f-67a5-42ab-a2a3-7613f1d90b81",
   "metadata": {},
   "outputs": [
    {
     "ename": "SyntaxError",
     "evalue": "(unicode error) 'unicodeescape' codec can't decode bytes in position 2-3: truncated \\UXXXXXXXX escape (848074542.py, line 3)",
     "output_type": "error",
     "traceback": [
      "\u001b[1;36m  Cell \u001b[1;32mIn[52], line 3\u001b[1;36m\u001b[0m\n\u001b[1;33m    with open('C:\\Users\\Dell\\OneDrive\\Pictures\\13.jpg','rb') as f:\u001b[0m\n\u001b[1;37m                                                      ^\u001b[0m\n\u001b[1;31mSyntaxError\u001b[0m\u001b[1;31m:\u001b[0m (unicode error) 'unicodeescape' codec can't decode bytes in position 2-3: truncated \\UXXXXXXXX escape\n"
     ]
    }
   ],
   "source": [
    "# image\n",
    "\n",
    "with open('C:\\Users\\Dell\\OneDrive\\Pictures\\13.jpg','rb') as f:\n",
    "   with open('wall_copy', 'wb') as w:\n",
    "    for line in f:\n",
    "        w.write(line)"
   ]
  }
 ],
 "metadata": {
  "kernelspec": {
   "display_name": "Python 3 (ipykernel)",
   "language": "python",
   "name": "python3"
  },
  "language_info": {
   "codemirror_mode": {
    "name": "ipython",
    "version": 3
   },
   "file_extension": ".py",
   "mimetype": "text/x-python",
   "name": "python",
   "nbconvert_exporter": "python",
   "pygments_lexer": "ipython3",
   "version": "3.11.7"
  }
 },
 "nbformat": 4,
 "nbformat_minor": 5
}
