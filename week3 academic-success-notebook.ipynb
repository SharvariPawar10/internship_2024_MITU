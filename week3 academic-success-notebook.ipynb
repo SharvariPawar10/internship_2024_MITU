{
 "cells": [
  {
   "cell_type": "code",
   "execution_count": 1,
   "id": "6d3ef58b",
   "metadata": {
    "_cell_guid": "b1076dfc-b9ad-4769-8c92-a6c4dae69d19",
    "_uuid": "8f2839f25d086af736a60e9eeb907d3b93b6e0e5",
    "execution": {
     "iopub.execute_input": "2024-06-24T19:07:58.349796Z",
     "iopub.status.busy": "2024-06-24T19:07:58.349349Z",
     "iopub.status.idle": "2024-06-24T19:07:59.242366Z",
     "shell.execute_reply": "2024-06-24T19:07:59.241075Z"
    },
    "papermill": {
     "duration": 0.916979,
     "end_time": "2024-06-24T19:07:59.245102",
     "exception": false,
     "start_time": "2024-06-24T19:07:58.328123",
     "status": "completed"
    },
    "tags": []
   },
   "outputs": [
    {
     "name": "stdout",
     "output_type": "stream",
     "text": [
      "/kaggle/input/playgrounds4e06originaldata/original.csv\n"
     ]
    }
   ],
   "source": [
    "# This Python 3 environment comes with many helpful analytics libraries installed\n",
    "# It is defined by the kaggle/python Docker image: https://github.com/kaggle/docker-python\n",
    "# For example, here's several helpful packages to load\n",
    "\n",
    "import numpy as np # linear algebra\n",
    "import pandas as pd # data processing, CSV file I/O (e.g. pd.read_csv)\n",
    "\n",
    "# Input data files are available in the read-only \"../input/\" directory\n",
    "# For example, running this (by clicking run or pressing Shift+Enter) will list all files under the input directory\n",
    "\n",
    "import os\n",
    "for dirname, _, filenames in os.walk('/kaggle/input'):\n",
    "    for filename in filenames:\n",
    "        print(os.path.join(dirname, filename))\n",
    "\n",
    "# You can write up to 20GB to the current directory (/kaggle/working/) that gets preserved as output when you create a version using \"Save & Run All\" \n",
    "# You can also write temporary files to /kaggle/temp/, but they won't be saved outside of the current session"
   ]
  },
  {
   "cell_type": "code",
   "execution_count": 2,
   "id": "92aec419",
   "metadata": {
    "execution": {
     "iopub.execute_input": "2024-06-24T19:07:59.283350Z",
     "iopub.status.busy": "2024-06-24T19:07:59.282803Z",
     "iopub.status.idle": "2024-06-24T19:08:00.627885Z",
     "shell.execute_reply": "2024-06-24T19:08:00.626798Z"
    },
    "papermill": {
     "duration": 1.367493,
     "end_time": "2024-06-24T19:08:00.630826",
     "exception": false,
     "start_time": "2024-06-24T19:07:59.263333",
     "status": "completed"
    },
    "tags": []
   },
   "outputs": [],
   "source": [
    "import pandas as pd\n",
    "import numpy as np\n",
    "import matplotlib.pyplot as plt\n",
    "import seaborn as sns"
   ]
  },
  {
   "cell_type": "code",
   "execution_count": 3,
   "id": "792c1a48",
   "metadata": {
    "execution": {
     "iopub.execute_input": "2024-06-24T19:08:00.668997Z",
     "iopub.status.busy": "2024-06-24T19:08:00.668623Z",
     "iopub.status.idle": "2024-06-24T19:08:00.718918Z",
     "shell.execute_reply": "2024-06-24T19:08:00.717698Z"
    },
    "papermill": {
     "duration": 0.072549,
     "end_time": "2024-06-24T19:08:00.721804",
     "exception": false,
     "start_time": "2024-06-24T19:08:00.649255",
     "status": "completed"
    },
    "tags": []
   },
   "outputs": [],
   "source": [
    "df = pd.read_csv('/kaggle/input/playgrounds4e06originaldata/original.csv')"
   ]
  },
  {
   "cell_type": "code",
   "execution_count": 4,
   "id": "1479fc9a",
   "metadata": {
    "execution": {
     "iopub.execute_input": "2024-06-24T19:08:00.759901Z",
     "iopub.status.busy": "2024-06-24T19:08:00.759541Z",
     "iopub.status.idle": "2024-06-24T19:08:00.811176Z",
     "shell.execute_reply": "2024-06-24T19:08:00.810046Z"
    },
    "papermill": {
     "duration": 0.073527,
     "end_time": "2024-06-24T19:08:00.813623",
     "exception": false,
     "start_time": "2024-06-24T19:08:00.740096",
     "status": "completed"
    },
    "tags": []
   },
   "outputs": [
    {
     "data": {
      "text/html": [
       "<div>\n",
       "<style scoped>\n",
       "    .dataframe tbody tr th:only-of-type {\n",
       "        vertical-align: middle;\n",
       "    }\n",
       "\n",
       "    .dataframe tbody tr th {\n",
       "        vertical-align: top;\n",
       "    }\n",
       "\n",
       "    .dataframe thead th {\n",
       "        text-align: right;\n",
       "    }\n",
       "</style>\n",
       "<table border=\"1\" class=\"dataframe\">\n",
       "  <thead>\n",
       "    <tr style=\"text-align: right;\">\n",
       "      <th></th>\n",
       "      <th>id</th>\n",
       "      <th>Marital status</th>\n",
       "      <th>Application mode</th>\n",
       "      <th>Application order</th>\n",
       "      <th>Course</th>\n",
       "      <th>Daytime/evening attendance\\t</th>\n",
       "      <th>Previous qualification</th>\n",
       "      <th>Previous qualification (grade)</th>\n",
       "      <th>Nacionality</th>\n",
       "      <th>Mother's qualification</th>\n",
       "      <th>...</th>\n",
       "      <th>Curricular units 2nd sem (credited)</th>\n",
       "      <th>Curricular units 2nd sem (enrolled)</th>\n",
       "      <th>Curricular units 2nd sem (evaluations)</th>\n",
       "      <th>Curricular units 2nd sem (approved)</th>\n",
       "      <th>Curricular units 2nd sem (grade)</th>\n",
       "      <th>Curricular units 2nd sem (without evaluations)</th>\n",
       "      <th>Unemployment rate</th>\n",
       "      <th>Inflation rate</th>\n",
       "      <th>GDP</th>\n",
       "      <th>Target</th>\n",
       "    </tr>\n",
       "  </thead>\n",
       "  <tbody>\n",
       "    <tr>\n",
       "      <th>0</th>\n",
       "      <td>1</td>\n",
       "      <td>1</td>\n",
       "      <td>17</td>\n",
       "      <td>5</td>\n",
       "      <td>171</td>\n",
       "      <td>1</td>\n",
       "      <td>1</td>\n",
       "      <td>122.0</td>\n",
       "      <td>1</td>\n",
       "      <td>19</td>\n",
       "      <td>...</td>\n",
       "      <td>0</td>\n",
       "      <td>0</td>\n",
       "      <td>0</td>\n",
       "      <td>0</td>\n",
       "      <td>0.000000</td>\n",
       "      <td>0</td>\n",
       "      <td>10.8</td>\n",
       "      <td>1.4</td>\n",
       "      <td>1.74</td>\n",
       "      <td>Dropout</td>\n",
       "    </tr>\n",
       "    <tr>\n",
       "      <th>1</th>\n",
       "      <td>2</td>\n",
       "      <td>1</td>\n",
       "      <td>15</td>\n",
       "      <td>1</td>\n",
       "      <td>9254</td>\n",
       "      <td>1</td>\n",
       "      <td>1</td>\n",
       "      <td>160.0</td>\n",
       "      <td>1</td>\n",
       "      <td>1</td>\n",
       "      <td>...</td>\n",
       "      <td>0</td>\n",
       "      <td>6</td>\n",
       "      <td>6</td>\n",
       "      <td>6</td>\n",
       "      <td>13.666667</td>\n",
       "      <td>0</td>\n",
       "      <td>13.9</td>\n",
       "      <td>-0.3</td>\n",
       "      <td>0.79</td>\n",
       "      <td>Graduate</td>\n",
       "    </tr>\n",
       "    <tr>\n",
       "      <th>2</th>\n",
       "      <td>3</td>\n",
       "      <td>1</td>\n",
       "      <td>1</td>\n",
       "      <td>5</td>\n",
       "      <td>9070</td>\n",
       "      <td>1</td>\n",
       "      <td>1</td>\n",
       "      <td>122.0</td>\n",
       "      <td>1</td>\n",
       "      <td>37</td>\n",
       "      <td>...</td>\n",
       "      <td>0</td>\n",
       "      <td>6</td>\n",
       "      <td>0</td>\n",
       "      <td>0</td>\n",
       "      <td>0.000000</td>\n",
       "      <td>0</td>\n",
       "      <td>10.8</td>\n",
       "      <td>1.4</td>\n",
       "      <td>1.74</td>\n",
       "      <td>Dropout</td>\n",
       "    </tr>\n",
       "    <tr>\n",
       "      <th>3</th>\n",
       "      <td>4</td>\n",
       "      <td>1</td>\n",
       "      <td>17</td>\n",
       "      <td>2</td>\n",
       "      <td>9773</td>\n",
       "      <td>1</td>\n",
       "      <td>1</td>\n",
       "      <td>122.0</td>\n",
       "      <td>1</td>\n",
       "      <td>38</td>\n",
       "      <td>...</td>\n",
       "      <td>0</td>\n",
       "      <td>6</td>\n",
       "      <td>10</td>\n",
       "      <td>5</td>\n",
       "      <td>12.400000</td>\n",
       "      <td>0</td>\n",
       "      <td>9.4</td>\n",
       "      <td>-0.8</td>\n",
       "      <td>-3.12</td>\n",
       "      <td>Graduate</td>\n",
       "    </tr>\n",
       "    <tr>\n",
       "      <th>4</th>\n",
       "      <td>5</td>\n",
       "      <td>2</td>\n",
       "      <td>39</td>\n",
       "      <td>1</td>\n",
       "      <td>8014</td>\n",
       "      <td>0</td>\n",
       "      <td>1</td>\n",
       "      <td>100.0</td>\n",
       "      <td>1</td>\n",
       "      <td>37</td>\n",
       "      <td>...</td>\n",
       "      <td>0</td>\n",
       "      <td>6</td>\n",
       "      <td>6</td>\n",
       "      <td>6</td>\n",
       "      <td>13.000000</td>\n",
       "      <td>0</td>\n",
       "      <td>13.9</td>\n",
       "      <td>-0.3</td>\n",
       "      <td>0.79</td>\n",
       "      <td>Graduate</td>\n",
       "    </tr>\n",
       "    <tr>\n",
       "      <th>...</th>\n",
       "      <td>...</td>\n",
       "      <td>...</td>\n",
       "      <td>...</td>\n",
       "      <td>...</td>\n",
       "      <td>...</td>\n",
       "      <td>...</td>\n",
       "      <td>...</td>\n",
       "      <td>...</td>\n",
       "      <td>...</td>\n",
       "      <td>...</td>\n",
       "      <td>...</td>\n",
       "      <td>...</td>\n",
       "      <td>...</td>\n",
       "      <td>...</td>\n",
       "      <td>...</td>\n",
       "      <td>...</td>\n",
       "      <td>...</td>\n",
       "      <td>...</td>\n",
       "      <td>...</td>\n",
       "      <td>...</td>\n",
       "      <td>...</td>\n",
       "    </tr>\n",
       "    <tr>\n",
       "      <th>4419</th>\n",
       "      <td>4420</td>\n",
       "      <td>1</td>\n",
       "      <td>1</td>\n",
       "      <td>6</td>\n",
       "      <td>9773</td>\n",
       "      <td>1</td>\n",
       "      <td>1</td>\n",
       "      <td>125.0</td>\n",
       "      <td>1</td>\n",
       "      <td>1</td>\n",
       "      <td>...</td>\n",
       "      <td>0</td>\n",
       "      <td>6</td>\n",
       "      <td>8</td>\n",
       "      <td>5</td>\n",
       "      <td>12.666667</td>\n",
       "      <td>0</td>\n",
       "      <td>15.5</td>\n",
       "      <td>2.8</td>\n",
       "      <td>-4.06</td>\n",
       "      <td>Graduate</td>\n",
       "    </tr>\n",
       "    <tr>\n",
       "      <th>4420</th>\n",
       "      <td>4421</td>\n",
       "      <td>1</td>\n",
       "      <td>1</td>\n",
       "      <td>2</td>\n",
       "      <td>9773</td>\n",
       "      <td>1</td>\n",
       "      <td>1</td>\n",
       "      <td>120.0</td>\n",
       "      <td>105</td>\n",
       "      <td>1</td>\n",
       "      <td>...</td>\n",
       "      <td>0</td>\n",
       "      <td>6</td>\n",
       "      <td>6</td>\n",
       "      <td>2</td>\n",
       "      <td>11.000000</td>\n",
       "      <td>0</td>\n",
       "      <td>11.1</td>\n",
       "      <td>0.6</td>\n",
       "      <td>2.02</td>\n",
       "      <td>Dropout</td>\n",
       "    </tr>\n",
       "    <tr>\n",
       "      <th>4421</th>\n",
       "      <td>4422</td>\n",
       "      <td>1</td>\n",
       "      <td>1</td>\n",
       "      <td>1</td>\n",
       "      <td>9500</td>\n",
       "      <td>1</td>\n",
       "      <td>1</td>\n",
       "      <td>154.0</td>\n",
       "      <td>1</td>\n",
       "      <td>37</td>\n",
       "      <td>...</td>\n",
       "      <td>0</td>\n",
       "      <td>8</td>\n",
       "      <td>9</td>\n",
       "      <td>1</td>\n",
       "      <td>13.500000</td>\n",
       "      <td>0</td>\n",
       "      <td>13.9</td>\n",
       "      <td>-0.3</td>\n",
       "      <td>0.79</td>\n",
       "      <td>Dropout</td>\n",
       "    </tr>\n",
       "    <tr>\n",
       "      <th>4422</th>\n",
       "      <td>4423</td>\n",
       "      <td>1</td>\n",
       "      <td>1</td>\n",
       "      <td>1</td>\n",
       "      <td>9147</td>\n",
       "      <td>1</td>\n",
       "      <td>1</td>\n",
       "      <td>180.0</td>\n",
       "      <td>1</td>\n",
       "      <td>37</td>\n",
       "      <td>...</td>\n",
       "      <td>0</td>\n",
       "      <td>5</td>\n",
       "      <td>6</td>\n",
       "      <td>5</td>\n",
       "      <td>12.000000</td>\n",
       "      <td>0</td>\n",
       "      <td>9.4</td>\n",
       "      <td>-0.8</td>\n",
       "      <td>-3.12</td>\n",
       "      <td>Graduate</td>\n",
       "    </tr>\n",
       "    <tr>\n",
       "      <th>4423</th>\n",
       "      <td>4424</td>\n",
       "      <td>1</td>\n",
       "      <td>10</td>\n",
       "      <td>1</td>\n",
       "      <td>9773</td>\n",
       "      <td>1</td>\n",
       "      <td>1</td>\n",
       "      <td>152.0</td>\n",
       "      <td>22</td>\n",
       "      <td>38</td>\n",
       "      <td>...</td>\n",
       "      <td>0</td>\n",
       "      <td>6</td>\n",
       "      <td>6</td>\n",
       "      <td>6</td>\n",
       "      <td>13.000000</td>\n",
       "      <td>0</td>\n",
       "      <td>12.7</td>\n",
       "      <td>3.7</td>\n",
       "      <td>-1.70</td>\n",
       "      <td>Graduate</td>\n",
       "    </tr>\n",
       "  </tbody>\n",
       "</table>\n",
       "<p>4424 rows × 38 columns</p>\n",
       "</div>"
      ],
      "text/plain": [
       "        id  Marital status  Application mode  Application order  Course  \\\n",
       "0        1               1                17                  5     171   \n",
       "1        2               1                15                  1    9254   \n",
       "2        3               1                 1                  5    9070   \n",
       "3        4               1                17                  2    9773   \n",
       "4        5               2                39                  1    8014   \n",
       "...    ...             ...               ...                ...     ...   \n",
       "4419  4420               1                 1                  6    9773   \n",
       "4420  4421               1                 1                  2    9773   \n",
       "4421  4422               1                 1                  1    9500   \n",
       "4422  4423               1                 1                  1    9147   \n",
       "4423  4424               1                10                  1    9773   \n",
       "\n",
       "      Daytime/evening attendance\\t  Previous qualification  \\\n",
       "0                                1                       1   \n",
       "1                                1                       1   \n",
       "2                                1                       1   \n",
       "3                                1                       1   \n",
       "4                                0                       1   \n",
       "...                            ...                     ...   \n",
       "4419                             1                       1   \n",
       "4420                             1                       1   \n",
       "4421                             1                       1   \n",
       "4422                             1                       1   \n",
       "4423                             1                       1   \n",
       "\n",
       "      Previous qualification (grade)  Nacionality  Mother's qualification  \\\n",
       "0                              122.0            1                      19   \n",
       "1                              160.0            1                       1   \n",
       "2                              122.0            1                      37   \n",
       "3                              122.0            1                      38   \n",
       "4                              100.0            1                      37   \n",
       "...                              ...          ...                     ...   \n",
       "4419                           125.0            1                       1   \n",
       "4420                           120.0          105                       1   \n",
       "4421                           154.0            1                      37   \n",
       "4422                           180.0            1                      37   \n",
       "4423                           152.0           22                      38   \n",
       "\n",
       "      ...  Curricular units 2nd sem (credited)  \\\n",
       "0     ...                                    0   \n",
       "1     ...                                    0   \n",
       "2     ...                                    0   \n",
       "3     ...                                    0   \n",
       "4     ...                                    0   \n",
       "...   ...                                  ...   \n",
       "4419  ...                                    0   \n",
       "4420  ...                                    0   \n",
       "4421  ...                                    0   \n",
       "4422  ...                                    0   \n",
       "4423  ...                                    0   \n",
       "\n",
       "      Curricular units 2nd sem (enrolled)  \\\n",
       "0                                       0   \n",
       "1                                       6   \n",
       "2                                       6   \n",
       "3                                       6   \n",
       "4                                       6   \n",
       "...                                   ...   \n",
       "4419                                    6   \n",
       "4420                                    6   \n",
       "4421                                    8   \n",
       "4422                                    5   \n",
       "4423                                    6   \n",
       "\n",
       "      Curricular units 2nd sem (evaluations)  \\\n",
       "0                                          0   \n",
       "1                                          6   \n",
       "2                                          0   \n",
       "3                                         10   \n",
       "4                                          6   \n",
       "...                                      ...   \n",
       "4419                                       8   \n",
       "4420                                       6   \n",
       "4421                                       9   \n",
       "4422                                       6   \n",
       "4423                                       6   \n",
       "\n",
       "      Curricular units 2nd sem (approved)  Curricular units 2nd sem (grade)  \\\n",
       "0                                       0                          0.000000   \n",
       "1                                       6                         13.666667   \n",
       "2                                       0                          0.000000   \n",
       "3                                       5                         12.400000   \n",
       "4                                       6                         13.000000   \n",
       "...                                   ...                               ...   \n",
       "4419                                    5                         12.666667   \n",
       "4420                                    2                         11.000000   \n",
       "4421                                    1                         13.500000   \n",
       "4422                                    5                         12.000000   \n",
       "4423                                    6                         13.000000   \n",
       "\n",
       "      Curricular units 2nd sem (without evaluations)  Unemployment rate  \\\n",
       "0                                                  0               10.8   \n",
       "1                                                  0               13.9   \n",
       "2                                                  0               10.8   \n",
       "3                                                  0                9.4   \n",
       "4                                                  0               13.9   \n",
       "...                                              ...                ...   \n",
       "4419                                               0               15.5   \n",
       "4420                                               0               11.1   \n",
       "4421                                               0               13.9   \n",
       "4422                                               0                9.4   \n",
       "4423                                               0               12.7   \n",
       "\n",
       "      Inflation rate   GDP    Target  \n",
       "0                1.4  1.74   Dropout  \n",
       "1               -0.3  0.79  Graduate  \n",
       "2                1.4  1.74   Dropout  \n",
       "3               -0.8 -3.12  Graduate  \n",
       "4               -0.3  0.79  Graduate  \n",
       "...              ...   ...       ...  \n",
       "4419             2.8 -4.06  Graduate  \n",
       "4420             0.6  2.02   Dropout  \n",
       "4421            -0.3  0.79   Dropout  \n",
       "4422            -0.8 -3.12  Graduate  \n",
       "4423             3.7 -1.70  Graduate  \n",
       "\n",
       "[4424 rows x 38 columns]"
      ]
     },
     "execution_count": 4,
     "metadata": {},
     "output_type": "execute_result"
    }
   ],
   "source": [
    "df"
   ]
  },
  {
   "cell_type": "code",
   "execution_count": 5,
   "id": "1919f1de",
   "metadata": {
    "execution": {
     "iopub.execute_input": "2024-06-24T19:08:00.854470Z",
     "iopub.status.busy": "2024-06-24T19:08:00.853330Z",
     "iopub.status.idle": "2024-06-24T19:08:00.878467Z",
     "shell.execute_reply": "2024-06-24T19:08:00.877200Z"
    },
    "papermill": {
     "duration": 0.047772,
     "end_time": "2024-06-24T19:08:00.880923",
     "exception": false,
     "start_time": "2024-06-24T19:08:00.833151",
     "status": "completed"
    },
    "tags": []
   },
   "outputs": [
    {
     "data": {
      "text/html": [
       "<div>\n",
       "<style scoped>\n",
       "    .dataframe tbody tr th:only-of-type {\n",
       "        vertical-align: middle;\n",
       "    }\n",
       "\n",
       "    .dataframe tbody tr th {\n",
       "        vertical-align: top;\n",
       "    }\n",
       "\n",
       "    .dataframe thead th {\n",
       "        text-align: right;\n",
       "    }\n",
       "</style>\n",
       "<table border=\"1\" class=\"dataframe\">\n",
       "  <thead>\n",
       "    <tr style=\"text-align: right;\">\n",
       "      <th></th>\n",
       "      <th>id</th>\n",
       "      <th>Marital status</th>\n",
       "      <th>Application mode</th>\n",
       "      <th>Application order</th>\n",
       "      <th>Course</th>\n",
       "      <th>Daytime/evening attendance\\t</th>\n",
       "      <th>Previous qualification</th>\n",
       "      <th>Previous qualification (grade)</th>\n",
       "      <th>Nacionality</th>\n",
       "      <th>Mother's qualification</th>\n",
       "      <th>...</th>\n",
       "      <th>Curricular units 2nd sem (credited)</th>\n",
       "      <th>Curricular units 2nd sem (enrolled)</th>\n",
       "      <th>Curricular units 2nd sem (evaluations)</th>\n",
       "      <th>Curricular units 2nd sem (approved)</th>\n",
       "      <th>Curricular units 2nd sem (grade)</th>\n",
       "      <th>Curricular units 2nd sem (without evaluations)</th>\n",
       "      <th>Unemployment rate</th>\n",
       "      <th>Inflation rate</th>\n",
       "      <th>GDP</th>\n",
       "      <th>Target</th>\n",
       "    </tr>\n",
       "  </thead>\n",
       "  <tbody>\n",
       "    <tr>\n",
       "      <th>0</th>\n",
       "      <td>1</td>\n",
       "      <td>1</td>\n",
       "      <td>17</td>\n",
       "      <td>5</td>\n",
       "      <td>171</td>\n",
       "      <td>1</td>\n",
       "      <td>1</td>\n",
       "      <td>122.0</td>\n",
       "      <td>1</td>\n",
       "      <td>19</td>\n",
       "      <td>...</td>\n",
       "      <td>0</td>\n",
       "      <td>0</td>\n",
       "      <td>0</td>\n",
       "      <td>0</td>\n",
       "      <td>0.000000</td>\n",
       "      <td>0</td>\n",
       "      <td>10.8</td>\n",
       "      <td>1.4</td>\n",
       "      <td>1.74</td>\n",
       "      <td>Dropout</td>\n",
       "    </tr>\n",
       "    <tr>\n",
       "      <th>1</th>\n",
       "      <td>2</td>\n",
       "      <td>1</td>\n",
       "      <td>15</td>\n",
       "      <td>1</td>\n",
       "      <td>9254</td>\n",
       "      <td>1</td>\n",
       "      <td>1</td>\n",
       "      <td>160.0</td>\n",
       "      <td>1</td>\n",
       "      <td>1</td>\n",
       "      <td>...</td>\n",
       "      <td>0</td>\n",
       "      <td>6</td>\n",
       "      <td>6</td>\n",
       "      <td>6</td>\n",
       "      <td>13.666667</td>\n",
       "      <td>0</td>\n",
       "      <td>13.9</td>\n",
       "      <td>-0.3</td>\n",
       "      <td>0.79</td>\n",
       "      <td>Graduate</td>\n",
       "    </tr>\n",
       "    <tr>\n",
       "      <th>2</th>\n",
       "      <td>3</td>\n",
       "      <td>1</td>\n",
       "      <td>1</td>\n",
       "      <td>5</td>\n",
       "      <td>9070</td>\n",
       "      <td>1</td>\n",
       "      <td>1</td>\n",
       "      <td>122.0</td>\n",
       "      <td>1</td>\n",
       "      <td>37</td>\n",
       "      <td>...</td>\n",
       "      <td>0</td>\n",
       "      <td>6</td>\n",
       "      <td>0</td>\n",
       "      <td>0</td>\n",
       "      <td>0.000000</td>\n",
       "      <td>0</td>\n",
       "      <td>10.8</td>\n",
       "      <td>1.4</td>\n",
       "      <td>1.74</td>\n",
       "      <td>Dropout</td>\n",
       "    </tr>\n",
       "    <tr>\n",
       "      <th>3</th>\n",
       "      <td>4</td>\n",
       "      <td>1</td>\n",
       "      <td>17</td>\n",
       "      <td>2</td>\n",
       "      <td>9773</td>\n",
       "      <td>1</td>\n",
       "      <td>1</td>\n",
       "      <td>122.0</td>\n",
       "      <td>1</td>\n",
       "      <td>38</td>\n",
       "      <td>...</td>\n",
       "      <td>0</td>\n",
       "      <td>6</td>\n",
       "      <td>10</td>\n",
       "      <td>5</td>\n",
       "      <td>12.400000</td>\n",
       "      <td>0</td>\n",
       "      <td>9.4</td>\n",
       "      <td>-0.8</td>\n",
       "      <td>-3.12</td>\n",
       "      <td>Graduate</td>\n",
       "    </tr>\n",
       "    <tr>\n",
       "      <th>4</th>\n",
       "      <td>5</td>\n",
       "      <td>2</td>\n",
       "      <td>39</td>\n",
       "      <td>1</td>\n",
       "      <td>8014</td>\n",
       "      <td>0</td>\n",
       "      <td>1</td>\n",
       "      <td>100.0</td>\n",
       "      <td>1</td>\n",
       "      <td>37</td>\n",
       "      <td>...</td>\n",
       "      <td>0</td>\n",
       "      <td>6</td>\n",
       "      <td>6</td>\n",
       "      <td>6</td>\n",
       "      <td>13.000000</td>\n",
       "      <td>0</td>\n",
       "      <td>13.9</td>\n",
       "      <td>-0.3</td>\n",
       "      <td>0.79</td>\n",
       "      <td>Graduate</td>\n",
       "    </tr>\n",
       "  </tbody>\n",
       "</table>\n",
       "<p>5 rows × 38 columns</p>\n",
       "</div>"
      ],
      "text/plain": [
       "   id  Marital status  Application mode  Application order  Course  \\\n",
       "0   1               1                17                  5     171   \n",
       "1   2               1                15                  1    9254   \n",
       "2   3               1                 1                  5    9070   \n",
       "3   4               1                17                  2    9773   \n",
       "4   5               2                39                  1    8014   \n",
       "\n",
       "   Daytime/evening attendance\\t  Previous qualification  \\\n",
       "0                             1                       1   \n",
       "1                             1                       1   \n",
       "2                             1                       1   \n",
       "3                             1                       1   \n",
       "4                             0                       1   \n",
       "\n",
       "   Previous qualification (grade)  Nacionality  Mother's qualification  ...  \\\n",
       "0                           122.0            1                      19  ...   \n",
       "1                           160.0            1                       1  ...   \n",
       "2                           122.0            1                      37  ...   \n",
       "3                           122.0            1                      38  ...   \n",
       "4                           100.0            1                      37  ...   \n",
       "\n",
       "   Curricular units 2nd sem (credited)  Curricular units 2nd sem (enrolled)  \\\n",
       "0                                    0                                    0   \n",
       "1                                    0                                    6   \n",
       "2                                    0                                    6   \n",
       "3                                    0                                    6   \n",
       "4                                    0                                    6   \n",
       "\n",
       "   Curricular units 2nd sem (evaluations)  \\\n",
       "0                                       0   \n",
       "1                                       6   \n",
       "2                                       0   \n",
       "3                                      10   \n",
       "4                                       6   \n",
       "\n",
       "   Curricular units 2nd sem (approved)  Curricular units 2nd sem (grade)  \\\n",
       "0                                    0                          0.000000   \n",
       "1                                    6                         13.666667   \n",
       "2                                    0                          0.000000   \n",
       "3                                    5                         12.400000   \n",
       "4                                    6                         13.000000   \n",
       "\n",
       "   Curricular units 2nd sem (without evaluations)  Unemployment rate  \\\n",
       "0                                               0               10.8   \n",
       "1                                               0               13.9   \n",
       "2                                               0               10.8   \n",
       "3                                               0                9.4   \n",
       "4                                               0               13.9   \n",
       "\n",
       "   Inflation rate   GDP    Target  \n",
       "0             1.4  1.74   Dropout  \n",
       "1            -0.3  0.79  Graduate  \n",
       "2             1.4  1.74   Dropout  \n",
       "3            -0.8 -3.12  Graduate  \n",
       "4            -0.3  0.79  Graduate  \n",
       "\n",
       "[5 rows x 38 columns]"
      ]
     },
     "execution_count": 5,
     "metadata": {},
     "output_type": "execute_result"
    }
   ],
   "source": [
    "df.head()"
   ]
  },
  {
   "cell_type": "code",
   "execution_count": 6,
   "id": "f395fe74",
   "metadata": {
    "execution": {
     "iopub.execute_input": "2024-06-24T19:08:00.921862Z",
     "iopub.status.busy": "2024-06-24T19:08:00.921038Z",
     "iopub.status.idle": "2024-06-24T19:08:00.944780Z",
     "shell.execute_reply": "2024-06-24T19:08:00.943733Z"
    },
    "papermill": {
     "duration": 0.047129,
     "end_time": "2024-06-24T19:08:00.947584",
     "exception": false,
     "start_time": "2024-06-24T19:08:00.900455",
     "status": "completed"
    },
    "tags": []
   },
   "outputs": [
    {
     "data": {
      "text/html": [
       "<div>\n",
       "<style scoped>\n",
       "    .dataframe tbody tr th:only-of-type {\n",
       "        vertical-align: middle;\n",
       "    }\n",
       "\n",
       "    .dataframe tbody tr th {\n",
       "        vertical-align: top;\n",
       "    }\n",
       "\n",
       "    .dataframe thead th {\n",
       "        text-align: right;\n",
       "    }\n",
       "</style>\n",
       "<table border=\"1\" class=\"dataframe\">\n",
       "  <thead>\n",
       "    <tr style=\"text-align: right;\">\n",
       "      <th></th>\n",
       "      <th>id</th>\n",
       "      <th>Marital status</th>\n",
       "      <th>Application mode</th>\n",
       "      <th>Application order</th>\n",
       "      <th>Course</th>\n",
       "      <th>Daytime/evening attendance\\t</th>\n",
       "      <th>Previous qualification</th>\n",
       "      <th>Previous qualification (grade)</th>\n",
       "      <th>Nacionality</th>\n",
       "      <th>Mother's qualification</th>\n",
       "      <th>...</th>\n",
       "      <th>Curricular units 2nd sem (credited)</th>\n",
       "      <th>Curricular units 2nd sem (enrolled)</th>\n",
       "      <th>Curricular units 2nd sem (evaluations)</th>\n",
       "      <th>Curricular units 2nd sem (approved)</th>\n",
       "      <th>Curricular units 2nd sem (grade)</th>\n",
       "      <th>Curricular units 2nd sem (without evaluations)</th>\n",
       "      <th>Unemployment rate</th>\n",
       "      <th>Inflation rate</th>\n",
       "      <th>GDP</th>\n",
       "      <th>Target</th>\n",
       "    </tr>\n",
       "  </thead>\n",
       "  <tbody>\n",
       "    <tr>\n",
       "      <th>4419</th>\n",
       "      <td>4420</td>\n",
       "      <td>1</td>\n",
       "      <td>1</td>\n",
       "      <td>6</td>\n",
       "      <td>9773</td>\n",
       "      <td>1</td>\n",
       "      <td>1</td>\n",
       "      <td>125.0</td>\n",
       "      <td>1</td>\n",
       "      <td>1</td>\n",
       "      <td>...</td>\n",
       "      <td>0</td>\n",
       "      <td>6</td>\n",
       "      <td>8</td>\n",
       "      <td>5</td>\n",
       "      <td>12.666667</td>\n",
       "      <td>0</td>\n",
       "      <td>15.5</td>\n",
       "      <td>2.8</td>\n",
       "      <td>-4.06</td>\n",
       "      <td>Graduate</td>\n",
       "    </tr>\n",
       "    <tr>\n",
       "      <th>4420</th>\n",
       "      <td>4421</td>\n",
       "      <td>1</td>\n",
       "      <td>1</td>\n",
       "      <td>2</td>\n",
       "      <td>9773</td>\n",
       "      <td>1</td>\n",
       "      <td>1</td>\n",
       "      <td>120.0</td>\n",
       "      <td>105</td>\n",
       "      <td>1</td>\n",
       "      <td>...</td>\n",
       "      <td>0</td>\n",
       "      <td>6</td>\n",
       "      <td>6</td>\n",
       "      <td>2</td>\n",
       "      <td>11.000000</td>\n",
       "      <td>0</td>\n",
       "      <td>11.1</td>\n",
       "      <td>0.6</td>\n",
       "      <td>2.02</td>\n",
       "      <td>Dropout</td>\n",
       "    </tr>\n",
       "    <tr>\n",
       "      <th>4421</th>\n",
       "      <td>4422</td>\n",
       "      <td>1</td>\n",
       "      <td>1</td>\n",
       "      <td>1</td>\n",
       "      <td>9500</td>\n",
       "      <td>1</td>\n",
       "      <td>1</td>\n",
       "      <td>154.0</td>\n",
       "      <td>1</td>\n",
       "      <td>37</td>\n",
       "      <td>...</td>\n",
       "      <td>0</td>\n",
       "      <td>8</td>\n",
       "      <td>9</td>\n",
       "      <td>1</td>\n",
       "      <td>13.500000</td>\n",
       "      <td>0</td>\n",
       "      <td>13.9</td>\n",
       "      <td>-0.3</td>\n",
       "      <td>0.79</td>\n",
       "      <td>Dropout</td>\n",
       "    </tr>\n",
       "    <tr>\n",
       "      <th>4422</th>\n",
       "      <td>4423</td>\n",
       "      <td>1</td>\n",
       "      <td>1</td>\n",
       "      <td>1</td>\n",
       "      <td>9147</td>\n",
       "      <td>1</td>\n",
       "      <td>1</td>\n",
       "      <td>180.0</td>\n",
       "      <td>1</td>\n",
       "      <td>37</td>\n",
       "      <td>...</td>\n",
       "      <td>0</td>\n",
       "      <td>5</td>\n",
       "      <td>6</td>\n",
       "      <td>5</td>\n",
       "      <td>12.000000</td>\n",
       "      <td>0</td>\n",
       "      <td>9.4</td>\n",
       "      <td>-0.8</td>\n",
       "      <td>-3.12</td>\n",
       "      <td>Graduate</td>\n",
       "    </tr>\n",
       "    <tr>\n",
       "      <th>4423</th>\n",
       "      <td>4424</td>\n",
       "      <td>1</td>\n",
       "      <td>10</td>\n",
       "      <td>1</td>\n",
       "      <td>9773</td>\n",
       "      <td>1</td>\n",
       "      <td>1</td>\n",
       "      <td>152.0</td>\n",
       "      <td>22</td>\n",
       "      <td>38</td>\n",
       "      <td>...</td>\n",
       "      <td>0</td>\n",
       "      <td>6</td>\n",
       "      <td>6</td>\n",
       "      <td>6</td>\n",
       "      <td>13.000000</td>\n",
       "      <td>0</td>\n",
       "      <td>12.7</td>\n",
       "      <td>3.7</td>\n",
       "      <td>-1.70</td>\n",
       "      <td>Graduate</td>\n",
       "    </tr>\n",
       "  </tbody>\n",
       "</table>\n",
       "<p>5 rows × 38 columns</p>\n",
       "</div>"
      ],
      "text/plain": [
       "        id  Marital status  Application mode  Application order  Course  \\\n",
       "4419  4420               1                 1                  6    9773   \n",
       "4420  4421               1                 1                  2    9773   \n",
       "4421  4422               1                 1                  1    9500   \n",
       "4422  4423               1                 1                  1    9147   \n",
       "4423  4424               1                10                  1    9773   \n",
       "\n",
       "      Daytime/evening attendance\\t  Previous qualification  \\\n",
       "4419                             1                       1   \n",
       "4420                             1                       1   \n",
       "4421                             1                       1   \n",
       "4422                             1                       1   \n",
       "4423                             1                       1   \n",
       "\n",
       "      Previous qualification (grade)  Nacionality  Mother's qualification  \\\n",
       "4419                           125.0            1                       1   \n",
       "4420                           120.0          105                       1   \n",
       "4421                           154.0            1                      37   \n",
       "4422                           180.0            1                      37   \n",
       "4423                           152.0           22                      38   \n",
       "\n",
       "      ...  Curricular units 2nd sem (credited)  \\\n",
       "4419  ...                                    0   \n",
       "4420  ...                                    0   \n",
       "4421  ...                                    0   \n",
       "4422  ...                                    0   \n",
       "4423  ...                                    0   \n",
       "\n",
       "      Curricular units 2nd sem (enrolled)  \\\n",
       "4419                                    6   \n",
       "4420                                    6   \n",
       "4421                                    8   \n",
       "4422                                    5   \n",
       "4423                                    6   \n",
       "\n",
       "      Curricular units 2nd sem (evaluations)  \\\n",
       "4419                                       8   \n",
       "4420                                       6   \n",
       "4421                                       9   \n",
       "4422                                       6   \n",
       "4423                                       6   \n",
       "\n",
       "      Curricular units 2nd sem (approved)  Curricular units 2nd sem (grade)  \\\n",
       "4419                                    5                         12.666667   \n",
       "4420                                    2                         11.000000   \n",
       "4421                                    1                         13.500000   \n",
       "4422                                    5                         12.000000   \n",
       "4423                                    6                         13.000000   \n",
       "\n",
       "      Curricular units 2nd sem (without evaluations)  Unemployment rate  \\\n",
       "4419                                               0               15.5   \n",
       "4420                                               0               11.1   \n",
       "4421                                               0               13.9   \n",
       "4422                                               0                9.4   \n",
       "4423                                               0               12.7   \n",
       "\n",
       "      Inflation rate   GDP    Target  \n",
       "4419             2.8 -4.06  Graduate  \n",
       "4420             0.6  2.02   Dropout  \n",
       "4421            -0.3  0.79   Dropout  \n",
       "4422            -0.8 -3.12  Graduate  \n",
       "4423             3.7 -1.70  Graduate  \n",
       "\n",
       "[5 rows x 38 columns]"
      ]
     },
     "execution_count": 6,
     "metadata": {},
     "output_type": "execute_result"
    }
   ],
   "source": [
    "df.tail()"
   ]
  },
  {
   "cell_type": "code",
   "execution_count": 7,
   "id": "13afb327",
   "metadata": {
    "execution": {
     "iopub.execute_input": "2024-06-24T19:08:00.988798Z",
     "iopub.status.busy": "2024-06-24T19:08:00.988404Z",
     "iopub.status.idle": "2024-06-24T19:08:00.995104Z",
     "shell.execute_reply": "2024-06-24T19:08:00.994097Z"
    },
    "papermill": {
     "duration": 0.030071,
     "end_time": "2024-06-24T19:08:00.997425",
     "exception": false,
     "start_time": "2024-06-24T19:08:00.967354",
     "status": "completed"
    },
    "tags": []
   },
   "outputs": [
    {
     "data": {
      "text/plain": [
       "(4424, 38)"
      ]
     },
     "execution_count": 7,
     "metadata": {},
     "output_type": "execute_result"
    }
   ],
   "source": [
    "df.shape"
   ]
  },
  {
   "cell_type": "code",
   "execution_count": 8,
   "id": "2d2cc79a",
   "metadata": {
    "execution": {
     "iopub.execute_input": "2024-06-24T19:08:01.040074Z",
     "iopub.status.busy": "2024-06-24T19:08:01.039655Z",
     "iopub.status.idle": "2024-06-24T19:08:01.063656Z",
     "shell.execute_reply": "2024-06-24T19:08:01.062094Z"
    },
    "papermill": {
     "duration": 0.048321,
     "end_time": "2024-06-24T19:08:01.066576",
     "exception": false,
     "start_time": "2024-06-24T19:08:01.018255",
     "status": "completed"
    },
    "tags": []
   },
   "outputs": [
    {
     "name": "stdout",
     "output_type": "stream",
     "text": [
      "<class 'pandas.core.frame.DataFrame'>\n",
      "RangeIndex: 4424 entries, 0 to 4423\n",
      "Data columns (total 38 columns):\n",
      " #   Column                                          Non-Null Count  Dtype  \n",
      "---  ------                                          --------------  -----  \n",
      " 0   id                                              4424 non-null   int64  \n",
      " 1   Marital status                                  4424 non-null   int64  \n",
      " 2   Application mode                                4424 non-null   int64  \n",
      " 3   Application order                               4424 non-null   int64  \n",
      " 4   Course                                          4424 non-null   int64  \n",
      " 5   Daytime/evening attendance\t                     4424 non-null   int64  \n",
      " 6   Previous qualification                          4424 non-null   int64  \n",
      " 7   Previous qualification (grade)                  4424 non-null   float64\n",
      " 8   Nacionality                                     4424 non-null   int64  \n",
      " 9   Mother's qualification                          4424 non-null   int64  \n",
      " 10  Father's qualification                          4424 non-null   int64  \n",
      " 11  Mother's occupation                             4424 non-null   int64  \n",
      " 12  Father's occupation                             4424 non-null   int64  \n",
      " 13  Admission grade                                 4424 non-null   float64\n",
      " 14  Displaced                                       4424 non-null   int64  \n",
      " 15  Educational special needs                       4424 non-null   int64  \n",
      " 16  Debtor                                          4424 non-null   int64  \n",
      " 17  Tuition fees up to date                         4424 non-null   int64  \n",
      " 18  Gender                                          4424 non-null   int64  \n",
      " 19  Scholarship holder                              4424 non-null   int64  \n",
      " 20  Age at enrollment                               4424 non-null   int64  \n",
      " 21  International                                   4424 non-null   int64  \n",
      " 22  Curricular units 1st sem (credited)             4424 non-null   int64  \n",
      " 23  Curricular units 1st sem (enrolled)             4424 non-null   int64  \n",
      " 24  Curricular units 1st sem (evaluations)          4424 non-null   int64  \n",
      " 25  Curricular units 1st sem (approved)             4424 non-null   int64  \n",
      " 26  Curricular units 1st sem (grade)                4424 non-null   float64\n",
      " 27  Curricular units 1st sem (without evaluations)  4424 non-null   int64  \n",
      " 28  Curricular units 2nd sem (credited)             4424 non-null   int64  \n",
      " 29  Curricular units 2nd sem (enrolled)             4424 non-null   int64  \n",
      " 30  Curricular units 2nd sem (evaluations)          4424 non-null   int64  \n",
      " 31  Curricular units 2nd sem (approved)             4424 non-null   int64  \n",
      " 32  Curricular units 2nd sem (grade)                4424 non-null   float64\n",
      " 33  Curricular units 2nd sem (without evaluations)  4424 non-null   int64  \n",
      " 34  Unemployment rate                               4424 non-null   float64\n",
      " 35  Inflation rate                                  4424 non-null   float64\n",
      " 36  GDP                                             4424 non-null   float64\n",
      " 37  Target                                          4424 non-null   object \n",
      "dtypes: float64(7), int64(30), object(1)\n",
      "memory usage: 1.3+ MB\n"
     ]
    }
   ],
   "source": [
    "df.info()"
   ]
  },
  {
   "cell_type": "code",
   "execution_count": 9,
   "id": "a197cd0b",
   "metadata": {
    "execution": {
     "iopub.execute_input": "2024-06-24T19:08:01.110124Z",
     "iopub.status.busy": "2024-06-24T19:08:01.109721Z",
     "iopub.status.idle": "2024-06-24T19:08:01.122379Z",
     "shell.execute_reply": "2024-06-24T19:08:01.121245Z"
    },
    "papermill": {
     "duration": 0.037253,
     "end_time": "2024-06-24T19:08:01.124838",
     "exception": false,
     "start_time": "2024-06-24T19:08:01.087585",
     "status": "completed"
    },
    "tags": []
   },
   "outputs": [
    {
     "data": {
      "text/html": [
       "<div>\n",
       "<style scoped>\n",
       "    .dataframe tbody tr th:only-of-type {\n",
       "        vertical-align: middle;\n",
       "    }\n",
       "\n",
       "    .dataframe tbody tr th {\n",
       "        vertical-align: top;\n",
       "    }\n",
       "\n",
       "    .dataframe thead th {\n",
       "        text-align: right;\n",
       "    }\n",
       "</style>\n",
       "<table border=\"1\" class=\"dataframe\">\n",
       "  <thead>\n",
       "    <tr style=\"text-align: right;\">\n",
       "      <th></th>\n",
       "      <th>Application mode</th>\n",
       "      <th>Application order</th>\n",
       "    </tr>\n",
       "  </thead>\n",
       "  <tbody>\n",
       "    <tr>\n",
       "      <th>0</th>\n",
       "      <td>17</td>\n",
       "      <td>5</td>\n",
       "    </tr>\n",
       "    <tr>\n",
       "      <th>1</th>\n",
       "      <td>15</td>\n",
       "      <td>1</td>\n",
       "    </tr>\n",
       "    <tr>\n",
       "      <th>2</th>\n",
       "      <td>1</td>\n",
       "      <td>5</td>\n",
       "    </tr>\n",
       "    <tr>\n",
       "      <th>3</th>\n",
       "      <td>17</td>\n",
       "      <td>2</td>\n",
       "    </tr>\n",
       "    <tr>\n",
       "      <th>4</th>\n",
       "      <td>39</td>\n",
       "      <td>1</td>\n",
       "    </tr>\n",
       "    <tr>\n",
       "      <th>...</th>\n",
       "      <td>...</td>\n",
       "      <td>...</td>\n",
       "    </tr>\n",
       "    <tr>\n",
       "      <th>4419</th>\n",
       "      <td>1</td>\n",
       "      <td>6</td>\n",
       "    </tr>\n",
       "    <tr>\n",
       "      <th>4420</th>\n",
       "      <td>1</td>\n",
       "      <td>2</td>\n",
       "    </tr>\n",
       "    <tr>\n",
       "      <th>4421</th>\n",
       "      <td>1</td>\n",
       "      <td>1</td>\n",
       "    </tr>\n",
       "    <tr>\n",
       "      <th>4422</th>\n",
       "      <td>1</td>\n",
       "      <td>1</td>\n",
       "    </tr>\n",
       "    <tr>\n",
       "      <th>4423</th>\n",
       "      <td>10</td>\n",
       "      <td>1</td>\n",
       "    </tr>\n",
       "  </tbody>\n",
       "</table>\n",
       "<p>4424 rows × 2 columns</p>\n",
       "</div>"
      ],
      "text/plain": [
       "      Application mode  Application order\n",
       "0                   17                  5\n",
       "1                   15                  1\n",
       "2                    1                  5\n",
       "3                   17                  2\n",
       "4                   39                  1\n",
       "...                ...                ...\n",
       "4419                 1                  6\n",
       "4420                 1                  2\n",
       "4421                 1                  1\n",
       "4422                 1                  1\n",
       "4423                10                  1\n",
       "\n",
       "[4424 rows x 2 columns]"
      ]
     },
     "execution_count": 9,
     "metadata": {},
     "output_type": "execute_result"
    }
   ],
   "source": [
    "df.iloc[:,[2,3]]"
   ]
  },
  {
   "cell_type": "code",
   "execution_count": 10,
   "id": "19e9e7f2",
   "metadata": {
    "execution": {
     "iopub.execute_input": "2024-06-24T19:08:01.167145Z",
     "iopub.status.busy": "2024-06-24T19:08:01.166684Z",
     "iopub.status.idle": "2024-06-24T19:08:01.172039Z",
     "shell.execute_reply": "2024-06-24T19:08:01.170956Z"
    },
    "papermill": {
     "duration": 0.029335,
     "end_time": "2024-06-24T19:08:01.174526",
     "exception": false,
     "start_time": "2024-06-24T19:08:01.145191",
     "status": "completed"
    },
    "tags": []
   },
   "outputs": [],
   "source": [
    "pd.set_option('display.max_columns',None)\n",
    "pd.set_option('display.max_rows',None)"
   ]
  },
  {
   "cell_type": "code",
   "execution_count": 11,
   "id": "ada53177",
   "metadata": {
    "execution": {
     "iopub.execute_input": "2024-06-24T19:08:01.217873Z",
     "iopub.status.busy": "2024-06-24T19:08:01.217485Z",
     "iopub.status.idle": "2024-06-24T19:08:01.226996Z",
     "shell.execute_reply": "2024-06-24T19:08:01.225863Z"
    },
    "papermill": {
     "duration": 0.034397,
     "end_time": "2024-06-24T19:08:01.229346",
     "exception": false,
     "start_time": "2024-06-24T19:08:01.194949",
     "status": "completed"
    },
    "tags": []
   },
   "outputs": [
    {
     "data": {
      "text/plain": [
       "id                                                  int64\n",
       "Marital status                                      int64\n",
       "Application mode                                    int64\n",
       "Application order                                   int64\n",
       "Course                                              int64\n",
       "Daytime/evening attendance\\t                        int64\n",
       "Previous qualification                              int64\n",
       "Previous qualification (grade)                    float64\n",
       "Nacionality                                         int64\n",
       "Mother's qualification                              int64\n",
       "Father's qualification                              int64\n",
       "Mother's occupation                                 int64\n",
       "Father's occupation                                 int64\n",
       "Admission grade                                   float64\n",
       "Displaced                                           int64\n",
       "Educational special needs                           int64\n",
       "Debtor                                              int64\n",
       "Tuition fees up to date                             int64\n",
       "Gender                                              int64\n",
       "Scholarship holder                                  int64\n",
       "Age at enrollment                                   int64\n",
       "International                                       int64\n",
       "Curricular units 1st sem (credited)                 int64\n",
       "Curricular units 1st sem (enrolled)                 int64\n",
       "Curricular units 1st sem (evaluations)              int64\n",
       "Curricular units 1st sem (approved)                 int64\n",
       "Curricular units 1st sem (grade)                  float64\n",
       "Curricular units 1st sem (without evaluations)      int64\n",
       "Curricular units 2nd sem (credited)                 int64\n",
       "Curricular units 2nd sem (enrolled)                 int64\n",
       "Curricular units 2nd sem (evaluations)              int64\n",
       "Curricular units 2nd sem (approved)                 int64\n",
       "Curricular units 2nd sem (grade)                  float64\n",
       "Curricular units 2nd sem (without evaluations)      int64\n",
       "Unemployment rate                                 float64\n",
       "Inflation rate                                    float64\n",
       "GDP                                               float64\n",
       "Target                                             object\n",
       "dtype: object"
      ]
     },
     "execution_count": 11,
     "metadata": {},
     "output_type": "execute_result"
    }
   ],
   "source": [
    "df.dtypes"
   ]
  },
  {
   "cell_type": "code",
   "execution_count": 12,
   "id": "5e5a6004",
   "metadata": {
    "execution": {
     "iopub.execute_input": "2024-06-24T19:08:01.272073Z",
     "iopub.status.busy": "2024-06-24T19:08:01.271684Z",
     "iopub.status.idle": "2024-06-24T19:08:01.384132Z",
     "shell.execute_reply": "2024-06-24T19:08:01.383028Z"
    },
    "papermill": {
     "duration": 0.137289,
     "end_time": "2024-06-24T19:08:01.387171",
     "exception": false,
     "start_time": "2024-06-24T19:08:01.249882",
     "status": "completed"
    },
    "tags": []
   },
   "outputs": [
    {
     "data": {
      "text/html": [
       "<div>\n",
       "<style scoped>\n",
       "    .dataframe tbody tr th:only-of-type {\n",
       "        vertical-align: middle;\n",
       "    }\n",
       "\n",
       "    .dataframe tbody tr th {\n",
       "        vertical-align: top;\n",
       "    }\n",
       "\n",
       "    .dataframe thead th {\n",
       "        text-align: right;\n",
       "    }\n",
       "</style>\n",
       "<table border=\"1\" class=\"dataframe\">\n",
       "  <thead>\n",
       "    <tr style=\"text-align: right;\">\n",
       "      <th></th>\n",
       "      <th>id</th>\n",
       "      <th>Marital status</th>\n",
       "      <th>Application mode</th>\n",
       "      <th>Application order</th>\n",
       "      <th>Course</th>\n",
       "      <th>Daytime/evening attendance\\t</th>\n",
       "      <th>Previous qualification</th>\n",
       "      <th>Previous qualification (grade)</th>\n",
       "      <th>Nacionality</th>\n",
       "      <th>Mother's qualification</th>\n",
       "      <th>Father's qualification</th>\n",
       "      <th>Mother's occupation</th>\n",
       "      <th>Father's occupation</th>\n",
       "      <th>Admission grade</th>\n",
       "      <th>Displaced</th>\n",
       "      <th>Educational special needs</th>\n",
       "      <th>Debtor</th>\n",
       "      <th>Tuition fees up to date</th>\n",
       "      <th>Gender</th>\n",
       "      <th>Scholarship holder</th>\n",
       "      <th>Age at enrollment</th>\n",
       "      <th>International</th>\n",
       "      <th>Curricular units 1st sem (credited)</th>\n",
       "      <th>Curricular units 1st sem (enrolled)</th>\n",
       "      <th>Curricular units 1st sem (evaluations)</th>\n",
       "      <th>Curricular units 1st sem (approved)</th>\n",
       "      <th>Curricular units 1st sem (grade)</th>\n",
       "      <th>Curricular units 1st sem (without evaluations)</th>\n",
       "      <th>Curricular units 2nd sem (credited)</th>\n",
       "      <th>Curricular units 2nd sem (enrolled)</th>\n",
       "      <th>Curricular units 2nd sem (evaluations)</th>\n",
       "      <th>Curricular units 2nd sem (approved)</th>\n",
       "      <th>Curricular units 2nd sem (grade)</th>\n",
       "      <th>Curricular units 2nd sem (without evaluations)</th>\n",
       "      <th>Unemployment rate</th>\n",
       "      <th>Inflation rate</th>\n",
       "      <th>GDP</th>\n",
       "    </tr>\n",
       "  </thead>\n",
       "  <tbody>\n",
       "    <tr>\n",
       "      <th>count</th>\n",
       "      <td>4424.000000</td>\n",
       "      <td>4424.000000</td>\n",
       "      <td>4424.000000</td>\n",
       "      <td>4424.000000</td>\n",
       "      <td>4424.000000</td>\n",
       "      <td>4424.000000</td>\n",
       "      <td>4424.000000</td>\n",
       "      <td>4424.000000</td>\n",
       "      <td>4424.000000</td>\n",
       "      <td>4424.000000</td>\n",
       "      <td>4424.000000</td>\n",
       "      <td>4424.000000</td>\n",
       "      <td>4424.000000</td>\n",
       "      <td>4424.000000</td>\n",
       "      <td>4424.000000</td>\n",
       "      <td>4424.000000</td>\n",
       "      <td>4424.000000</td>\n",
       "      <td>4424.000000</td>\n",
       "      <td>4424.000000</td>\n",
       "      <td>4424.000000</td>\n",
       "      <td>4424.000000</td>\n",
       "      <td>4424.000000</td>\n",
       "      <td>4424.000000</td>\n",
       "      <td>4424.000000</td>\n",
       "      <td>4424.000000</td>\n",
       "      <td>4424.000000</td>\n",
       "      <td>4424.000000</td>\n",
       "      <td>4424.000000</td>\n",
       "      <td>4424.000000</td>\n",
       "      <td>4424.000000</td>\n",
       "      <td>4424.000000</td>\n",
       "      <td>4424.000000</td>\n",
       "      <td>4424.000000</td>\n",
       "      <td>4424.000000</td>\n",
       "      <td>4424.000000</td>\n",
       "      <td>4424.000000</td>\n",
       "      <td>4424.000000</td>\n",
       "    </tr>\n",
       "    <tr>\n",
       "      <th>mean</th>\n",
       "      <td>2212.500000</td>\n",
       "      <td>1.178571</td>\n",
       "      <td>18.669078</td>\n",
       "      <td>1.727848</td>\n",
       "      <td>8856.642631</td>\n",
       "      <td>0.890823</td>\n",
       "      <td>4.577758</td>\n",
       "      <td>132.613314</td>\n",
       "      <td>1.873192</td>\n",
       "      <td>19.561935</td>\n",
       "      <td>22.275316</td>\n",
       "      <td>10.960895</td>\n",
       "      <td>11.032324</td>\n",
       "      <td>126.978119</td>\n",
       "      <td>0.548373</td>\n",
       "      <td>0.011528</td>\n",
       "      <td>0.113698</td>\n",
       "      <td>0.880651</td>\n",
       "      <td>0.351718</td>\n",
       "      <td>0.248418</td>\n",
       "      <td>23.265145</td>\n",
       "      <td>0.024864</td>\n",
       "      <td>0.709991</td>\n",
       "      <td>6.270570</td>\n",
       "      <td>8.299051</td>\n",
       "      <td>4.706600</td>\n",
       "      <td>10.640822</td>\n",
       "      <td>0.137658</td>\n",
       "      <td>0.541817</td>\n",
       "      <td>6.232143</td>\n",
       "      <td>8.063291</td>\n",
       "      <td>4.435805</td>\n",
       "      <td>10.230206</td>\n",
       "      <td>0.150316</td>\n",
       "      <td>11.566139</td>\n",
       "      <td>1.228029</td>\n",
       "      <td>0.001969</td>\n",
       "    </tr>\n",
       "    <tr>\n",
       "      <th>std</th>\n",
       "      <td>1277.243125</td>\n",
       "      <td>0.605747</td>\n",
       "      <td>17.484682</td>\n",
       "      <td>1.313793</td>\n",
       "      <td>2063.566416</td>\n",
       "      <td>0.311897</td>\n",
       "      <td>10.216592</td>\n",
       "      <td>13.188332</td>\n",
       "      <td>6.914514</td>\n",
       "      <td>15.603186</td>\n",
       "      <td>15.343108</td>\n",
       "      <td>26.418253</td>\n",
       "      <td>25.263040</td>\n",
       "      <td>14.482001</td>\n",
       "      <td>0.497711</td>\n",
       "      <td>0.106760</td>\n",
       "      <td>0.317480</td>\n",
       "      <td>0.324235</td>\n",
       "      <td>0.477560</td>\n",
       "      <td>0.432144</td>\n",
       "      <td>7.587816</td>\n",
       "      <td>0.155729</td>\n",
       "      <td>2.360507</td>\n",
       "      <td>2.480178</td>\n",
       "      <td>4.179106</td>\n",
       "      <td>3.094238</td>\n",
       "      <td>4.843663</td>\n",
       "      <td>0.690880</td>\n",
       "      <td>1.918546</td>\n",
       "      <td>2.195951</td>\n",
       "      <td>3.947951</td>\n",
       "      <td>3.014764</td>\n",
       "      <td>5.210808</td>\n",
       "      <td>0.753774</td>\n",
       "      <td>2.663850</td>\n",
       "      <td>1.382711</td>\n",
       "      <td>2.269935</td>\n",
       "    </tr>\n",
       "    <tr>\n",
       "      <th>min</th>\n",
       "      <td>1.000000</td>\n",
       "      <td>1.000000</td>\n",
       "      <td>1.000000</td>\n",
       "      <td>0.000000</td>\n",
       "      <td>33.000000</td>\n",
       "      <td>0.000000</td>\n",
       "      <td>1.000000</td>\n",
       "      <td>95.000000</td>\n",
       "      <td>1.000000</td>\n",
       "      <td>1.000000</td>\n",
       "      <td>1.000000</td>\n",
       "      <td>0.000000</td>\n",
       "      <td>0.000000</td>\n",
       "      <td>95.000000</td>\n",
       "      <td>0.000000</td>\n",
       "      <td>0.000000</td>\n",
       "      <td>0.000000</td>\n",
       "      <td>0.000000</td>\n",
       "      <td>0.000000</td>\n",
       "      <td>0.000000</td>\n",
       "      <td>17.000000</td>\n",
       "      <td>0.000000</td>\n",
       "      <td>0.000000</td>\n",
       "      <td>0.000000</td>\n",
       "      <td>0.000000</td>\n",
       "      <td>0.000000</td>\n",
       "      <td>0.000000</td>\n",
       "      <td>0.000000</td>\n",
       "      <td>0.000000</td>\n",
       "      <td>0.000000</td>\n",
       "      <td>0.000000</td>\n",
       "      <td>0.000000</td>\n",
       "      <td>0.000000</td>\n",
       "      <td>0.000000</td>\n",
       "      <td>7.600000</td>\n",
       "      <td>-0.800000</td>\n",
       "      <td>-4.060000</td>\n",
       "    </tr>\n",
       "    <tr>\n",
       "      <th>25%</th>\n",
       "      <td>1106.750000</td>\n",
       "      <td>1.000000</td>\n",
       "      <td>1.000000</td>\n",
       "      <td>1.000000</td>\n",
       "      <td>9085.000000</td>\n",
       "      <td>1.000000</td>\n",
       "      <td>1.000000</td>\n",
       "      <td>125.000000</td>\n",
       "      <td>1.000000</td>\n",
       "      <td>2.000000</td>\n",
       "      <td>3.000000</td>\n",
       "      <td>4.000000</td>\n",
       "      <td>4.000000</td>\n",
       "      <td>117.900000</td>\n",
       "      <td>0.000000</td>\n",
       "      <td>0.000000</td>\n",
       "      <td>0.000000</td>\n",
       "      <td>1.000000</td>\n",
       "      <td>0.000000</td>\n",
       "      <td>0.000000</td>\n",
       "      <td>19.000000</td>\n",
       "      <td>0.000000</td>\n",
       "      <td>0.000000</td>\n",
       "      <td>5.000000</td>\n",
       "      <td>6.000000</td>\n",
       "      <td>3.000000</td>\n",
       "      <td>11.000000</td>\n",
       "      <td>0.000000</td>\n",
       "      <td>0.000000</td>\n",
       "      <td>5.000000</td>\n",
       "      <td>6.000000</td>\n",
       "      <td>2.000000</td>\n",
       "      <td>10.750000</td>\n",
       "      <td>0.000000</td>\n",
       "      <td>9.400000</td>\n",
       "      <td>0.300000</td>\n",
       "      <td>-1.700000</td>\n",
       "    </tr>\n",
       "    <tr>\n",
       "      <th>50%</th>\n",
       "      <td>2212.500000</td>\n",
       "      <td>1.000000</td>\n",
       "      <td>17.000000</td>\n",
       "      <td>1.000000</td>\n",
       "      <td>9238.000000</td>\n",
       "      <td>1.000000</td>\n",
       "      <td>1.000000</td>\n",
       "      <td>133.100000</td>\n",
       "      <td>1.000000</td>\n",
       "      <td>19.000000</td>\n",
       "      <td>19.000000</td>\n",
       "      <td>5.000000</td>\n",
       "      <td>7.000000</td>\n",
       "      <td>126.100000</td>\n",
       "      <td>1.000000</td>\n",
       "      <td>0.000000</td>\n",
       "      <td>0.000000</td>\n",
       "      <td>1.000000</td>\n",
       "      <td>0.000000</td>\n",
       "      <td>0.000000</td>\n",
       "      <td>20.000000</td>\n",
       "      <td>0.000000</td>\n",
       "      <td>0.000000</td>\n",
       "      <td>6.000000</td>\n",
       "      <td>8.000000</td>\n",
       "      <td>5.000000</td>\n",
       "      <td>12.285714</td>\n",
       "      <td>0.000000</td>\n",
       "      <td>0.000000</td>\n",
       "      <td>6.000000</td>\n",
       "      <td>8.000000</td>\n",
       "      <td>5.000000</td>\n",
       "      <td>12.200000</td>\n",
       "      <td>0.000000</td>\n",
       "      <td>11.100000</td>\n",
       "      <td>1.400000</td>\n",
       "      <td>0.320000</td>\n",
       "    </tr>\n",
       "    <tr>\n",
       "      <th>75%</th>\n",
       "      <td>3318.250000</td>\n",
       "      <td>1.000000</td>\n",
       "      <td>39.000000</td>\n",
       "      <td>2.000000</td>\n",
       "      <td>9556.000000</td>\n",
       "      <td>1.000000</td>\n",
       "      <td>1.000000</td>\n",
       "      <td>140.000000</td>\n",
       "      <td>1.000000</td>\n",
       "      <td>37.000000</td>\n",
       "      <td>37.000000</td>\n",
       "      <td>9.000000</td>\n",
       "      <td>9.000000</td>\n",
       "      <td>134.800000</td>\n",
       "      <td>1.000000</td>\n",
       "      <td>0.000000</td>\n",
       "      <td>0.000000</td>\n",
       "      <td>1.000000</td>\n",
       "      <td>1.000000</td>\n",
       "      <td>0.000000</td>\n",
       "      <td>25.000000</td>\n",
       "      <td>0.000000</td>\n",
       "      <td>0.000000</td>\n",
       "      <td>7.000000</td>\n",
       "      <td>10.000000</td>\n",
       "      <td>6.000000</td>\n",
       "      <td>13.400000</td>\n",
       "      <td>0.000000</td>\n",
       "      <td>0.000000</td>\n",
       "      <td>7.000000</td>\n",
       "      <td>10.000000</td>\n",
       "      <td>6.000000</td>\n",
       "      <td>13.333333</td>\n",
       "      <td>0.000000</td>\n",
       "      <td>13.900000</td>\n",
       "      <td>2.600000</td>\n",
       "      <td>1.790000</td>\n",
       "    </tr>\n",
       "    <tr>\n",
       "      <th>max</th>\n",
       "      <td>4424.000000</td>\n",
       "      <td>6.000000</td>\n",
       "      <td>57.000000</td>\n",
       "      <td>9.000000</td>\n",
       "      <td>9991.000000</td>\n",
       "      <td>1.000000</td>\n",
       "      <td>43.000000</td>\n",
       "      <td>190.000000</td>\n",
       "      <td>109.000000</td>\n",
       "      <td>44.000000</td>\n",
       "      <td>44.000000</td>\n",
       "      <td>194.000000</td>\n",
       "      <td>195.000000</td>\n",
       "      <td>190.000000</td>\n",
       "      <td>1.000000</td>\n",
       "      <td>1.000000</td>\n",
       "      <td>1.000000</td>\n",
       "      <td>1.000000</td>\n",
       "      <td>1.000000</td>\n",
       "      <td>1.000000</td>\n",
       "      <td>70.000000</td>\n",
       "      <td>1.000000</td>\n",
       "      <td>20.000000</td>\n",
       "      <td>26.000000</td>\n",
       "      <td>45.000000</td>\n",
       "      <td>26.000000</td>\n",
       "      <td>18.875000</td>\n",
       "      <td>12.000000</td>\n",
       "      <td>19.000000</td>\n",
       "      <td>23.000000</td>\n",
       "      <td>33.000000</td>\n",
       "      <td>20.000000</td>\n",
       "      <td>18.571429</td>\n",
       "      <td>12.000000</td>\n",
       "      <td>16.200000</td>\n",
       "      <td>3.700000</td>\n",
       "      <td>3.510000</td>\n",
       "    </tr>\n",
       "  </tbody>\n",
       "</table>\n",
       "</div>"
      ],
      "text/plain": [
       "                id  Marital status  Application mode  Application order  \\\n",
       "count  4424.000000     4424.000000       4424.000000        4424.000000   \n",
       "mean   2212.500000        1.178571         18.669078           1.727848   \n",
       "std    1277.243125        0.605747         17.484682           1.313793   \n",
       "min       1.000000        1.000000          1.000000           0.000000   \n",
       "25%    1106.750000        1.000000          1.000000           1.000000   \n",
       "50%    2212.500000        1.000000         17.000000           1.000000   \n",
       "75%    3318.250000        1.000000         39.000000           2.000000   \n",
       "max    4424.000000        6.000000         57.000000           9.000000   \n",
       "\n",
       "            Course  Daytime/evening attendance\\t  Previous qualification  \\\n",
       "count  4424.000000                   4424.000000             4424.000000   \n",
       "mean   8856.642631                      0.890823                4.577758   \n",
       "std    2063.566416                      0.311897               10.216592   \n",
       "min      33.000000                      0.000000                1.000000   \n",
       "25%    9085.000000                      1.000000                1.000000   \n",
       "50%    9238.000000                      1.000000                1.000000   \n",
       "75%    9556.000000                      1.000000                1.000000   \n",
       "max    9991.000000                      1.000000               43.000000   \n",
       "\n",
       "       Previous qualification (grade)  Nacionality  Mother's qualification  \\\n",
       "count                     4424.000000  4424.000000             4424.000000   \n",
       "mean                       132.613314     1.873192               19.561935   \n",
       "std                         13.188332     6.914514               15.603186   \n",
       "min                         95.000000     1.000000                1.000000   \n",
       "25%                        125.000000     1.000000                2.000000   \n",
       "50%                        133.100000     1.000000               19.000000   \n",
       "75%                        140.000000     1.000000               37.000000   \n",
       "max                        190.000000   109.000000               44.000000   \n",
       "\n",
       "       Father's qualification  Mother's occupation  Father's occupation  \\\n",
       "count             4424.000000          4424.000000          4424.000000   \n",
       "mean                22.275316            10.960895            11.032324   \n",
       "std                 15.343108            26.418253            25.263040   \n",
       "min                  1.000000             0.000000             0.000000   \n",
       "25%                  3.000000             4.000000             4.000000   \n",
       "50%                 19.000000             5.000000             7.000000   \n",
       "75%                 37.000000             9.000000             9.000000   \n",
       "max                 44.000000           194.000000           195.000000   \n",
       "\n",
       "       Admission grade    Displaced  Educational special needs       Debtor  \\\n",
       "count      4424.000000  4424.000000                4424.000000  4424.000000   \n",
       "mean        126.978119     0.548373                   0.011528     0.113698   \n",
       "std          14.482001     0.497711                   0.106760     0.317480   \n",
       "min          95.000000     0.000000                   0.000000     0.000000   \n",
       "25%         117.900000     0.000000                   0.000000     0.000000   \n",
       "50%         126.100000     1.000000                   0.000000     0.000000   \n",
       "75%         134.800000     1.000000                   0.000000     0.000000   \n",
       "max         190.000000     1.000000                   1.000000     1.000000   \n",
       "\n",
       "       Tuition fees up to date       Gender  Scholarship holder  \\\n",
       "count              4424.000000  4424.000000         4424.000000   \n",
       "mean                  0.880651     0.351718            0.248418   \n",
       "std                   0.324235     0.477560            0.432144   \n",
       "min                   0.000000     0.000000            0.000000   \n",
       "25%                   1.000000     0.000000            0.000000   \n",
       "50%                   1.000000     0.000000            0.000000   \n",
       "75%                   1.000000     1.000000            0.000000   \n",
       "max                   1.000000     1.000000            1.000000   \n",
       "\n",
       "       Age at enrollment  International  Curricular units 1st sem (credited)  \\\n",
       "count        4424.000000    4424.000000                          4424.000000   \n",
       "mean           23.265145       0.024864                             0.709991   \n",
       "std             7.587816       0.155729                             2.360507   \n",
       "min            17.000000       0.000000                             0.000000   \n",
       "25%            19.000000       0.000000                             0.000000   \n",
       "50%            20.000000       0.000000                             0.000000   \n",
       "75%            25.000000       0.000000                             0.000000   \n",
       "max            70.000000       1.000000                            20.000000   \n",
       "\n",
       "       Curricular units 1st sem (enrolled)  \\\n",
       "count                          4424.000000   \n",
       "mean                              6.270570   \n",
       "std                               2.480178   \n",
       "min                               0.000000   \n",
       "25%                               5.000000   \n",
       "50%                               6.000000   \n",
       "75%                               7.000000   \n",
       "max                              26.000000   \n",
       "\n",
       "       Curricular units 1st sem (evaluations)  \\\n",
       "count                             4424.000000   \n",
       "mean                                 8.299051   \n",
       "std                                  4.179106   \n",
       "min                                  0.000000   \n",
       "25%                                  6.000000   \n",
       "50%                                  8.000000   \n",
       "75%                                 10.000000   \n",
       "max                                 45.000000   \n",
       "\n",
       "       Curricular units 1st sem (approved)  Curricular units 1st sem (grade)  \\\n",
       "count                          4424.000000                       4424.000000   \n",
       "mean                              4.706600                         10.640822   \n",
       "std                               3.094238                          4.843663   \n",
       "min                               0.000000                          0.000000   \n",
       "25%                               3.000000                         11.000000   \n",
       "50%                               5.000000                         12.285714   \n",
       "75%                               6.000000                         13.400000   \n",
       "max                              26.000000                         18.875000   \n",
       "\n",
       "       Curricular units 1st sem (without evaluations)  \\\n",
       "count                                     4424.000000   \n",
       "mean                                         0.137658   \n",
       "std                                          0.690880   \n",
       "min                                          0.000000   \n",
       "25%                                          0.000000   \n",
       "50%                                          0.000000   \n",
       "75%                                          0.000000   \n",
       "max                                         12.000000   \n",
       "\n",
       "       Curricular units 2nd sem (credited)  \\\n",
       "count                          4424.000000   \n",
       "mean                              0.541817   \n",
       "std                               1.918546   \n",
       "min                               0.000000   \n",
       "25%                               0.000000   \n",
       "50%                               0.000000   \n",
       "75%                               0.000000   \n",
       "max                              19.000000   \n",
       "\n",
       "       Curricular units 2nd sem (enrolled)  \\\n",
       "count                          4424.000000   \n",
       "mean                              6.232143   \n",
       "std                               2.195951   \n",
       "min                               0.000000   \n",
       "25%                               5.000000   \n",
       "50%                               6.000000   \n",
       "75%                               7.000000   \n",
       "max                              23.000000   \n",
       "\n",
       "       Curricular units 2nd sem (evaluations)  \\\n",
       "count                             4424.000000   \n",
       "mean                                 8.063291   \n",
       "std                                  3.947951   \n",
       "min                                  0.000000   \n",
       "25%                                  6.000000   \n",
       "50%                                  8.000000   \n",
       "75%                                 10.000000   \n",
       "max                                 33.000000   \n",
       "\n",
       "       Curricular units 2nd sem (approved)  Curricular units 2nd sem (grade)  \\\n",
       "count                          4424.000000                       4424.000000   \n",
       "mean                              4.435805                         10.230206   \n",
       "std                               3.014764                          5.210808   \n",
       "min                               0.000000                          0.000000   \n",
       "25%                               2.000000                         10.750000   \n",
       "50%                               5.000000                         12.200000   \n",
       "75%                               6.000000                         13.333333   \n",
       "max                              20.000000                         18.571429   \n",
       "\n",
       "       Curricular units 2nd sem (without evaluations)  Unemployment rate  \\\n",
       "count                                     4424.000000        4424.000000   \n",
       "mean                                         0.150316          11.566139   \n",
       "std                                          0.753774           2.663850   \n",
       "min                                          0.000000           7.600000   \n",
       "25%                                          0.000000           9.400000   \n",
       "50%                                          0.000000          11.100000   \n",
       "75%                                          0.000000          13.900000   \n",
       "max                                         12.000000          16.200000   \n",
       "\n",
       "       Inflation rate          GDP  \n",
       "count     4424.000000  4424.000000  \n",
       "mean         1.228029     0.001969  \n",
       "std          1.382711     2.269935  \n",
       "min         -0.800000    -4.060000  \n",
       "25%          0.300000    -1.700000  \n",
       "50%          1.400000     0.320000  \n",
       "75%          2.600000     1.790000  \n",
       "max          3.700000     3.510000  "
      ]
     },
     "execution_count": 12,
     "metadata": {},
     "output_type": "execute_result"
    }
   ],
   "source": [
    "df.describe()"
   ]
  },
  {
   "cell_type": "code",
   "execution_count": 13,
   "id": "80ef91a7",
   "metadata": {
    "execution": {
     "iopub.execute_input": "2024-06-24T19:08:01.432604Z",
     "iopub.status.busy": "2024-06-24T19:08:01.431673Z",
     "iopub.status.idle": "2024-06-24T19:08:01.439348Z",
     "shell.execute_reply": "2024-06-24T19:08:01.438236Z"
    },
    "papermill": {
     "duration": 0.032471,
     "end_time": "2024-06-24T19:08:01.441675",
     "exception": false,
     "start_time": "2024-06-24T19:08:01.409204",
     "status": "completed"
    },
    "tags": []
   },
   "outputs": [
    {
     "data": {
      "text/plain": [
       "Index(['id', 'Marital status', 'Application mode', 'Application order',\n",
       "       'Course', 'Daytime/evening attendance\\t', 'Previous qualification',\n",
       "       'Previous qualification (grade)', 'Nacionality',\n",
       "       'Mother's qualification', 'Father's qualification',\n",
       "       'Mother's occupation', 'Father's occupation', 'Admission grade',\n",
       "       'Displaced', 'Educational special needs', 'Debtor',\n",
       "       'Tuition fees up to date', 'Gender', 'Scholarship holder',\n",
       "       'Age at enrollment', 'International',\n",
       "       'Curricular units 1st sem (credited)',\n",
       "       'Curricular units 1st sem (enrolled)',\n",
       "       'Curricular units 1st sem (evaluations)',\n",
       "       'Curricular units 1st sem (approved)',\n",
       "       'Curricular units 1st sem (grade)',\n",
       "       'Curricular units 1st sem (without evaluations)',\n",
       "       'Curricular units 2nd sem (credited)',\n",
       "       'Curricular units 2nd sem (enrolled)',\n",
       "       'Curricular units 2nd sem (evaluations)',\n",
       "       'Curricular units 2nd sem (approved)',\n",
       "       'Curricular units 2nd sem (grade)',\n",
       "       'Curricular units 2nd sem (without evaluations)', 'Unemployment rate',\n",
       "       'Inflation rate', 'GDP', 'Target'],\n",
       "      dtype='object')"
      ]
     },
     "execution_count": 13,
     "metadata": {},
     "output_type": "execute_result"
    }
   ],
   "source": [
    "df.columns"
   ]
  },
  {
   "cell_type": "code",
   "execution_count": 14,
   "id": "0a9fa4cc",
   "metadata": {
    "execution": {
     "iopub.execute_input": "2024-06-24T19:08:01.486205Z",
     "iopub.status.busy": "2024-06-24T19:08:01.485813Z",
     "iopub.status.idle": "2024-06-24T19:08:01.495150Z",
     "shell.execute_reply": "2024-06-24T19:08:01.493952Z"
    },
    "papermill": {
     "duration": 0.034551,
     "end_time": "2024-06-24T19:08:01.497595",
     "exception": false,
     "start_time": "2024-06-24T19:08:01.463044",
     "status": "completed"
    },
    "tags": []
   },
   "outputs": [
    {
     "data": {
      "text/plain": [
       "array([ 171, 9254, 9070, 9773, 8014, 9991, 9500, 9238, 9670, 9853, 9085,\n",
       "       9130, 9556, 9147, 9003,   33, 9119])"
      ]
     },
     "execution_count": 14,
     "metadata": {},
     "output_type": "execute_result"
    }
   ],
   "source": [
    "df[\"Course\"].unique()"
   ]
  },
  {
   "cell_type": "code",
   "execution_count": 15,
   "id": "9e457352",
   "metadata": {
    "execution": {
     "iopub.execute_input": "2024-06-24T19:08:01.542584Z",
     "iopub.status.busy": "2024-06-24T19:08:01.542221Z",
     "iopub.status.idle": "2024-06-24T19:08:01.552462Z",
     "shell.execute_reply": "2024-06-24T19:08:01.551356Z"
    },
    "papermill": {
     "duration": 0.035539,
     "end_time": "2024-06-24T19:08:01.554876",
     "exception": false,
     "start_time": "2024-06-24T19:08:01.519337",
     "status": "completed"
    },
    "tags": []
   },
   "outputs": [
    {
     "data": {
      "text/plain": [
       "Course\n",
       "9500    766\n",
       "9147    380\n",
       "9238    355\n",
       "9085    337\n",
       "9773    331\n",
       "9670    268\n",
       "9991    268\n",
       "9254    252\n",
       "9070    226\n",
       "171     215\n",
       "8014    215\n",
       "9003    210\n",
       "9853    192\n",
       "9119    170\n",
       "9130    141\n",
       "9556     86\n",
       "33       12\n",
       "Name: count, dtype: int64"
      ]
     },
     "execution_count": 15,
     "metadata": {},
     "output_type": "execute_result"
    }
   ],
   "source": [
    "df[\"Course\"].value_counts()"
   ]
  },
  {
   "cell_type": "markdown",
   "id": "9a2036f8",
   "metadata": {
    "papermill": {
     "duration": 0.021706,
     "end_time": "2024-06-24T19:08:01.598479",
     "exception": false,
     "start_time": "2024-06-24T19:08:01.576773",
     "status": "completed"
    },
    "tags": []
   },
   "source": []
  },
  {
   "cell_type": "code",
   "execution_count": 16,
   "id": "6ca92328",
   "metadata": {
    "execution": {
     "iopub.execute_input": "2024-06-24T19:08:01.643846Z",
     "iopub.status.busy": "2024-06-24T19:08:01.643454Z",
     "iopub.status.idle": "2024-06-24T19:08:01.656823Z",
     "shell.execute_reply": "2024-06-24T19:08:01.655491Z"
    },
    "papermill": {
     "duration": 0.038927,
     "end_time": "2024-06-24T19:08:01.659258",
     "exception": false,
     "start_time": "2024-06-24T19:08:01.620331",
     "status": "completed"
    },
    "tags": []
   },
   "outputs": [
    {
     "name": "stdout",
     "output_type": "stream",
     "text": [
      "0\n"
     ]
    }
   ],
   "source": [
    "print(df.duplicated().sum())\n"
   ]
  },
  {
   "cell_type": "code",
   "execution_count": 17,
   "id": "87364bb3",
   "metadata": {
    "execution": {
     "iopub.execute_input": "2024-06-24T19:08:01.704986Z",
     "iopub.status.busy": "2024-06-24T19:08:01.704621Z",
     "iopub.status.idle": "2024-06-24T19:08:01.714627Z",
     "shell.execute_reply": "2024-06-24T19:08:01.713475Z"
    },
    "papermill": {
     "duration": 0.036209,
     "end_time": "2024-06-24T19:08:01.717401",
     "exception": false,
     "start_time": "2024-06-24T19:08:01.681192",
     "status": "completed"
    },
    "tags": []
   },
   "outputs": [
    {
     "name": "stdout",
     "output_type": "stream",
     "text": [
      "id                                                0\n",
      "Marital status                                    0\n",
      "Application mode                                  0\n",
      "Application order                                 0\n",
      "Course                                            0\n",
      "Daytime/evening attendance\\t                      0\n",
      "Previous qualification                            0\n",
      "Previous qualification (grade)                    0\n",
      "Nacionality                                       0\n",
      "Mother's qualification                            0\n",
      "Father's qualification                            0\n",
      "Mother's occupation                               0\n",
      "Father's occupation                               0\n",
      "Admission grade                                   0\n",
      "Displaced                                         0\n",
      "Educational special needs                         0\n",
      "Debtor                                            0\n",
      "Tuition fees up to date                           0\n",
      "Gender                                            0\n",
      "Scholarship holder                                0\n",
      "Age at enrollment                                 0\n",
      "International                                     0\n",
      "Curricular units 1st sem (credited)               0\n",
      "Curricular units 1st sem (enrolled)               0\n",
      "Curricular units 1st sem (evaluations)            0\n",
      "Curricular units 1st sem (approved)               0\n",
      "Curricular units 1st sem (grade)                  0\n",
      "Curricular units 1st sem (without evaluations)    0\n",
      "Curricular units 2nd sem (credited)               0\n",
      "Curricular units 2nd sem (enrolled)               0\n",
      "Curricular units 2nd sem (evaluations)            0\n",
      "Curricular units 2nd sem (approved)               0\n",
      "Curricular units 2nd sem (grade)                  0\n",
      "Curricular units 2nd sem (without evaluations)    0\n",
      "Unemployment rate                                 0\n",
      "Inflation rate                                    0\n",
      "GDP                                               0\n",
      "Target                                            0\n",
      "dtype: int64\n"
     ]
    }
   ],
   "source": [
    "print(df.isnull().sum())"
   ]
  },
  {
   "cell_type": "code",
   "execution_count": 18,
   "id": "65c9ff91",
   "metadata": {
    "execution": {
     "iopub.execute_input": "2024-06-24T19:08:01.764209Z",
     "iopub.status.busy": "2024-06-24T19:08:01.763800Z",
     "iopub.status.idle": "2024-06-24T19:08:01.773964Z",
     "shell.execute_reply": "2024-06-24T19:08:01.772865Z"
    },
    "papermill": {
     "duration": 0.036606,
     "end_time": "2024-06-24T19:08:01.776390",
     "exception": false,
     "start_time": "2024-06-24T19:08:01.739784",
     "status": "completed"
    },
    "tags": []
   },
   "outputs": [
    {
     "data": {
      "text/plain": [
       "id                                                0\n",
       "Marital status                                    0\n",
       "Application mode                                  0\n",
       "Application order                                 0\n",
       "Course                                            0\n",
       "Daytime/evening attendance\\t                      0\n",
       "Previous qualification                            0\n",
       "Previous qualification (grade)                    0\n",
       "Nacionality                                       0\n",
       "Mother's qualification                            0\n",
       "Father's qualification                            0\n",
       "Mother's occupation                               0\n",
       "Father's occupation                               0\n",
       "Admission grade                                   0\n",
       "Displaced                                         0\n",
       "Educational special needs                         0\n",
       "Debtor                                            0\n",
       "Tuition fees up to date                           0\n",
       "Gender                                            0\n",
       "Scholarship holder                                0\n",
       "Age at enrollment                                 0\n",
       "International                                     0\n",
       "Curricular units 1st sem (credited)               0\n",
       "Curricular units 1st sem (enrolled)               0\n",
       "Curricular units 1st sem (evaluations)            0\n",
       "Curricular units 1st sem (approved)               0\n",
       "Curricular units 1st sem (grade)                  0\n",
       "Curricular units 1st sem (without evaluations)    0\n",
       "Curricular units 2nd sem (credited)               0\n",
       "Curricular units 2nd sem (enrolled)               0\n",
       "Curricular units 2nd sem (evaluations)            0\n",
       "Curricular units 2nd sem (approved)               0\n",
       "Curricular units 2nd sem (grade)                  0\n",
       "Curricular units 2nd sem (without evaluations)    0\n",
       "Unemployment rate                                 0\n",
       "Inflation rate                                    0\n",
       "GDP                                               0\n",
       "Target                                            0\n",
       "dtype: int64"
      ]
     },
     "execution_count": 18,
     "metadata": {},
     "output_type": "execute_result"
    }
   ],
   "source": [
    "df.isnull().sum()"
   ]
  },
  {
   "cell_type": "code",
   "execution_count": 19,
   "id": "29ca46ad",
   "metadata": {
    "execution": {
     "iopub.execute_input": "2024-06-24T19:08:01.823718Z",
     "iopub.status.busy": "2024-06-24T19:08:01.823035Z",
     "iopub.status.idle": "2024-06-24T19:08:01.830342Z",
     "shell.execute_reply": "2024-06-24T19:08:01.829270Z"
    },
    "papermill": {
     "duration": 0.033526,
     "end_time": "2024-06-24T19:08:01.832816",
     "exception": false,
     "start_time": "2024-06-24T19:08:01.799290",
     "status": "completed"
    },
    "tags": []
   },
   "outputs": [],
   "source": [
    "df = df.dropna()  "
   ]
  },
  {
   "cell_type": "code",
   "execution_count": 20,
   "id": "efa39e97",
   "metadata": {
    "execution": {
     "iopub.execute_input": "2024-06-24T19:08:01.879623Z",
     "iopub.status.busy": "2024-06-24T19:08:01.879207Z",
     "iopub.status.idle": "2024-06-24T19:08:01.892716Z",
     "shell.execute_reply": "2024-06-24T19:08:01.891672Z"
    },
    "papermill": {
     "duration": 0.039568,
     "end_time": "2024-06-24T19:08:01.894991",
     "exception": false,
     "start_time": "2024-06-24T19:08:01.855423",
     "status": "completed"
    },
    "tags": []
   },
   "outputs": [
    {
     "data": {
      "text/plain": [
       "id                                                0.0\n",
       "Marital status                                    0.0\n",
       "Application mode                                  0.0\n",
       "Application order                                 0.0\n",
       "Course                                            0.0\n",
       "Daytime/evening attendance\\t                      0.0\n",
       "Previous qualification                            0.0\n",
       "Previous qualification (grade)                    0.0\n",
       "Nacionality                                       0.0\n",
       "Mother's qualification                            0.0\n",
       "Father's qualification                            0.0\n",
       "Mother's occupation                               0.0\n",
       "Father's occupation                               0.0\n",
       "Admission grade                                   0.0\n",
       "Displaced                                         0.0\n",
       "Educational special needs                         0.0\n",
       "Debtor                                            0.0\n",
       "Tuition fees up to date                           0.0\n",
       "Gender                                            0.0\n",
       "Scholarship holder                                0.0\n",
       "Age at enrollment                                 0.0\n",
       "International                                     0.0\n",
       "Curricular units 1st sem (credited)               0.0\n",
       "Curricular units 1st sem (enrolled)               0.0\n",
       "Curricular units 1st sem (evaluations)            0.0\n",
       "Curricular units 1st sem (approved)               0.0\n",
       "Curricular units 1st sem (grade)                  0.0\n",
       "Curricular units 1st sem (without evaluations)    0.0\n",
       "Curricular units 2nd sem (credited)               0.0\n",
       "Curricular units 2nd sem (enrolled)               0.0\n",
       "Curricular units 2nd sem (evaluations)            0.0\n",
       "Curricular units 2nd sem (approved)               0.0\n",
       "Curricular units 2nd sem (grade)                  0.0\n",
       "Curricular units 2nd sem (without evaluations)    0.0\n",
       "Unemployment rate                                 0.0\n",
       "Inflation rate                                    0.0\n",
       "GDP                                               0.0\n",
       "Target                                            0.0\n",
       "dtype: float64"
      ]
     },
     "execution_count": 20,
     "metadata": {},
     "output_type": "execute_result"
    }
   ],
   "source": [
    "df_null = round(df.isnull().sum()*100/len(df))\n",
    "df_null"
   ]
  },
  {
   "cell_type": "code",
   "execution_count": 21,
   "id": "c8925b75",
   "metadata": {
    "execution": {
     "iopub.execute_input": "2024-06-24T19:08:01.942656Z",
     "iopub.status.busy": "2024-06-24T19:08:01.942247Z",
     "iopub.status.idle": "2024-06-24T19:08:01.955630Z",
     "shell.execute_reply": "2024-06-24T19:08:01.954557Z"
    },
    "papermill": {
     "duration": 0.040748,
     "end_time": "2024-06-24T19:08:01.958227",
     "exception": false,
     "start_time": "2024-06-24T19:08:01.917479",
     "status": "completed"
    },
    "tags": []
   },
   "outputs": [
    {
     "data": {
      "text/plain": [
       "id                                                0.0\n",
       "Marital status                                    0.0\n",
       "Application mode                                  0.0\n",
       "Application order                                 0.0\n",
       "Course                                            0.0\n",
       "Daytime/evening attendance\\t                      0.0\n",
       "Previous qualification                            0.0\n",
       "Previous qualification (grade)                    0.0\n",
       "Nacionality                                       0.0\n",
       "Mother's qualification                            0.0\n",
       "Father's qualification                            0.0\n",
       "Mother's occupation                               0.0\n",
       "Father's occupation                               0.0\n",
       "Admission grade                                   0.0\n",
       "Displaced                                         0.0\n",
       "Educational special needs                         0.0\n",
       "Debtor                                            0.0\n",
       "Tuition fees up to date                           0.0\n",
       "Gender                                            0.0\n",
       "Scholarship holder                                0.0\n",
       "Age at enrollment                                 0.0\n",
       "International                                     0.0\n",
       "Curricular units 1st sem (credited)               0.0\n",
       "Curricular units 1st sem (enrolled)               0.0\n",
       "Curricular units 1st sem (evaluations)            0.0\n",
       "Curricular units 1st sem (approved)               0.0\n",
       "Curricular units 1st sem (grade)                  0.0\n",
       "Curricular units 1st sem (without evaluations)    0.0\n",
       "Curricular units 2nd sem (credited)               0.0\n",
       "Curricular units 2nd sem (enrolled)               0.0\n",
       "Curricular units 2nd sem (evaluations)            0.0\n",
       "Curricular units 2nd sem (approved)               0.0\n",
       "Curricular units 2nd sem (grade)                  0.0\n",
       "Curricular units 2nd sem (without evaluations)    0.0\n",
       "Unemployment rate                                 0.0\n",
       "Inflation rate                                    0.0\n",
       "GDP                                               0.0\n",
       "Target                                            0.0\n",
       "dtype: float64"
      ]
     },
     "execution_count": 21,
     "metadata": {},
     "output_type": "execute_result"
    }
   ],
   "source": [
    "df_null = round(df.isnull().sum()*100/len(df),2)\n",
    "df_null"
   ]
  },
  {
   "cell_type": "code",
   "execution_count": 22,
   "id": "5d14d98a",
   "metadata": {
    "execution": {
     "iopub.execute_input": "2024-06-24T19:08:02.065928Z",
     "iopub.status.busy": "2024-06-24T19:08:02.065538Z",
     "iopub.status.idle": "2024-06-24T19:08:02.073663Z",
     "shell.execute_reply": "2024-06-24T19:08:02.072697Z"
    },
    "papermill": {
     "duration": 0.094687,
     "end_time": "2024-06-24T19:08:02.075823",
     "exception": false,
     "start_time": "2024-06-24T19:08:01.981136",
     "status": "completed"
    },
    "tags": []
   },
   "outputs": [
    {
     "data": {
      "text/plain": [
       "Series([], dtype: float64)"
      ]
     },
     "execution_count": 22,
     "metadata": {},
     "output_type": "execute_result"
    }
   ],
   "source": [
    "#drop columns which have null values more than 30%\n",
    "\n",
    "null_v = df_null[df_null >= 30]\n",
    "null_v"
   ]
  },
  {
   "cell_type": "code",
   "execution_count": 23,
   "id": "4713114e",
   "metadata": {
    "execution": {
     "iopub.execute_input": "2024-06-24T19:08:02.124825Z",
     "iopub.status.busy": "2024-06-24T19:08:02.123803Z",
     "iopub.status.idle": "2024-06-24T19:08:02.130897Z",
     "shell.execute_reply": "2024-06-24T19:08:02.129817Z"
    },
    "papermill": {
     "duration": 0.033985,
     "end_time": "2024-06-24T19:08:02.133341",
     "exception": false,
     "start_time": "2024-06-24T19:08:02.099356",
     "status": "completed"
    },
    "tags": []
   },
   "outputs": [
    {
     "data": {
      "text/plain": [
       "Index([], dtype='object')"
      ]
     },
     "execution_count": 23,
     "metadata": {},
     "output_type": "execute_result"
    }
   ],
   "source": [
    "null_v.index"
   ]
  },
  {
   "cell_type": "code",
   "execution_count": 24,
   "id": "affd4607",
   "metadata": {
    "execution": {
     "iopub.execute_input": "2024-06-24T19:08:02.181805Z",
     "iopub.status.busy": "2024-06-24T19:08:02.180898Z",
     "iopub.status.idle": "2024-06-24T19:08:02.191087Z",
     "shell.execute_reply": "2024-06-24T19:08:02.190060Z"
    },
    "papermill": {
     "duration": 0.037188,
     "end_time": "2024-06-24T19:08:02.193652",
     "exception": false,
     "start_time": "2024-06-24T19:08:02.156464",
     "status": "completed"
    },
    "tags": []
   },
   "outputs": [
    {
     "data": {
      "text/plain": [
       "id                                                0\n",
       "Marital status                                    0\n",
       "Application mode                                  0\n",
       "Application order                                 0\n",
       "Course                                            0\n",
       "Daytime/evening attendance\\t                      0\n",
       "Previous qualification                            0\n",
       "Previous qualification (grade)                    0\n",
       "Nacionality                                       0\n",
       "Mother's qualification                            0\n",
       "Father's qualification                            0\n",
       "Mother's occupation                               0\n",
       "Father's occupation                               0\n",
       "Admission grade                                   0\n",
       "Displaced                                         0\n",
       "Educational special needs                         0\n",
       "Debtor                                            0\n",
       "Tuition fees up to date                           0\n",
       "Gender                                            0\n",
       "Scholarship holder                                0\n",
       "Age at enrollment                                 0\n",
       "International                                     0\n",
       "Curricular units 1st sem (credited)               0\n",
       "Curricular units 1st sem (enrolled)               0\n",
       "Curricular units 1st sem (evaluations)            0\n",
       "Curricular units 1st sem (approved)               0\n",
       "Curricular units 1st sem (grade)                  0\n",
       "Curricular units 1st sem (without evaluations)    0\n",
       "Curricular units 2nd sem (credited)               0\n",
       "Curricular units 2nd sem (enrolled)               0\n",
       "Curricular units 2nd sem (evaluations)            0\n",
       "Curricular units 2nd sem (approved)               0\n",
       "Curricular units 2nd sem (grade)                  0\n",
       "Curricular units 2nd sem (without evaluations)    0\n",
       "Unemployment rate                                 0\n",
       "Inflation rate                                    0\n",
       "GDP                                               0\n",
       "Target                                            0\n",
       "dtype: int64"
      ]
     },
     "execution_count": 24,
     "metadata": {},
     "output_type": "execute_result"
    }
   ],
   "source": [
    "df.isna().sum()"
   ]
  },
  {
   "cell_type": "code",
   "execution_count": 25,
   "id": "4fd39ae3",
   "metadata": {
    "execution": {
     "iopub.execute_input": "2024-06-24T19:08:02.242371Z",
     "iopub.status.busy": "2024-06-24T19:08:02.241955Z",
     "iopub.status.idle": "2024-06-24T19:08:02.253611Z",
     "shell.execute_reply": "2024-06-24T19:08:02.252579Z"
    },
    "papermill": {
     "duration": 0.038939,
     "end_time": "2024-06-24T19:08:02.256110",
     "exception": false,
     "start_time": "2024-06-24T19:08:02.217171",
     "status": "completed"
    },
    "tags": []
   },
   "outputs": [
    {
     "data": {
      "text/plain": [
       "count    4424.000000\n",
       "mean       10.230206\n",
       "std         5.210808\n",
       "min         0.000000\n",
       "25%        10.750000\n",
       "50%        12.200000\n",
       "75%        13.333333\n",
       "max        18.571429\n",
       "Name: Curricular units 2nd sem (grade), dtype: float64"
      ]
     },
     "execution_count": 25,
     "metadata": {},
     "output_type": "execute_result"
    }
   ],
   "source": [
    "df['Curricular units 2nd sem (grade)'].describe()"
   ]
  },
  {
   "cell_type": "code",
   "execution_count": 26,
   "id": "66623e06",
   "metadata": {
    "execution": {
     "iopub.execute_input": "2024-06-24T19:08:02.305439Z",
     "iopub.status.busy": "2024-06-24T19:08:02.304994Z",
     "iopub.status.idle": "2024-06-24T19:08:02.312159Z",
     "shell.execute_reply": "2024-06-24T19:08:02.311061Z"
    },
    "papermill": {
     "duration": 0.034666,
     "end_time": "2024-06-24T19:08:02.314570",
     "exception": false,
     "start_time": "2024-06-24T19:08:02.279904",
     "status": "completed"
    },
    "tags": []
   },
   "outputs": [],
   "source": [
    "q3 = np.percentile(df['Curricular units 2nd sem (grade)'],75)\n",
    "q1 = np.percentile(df['Curricular units 2nd sem (grade)'],25)"
   ]
  },
  {
   "cell_type": "code",
   "execution_count": 27,
   "id": "2b780518",
   "metadata": {
    "execution": {
     "iopub.execute_input": "2024-06-24T19:08:02.363855Z",
     "iopub.status.busy": "2024-06-24T19:08:02.363076Z",
     "iopub.status.idle": "2024-06-24T19:08:02.369934Z",
     "shell.execute_reply": "2024-06-24T19:08:02.368896Z"
    },
    "papermill": {
     "duration": 0.034059,
     "end_time": "2024-06-24T19:08:02.372290",
     "exception": false,
     "start_time": "2024-06-24T19:08:02.338231",
     "status": "completed"
    },
    "tags": []
   },
   "outputs": [
    {
     "data": {
      "text/plain": [
       "(13.33333333, 10.75)"
      ]
     },
     "execution_count": 27,
     "metadata": {},
     "output_type": "execute_result"
    }
   ],
   "source": [
    "q3,q1"
   ]
  },
  {
   "cell_type": "code",
   "execution_count": 28,
   "id": "acef6029",
   "metadata": {
    "execution": {
     "iopub.execute_input": "2024-06-24T19:08:02.423072Z",
     "iopub.status.busy": "2024-06-24T19:08:02.421947Z",
     "iopub.status.idle": "2024-06-24T19:08:02.429652Z",
     "shell.execute_reply": "2024-06-24T19:08:02.428605Z"
    },
    "papermill": {
     "duration": 0.035706,
     "end_time": "2024-06-24T19:08:02.431872",
     "exception": false,
     "start_time": "2024-06-24T19:08:02.396166",
     "status": "completed"
    },
    "tags": []
   },
   "outputs": [
    {
     "data": {
      "text/plain": [
       "2.5833333300000003"
      ]
     },
     "execution_count": 28,
     "metadata": {},
     "output_type": "execute_result"
    }
   ],
   "source": [
    "iqr = q3 - q1\n",
    "iqr"
   ]
  },
  {
   "cell_type": "code",
   "execution_count": 29,
   "id": "f927a2f0",
   "metadata": {
    "execution": {
     "iopub.execute_input": "2024-06-24T19:08:02.481598Z",
     "iopub.status.busy": "2024-06-24T19:08:02.481196Z",
     "iopub.status.idle": "2024-06-24T19:08:02.485991Z",
     "shell.execute_reply": "2024-06-24T19:08:02.485066Z"
    },
    "papermill": {
     "duration": 0.03253,
     "end_time": "2024-06-24T19:08:02.488356",
     "exception": false,
     "start_time": "2024-06-24T19:08:02.455826",
     "status": "completed"
    },
    "tags": []
   },
   "outputs": [],
   "source": [
    "ub = q3 + (1.5 * iqr)\n",
    "lb = q1 - (1.5 * iqr)"
   ]
  },
  {
   "cell_type": "code",
   "execution_count": 30,
   "id": "5ecafddd",
   "metadata": {
    "execution": {
     "iopub.execute_input": "2024-06-24T19:08:02.538437Z",
     "iopub.status.busy": "2024-06-24T19:08:02.537990Z",
     "iopub.status.idle": "2024-06-24T19:08:02.544849Z",
     "shell.execute_reply": "2024-06-24T19:08:02.543871Z"
    },
    "papermill": {
     "duration": 0.034765,
     "end_time": "2024-06-24T19:08:02.547267",
     "exception": false,
     "start_time": "2024-06-24T19:08:02.512502",
     "status": "completed"
    },
    "tags": []
   },
   "outputs": [
    {
     "data": {
      "text/plain": [
       "17.208333325"
      ]
     },
     "execution_count": 30,
     "metadata": {},
     "output_type": "execute_result"
    }
   ],
   "source": [
    "ub"
   ]
  },
  {
   "cell_type": "code",
   "execution_count": 31,
   "id": "6cc3faf9",
   "metadata": {
    "execution": {
     "iopub.execute_input": "2024-06-24T19:08:02.597870Z",
     "iopub.status.busy": "2024-06-24T19:08:02.597460Z",
     "iopub.status.idle": "2024-06-24T19:08:02.604268Z",
     "shell.execute_reply": "2024-06-24T19:08:02.603221Z"
    },
    "papermill": {
     "duration": 0.035083,
     "end_time": "2024-06-24T19:08:02.606860",
     "exception": false,
     "start_time": "2024-06-24T19:08:02.571777",
     "status": "completed"
    },
    "tags": []
   },
   "outputs": [
    {
     "data": {
      "text/plain": [
       "6.8750000049999995"
      ]
     },
     "execution_count": 31,
     "metadata": {},
     "output_type": "execute_result"
    }
   ],
   "source": [
    "lb"
   ]
  },
  {
   "cell_type": "code",
   "execution_count": 32,
   "id": "433d0401",
   "metadata": {
    "execution": {
     "iopub.execute_input": "2024-06-24T19:08:02.658189Z",
     "iopub.status.busy": "2024-06-24T19:08:02.657802Z",
     "iopub.status.idle": "2024-06-24T19:08:02.665061Z",
     "shell.execute_reply": "2024-06-24T19:08:02.663953Z"
    },
    "papermill": {
     "duration": 0.035861,
     "end_time": "2024-06-24T19:08:02.667473",
     "exception": false,
     "start_time": "2024-06-24T19:08:02.631612",
     "status": "completed"
    },
    "tags": []
   },
   "outputs": [],
   "source": [
    "#filtering DATA WITHOUT OUTLIERS\n",
    "df=df[(df['Curricular units 2nd sem (grade)']<=ub) & (df['Curricular units 2nd sem (grade)']>=lb)]"
   ]
  },
  {
   "cell_type": "code",
   "execution_count": 33,
   "id": "d24a2931",
   "metadata": {
    "execution": {
     "iopub.execute_input": "2024-06-24T19:08:02.719656Z",
     "iopub.status.busy": "2024-06-24T19:08:02.719287Z",
     "iopub.status.idle": "2024-06-24T19:08:03.053528Z",
     "shell.execute_reply": "2024-06-24T19:08:03.052427Z"
    },
    "papermill": {
     "duration": 0.364157,
     "end_time": "2024-06-24T19:08:03.055929",
     "exception": false,
     "start_time": "2024-06-24T19:08:02.691772",
     "status": "completed"
    },
    "tags": []
   },
   "outputs": [
    {
     "data": {
      "image/png": "[encoded data removed]",
      "text/plain": [
       "<Figure size 640x480 with 1 Axes>"
      ]
     },
     "metadata": {},
     "output_type": "display_data"
    }
   ],
   "source": [
    "sns.boxplot(df[['Curricular units 2nd sem (grade)']]);\n",
    "plt.title('outliers in grades:'); "
   ]
  },
  {
   "cell_type": "code",
   "execution_count": 34,
   "id": "f6f2085c",
   "metadata": {
    "execution": {
     "iopub.execute_input": "2024-06-24T19:08:03.107073Z",
     "iopub.status.busy": "2024-06-24T19:08:03.106124Z",
     "iopub.status.idle": "2024-06-24T19:08:03.117212Z",
     "shell.execute_reply": "2024-06-24T19:08:03.116083Z"
    },
    "papermill": {
     "duration": 0.039243,
     "end_time": "2024-06-24T19:08:03.119573",
     "exception": false,
     "start_time": "2024-06-24T19:08:03.080330",
     "status": "completed"
    },
    "tags": []
   },
   "outputs": [
    {
     "data": {
      "text/plain": [
       "count    3547.000000\n",
       "mean       11.543896\n",
       "std         2.646255\n",
       "min         7.600000\n",
       "25%         9.400000\n",
       "50%        11.100000\n",
       "75%        13.900000\n",
       "max        16.200000\n",
       "Name: Unemployment rate, dtype: float64"
      ]
     },
     "execution_count": 34,
     "metadata": {},
     "output_type": "execute_result"
    }
   ],
   "source": [
    "df['Unemployment rate'].describe()"
   ]
  },
  {
   "cell_type": "code",
   "execution_count": 35,
   "id": "6a19e6c8",
   "metadata": {
    "execution": {
     "iopub.execute_input": "2024-06-24T19:08:03.170382Z",
     "iopub.status.busy": "2024-06-24T19:08:03.169977Z",
     "iopub.status.idle": "2024-06-24T19:08:03.178852Z",
     "shell.execute_reply": "2024-06-24T19:08:03.177870Z"
    },
    "papermill": {
     "duration": 0.036935,
     "end_time": "2024-06-24T19:08:03.181126",
     "exception": false,
     "start_time": "2024-06-24T19:08:03.144191",
     "status": "completed"
    },
    "tags": []
   },
   "outputs": [
    {
     "data": {
      "text/plain": [
       "(13.9, 9.4)"
      ]
     },
     "execution_count": 35,
     "metadata": {},
     "output_type": "execute_result"
    }
   ],
   "source": [
    "q3=np.percentile(df['Unemployment rate'],75)\n",
    "q1=np.percentile(df['Unemployment rate'],25)\n",
    "q3,q1"
   ]
  },
  {
   "cell_type": "code",
   "execution_count": 36,
   "id": "63d3de1c",
   "metadata": {
    "execution": {
     "iopub.execute_input": "2024-06-24T19:08:03.232972Z",
     "iopub.status.busy": "2024-06-24T19:08:03.232576Z",
     "iopub.status.idle": "2024-06-24T19:08:03.239343Z",
     "shell.execute_reply": "2024-06-24T19:08:03.238336Z"
    },
    "papermill": {
     "duration": 0.035227,
     "end_time": "2024-06-24T19:08:03.241654",
     "exception": false,
     "start_time": "2024-06-24T19:08:03.206427",
     "status": "completed"
    },
    "tags": []
   },
   "outputs": [
    {
     "data": {
      "text/plain": [
       "4.5"
      ]
     },
     "execution_count": 36,
     "metadata": {},
     "output_type": "execute_result"
    }
   ],
   "source": [
    "iqr=q3-q1\n",
    "iqr"
   ]
  },
  {
   "cell_type": "code",
   "execution_count": 37,
   "id": "9e67795e",
   "metadata": {
    "execution": {
     "iopub.execute_input": "2024-06-24T19:08:03.293756Z",
     "iopub.status.busy": "2024-06-24T19:08:03.292941Z",
     "iopub.status.idle": "2024-06-24T19:08:03.298069Z",
     "shell.execute_reply": "2024-06-24T19:08:03.296936Z"
    },
    "papermill": {
     "duration": 0.033687,
     "end_time": "2024-06-24T19:08:03.300413",
     "exception": false,
     "start_time": "2024-06-24T19:08:03.266726",
     "status": "completed"
    },
    "tags": []
   },
   "outputs": [],
   "source": [
    "ub=q3+(1.5*iqr)\n",
    "lb=q1-(1.5*iqr)"
   ]
  },
  {
   "cell_type": "code",
   "execution_count": 38,
   "id": "6470496d",
   "metadata": {
    "execution": {
     "iopub.execute_input": "2024-06-24T19:08:03.353980Z",
     "iopub.status.busy": "2024-06-24T19:08:03.353535Z",
     "iopub.status.idle": "2024-06-24T19:08:03.360319Z",
     "shell.execute_reply": "2024-06-24T19:08:03.359230Z"
    },
    "papermill": {
     "duration": 0.03744,
     "end_time": "2024-06-24T19:08:03.362952",
     "exception": false,
     "start_time": "2024-06-24T19:08:03.325512",
     "status": "completed"
    },
    "tags": []
   },
   "outputs": [
    {
     "data": {
      "text/plain": [
       "20.65"
      ]
     },
     "execution_count": 38,
     "metadata": {},
     "output_type": "execute_result"
    }
   ],
   "source": [
    "ub"
   ]
  },
  {
   "cell_type": "code",
   "execution_count": 39,
   "id": "5dcbfd91",
   "metadata": {
    "execution": {
     "iopub.execute_input": "2024-06-24T19:08:03.415757Z",
     "iopub.status.busy": "2024-06-24T19:08:03.415394Z",
     "iopub.status.idle": "2024-06-24T19:08:03.422228Z",
     "shell.execute_reply": "2024-06-24T19:08:03.421253Z"
    },
    "papermill": {
     "duration": 0.03563,
     "end_time": "2024-06-24T19:08:03.424508",
     "exception": false,
     "start_time": "2024-06-24T19:08:03.388878",
     "status": "completed"
    },
    "tags": []
   },
   "outputs": [
    {
     "data": {
      "text/plain": [
       "2.6500000000000004"
      ]
     },
     "execution_count": 39,
     "metadata": {},
     "output_type": "execute_result"
    }
   ],
   "source": [
    "lb"
   ]
  },
  {
   "cell_type": "code",
   "execution_count": 40,
   "id": "56ca996e",
   "metadata": {
    "execution": {
     "iopub.execute_input": "2024-06-24T19:08:03.476597Z",
     "iopub.status.busy": "2024-06-24T19:08:03.476186Z",
     "iopub.status.idle": "2024-06-24T19:08:03.482826Z",
     "shell.execute_reply": "2024-06-24T19:08:03.481890Z"
    },
    "papermill": {
     "duration": 0.035462,
     "end_time": "2024-06-24T19:08:03.485249",
     "exception": false,
     "start_time": "2024-06-24T19:08:03.449787",
     "status": "completed"
    },
    "tags": []
   },
   "outputs": [],
   "source": [
    "df=df[(df['Unemployment rate']<=ub)&(df['Unemployment rate']>=lb)]"
   ]
  },
  {
   "cell_type": "code",
   "execution_count": 41,
   "id": "0ca54d6e",
   "metadata": {
    "execution": {
     "iopub.execute_input": "2024-06-24T19:08:03.537751Z",
     "iopub.status.busy": "2024-06-24T19:08:03.537364Z",
     "iopub.status.idle": "2024-06-24T19:08:03.802251Z",
     "shell.execute_reply": "2024-06-24T19:08:03.801033Z"
    },
    "papermill": {
     "duration": 0.294187,
     "end_time": "2024-06-24T19:08:03.804833",
     "exception": false,
     "start_time": "2024-06-24T19:08:03.510646",
     "status": "completed"
    },
    "tags": []
   },
   "outputs": [
    {
     "data": {
      "image/png": "[encoded data removed]",
      "text/plain": [
       "<Figure size 640x480 with 1 Axes>"
      ]
     },
     "metadata": {},
     "output_type": "display_data"
    }
   ],
   "source": [
    "sns.boxplot(df[['Unemployment rate']]);\n",
    "plt.title('outliers in Unemployment rate:'); "
   ]
  },
  {
   "cell_type": "code",
   "execution_count": 42,
   "id": "bc03e342",
   "metadata": {
    "execution": {
     "iopub.execute_input": "2024-06-24T19:08:03.869758Z",
     "iopub.status.busy": "2024-06-24T19:08:03.868905Z",
     "iopub.status.idle": "2024-06-24T19:08:04.974419Z",
     "shell.execute_reply": "2024-06-24T19:08:04.973203Z"
    },
    "papermill": {
     "duration": 1.142747,
     "end_time": "2024-06-24T19:08:04.977422",
     "exception": false,
     "start_time": "2024-06-24T19:08:03.834675",
     "status": "completed"
    },
    "tags": []
   },
   "outputs": [
    {
     "data": {
      "text/plain": [
       "<Axes: >"
      ]
     },
     "execution_count": 42,
     "metadata": {},
     "output_type": "execute_result"
    },
    {
     "name": "stderr",
     "output_type": "stream",
     "text": [
      "/opt/conda/lib/python3.10/site-packages/IPython/core/events.py:82: UserWarning: Glyph 9 (\t) missing from current font.\n",
      "  func(*args, **kwargs)\n",
      "/opt/conda/lib/python3.10/site-packages/IPython/core/pylabtools.py:152: UserWarning: Glyph 9 (\t) missing from current font.\n",
      "  fig.canvas.print_figure(bytes_io, **kw)\n"
     ]
    },
    {
     "data": {
      "image/png": "[encoded data removed]",
      "text/plain": [
       "<Figure size 640x480 with 1 Axes>"
      ]
     },
     "metadata": {},
     "output_type": "display_data"
    }
   ],
   "source": [
    "df.boxplot()"
   ]
  },
  {
   "cell_type": "code",
   "execution_count": 43,
   "id": "fd2f6871",
   "metadata": {
    "execution": {
     "iopub.execute_input": "2024-06-24T19:08:05.033212Z",
     "iopub.status.busy": "2024-06-24T19:08:05.032802Z",
     "iopub.status.idle": "2024-06-24T19:08:05.831198Z",
     "shell.execute_reply": "2024-06-24T19:08:05.830025Z"
    },
    "papermill": {
     "duration": 0.829044,
     "end_time": "2024-06-24T19:08:05.833654",
     "exception": false,
     "start_time": "2024-06-24T19:08:05.004610",
     "status": "completed"
    },
    "tags": []
   },
   "outputs": [
    {
     "name": "stderr",
     "output_type": "stream",
     "text": [
      "/opt/conda/lib/python3.10/site-packages/IPython/core/pylabtools.py:152: UserWarning: Glyph 9 (\t) missing from current font.\n",
      "  fig.canvas.print_figure(bytes_io, **kw)\n"
     ]
    },
    {
     "data": {
      "image/png": "[encoded data removed]",
      "text/plain": [
       "<Figure size 640x480 with 1 Axes>"
      ]
     },
     "metadata": {},
     "output_type": "display_data"
    }
   ],
   "source": [
    "sns.boxplot(df)\n",
    "plt.show()"
   ]
  },
  {
   "cell_type": "code",
   "execution_count": 44,
   "id": "26579b5d",
   "metadata": {
    "execution": {
     "iopub.execute_input": "2024-06-24T19:08:05.889954Z",
     "iopub.status.busy": "2024-06-24T19:08:05.889551Z",
     "iopub.status.idle": "2024-06-24T19:08:06.291342Z",
     "shell.execute_reply": "2024-06-24T19:08:06.290190Z"
    },
    "papermill": {
     "duration": 0.433056,
     "end_time": "2024-06-24T19:08:06.293778",
     "exception": false,
     "start_time": "2024-06-24T19:08:05.860722",
     "status": "completed"
    },
    "tags": []
   },
   "outputs": [
    {
     "data": {
      "image/png": "[encoded data removed]",
      "text/plain": [
       "<Figure size 1500x1000 with 1 Axes>"
      ]
     },
     "metadata": {},
     "output_type": "display_data"
    }
   ],
   "source": [
    "plt.figure(figsize=(15, 10))\n",
    "sns.countplot(data=df, x='Course')\n",
    "plt.show()"
   ]
  },
  {
   "cell_type": "code",
   "execution_count": 45,
   "id": "7ed5a898",
   "metadata": {
    "execution": {
     "iopub.execute_input": "2024-06-24T19:08:06.351513Z",
     "iopub.status.busy": "2024-06-24T19:08:06.350716Z",
     "iopub.status.idle": "2024-06-24T19:08:06.675273Z",
     "shell.execute_reply": "2024-06-24T19:08:06.674099Z"
    },
    "papermill": {
     "duration": 0.356108,
     "end_time": "2024-06-24T19:08:06.677695",
     "exception": false,
     "start_time": "2024-06-24T19:08:06.321587",
     "status": "completed"
    },
    "tags": []
   },
   "outputs": [
    {
     "data": {
      "image/png": "[encoded data removed]",
      "text/plain": [
       "<Figure size 1500x1000 with 1 Axes>"
      ]
     },
     "metadata": {},
     "output_type": "display_data"
    }
   ],
   "source": [
    "plt.figure(figsize=(15, 10))\n",
    "sns.scatterplot(data=df, x='Application mode', y='Application order')\n",
    "plt.show()"
   ]
  },
  {
   "cell_type": "code",
   "execution_count": 46,
   "id": "ead6de72",
   "metadata": {
    "execution": {
     "iopub.execute_input": "2024-06-24T19:08:06.736543Z",
     "iopub.status.busy": "2024-06-24T19:08:06.736137Z",
     "iopub.status.idle": "2024-06-24T19:08:06.966606Z",
     "shell.execute_reply": "2024-06-24T19:08:06.965472Z"
    },
    "papermill": {
     "duration": 0.263413,
     "end_time": "2024-06-24T19:08:06.968997",
     "exception": false,
     "start_time": "2024-06-24T19:08:06.705584",
     "status": "completed"
    },
    "tags": []
   },
   "outputs": [
    {
     "data": {
      "text/plain": [
       "<Axes: >"
      ]
     },
     "execution_count": 46,
     "metadata": {},
     "output_type": "execute_result"
    },
    {
     "data": {
      "image/png": "[encoded data removed]",
      "text/plain": [
       "<Figure size 640x480 with 1 Axes>"
      ]
     },
     "metadata": {},
     "output_type": "display_data"
    }
   ],
   "source": [
    "df['Unemployment rate'].hist()"
   ]
  },
  {
   "cell_type": "code",
   "execution_count": 47,
   "id": "ae6ab4c9",
   "metadata": {
    "execution": {
     "iopub.execute_input": "2024-06-24T19:08:07.028025Z",
     "iopub.status.busy": "2024-06-24T19:08:07.027603Z",
     "iopub.status.idle": "2024-06-24T19:08:07.435467Z",
     "shell.execute_reply": "2024-06-24T19:08:07.434398Z"
    },
    "papermill": {
     "duration": 0.440594,
     "end_time": "2024-06-24T19:08:07.437875",
     "exception": false,
     "start_time": "2024-06-24T19:08:06.997281",
     "status": "completed"
    },
    "tags": []
   },
   "outputs": [
    {
     "data": {
      "text/plain": [
       "<Axes: >"
      ]
     },
     "execution_count": 47,
     "metadata": {},
     "output_type": "execute_result"
    },
    {
     "data": {
      "image/png": "[encoded data removed]",
      "text/plain": [
       "<Figure size 640x480 with 1 Axes>"
      ]
     },
     "metadata": {},
     "output_type": "display_data"
    }
   ],
   "source": [
    "df['Course'].hist()"
   ]
  },
  {
   "cell_type": "code",
   "execution_count": 48,
   "id": "3e76c917",
   "metadata": {
    "execution": {
     "iopub.execute_input": "2024-06-24T19:08:07.497859Z",
     "iopub.status.busy": "2024-06-24T19:08:07.497499Z",
     "iopub.status.idle": "2024-06-24T19:08:07.810706Z",
     "shell.execute_reply": "2024-06-24T19:08:07.809477Z"
    },
    "papermill": {
     "duration": 0.346721,
     "end_time": "2024-06-24T19:08:07.813552",
     "exception": false,
     "start_time": "2024-06-24T19:08:07.466831",
     "status": "completed"
    },
    "tags": []
   },
   "outputs": [
    {
     "data": {
      "text/plain": [
       "<Axes: >"
      ]
     },
     "execution_count": 48,
     "metadata": {},
     "output_type": "execute_result"
    },
    {
     "data": {
      "image/png": "[encoded data removed]",
      "text/plain": [
       "<Figure size 640x480 with 1 Axes>"
      ]
     },
     "metadata": {},
     "output_type": "display_data"
    }
   ],
   "source": [
    "df['Curricular units 2nd sem (grade)'].hist()"
   ]
  },
  {
   "cell_type": "code",
   "execution_count": 49,
   "id": "9a776371",
   "metadata": {
    "execution": {
     "iopub.execute_input": "2024-06-24T19:08:07.874812Z",
     "iopub.status.busy": "2024-06-24T19:08:07.874413Z",
     "iopub.status.idle": "2024-06-24T19:08:08.423421Z",
     "shell.execute_reply": "2024-06-24T19:08:08.422392Z"
    },
    "papermill": {
     "duration": 0.582675,
     "end_time": "2024-06-24T19:08:08.426185",
     "exception": false,
     "start_time": "2024-06-24T19:08:07.843510",
     "status": "completed"
    },
    "tags": []
   },
   "outputs": [
    {
     "name": "stderr",
     "output_type": "stream",
     "text": [
      "/opt/conda/lib/python3.10/site-packages/seaborn/_oldcore.py:1119: FutureWarning: use_inf_as_na option is deprecated and will be removed in a future version. Convert inf values to NaN before operating instead.\n",
      "  with pd.option_context('mode.use_inf_as_na', True):\n"
     ]
    },
    {
     "data": {
      "text/plain": [
       "<Axes: xlabel='Course', ylabel='Count'>"
      ]
     },
     "execution_count": 49,
     "metadata": {},
     "output_type": "execute_result"
    },
    {
     "data": {
      "image/png": "[encoded data removed]",
      "text/plain": [
       "<Figure size 640x480 with 1 Axes>"
      ]
     },
     "metadata": {},
     "output_type": "display_data"
    }
   ],
   "source": [
    "sns.histplot(df['Course'])"
   ]
  },
  {
   "cell_type": "code",
   "execution_count": 50,
   "id": "e372870d",
   "metadata": {
    "execution": {
     "iopub.execute_input": "2024-06-24T19:08:08.490802Z",
     "iopub.status.busy": "2024-06-24T19:08:08.490400Z",
     "iopub.status.idle": "2024-06-24T19:08:08.831831Z",
     "shell.execute_reply": "2024-06-24T19:08:08.830618Z"
    },
    "papermill": {
     "duration": 0.377439,
     "end_time": "2024-06-24T19:08:08.834894",
     "exception": false,
     "start_time": "2024-06-24T19:08:08.457455",
     "status": "completed"
    },
    "tags": []
   },
   "outputs": [
    {
     "name": "stderr",
     "output_type": "stream",
     "text": [
      "/opt/conda/lib/python3.10/site-packages/seaborn/_oldcore.py:1119: FutureWarning: use_inf_as_na option is deprecated and will be removed in a future version. Convert inf values to NaN before operating instead.\n",
      "  with pd.option_context('mode.use_inf_as_na', True):\n"
     ]
    },
    {
     "data": {
      "text/plain": [
       "<Axes: xlabel='Unemployment rate', ylabel='Count'>"
      ]
     },
     "execution_count": 50,
     "metadata": {},
     "output_type": "execute_result"
    },
    {
     "data": {
      "image/png": "[encoded data removed]",
      "text/plain": [
       "<Figure size 640x480 with 1 Axes>"
      ]
     },
     "metadata": {},
     "output_type": "display_data"
    }
   ],
   "source": [
    "sns.histplot(df['Unemployment rate'])"
   ]
  },
  {
   "cell_type": "code",
   "execution_count": 51,
   "id": "9e6c4579",
   "metadata": {
    "execution": {
     "iopub.execute_input": "2024-06-24T19:08:08.908706Z",
     "iopub.status.busy": "2024-06-24T19:08:08.908139Z",
     "iopub.status.idle": "2024-06-24T19:08:09.340418Z",
     "shell.execute_reply": "2024-06-24T19:08:09.339266Z"
    },
    "papermill": {
     "duration": 0.47314,
     "end_time": "2024-06-24T19:08:09.342986",
     "exception": false,
     "start_time": "2024-06-24T19:08:08.869846",
     "status": "completed"
    },
    "tags": []
   },
   "outputs": [
    {
     "name": "stderr",
     "output_type": "stream",
     "text": [
      "/opt/conda/lib/python3.10/site-packages/seaborn/_oldcore.py:1119: FutureWarning: use_inf_as_na option is deprecated and will be removed in a future version. Convert inf values to NaN before operating instead.\n",
      "  with pd.option_context('mode.use_inf_as_na', True):\n",
      "/opt/conda/lib/python3.10/site-packages/seaborn/_oldcore.py:1075: FutureWarning: When grouping with a length-1 list-like, you will need to pass a length-1 tuple to get_group in a future version of pandas. Pass `(name,)` instead of `name` to silence this warning.\n",
      "  data_subset = grouped_data.get_group(pd_key)\n",
      "/opt/conda/lib/python3.10/site-packages/seaborn/_oldcore.py:1075: FutureWarning: When grouping with a length-1 list-like, you will need to pass a length-1 tuple to get_group in a future version of pandas. Pass `(name,)` instead of `name` to silence this warning.\n",
      "  data_subset = grouped_data.get_group(pd_key)\n"
     ]
    },
    {
     "data": {
      "text/plain": [
       "<Axes: ylabel='Count'>"
      ]
     },
     "execution_count": 51,
     "metadata": {},
     "output_type": "execute_result"
    },
    {
     "data": {
      "image/png": "[encoded data removed]",
      "text/plain": [
       "<Figure size 640x480 with 1 Axes>"
      ]
     },
     "metadata": {},
     "output_type": "display_data"
    }
   ],
   "source": [
    "sns.histplot(df[['Curricular units 2nd sem (grade)']])"
   ]
  },
  {
   "cell_type": "code",
   "execution_count": 52,
   "id": "2b900adf",
   "metadata": {
    "execution": {
     "iopub.execute_input": "2024-06-24T19:08:09.407723Z",
     "iopub.status.busy": "2024-06-24T19:08:09.407315Z",
     "iopub.status.idle": "2024-06-24T19:08:09.620635Z",
     "shell.execute_reply": "2024-06-24T19:08:09.619353Z"
    },
    "papermill": {
     "duration": 0.248739,
     "end_time": "2024-06-24T19:08:09.623285",
     "exception": false,
     "start_time": "2024-06-24T19:08:09.374546",
     "status": "completed"
    },
    "tags": []
   },
   "outputs": [
    {
     "data": {
      "text/plain": [
       "<Axes: >"
      ]
     },
     "execution_count": 52,
     "metadata": {},
     "output_type": "execute_result"
    },
    {
     "data": {
      "image/png": "[encoded data removed]",
      "text/plain": [
       "<Figure size 640x480 with 1 Axes>"
      ]
     },
     "metadata": {},
     "output_type": "display_data"
    }
   ],
   "source": [
    "sns.boxplot(df[['Unemployment rate']])"
   ]
  },
  {
   "cell_type": "code",
   "execution_count": 53,
   "id": "340c106e",
   "metadata": {
    "execution": {
     "iopub.execute_input": "2024-06-24T19:08:09.691649Z",
     "iopub.status.busy": "2024-06-24T19:08:09.691141Z",
     "iopub.status.idle": "2024-06-24T19:08:10.469019Z",
     "shell.execute_reply": "2024-06-24T19:08:10.467819Z"
    },
    "papermill": {
     "duration": 0.814629,
     "end_time": "2024-06-24T19:08:10.471550",
     "exception": false,
     "start_time": "2024-06-24T19:08:09.656921",
     "status": "completed"
    },
    "tags": []
   },
   "outputs": [
    {
     "name": "stderr",
     "output_type": "stream",
     "text": [
      "/opt/conda/lib/python3.10/site-packages/seaborn/_oldcore.py:1119: FutureWarning: use_inf_as_na option is deprecated and will be removed in a future version. Convert inf values to NaN before operating instead.\n",
      "  with pd.option_context('mode.use_inf_as_na', True):\n",
      "/opt/conda/lib/python3.10/site-packages/seaborn/_oldcore.py:1119: FutureWarning: use_inf_as_na option is deprecated and will be removed in a future version. Convert inf values to NaN before operating instead.\n",
      "  with pd.option_context('mode.use_inf_as_na', True):\n"
     ]
    },
    {
     "data": {
      "text/plain": [
       "<Axes: xlabel='Application mode', ylabel='Application order'>"
      ]
     },
     "execution_count": 53,
     "metadata": {},
     "output_type": "execute_result"
    },
    {
     "data": {
      "image/png": "[encoded data removed]",
      "text/plain": [
       "<Figure size 640x480 with 1 Axes>"
      ]
     },
     "metadata": {},
     "output_type": "display_data"
    }
   ],
   "source": [
    "sns.lineplot(x='Application mode', y='Application order', data=df)"
   ]
  },
  {
   "cell_type": "code",
   "execution_count": 54,
   "id": "0f3b7798",
   "metadata": {
    "execution": {
     "iopub.execute_input": "2024-06-24T19:08:10.539396Z",
     "iopub.status.busy": "2024-06-24T19:08:10.538957Z",
     "iopub.status.idle": "2024-06-24T19:08:11.312726Z",
     "shell.execute_reply": "2024-06-24T19:08:11.311541Z"
    },
    "papermill": {
     "duration": 0.810482,
     "end_time": "2024-06-24T19:08:11.315092",
     "exception": false,
     "start_time": "2024-06-24T19:08:10.504610",
     "status": "completed"
    },
    "tags": []
   },
   "outputs": [
    {
     "name": "stderr",
     "output_type": "stream",
     "text": [
      "/opt/conda/lib/python3.10/site-packages/seaborn/_oldcore.py:1119: FutureWarning: use_inf_as_na option is deprecated and will be removed in a future version. Convert inf values to NaN before operating instead.\n",
      "  with pd.option_context('mode.use_inf_as_na', True):\n",
      "/opt/conda/lib/python3.10/site-packages/seaborn/_oldcore.py:1119: FutureWarning: use_inf_as_na option is deprecated and will be removed in a future version. Convert inf values to NaN before operating instead.\n",
      "  with pd.option_context('mode.use_inf_as_na', True):\n"
     ]
    },
    {
     "data": {
      "text/plain": [
       "<Axes: xlabel='Course', ylabel='Unemployment rate'>"
      ]
     },
     "execution_count": 54,
     "metadata": {},
     "output_type": "execute_result"
    },
    {
     "data": {
      "image/png": "[encoded data removed]",
      "text/plain": [
       "<Figure size 640x480 with 1 Axes>"
      ]
     },
     "metadata": {},
     "output_type": "display_data"
    }
   ],
   "source": [
    "sns.lineplot(x='Course', y='Unemployment rate', data=df)"
   ]
  },
  {
   "cell_type": "code",
   "execution_count": 55,
   "id": "01f8d2f0",
   "metadata": {
    "execution": {
     "iopub.execute_input": "2024-06-24T19:08:11.384255Z",
     "iopub.status.busy": "2024-06-24T19:08:11.383847Z",
     "iopub.status.idle": "2024-06-24T19:08:12.326665Z",
     "shell.execute_reply": "2024-06-24T19:08:12.325437Z"
    },
    "papermill": {
     "duration": 0.98042,
     "end_time": "2024-06-24T19:08:12.329287",
     "exception": false,
     "start_time": "2024-06-24T19:08:11.348867",
     "status": "completed"
    },
    "tags": []
   },
   "outputs": [
    {
     "data": {
      "text/plain": [
       "<Axes: xlabel='Course', ylabel='Unemployment rate'>"
      ]
     },
     "execution_count": 55,
     "metadata": {},
     "output_type": "execute_result"
    },
    {
     "data": {
      "image/png": "[encoded data removed]",
      "text/plain": [
       "<Figure size 640x480 with 1 Axes>"
      ]
     },
     "metadata": {},
     "output_type": "display_data"
    }
   ],
   "source": [
    "sns.barplot(x='Course', y='Unemployment rate', data=df)"
   ]
  },
  {
   "cell_type": "code",
   "execution_count": 56,
   "id": "a80ebed7",
   "metadata": {
    "execution": {
     "iopub.execute_input": "2024-06-24T19:08:12.400038Z",
     "iopub.status.busy": "2024-06-24T19:08:12.399620Z",
     "iopub.status.idle": "2024-06-24T19:08:13.286356Z",
     "shell.execute_reply": "2024-06-24T19:08:13.285250Z"
    },
    "papermill": {
     "duration": 0.925238,
     "end_time": "2024-06-24T19:08:13.288966",
     "exception": false,
     "start_time": "2024-06-24T19:08:12.363728",
     "status": "completed"
    },
    "tags": []
   },
   "outputs": [
    {
     "data": {
      "text/plain": [
       "<Axes: xlabel='Application mode', ylabel='Application order'>"
      ]
     },
     "execution_count": 56,
     "metadata": {},
     "output_type": "execute_result"
    },
    {
     "data": {
      "image/png": "[encoded data removed]",
      "text/plain": [
       "<Figure size 640x480 with 1 Axes>"
      ]
     },
     "metadata": {},
     "output_type": "display_data"
    }
   ],
   "source": [
    "sns.barplot(x='Application mode', y='Application order', data=df)"
   ]
  },
  {
   "cell_type": "code",
   "execution_count": 57,
   "id": "adc70439",
   "metadata": {
    "execution": {
     "iopub.execute_input": "2024-06-24T19:08:13.361995Z",
     "iopub.status.busy": "2024-06-24T19:08:13.360880Z",
     "iopub.status.idle": "2024-06-24T19:08:13.372688Z",
     "shell.execute_reply": "2024-06-24T19:08:13.371621Z"
    },
    "papermill": {
     "duration": 0.050978,
     "end_time": "2024-06-24T19:08:13.375248",
     "exception": false,
     "start_time": "2024-06-24T19:08:13.324270",
     "status": "completed"
    },
    "tags": []
   },
   "outputs": [
    {
     "data": {
      "text/plain": [
       "id                                                      2\n",
       "Marital status                                          1\n",
       "Application mode                                        1\n",
       "Application order                                       0\n",
       "Course                                                 33\n",
       "Daytime/evening attendance\\t                            0\n",
       "Previous qualification                                  1\n",
       "Previous qualification (grade)                       95.0\n",
       "Nacionality                                             1\n",
       "Mother's qualification                                  1\n",
       "Father's qualification                                  1\n",
       "Mother's occupation                                     0\n",
       "Father's occupation                                     0\n",
       "Admission grade                                      95.0\n",
       "Displaced                                               0\n",
       "Educational special needs                               0\n",
       "Debtor                                                  0\n",
       "Tuition fees up to date                                 0\n",
       "Gender                                                  0\n",
       "Scholarship holder                                      0\n",
       "Age at enrollment                                      17\n",
       "International                                           0\n",
       "Curricular units 1st sem (credited)                     0\n",
       "Curricular units 1st sem (enrolled)                     2\n",
       "Curricular units 1st sem (evaluations)                  0\n",
       "Curricular units 1st sem (approved)                     0\n",
       "Curricular units 1st sem (grade)                      0.0\n",
       "Curricular units 1st sem (without evaluations)          0\n",
       "Curricular units 2nd sem (credited)                     0\n",
       "Curricular units 2nd sem (enrolled)                     1\n",
       "Curricular units 2nd sem (evaluations)                  1\n",
       "Curricular units 2nd sem (approved)                     1\n",
       "Curricular units 2nd sem (grade)                     10.0\n",
       "Curricular units 2nd sem (without evaluations)          0\n",
       "Unemployment rate                                     7.6\n",
       "Inflation rate                                       -0.8\n",
       "GDP                                                 -4.06\n",
       "Target                                            Dropout\n",
       "dtype: object"
      ]
     },
     "execution_count": 57,
     "metadata": {},
     "output_type": "execute_result"
    }
   ],
   "source": [
    "df.min()"
   ]
  },
  {
   "cell_type": "code",
   "execution_count": 58,
   "id": "0547e9a9",
   "metadata": {
    "execution": {
     "iopub.execute_input": "2024-06-24T19:08:13.448106Z",
     "iopub.status.busy": "2024-06-24T19:08:13.447683Z",
     "iopub.status.idle": "2024-06-24T19:08:13.458655Z",
     "shell.execute_reply": "2024-06-24T19:08:13.457565Z"
    },
    "papermill": {
     "duration": 0.050579,
     "end_time": "2024-06-24T19:08:13.461288",
     "exception": false,
     "start_time": "2024-06-24T19:08:13.410709",
     "status": "completed"
    },
    "tags": []
   },
   "outputs": [
    {
     "data": {
      "text/plain": [
       "id                                                     4424\n",
       "Marital status                                            6\n",
       "Application mode                                         57\n",
       "Application order                                         9\n",
       "Course                                                 9991\n",
       "Daytime/evening attendance\\t                              1\n",
       "Previous qualification                                   43\n",
       "Previous qualification (grade)                        190.0\n",
       "Nacionality                                             109\n",
       "Mother's qualification                                   44\n",
       "Father's qualification                                   44\n",
       "Mother's occupation                                     194\n",
       "Father's occupation                                     195\n",
       "Admission grade                                       190.0\n",
       "Displaced                                                 1\n",
       "Educational special needs                                 1\n",
       "Debtor                                                    1\n",
       "Tuition fees up to date                                   1\n",
       "Gender                                                    1\n",
       "Scholarship holder                                        1\n",
       "Age at enrollment                                        62\n",
       "International                                             1\n",
       "Curricular units 1st sem (credited)                      20\n",
       "Curricular units 1st sem (enrolled)                      26\n",
       "Curricular units 1st sem (evaluations)                   45\n",
       "Curricular units 1st sem (approved)                      26\n",
       "Curricular units 1st sem (grade)                       18.0\n",
       "Curricular units 1st sem (without evaluations)           12\n",
       "Curricular units 2nd sem (credited)                      19\n",
       "Curricular units 2nd sem (enrolled)                      23\n",
       "Curricular units 2nd sem (evaluations)                   33\n",
       "Curricular units 2nd sem (approved)                      20\n",
       "Curricular units 2nd sem (grade)                  17.166667\n",
       "Curricular units 2nd sem (without evaluations)           12\n",
       "Unemployment rate                                      16.2\n",
       "Inflation rate                                          3.7\n",
       "GDP                                                    3.51\n",
       "Target                                             Graduate\n",
       "dtype: object"
      ]
     },
     "execution_count": 58,
     "metadata": {},
     "output_type": "execute_result"
    }
   ],
   "source": [
    "df.max()"
   ]
  },
  {
   "cell_type": "code",
   "execution_count": null,
   "id": "ab163253",
   "metadata": {
    "papermill": {
     "duration": 0.037525,
     "end_time": "2024-06-24T19:08:13.535366",
     "exception": false,
     "start_time": "2024-06-24T19:08:13.497841",
     "status": "completed"
    },
    "tags": []
   },
   "outputs": [],
   "source": []
  }
 ],
 "metadata": {
  "kaggle": {
   "accelerator": "none",
   "dataSources": [
    {
     "datasetId": 5127040,
     "sourceId": 8574205,
     "sourceType": "datasetVersion"
    }
   ],
   "dockerImageVersionId": 30732,
   "isGpuEnabled": false,
   "isInternetEnabled": false,
   "language": "python",
   "sourceType": "notebook"
  },
  "kernelspec": {
   "display_name": "Python 3",
   "language": "python",
   "name": "python3"
  },
  "language_info": {
   "codemirror_mode": {
    "name": "ipython",
    "version": 3
   },
   "file_extension": ".py",
   "mimetype": "text/x-python",
   "name": "python",
   "nbconvert_exporter": "python",
   "pygments_lexer": "ipython3",
   "version": "3.10.13"
  },
  "papermill": {
   "default_parameters": {},
   "duration": 19.029165,
   "end_time": "2024-06-24T19:08:14.293077",
   "environment_variables": {},
   "exception": null,
   "input_path": "__notebook__.ipynb",
   "output_path": "__notebook__.ipynb",
   "parameters": {},
   "start_time": "2024-06-24T19:07:55.263912",
   "version": "2.5.0"
  }
 },
 "nbformat": 4,
 "nbformat_minor": 5
}
