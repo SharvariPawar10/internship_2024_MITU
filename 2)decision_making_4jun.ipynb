{
 "cells": [
  {
   "cell_type": "code",
   "execution_count": 2,
   "id": "ac0f2c94-3feb-45eb-ace9-524a50ef7967",
   "metadata": {},
   "outputs": [
    {
     "name": "stdin",
     "output_type": "stream",
     "text": [
      "Enter the number  60\n"
     ]
    },
    {
     "name": "stdout",
     "output_type": "stream",
     "text": [
      "OK\n"
     ]
    }
   ],
   "source": [
    "# check if the number is greater than 50\n",
    "\n",
    "num = int(input('Enter the number '))\n",
    "\n",
    "if num > 50:\n",
    "    print('OK')"
   ]
  },
  {
   "cell_type": "code",
   "execution_count": 4,
   "id": "cb782af8-7134-46a5-8241-0a5f6707206a",
   "metadata": {},
   "outputs": [
    {
     "name": "stdin",
     "output_type": "stream",
     "text": [
      "Enter the number  -10\n"
     ]
    },
    {
     "name": "stdout",
     "output_type": "stream",
     "text": [
      "negative\n",
      "Goodbye!!!\n"
     ]
    }
   ],
   "source": [
    "# positive or negative\n",
    "\n",
    "num = int(input('Enter the number '))\n",
    "\n",
    "if num > 0:\n",
    "    print('Positive')\n",
    "    print('ok')\n",
    "else:\n",
    "    print('negative')\n",
    "    print('Goodbye!!!')"
   ]
  },
  {
   "cell_type": "code",
   "execution_count": 5,
   "id": "1f5baa66-8373-480a-8ed1-4652236ac7cf",
   "metadata": {},
   "outputs": [
    {
     "name": "stdin",
     "output_type": "stream",
     "text": [
      "Enter the number  0\n"
     ]
    },
    {
     "name": "stdout",
     "output_type": "stream",
     "text": [
      "Zero\n"
     ]
    }
   ],
   "source": [
    "num = int(input('Enter the number '))\n",
    "\n",
    "if num > 0:\n",
    "    print('positive')\n",
    "elif num == 0:\n",
    "    print('Zero')\n",
    "else:\n",
    "    print('Negative')"
   ]
  },
  {
   "cell_type": "code",
   "execution_count": 6,
   "id": "df4cb529-e2fe-42c6-b900-f6a1e5cc172a",
   "metadata": {},
   "outputs": [
    {
     "name": "stdin",
     "output_type": "stream",
     "text": [
      "Enter the number  10\n"
     ]
    },
    {
     "name": "stdout",
     "output_type": "stream",
     "text": [
      "EVEN\n"
     ]
    }
   ],
   "source": [
    "# check if the number is odd or even\n",
    "\n",
    "num = int(input('Enter the number '))\n",
    "\n",
    "if num % 2 == 0:\n",
    "    print('EVEN')\n",
    "else:\n",
    "    print('ODD')"
   ]
  },
  {
   "cell_type": "code",
   "execution_count": 7,
   "id": "dac2abcf-0e61-4007-9a94-e0c2de151fd3",
   "metadata": {},
   "outputs": [
    {
     "data": {
      "text/plain": [
       "1"
      ]
     },
     "execution_count": 7,
     "metadata": {},
     "output_type": "execute_result"
    }
   ],
   "source": [
    "int(True)"
   ]
  },
  {
   "cell_type": "code",
   "execution_count": 9,
   "id": "edf05c85-ba9b-4805-856b-ed736a959b65",
   "metadata": {},
   "outputs": [
    {
     "data": {
      "text/plain": [
       "0"
      ]
     },
     "execution_count": 9,
     "metadata": {},
     "output_type": "execute_result"
    }
   ],
   "source": [
    "int(False)"
   ]
  },
  {
   "cell_type": "code",
   "execution_count": 10,
   "id": "bfd8e8dc-653f-4d53-a43c-20e35cee5676",
   "metadata": {},
   "outputs": [
    {
     "data": {
      "text/plain": [
       "2"
      ]
     },
     "execution_count": 10,
     "metadata": {},
     "output_type": "execute_result"
    }
   ],
   "source": [
    "True + True - False"
   ]
  },
  {
   "cell_type": "code",
   "execution_count": 11,
   "id": "4fa80382-4d6a-48e7-989d-cdf793db28d4",
   "metadata": {},
   "outputs": [
    {
     "name": "stdout",
     "output_type": "stream",
     "text": [
      "!!!!!\n"
     ]
    }
   ],
   "source": [
    "a = 12\n",
    "\n",
    "if a:\n",
    "    print('!!!!!')"
   ]
  },
  {
   "cell_type": "code",
   "execution_count": 12,
   "id": "420d61c5-e86c-46ae-867f-38095218dc56",
   "metadata": {},
   "outputs": [
    {
     "name": "stdin",
     "output_type": "stream",
     "text": [
      "Enter the number  200\n"
     ]
    },
    {
     "name": "stdout",
     "output_type": "stream",
     "text": [
      "greater than 150\n"
     ]
    }
   ],
   "source": [
    "# check if the number is between 50 and 150\n",
    "num = int(input('Enter the number '))\n",
    "\n",
    "if num > 50:\n",
    "    if num < 150:\n",
    "        print('Correct')\n",
    "    else:\n",
    "        print('greater than 150')\n",
    "else:\n",
    "    print('Incorrect')"
   ]
  },
  {
   "cell_type": "code",
   "execution_count": 13,
   "id": "ef012ae8-57c4-4566-bfc7-36160b5769ba",
   "metadata": {},
   "outputs": [
    {
     "name": "stdin",
     "output_type": "stream",
     "text": [
      "Enter the number  5\n"
     ]
    },
    {
     "name": "stdout",
     "output_type": "stream",
     "text": [
      "Incorrect\n"
     ]
    }
   ],
   "source": [
    "num = int(input('Enter the number '))\n",
    "\n",
    "if num > 50 and num < 150:\n",
    "    print('Correct')\n",
    "else:\n",
    "    print('Incorrect')"
   ]
  },
  {
   "cell_type": "code",
   "execution_count": 15,
   "id": "7cbd16b7-f3a0-46bb-b901-b16ecf47d0c6",
   "metadata": {},
   "outputs": [
    {
     "name": "stdin",
     "output_type": "stream",
     "text": [
      "Enter the purchase cost  500\n",
      "Enter the selling cost  2500\n"
     ]
    },
    {
     "name": "stdout",
     "output_type": "stream",
     "text": [
      "Profit: 2000\n"
     ]
    }
   ],
   "source": [
    "# read selling cost and purchase cost\n",
    "# find profit or loss and how much ?\n",
    "\n",
    "purchase_cost = int(input('Enter the purchase cost '))\n",
    "selling_cost = int(input('Enter the selling cost '))\n",
    "\n",
    "if selling_cost > purchase_cost:\n",
    "    print('Profit:', selling_cost - purchase_cost)\n",
    "else:\n",
    "    print('Loss:', purchase_cost - selling_cost)"
   ]
  },
  {
   "cell_type": "code",
   "execution_count": 16,
   "id": "47c5f5e2-2cca-4971-afbc-b8c1cf0a1d18",
   "metadata": {},
   "outputs": [
    {
     "name": "stdin",
     "output_type": "stream",
     "text": [
      "Enter the 1st number  10\n",
      "Enter the 2nd number  2\n",
      "Enter the 3rd number  7\n"
     ]
    },
    {
     "name": "stdout",
     "output_type": "stream",
     "text": [
      "Largest is num1 10\n"
     ]
    }
   ],
   "source": [
    "# find the largest of 3 numbers\n",
    "# 'and', 'or' not allowed\n",
    "\n",
    "num1 = int(input('Enter the 1st number '))\n",
    "num2 = int(input('Enter the 2nd number '))\n",
    "num3 = int(input('Enter the 3rd number '))\n",
    "\n",
    "if num1 > num2:\n",
    "    if num1 > num3:\n",
    "        print('Largest is num1', num1)\n",
    "    else:\n",
    "        print('Largest is num3', num3)\n",
    "else:\n",
    "    if num2 > num3:\n",
    "        print('Largest is num2', num2)\n",
    "    else:\n",
    "        print('Largest is num3', num3)"
   ]
  },
  {
   "cell_type": "code",
   "execution_count": 17,
   "id": "46159242-9e58-4b25-92ff-9a3b3c8d18da",
   "metadata": {},
   "outputs": [
    {
     "name": "stdin",
     "output_type": "stream",
     "text": [
      "Enter the year  2007\n"
     ]
    },
    {
     "name": "stdout",
     "output_type": "stream",
     "text": [
      "Not Leap\n"
     ]
    }
   ],
   "source": [
    "# 2020 => Leap Year\n",
    "# 2018 => Not leap\n",
    "# 2000 => leap\n",
    "# 1800 => not leap => century year\n",
    "\n",
    "year = int(input('Enter the year '))\n",
    "\n",
    "if year % 4 == 0:\n",
    "    if year % 100 == 0:\n",
    "        if year % 400 == 0:\n",
    "            print('Leap Century Year')\n",
    "        else:\n",
    "            print('Century but not leap')\n",
    "    else:\n",
    "        print('Leap Year')\n",
    "else:\n",
    "    print('Not Leap')"
   ]
  },
  {
   "cell_type": "code",
   "execution_count": 18,
   "id": "1c0e3bda-afeb-4b2f-b54a-287b1cf26343",
   "metadata": {},
   "outputs": [
    {
     "name": "stdin",
     "output_type": "stream",
     "text": [
      "Enter the marks of physics  95\n",
      "Enter the marks of chemistry  85\n",
      "Enter the marks of biology  90\n",
      "Enter the marks of maths  89\n",
      "Enter the marks of computer  100\n"
     ]
    },
    {
     "name": "stdout",
     "output_type": "stream",
     "text": [
      "Grade A\n"
     ]
    }
   ],
   "source": [
    "'''Write a Python program to input marks of five subjects\n",
    "Physics, Chemistry,\n",
    "Biology, Mathematics and Computer. Calculate percentage \n",
    "and grade\n",
    "according to following:\n",
    "Percentage >= 90% : Grade A\n",
    "Percentage >= 80% : Grade B\n",
    "Percentage >= 70% : Grade C\n",
    "Percentage >= 60% : Grade D\n",
    "Percentage >= 40% : Grade E\n",
    "Percentage < 40% : Grade F\n",
    "'''\n",
    "\n",
    "phys = float(input('Enter the marks of physics '))\n",
    "chem = float(input('Enter the marks of chemistry '))\n",
    "bio = float(input('Enter the marks of biology '))\n",
    "maths = float(input('Enter the marks of maths '))\n",
    "comp = float(input('Enter the marks of computer '))\n",
    "\n",
    "perc = ((phys + chem + bio + maths + comp)/500) * 100\n",
    "\n",
    "if perc >= 90:\n",
    "    print('Grade A')\n",
    "elif perc >= 80:\n",
    "    print('Grade B')\n",
    "elif perc >= 70:\n",
    "    print('Grade C')\n",
    "elif perc >= 60:\n",
    "    print('Grade D')\n",
    "elif perc >= 40:\n",
    "    print('Grade E')\n",
    "else:\n",
    "    print('Fail')"
   ]
  },
  {
   "cell_type": "code",
   "execution_count": 19,
   "id": "1977ad3e-a85c-4906-adf3-6e0be7c381a3",
   "metadata": {},
   "outputs": [
    {
     "name": "stdin",
     "output_type": "stream",
     "text": [
      "Enter the number  10\n"
     ]
    },
    {
     "name": "stdout",
     "output_type": "stream",
     "text": [
      "MENU\n",
      "1.Square\n",
      "2.Cube\n",
      "3.Check +ve or -ve\n"
     ]
    },
    {
     "name": "stdin",
     "output_type": "stream",
     "text": [
      "Enter your choice  9\n"
     ]
    },
    {
     "name": "stdout",
     "output_type": "stream",
     "text": [
      "OOPS! you must've forgotten ur sepcs or brain :)\n"
     ]
    }
   ],
   "source": [
    "# Menu driven\n",
    "\n",
    "'''\n",
    "take a number and based on the choice perform\n",
    "1.square, 2.cube and 3. check positive or negative\n",
    "'''\n",
    "\n",
    "num = int(input('Enter the number '))\n",
    "\n",
    "print(\"MENU\\n1.Square\\n2.Cube\\n3.Check +ve or -ve\")\n",
    "\n",
    "choice = int(input('Enter your choice '))\n",
    "\n",
    "if choice == 1:\n",
    "    print('Square is', num * num)\n",
    "elif choice == 2:\n",
    "    print('Cube is', num ** 3)\n",
    "elif choice == 3:\n",
    "    if num > 0:\n",
    "        print('Positive')\n",
    "    else:\n",
    "        print('Negative')\n",
    "else:\n",
    "    print(\"OOPS! you must've forgotten ur sepcs or brain :)\")"
   ]
  },
  {
   "cell_type": "code",
   "execution_count": 22,
   "id": "8d251f61-0543-4d8a-83a6-b32df7c84aea",
   "metadata": {},
   "outputs": [],
   "source": [
    "#take 2 numbers and based on the choice perform\n",
    "#1.Addition, 2.floor div and 3. check which one is largest\n"
   ]
  }
 ],
 "metadata": {
  "kernelspec": {
   "display_name": "Python 3 (ipykernel)",
   "language": "python",
   "name": "python3"
  },
  "language_info": {
   "codemirror_mode": {
    "name": "ipython",
    "version": 3
   },
   "file_extension": ".py",
   "mimetype": "text/x-python",
   "name": "python",
   "nbconvert_exporter": "python",
   "pygments_lexer": "ipython3",
   "version": "3.11.7"
  }
 },
 "nbformat": 4,
 "nbformat_minor": 5
}
