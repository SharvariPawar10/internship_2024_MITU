{
 "cells": [
  {
   "cell_type": "code",
   "execution_count": 1,
   "id": "93547452-5961-41b0-b1b8-5a2321a12def",
   "metadata": {},
   "outputs": [
    {
     "ename": "FileNotFoundError",
     "evalue": "[Errno 2] No such file or directory: 'all.txt'",
     "output_type": "error",
     "traceback": [
      "\u001b[1;31m---------------------------------------------------------------------------\u001b[0m",
      "\u001b[1;31mFileNotFoundError\u001b[0m                         Traceback (most recent call last)",
      "Cell \u001b[1;32mIn[1], line 1\u001b[0m\n\u001b[1;32m----> 1\u001b[0m f \u001b[38;5;241m=\u001b[39m \u001b[38;5;28mopen\u001b[39m(\u001b[38;5;124m'\u001b[39m\u001b[38;5;124mall.txt\u001b[39m\u001b[38;5;124m'\u001b[39m)\n",
      "File \u001b[1;32m~\\anaconda3\\Lib\\site-packages\\IPython\\core\\interactiveshell.py:310\u001b[0m, in \u001b[0;36m_modified_open\u001b[1;34m(file, *args, **kwargs)\u001b[0m\n\u001b[0;32m    303\u001b[0m \u001b[38;5;28;01mif\u001b[39;00m file \u001b[38;5;129;01min\u001b[39;00m {\u001b[38;5;241m0\u001b[39m, \u001b[38;5;241m1\u001b[39m, \u001b[38;5;241m2\u001b[39m}:\n\u001b[0;32m    304\u001b[0m     \u001b[38;5;28;01mraise\u001b[39;00m \u001b[38;5;167;01mValueError\u001b[39;00m(\n\u001b[0;32m    305\u001b[0m         \u001b[38;5;124mf\u001b[39m\u001b[38;5;124m\"\u001b[39m\u001b[38;5;124mIPython won\u001b[39m\u001b[38;5;124m'\u001b[39m\u001b[38;5;124mt let you open fd=\u001b[39m\u001b[38;5;132;01m{\u001b[39;00mfile\u001b[38;5;132;01m}\u001b[39;00m\u001b[38;5;124m by default \u001b[39m\u001b[38;5;124m\"\u001b[39m\n\u001b[0;32m    306\u001b[0m         \u001b[38;5;124m\"\u001b[39m\u001b[38;5;124mas it is likely to crash IPython. If you know what you are doing, \u001b[39m\u001b[38;5;124m\"\u001b[39m\n\u001b[0;32m    307\u001b[0m         \u001b[38;5;124m\"\u001b[39m\u001b[38;5;124myou can use builtins\u001b[39m\u001b[38;5;124m'\u001b[39m\u001b[38;5;124m open.\u001b[39m\u001b[38;5;124m\"\u001b[39m\n\u001b[0;32m    308\u001b[0m     )\n\u001b[1;32m--> 310\u001b[0m \u001b[38;5;28;01mreturn\u001b[39;00m io_open(file, \u001b[38;5;241m*\u001b[39margs, \u001b[38;5;241m*\u001b[39m\u001b[38;5;241m*\u001b[39mkwargs)\n",
      "\u001b[1;31mFileNotFoundError\u001b[0m: [Errno 2] No such file or directory: 'all.txt'"
     ]
    }
   ],
   "source": [
    "f = open('all.txt')"
   ]
  },
  {
   "cell_type": "code",
   "execution_count": 2,
   "id": "b9b89b0f-544d-4754-bde3-b764c8a8dc3b",
   "metadata": {},
   "outputs": [
    {
     "name": "stdout",
     "output_type": "stream",
     "text": [
      "there is no such file\n"
     ]
    }
   ],
   "source": [
    "try:\n",
    "    f= open('all.txt')\n",
    "except Exception:\n",
    "    print('there is no such file')"
   ]
  },
  {
   "cell_type": "code",
   "execution_count": 5,
   "id": "e5bbbcbf-49ec-4981-9c37-f68673951a4b",
   "metadata": {},
   "outputs": [
    {
     "name": "stdout",
     "output_type": "stream",
     "text": [
      "there is no such file\n"
     ]
    }
   ],
   "source": [
    "try:\n",
    "    f = open('all.txt')\n",
    "    var=var1\n",
    "except Exception:\n",
    "    print('there is no such file')"
   ]
  },
  {
   "cell_type": "code",
   "execution_count": 6,
   "id": "6e460bfc-9e69-4676-a6fb-e2191a2470a0",
   "metadata": {},
   "outputs": [
    {
     "name": "stdout",
     "output_type": "stream",
     "text": [
      "there is no such file\n"
     ]
    }
   ],
   "source": [
    "try:\n",
    "    f=open('abc.txt')\n",
    "    var=var1\n",
    "except FileNotFoundError:\n",
    "    print('there is no such file')"
   ]
  },
  {
   "cell_type": "code",
   "execution_count": 7,
   "id": "d4844d6c-ed07-4b63-8c0f-a53f95941e21",
   "metadata": {},
   "outputs": [
    {
     "name": "stdout",
     "output_type": "stream",
     "text": [
      "there is no such file\n"
     ]
    }
   ],
   "source": [
    "try:\n",
    "    f=open('abc.txt')\n",
    "    var=var1\n",
    "except FileNotFoundError:\n",
    "    print('there is no such file')\n",
    "except NameError:\n",
    "    print('invalid')"
   ]
  },
  {
   "cell_type": "code",
   "execution_count": 8,
   "id": "ced408b7-e186-45aa-b3fd-e54fb394a390",
   "metadata": {},
   "outputs": [
    {
     "name": "stdout",
     "output_type": "stream",
     "text": [
      "there is no such file\n"
     ]
    }
   ],
   "source": [
    "try:\n",
    "    f=open('abc.txt')\n",
    "    var=var1\n",
    "except FileNotFoundError:\n",
    "    print('there is no such file')\n",
    "except Exeception as e:\n",
    "    print(e)"
   ]
  },
  {
   "cell_type": "code",
   "execution_count": 9,
   "id": "b71c674b-e748-45db-a6e8-78bb91a1dc70",
   "metadata": {},
   "outputs": [
    {
     "name": "stdout",
     "output_type": "stream",
     "text": [
      "This article is about the city in India. For its namesake district, see Pune district. For other uses, see Pune (disambiguation).\n",
      "\"Poona\" redirects here. For other uses, see Poona (disambiguation).\n",
      "Not to be confused with Puno.\n",
      "Pune  is a city in Maharashtra state in the Deccan plateau in Western India. It is the administrative headquarters of the Pune district, and of Pune division. According to the 2011 Census of India, Pune has 7.2 million residents in the metropolitan region, making it the eighth-most populous metropolitan area in India.The city of Pune is part of Pune Metropolitan Region. Pune is one of the largest IT hubs in India. It is also one of the most important automobile and manufacturing hubs of India. Pune is often referred to as the \"Oxford of the East\" because of its highly regarded educational institutions.It has been ranked \"the most liveable city in India\" several times.\n",
      "\n",
      "Pune at different points in time has been ruled by the Rashtrakuta dynasty, Ahmadnagar Sultanate, the Mughals, and the Adil Shahi dynasty. In the 18th century, the city was part of the Maratha Empire, and the seat of the Peshwas, the prime ministers of the Maratha Empire. Many historical landmarks like Pataleshwar caves, Shaniwarwada, Shinde Chhatri, and Vishrambaug Wada date to this era. Historical sites from different eras dot the city.\n",
      "\n",
      "Pune has historically been a major cultural centre, with important figures like Dnyaneshwar, Shivaji, Tukaram, Baji Rao I, Balaji Baji Rao, Madhavrao I, Nana Fadnavis, Mahadev Govind Ranade, Gopal Krishna Gokhale, Mahatma Jyotirao Phule, Savitribai Phule, Gopal Ganesh Agarkar, Tarabai Shinde, Dhondo Keshav Karve, and Pandita Ramabai doing their life's work in Pune City or in an area that falls in Pune Metropolitan Region. Pune was a major centre of resistance to British Raj, with people like Gopal Krishna Gokhale, Bal Gangadhar Tilak and Vinayak Damodar Savarkar playing leading roles in struggle for Indian independence in their times.\n"
     ]
    }
   ],
   "source": [
    "try:\n",
    "    f=open('pune.txt')\n",
    "except FileNotFoundError:\n",
    "    print('there is no such file')\n",
    "else:\n",
    "    print(f.read())\n",
    "    f.close()"
   ]
  },
  {
   "cell_type": "code",
   "execution_count": 10,
   "id": "5027af46-6f9a-48c4-bf17-bc9ff3f46380",
   "metadata": {},
   "outputs": [
    {
     "name": "stdout",
     "output_type": "stream",
     "text": [
      "there is no such file\n",
      "Finally\n"
     ]
    }
   ],
   "source": [
    "try:\n",
    "    f=open('file.txt')\n",
    "except FileNotFoundError:\n",
    "    print('there is no such file')\n",
    "else:\n",
    "    print('ok')\n",
    "finally:\n",
    "    print('Finally')"
   ]
  }
 ],
 "metadata": {
  "kernelspec": {
   "display_name": "Python 3 (ipykernel)",
   "language": "python",
   "name": "python3"
  },
  "language_info": {
   "codemirror_mode": {
    "name": "ipython",
    "version": 3
   },
   "file_extension": ".py",
   "mimetype": "text/x-python",
   "name": "python",
   "nbconvert_exporter": "python",
   "pygments_lexer": "ipython3",
   "version": "3.11.7"
  }
 },
 "nbformat": 4,
 "nbformat_minor": 5
}
