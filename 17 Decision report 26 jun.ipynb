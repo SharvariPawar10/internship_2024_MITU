{
 "cells": [
  {
   "cell_type": "markdown",
   "id": "d12525b2-27ca-45df-aea3-ac4999f528e2",
   "metadata": {},
   "source": [
    "import pandas as pd"
   ]
  },
  {
   "cell_type": "code",
   "execution_count": 20,
   "id": "5b134c7f-e388-4075-844d-508aec3ffdf6",
   "metadata": {},
   "outputs": [],
   "source": [
    "actual    = ['c','c','nc','c','nc','nc','c','nc','nc']\n",
    "predicted = ['c','nc','nc','c','nc','c','nc','c','nc']"
   ]
  },
  {
   "cell_type": "markdown",
   "id": "bdc15aeb-9cb8-4864-abe0-73a8d21c067d",
   "metadata": {},
   "source": [
    "## for cat"
   ]
  },
  {
   "cell_type": "code",
   "execution_count": 13,
   "id": "2c975ef4-2cde-49c7-a57b-bc1c021ca798",
   "metadata": {},
   "outputs": [],
   "source": [
    "tp = 2 # pred cat actual cat"
   ]
  },
  {
   "cell_type": "code",
   "execution_count": 12,
   "id": "a2ca2013-c9d7-4ba2-9715-d20cb5d10108",
   "metadata": {},
   "outputs": [],
   "source": [
    "fp=2 # pred cat actual not cat"
   ]
  },
  {
   "cell_type": "code",
   "execution_count": 11,
   "id": "65c7205a-0533-4de1-a1d0-47ac3761dfd4",
   "metadata": {},
   "outputs": [],
   "source": [
    "fn = 2 # pred not cat acutal cat"
   ]
  },
  {
   "cell_type": "code",
   "execution_count": 14,
   "id": "a0855e3e-17da-497d-b149-bee35d6eb44d",
   "metadata": {},
   "outputs": [],
   "source": [
    "tn=3 # pred not cat actual not cat"
   ]
  },
  {
   "cell_type": "code",
   "execution_count": 22,
   "id": "0194e28e-0368-4436-974b-507570fa9a7c",
   "metadata": {},
   "outputs": [
    {
     "data": {
      "text/plain": [
       "0.5"
      ]
     },
     "execution_count": 22,
     "metadata": {},
     "output_type": "execute_result"
    }
   ],
   "source": [
    "# precision \n",
    "\n",
    "precision = 2/4\n",
    "precision"
   ]
  },
  {
   "cell_type": "code",
   "execution_count": 16,
   "id": "b0cabdac-59a2-4869-8ddf-b9e6acae0d22",
   "metadata": {},
   "outputs": [
    {
     "data": {
      "text/plain": [
       "0.5"
      ]
     },
     "execution_count": 16,
     "metadata": {},
     "output_type": "execute_result"
    }
   ],
   "source": [
    "# recall\n",
    "\n",
    "recall = 2/4\n",
    "recall"
   ]
  },
  {
   "cell_type": "code",
   "execution_count": 23,
   "id": "7f35ffe0-4df4-4507-822a-54a8172e753c",
   "metadata": {},
   "outputs": [
    {
     "data": {
      "text/plain": [
       "0.5"
      ]
     },
     "execution_count": 23,
     "metadata": {},
     "output_type": "execute_result"
    }
   ],
   "source": [
    "# f1-score\n",
    "\n",
    "#harmonic mean between precision and recall\n",
    "\n",
    "(2 * precision * recall) / (precision + recall)"
   ]
  },
  {
   "cell_type": "code",
   "execution_count": null,
   "id": "b4b4ad3d-3a3c-48db-997d-36afc3069688",
   "metadata": {},
   "outputs": [],
   "source": []
  }
 ],
 "metadata": {
  "kernelspec": {
   "display_name": "Python 3 (ipykernel)",
   "language": "python",
   "name": "python3"
  },
  "language_info": {
   "codemirror_mode": {
    "name": "ipython",
    "version": 3
   },
   "file_extension": ".py",
   "mimetype": "text/x-python",
   "name": "python",
   "nbconvert_exporter": "python",
   "pygments_lexer": "ipython3",
   "version": "3.11.7"
  }
 },
 "nbformat": 4,
 "nbformat_minor": 5
}
