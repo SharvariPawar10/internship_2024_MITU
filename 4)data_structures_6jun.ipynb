{
 "cells": [
  {
   "cell_type": "markdown",
   "id": "8c9f6595-26ae-48c2-8952-9a7b82013aec",
   "metadata": {},
   "source": [
    "### List"
   ]
  },
  {
   "cell_type": "code",
   "execution_count": 1,
   "id": "b7542893-d191-40ca-9d70-a4ee62bcc768",
   "metadata": {},
   "outputs": [],
   "source": [
    "l = [12, 23, 34, 45, 17]"
   ]
  },
  {
   "cell_type": "code",
   "execution_count": 2,
   "id": "eaa73a22-82ac-4a8d-9f97-e3183a087ab0",
   "metadata": {},
   "outputs": [
    {
     "name": "stdout",
     "output_type": "stream",
     "text": [
      "[12, 23, 34, 45, 17]\n"
     ]
    }
   ],
   "source": [
    "print(l)"
   ]
  },
  {
   "cell_type": "code",
   "execution_count": 3,
   "id": "781ebe36-283b-4397-947b-6b29d1c39c6b",
   "metadata": {},
   "outputs": [
    {
     "data": {
      "text/plain": [
       "list"
      ]
     },
     "execution_count": 3,
     "metadata": {},
     "output_type": "execute_result"
    }
   ],
   "source": [
    "type(l)"
   ]
  },
  {
   "cell_type": "code",
   "execution_count": 4,
   "id": "1b62668d-eb05-4123-a2bd-ba5c83cebfd3",
   "metadata": {},
   "outputs": [],
   "source": [
    "l = [12, 23, 34, 45, 17, 12]"
   ]
  },
  {
   "cell_type": "code",
   "execution_count": 5,
   "id": "77d8a26f-47ac-4e06-9327-24eb19a137a0",
   "metadata": {},
   "outputs": [
    {
     "name": "stdout",
     "output_type": "stream",
     "text": [
      "[12, 23, 34, 45, 17, 12]\n"
     ]
    }
   ],
   "source": [
    "print(l)"
   ]
  },
  {
   "cell_type": "code",
   "execution_count": 6,
   "id": "2782fc8f-ec45-4c34-a7e5-1144c7f9121a",
   "metadata": {},
   "outputs": [],
   "source": [
    "l = [12, 23, 34, 45, 17, 12,'sharvari',True]\n"
   ]
  },
  {
   "cell_type": "code",
   "execution_count": 7,
   "id": "5bf10950-4a66-49a4-ab84-3c6336198f2d",
   "metadata": {},
   "outputs": [
    {
     "name": "stdout",
     "output_type": "stream",
     "text": [
      "[12, 23, 34, 45, 17, 12, 'sharvari', True]\n"
     ]
    }
   ],
   "source": [
    "print(l)"
   ]
  },
  {
   "cell_type": "code",
   "execution_count": 8,
   "id": "d8ce304d-f14a-4ed3-9f3a-0fcfa8fd1cf1",
   "metadata": {},
   "outputs": [
    {
     "data": {
      "text/plain": [
       "12"
      ]
     },
     "execution_count": 8,
     "metadata": {},
     "output_type": "execute_result"
    }
   ],
   "source": [
    "# access the data\n",
    "# lists are ordered\n",
    "l[0]"
   ]
  },
  {
   "cell_type": "code",
   "execution_count": 9,
   "id": "193ba5dc-5574-4371-8f86-675b031b6047",
   "metadata": {},
   "outputs": [
    {
     "data": {
      "text/plain": [
       "12"
      ]
     },
     "execution_count": 9,
     "metadata": {},
     "output_type": "execute_result"
    }
   ],
   "source": [
    "l[5]"
   ]
  },
  {
   "cell_type": "code",
   "execution_count": 10,
   "id": "130e2ffd-23ed-4ef3-b381-bdcfe95339b0",
   "metadata": {},
   "outputs": [
    {
     "data": {
      "text/plain": [
       "True"
      ]
     },
     "execution_count": 10,
     "metadata": {},
     "output_type": "execute_result"
    }
   ],
   "source": [
    "l[-1]"
   ]
  },
  {
   "cell_type": "code",
   "execution_count": 11,
   "id": "d70320dd-f790-4028-9be4-ea0dcb72f241",
   "metadata": {},
   "outputs": [],
   "source": [
    "l[-1] = 57 # changing the value => mutable"
   ]
  },
  {
   "cell_type": "code",
   "execution_count": 12,
   "id": "4f1705ac-28b3-4423-b591-cc87beb09c6a",
   "metadata": {},
   "outputs": [
    {
     "data": {
      "text/plain": [
       "[12, 23, 34, 45, 17, 12, 'sharvari', 57]"
      ]
     },
     "execution_count": 12,
     "metadata": {},
     "output_type": "execute_result"
    }
   ],
   "source": [
    "l"
   ]
  },
  {
   "cell_type": "code",
   "execution_count": 13,
   "id": "03b57649-da5a-4b0d-9a4c-3d4ba98ffefa",
   "metadata": {},
   "outputs": [],
   "source": [
    "l[-2] = 10"
   ]
  },
  {
   "cell_type": "code",
   "execution_count": 14,
   "id": "e90565b0-04bc-4145-abe1-e02cbca5bbad",
   "metadata": {},
   "outputs": [
    {
     "data": {
      "text/plain": [
       "[12, 23, 34, 45, 17, 12, 10, 57]"
      ]
     },
     "execution_count": 14,
     "metadata": {},
     "output_type": "execute_result"
    }
   ],
   "source": [
    "l"
   ]
  },
  {
   "cell_type": "markdown",
   "id": "3ba248e2-af37-4d30-b901-845906252c5a",
   "metadata": {},
   "source": [
    "#### list slicing"
   ]
  },
  {
   "cell_type": "code",
   "execution_count": 15,
   "id": "bc591aae-6a52-4b93-b188-d7c85df5118d",
   "metadata": {},
   "outputs": [
    {
     "data": {
      "text/plain": [
       "[12, 23, 34, 45, 17, 12, 10, 57]"
      ]
     },
     "execution_count": 15,
     "metadata": {},
     "output_type": "execute_result"
    }
   ],
   "source": [
    "l"
   ]
  },
  {
   "cell_type": "code",
   "execution_count": 16,
   "id": "05845541-cb46-48dc-9677-b13177fc9b8e",
   "metadata": {},
   "outputs": [
    {
     "data": {
      "text/plain": [
       "[34, 45, 17, 12]"
      ]
     },
     "execution_count": 16,
     "metadata": {},
     "output_type": "execute_result"
    }
   ],
   "source": [
    "l[2:6]"
   ]
  },
  {
   "cell_type": "code",
   "execution_count": 17,
   "id": "2de57abd-c6b1-45b4-881f-e4f4e81c949b",
   "metadata": {},
   "outputs": [
    {
     "data": {
      "text/plain": [
       "[34, 45, 17, 12]"
      ]
     },
     "execution_count": 17,
     "metadata": {},
     "output_type": "execute_result"
    }
   ],
   "source": [
    "x = l[2:6]\n",
    "x"
   ]
  },
  {
   "cell_type": "code",
   "execution_count": 18,
   "id": "b2455f36-cda1-47b9-92a4-86ec05330536",
   "metadata": {},
   "outputs": [
    {
     "data": {
      "text/plain": [
       "[34, 45, 17, 12, 10, 57]"
      ]
     },
     "execution_count": 18,
     "metadata": {},
     "output_type": "execute_result"
    }
   ],
   "source": [
    "l[2:]"
   ]
  },
  {
   "cell_type": "code",
   "execution_count": 19,
   "id": "e47817fa-2fc2-45cd-a628-77cd45f73f6b",
   "metadata": {},
   "outputs": [
    {
     "data": {
      "text/plain": [
       "[12, 23, 34, 45, 17, 12]"
      ]
     },
     "execution_count": 19,
     "metadata": {},
     "output_type": "execute_result"
    }
   ],
   "source": [
    "l[:-2]"
   ]
  },
  {
   "cell_type": "code",
   "execution_count": 20,
   "id": "349b242d-16ba-4d89-99db-276eb874130f",
   "metadata": {},
   "outputs": [
    {
     "data": {
      "text/plain": [
       "[23, 45]"
      ]
     },
     "execution_count": 20,
     "metadata": {},
     "output_type": "execute_result"
    }
   ],
   "source": [
    "l[1:-3:2]"
   ]
  },
  {
   "cell_type": "code",
   "execution_count": 21,
   "id": "d7fc604d-22a2-457f-889e-6d183a91e46d",
   "metadata": {},
   "outputs": [
    {
     "data": {
      "text/plain": [
       "[12, 34, 17, 10]"
      ]
     },
     "execution_count": 21,
     "metadata": {},
     "output_type": "execute_result"
    }
   ],
   "source": [
    "l[::2]"
   ]
  },
  {
   "cell_type": "code",
   "execution_count": 22,
   "id": "09204c59-cca7-4567-84cf-1df097872fee",
   "metadata": {},
   "outputs": [
    {
     "data": {
      "text/plain": [
       "[12, 23, 34, 45, 17, 12, 10, 57]"
      ]
     },
     "execution_count": 22,
     "metadata": {},
     "output_type": "execute_result"
    }
   ],
   "source": [
    "l"
   ]
  },
  {
   "cell_type": "code",
   "execution_count": 23,
   "id": "7fe894a5-19ba-4d01-989e-9b894a2338be",
   "metadata": {},
   "outputs": [],
   "source": [
    "l[1:4] = [45, 67, 82]"
   ]
  },
  {
   "cell_type": "code",
   "execution_count": 24,
   "id": "a66365b0-c138-4ec1-aff1-b89e02491673",
   "metadata": {},
   "outputs": [
    {
     "data": {
      "text/plain": [
       "[12, 45, 67, 82, 17, 12, 10, 57]"
      ]
     },
     "execution_count": 24,
     "metadata": {},
     "output_type": "execute_result"
    }
   ],
   "source": [
    "l"
   ]
  },
  {
   "cell_type": "code",
   "execution_count": 25,
   "id": "6d864015-063c-4d8e-b1f4-55b5212a58c3",
   "metadata": {},
   "outputs": [],
   "source": [
    "# delete the data"
   ]
  },
  {
   "cell_type": "code",
   "execution_count": 26,
   "id": "7a971346-967d-475a-937b-f66db769cb2b",
   "metadata": {},
   "outputs": [],
   "source": [
    "del l[1]"
   ]
  },
  {
   "cell_type": "code",
   "execution_count": 27,
   "id": "6aaa12cd-8910-4f42-bf33-3c1f670463b8",
   "metadata": {},
   "outputs": [
    {
     "data": {
      "text/plain": [
       "[12, 67, 82, 17, 12, 10, 57]"
      ]
     },
     "execution_count": 27,
     "metadata": {},
     "output_type": "execute_result"
    }
   ],
   "source": [
    "l"
   ]
  },
  {
   "cell_type": "code",
   "execution_count": 28,
   "id": "3c110005-3b84-432d-abf3-f5c9eb3b91d2",
   "metadata": {},
   "outputs": [],
   "source": [
    "new = [34, 32, 56]"
   ]
  },
  {
   "cell_type": "code",
   "execution_count": 29,
   "id": "5fbb2784-c6eb-4a50-8267-9a110ed71d94",
   "metadata": {},
   "outputs": [],
   "source": [
    "del new"
   ]
  },
  {
   "cell_type": "code",
   "execution_count": 30,
   "id": "cdb77256-97ab-44e9-880f-497069ab3e08",
   "metadata": {},
   "outputs": [
    {
     "ename": "NameError",
     "evalue": "name 'new' is not defined",
     "output_type": "error",
     "traceback": [
      "\u001b[1;31m---------------------------------------------------------------------------\u001b[0m",
      "\u001b[1;31mNameError\u001b[0m                                 Traceback (most recent call last)",
      "Cell \u001b[1;32mIn[30], line 1\u001b[0m\n\u001b[1;32m----> 1\u001b[0m new\n",
      "\u001b[1;31mNameError\u001b[0m: name 'new' is not defined"
     ]
    }
   ],
   "source": [
    "new"
   ]
  },
  {
   "cell_type": "code",
   "execution_count": 31,
   "id": "4b970038-069c-4df1-bfd9-d670323e4242",
   "metadata": {},
   "outputs": [],
   "source": [
    "# in operator"
   ]
  },
  {
   "cell_type": "code",
   "execution_count": 32,
   "id": "1c40a4de-38ce-42c0-9847-7b0b0c6b096b",
   "metadata": {},
   "outputs": [
    {
     "data": {
      "text/plain": [
       "[12, 67, 82, 17, 12, 10, 57]"
      ]
     },
     "execution_count": 32,
     "metadata": {},
     "output_type": "execute_result"
    }
   ],
   "source": [
    "l"
   ]
  },
  {
   "cell_type": "code",
   "execution_count": 33,
   "id": "266d08ec-6584-495d-ae06-324ab9b710c8",
   "metadata": {},
   "outputs": [
    {
     "data": {
      "text/plain": [
       "True"
      ]
     },
     "execution_count": 33,
     "metadata": {},
     "output_type": "execute_result"
    }
   ],
   "source": [
    "82 in l"
   ]
  },
  {
   "cell_type": "code",
   "execution_count": 34,
   "id": "bd30e94b-1901-4cef-b408-822fe879689b",
   "metadata": {},
   "outputs": [
    {
     "data": {
      "text/plain": [
       "False"
      ]
     },
     "execution_count": 34,
     "metadata": {},
     "output_type": "execute_result"
    }
   ],
   "source": [
    "100 in l"
   ]
  },
  {
   "cell_type": "code",
   "execution_count": 35,
   "id": "40a2d3d6-1c67-42e3-8749-c8a223fb1c49",
   "metadata": {},
   "outputs": [],
   "source": [
    "# Arithmetic operator"
   ]
  },
  {
   "cell_type": "code",
   "execution_count": 36,
   "id": "c55a5667-69f5-48da-b395-4245bbf7ea06",
   "metadata": {},
   "outputs": [
    {
     "data": {
      "text/plain": [
       "[12, 67, 82, 17, 12, 10, 57]"
      ]
     },
     "execution_count": 36,
     "metadata": {},
     "output_type": "execute_result"
    }
   ],
   "source": [
    "l"
   ]
  },
  {
   "cell_type": "code",
   "execution_count": 37,
   "id": "9ac24cdc-f44a-4996-9f80-03aebc32bcc3",
   "metadata": {},
   "outputs": [
    {
     "data": {
      "text/plain": [
       "[12, 67, 82, 17, 12, 10, 57, 12, 67, 82, 17, 12, 10, 57]"
      ]
     },
     "execution_count": 37,
     "metadata": {},
     "output_type": "execute_result"
    }
   ],
   "source": [
    "l * 2"
   ]
  },
  {
   "cell_type": "code",
   "execution_count": 38,
   "id": "0ee614c6-fcf9-4c89-8142-6a69c62ea072",
   "metadata": {},
   "outputs": [
    {
     "data": {
      "text/plain": [
       "[12, 67, 82, 17, 12, 10, 57, 12, 56]"
      ]
     },
     "execution_count": 38,
     "metadata": {},
     "output_type": "execute_result"
    }
   ],
   "source": [
    "l + [12, 56]"
   ]
  },
  {
   "cell_type": "code",
   "execution_count": 39,
   "id": "585f0c5f-757f-4cfa-836a-8100c95e12f8",
   "metadata": {},
   "outputs": [
    {
     "data": {
      "text/plain": [
       "[12, 67, 82, 17, 12, 10, 57]"
      ]
     },
     "execution_count": 39,
     "metadata": {},
     "output_type": "execute_result"
    }
   ],
   "source": [
    "l"
   ]
  },
  {
   "cell_type": "code",
   "execution_count": 40,
   "id": "3040d479-727b-42cb-ac0b-26424e2d3c74",
   "metadata": {},
   "outputs": [],
   "source": [
    "l1 = [56, True, 44.33]"
   ]
  },
  {
   "cell_type": "code",
   "execution_count": 41,
   "id": "c61c8213-e121-4f04-acc8-1864e9750782",
   "metadata": {},
   "outputs": [
    {
     "data": {
      "text/plain": [
       "[12, 67, 82, 17, 12, 10, 57, 56, True, 44.33]"
      ]
     },
     "execution_count": 41,
     "metadata": {},
     "output_type": "execute_result"
    }
   ],
   "source": [
    "l + l1"
   ]
  },
  {
   "cell_type": "markdown",
   "id": "fb7b8af5-f9c0-47cd-a0d5-144756231d03",
   "metadata": {},
   "source": [
    "#### Iterating over the list"
   ]
  },
  {
   "cell_type": "code",
   "execution_count": 42,
   "id": "32d43457-e4c2-4e74-bab1-349fd98f3848",
   "metadata": {},
   "outputs": [
    {
     "data": {
      "text/plain": [
       "[12, 67, 82, 17, 12, 10, 57]"
      ]
     },
     "execution_count": 42,
     "metadata": {},
     "output_type": "execute_result"
    }
   ],
   "source": [
    "l"
   ]
  },
  {
   "cell_type": "code",
   "execution_count": 43,
   "id": "0b78f6db-147c-4a43-8578-b0526a2125b4",
   "metadata": {},
   "outputs": [
    {
     "name": "stdout",
     "output_type": "stream",
     "text": [
      "144 4489 6724 289 144 100 3249 "
     ]
    }
   ],
   "source": [
    "for n in l:\n",
    "    print(n * n,end = ' ')"
   ]
  },
  {
   "cell_type": "code",
   "execution_count": 44,
   "id": "d33556f1-e931-4eed-a2b0-15a7470d0098",
   "metadata": {},
   "outputs": [
    {
     "name": "stdout",
     "output_type": "stream",
     "text": [
      "67 17 57 "
     ]
    }
   ],
   "source": [
    "# Write a program to print odd numbers from the list\n",
    "\n",
    "for n in l:\n",
    "    if n % 2 != 0:\n",
    "        print(n, end = ' ')"
   ]
  },
  {
   "cell_type": "markdown",
   "id": "ad8a1ded-7149-4197-9c8b-b31e97818771",
   "metadata": {},
   "source": [
    "#### list comprehension"
   ]
  },
  {
   "cell_type": "code",
   "execution_count": 45,
   "id": "77e0a7d1-75c4-47ef-9b6c-2a47957fe967",
   "metadata": {},
   "outputs": [
    {
     "data": {
      "text/plain": [
       "[12, 67, 82, 17, 12, 10, 57]"
      ]
     },
     "execution_count": 45,
     "metadata": {},
     "output_type": "execute_result"
    }
   ],
   "source": [
    "l"
   ]
  },
  {
   "cell_type": "code",
   "execution_count": 46,
   "id": "9874b576-e7de-4b7e-837b-c20ee07500f1",
   "metadata": {},
   "outputs": [],
   "source": [
    "#map"
   ]
  },
  {
   "cell_type": "code",
   "execution_count": 47,
   "id": "5cf212cb-abc1-4052-8470-69d8db1147fd",
   "metadata": {},
   "outputs": [],
   "source": [
    "a = [n/2 for n in l]"
   ]
  },
  {
   "cell_type": "code",
   "execution_count": 48,
   "id": "384a727d-3ab2-4b06-8458-04f4b5de6d37",
   "metadata": {},
   "outputs": [
    {
     "data": {
      "text/plain": [
       "[6.0, 33.5, 41.0, 8.5, 6.0, 5.0, 28.5]"
      ]
     },
     "execution_count": 48,
     "metadata": {},
     "output_type": "execute_result"
    }
   ],
   "source": [
    "a"
   ]
  },
  {
   "cell_type": "code",
   "execution_count": 49,
   "id": "4f05971d-ae74-4812-bcab-b0dfaf736535",
   "metadata": {},
   "outputs": [
    {
     "data": {
      "text/plain": [
       "list"
      ]
     },
     "execution_count": 49,
     "metadata": {},
     "output_type": "execute_result"
    }
   ],
   "source": [
    "type(a)"
   ]
  },
  {
   "cell_type": "code",
   "execution_count": 50,
   "id": "cd7d3567-5792-4382-b0ac-99c8323819ef",
   "metadata": {},
   "outputs": [
    {
     "data": {
      "text/plain": [
       "[144, 4489, 6724, 289, 144, 100, 3249]"
      ]
     },
     "execution_count": 50,
     "metadata": {},
     "output_type": "execute_result"
    }
   ],
   "source": [
    "[n*n for n in l]"
   ]
  },
  {
   "cell_type": "code",
   "execution_count": 51,
   "id": "c903e1b6-f245-4c3f-861b-a44d9ac71414",
   "metadata": {},
   "outputs": [],
   "source": [
    "#filter"
   ]
  },
  {
   "cell_type": "code",
   "execution_count": 52,
   "id": "6c4e37cf-5959-4ac4-bbf6-1cd8737817e6",
   "metadata": {},
   "outputs": [
    {
     "data": {
      "text/plain": [
       "[12, 67, 82, 17, 12, 10, 57]"
      ]
     },
     "execution_count": 52,
     "metadata": {},
     "output_type": "execute_result"
    }
   ],
   "source": [
    "l"
   ]
  },
  {
   "cell_type": "code",
   "execution_count": 53,
   "id": "6ff823fc-a085-4498-9ba2-f2596f1d8d70",
   "metadata": {},
   "outputs": [],
   "source": [
    "b = [n for n in l if n > 40]"
   ]
  },
  {
   "cell_type": "code",
   "execution_count": 54,
   "id": "c97cadc6-f8b8-4bc8-89a8-2e4e52684fd2",
   "metadata": {},
   "outputs": [
    {
     "data": {
      "text/plain": [
       "[67, 82, 57]"
      ]
     },
     "execution_count": 54,
     "metadata": {},
     "output_type": "execute_result"
    }
   ],
   "source": [
    "b"
   ]
  },
  {
   "cell_type": "code",
   "execution_count": 55,
   "id": "7ad26024-618f-4598-9ea9-da6386b9ef11",
   "metadata": {},
   "outputs": [
    {
     "data": {
      "text/plain": [
       "[67, 17, 57]"
      ]
     },
     "execution_count": 55,
     "metadata": {},
     "output_type": "execute_result"
    }
   ],
   "source": [
    "[n for n in l if n % 2 == 1]"
   ]
  },
  {
   "cell_type": "code",
   "execution_count": 56,
   "id": "632a774f-43f0-4e47-a76e-a9a20bc5a8c1",
   "metadata": {},
   "outputs": [],
   "source": [
    "names = ['Karan','Sakshi','Tanvi','Aryan','Tanvi','Tejal','Alpit','Tejas','Siddhi','Sayali']"
   ]
  },
  {
   "cell_type": "code",
   "execution_count": 59,
   "id": "e41f4704-4d19-416b-bf5b-9dd9c6f32336",
   "metadata": {},
   "outputs": [
    {
     "data": {
      "text/plain": [
       "['Tanvi', 'Tanvi', 'Tejal', 'Tejas']"
      ]
     },
     "execution_count": 59,
     "metadata": {},
     "output_type": "execute_result"
    }
   ],
   "source": [
    "#list containing  names which starts with 'T'\n",
    "\n",
    "[n for n in names if n.startswith('T')]"
   ]
  },
  {
   "cell_type": "code",
   "execution_count": 60,
   "id": "f5aea80c-f7fe-4faf-b1bf-dee7716cb212",
   "metadata": {},
   "outputs": [
    {
     "data": {
      "text/plain": [
       "['KARAN',\n",
       " 'SAKSHI',\n",
       " 'TANVI',\n",
       " 'ARYAN',\n",
       " 'TANVI',\n",
       " 'TEJAL',\n",
       " 'ALPIT',\n",
       " 'TEJAS',\n",
       " 'SIDDHI',\n",
       " 'SAYALI']"
      ]
     },
     "execution_count": 60,
     "metadata": {},
     "output_type": "execute_result"
    }
   ],
   "source": [
    "# get a new list with all  the names in uppercase\n",
    "\n",
    "[n.upper() for n in names]"
   ]
  },
  {
   "cell_type": "markdown",
   "id": "290e545e-accb-483c-811d-3b922f4e7eae",
   "metadata": {},
   "source": [
    "#### Empty list"
   ]
  },
  {
   "cell_type": "code",
   "execution_count": 61,
   "id": "481fb8cc-338a-4e62-a3d2-3bbf2ed245f8",
   "metadata": {},
   "outputs": [],
   "source": [
    "e = []"
   ]
  },
  {
   "cell_type": "code",
   "execution_count": 62,
   "id": "a207a206-c87b-4449-b7e9-2df8107f7dbd",
   "metadata": {},
   "outputs": [
    {
     "data": {
      "text/plain": [
       "list"
      ]
     },
     "execution_count": 62,
     "metadata": {},
     "output_type": "execute_result"
    }
   ],
   "source": [
    "type(e)"
   ]
  },
  {
   "cell_type": "code",
   "execution_count": 63,
   "id": "c67dea0d-4d1d-4bb1-8036-978a41aa5d18",
   "metadata": {},
   "outputs": [
    {
     "ename": "IndexError",
     "evalue": "list index out of range",
     "output_type": "error",
     "traceback": [
      "\u001b[1;31m---------------------------------------------------------------------------\u001b[0m",
      "\u001b[1;31mIndexError\u001b[0m                                Traceback (most recent call last)",
      "Cell \u001b[1;32mIn[63], line 1\u001b[0m\n\u001b[1;32m----> 1\u001b[0m e[\u001b[38;5;241m0\u001b[39m]\n",
      "\u001b[1;31mIndexError\u001b[0m: list index out of range"
     ]
    }
   ],
   "source": [
    "e[0]"
   ]
  },
  {
   "cell_type": "code",
   "execution_count": 64,
   "id": "d6947dcc-be02-4b2f-a97a-1627288af7f4",
   "metadata": {},
   "outputs": [],
   "source": [
    "e = e + [4]"
   ]
  },
  {
   "cell_type": "code",
   "execution_count": 65,
   "id": "9ad26505-7212-45e1-96c4-73ad94004790",
   "metadata": {},
   "outputs": [
    {
     "data": {
      "text/plain": [
       "[4]"
      ]
     },
     "execution_count": 65,
     "metadata": {},
     "output_type": "execute_result"
    }
   ],
   "source": [
    "e"
   ]
  },
  {
   "cell_type": "markdown",
   "id": "6af4e1d0-9217-46dd-ae12-9e73bcecb7b1",
   "metadata": {},
   "source": [
    "#### List decomposition"
   ]
  },
  {
   "cell_type": "code",
   "execution_count": 66,
   "id": "89d25096-5a65-4944-9f3e-a81158ab4897",
   "metadata": {},
   "outputs": [],
   "source": [
    "l1 = [34, 56, 78]"
   ]
  },
  {
   "cell_type": "code",
   "execution_count": 67,
   "id": "15988ed2-c7f2-4a50-a904-3df57cdf6574",
   "metadata": {},
   "outputs": [],
   "source": [
    "x, y, z = l1"
   ]
  },
  {
   "cell_type": "code",
   "execution_count": 68,
   "id": "bf8e9e8d-63b1-42e5-bb00-49796111b630",
   "metadata": {},
   "outputs": [
    {
     "data": {
      "text/plain": [
       "34"
      ]
     },
     "execution_count": 68,
     "metadata": {},
     "output_type": "execute_result"
    }
   ],
   "source": [
    "x"
   ]
  },
  {
   "cell_type": "code",
   "execution_count": 69,
   "id": "8e5f6f95-f7e6-475f-adb4-7e678d221881",
   "metadata": {},
   "outputs": [
    {
     "data": {
      "text/plain": [
       "56"
      ]
     },
     "execution_count": 69,
     "metadata": {},
     "output_type": "execute_result"
    }
   ],
   "source": [
    "y"
   ]
  },
  {
   "cell_type": "code",
   "execution_count": 70,
   "id": "2f3ccf4d-312a-44a6-9199-3881b9ba2fc9",
   "metadata": {},
   "outputs": [
    {
     "data": {
      "text/plain": [
       "78"
      ]
     },
     "execution_count": 70,
     "metadata": {},
     "output_type": "execute_result"
    }
   ],
   "source": [
    "z"
   ]
  },
  {
   "cell_type": "markdown",
   "id": "46b92f69-a772-4817-8675-9fd3fffd6ca7",
   "metadata": {},
   "source": [
    "#### Functions"
   ]
  },
  {
   "cell_type": "code",
   "execution_count": 71,
   "id": "5ff65792-60a8-4909-a023-f1779bff0616",
   "metadata": {},
   "outputs": [
    {
     "data": {
      "text/plain": [
       "[12, 67, 82, 17, 12, 10, 57]"
      ]
     },
     "execution_count": 71,
     "metadata": {},
     "output_type": "execute_result"
    }
   ],
   "source": [
    "l"
   ]
  },
  {
   "cell_type": "code",
   "execution_count": 72,
   "id": "fab068be-402b-4291-aa60-3ed48bf6e6a9",
   "metadata": {},
   "outputs": [
    {
     "data": {
      "text/plain": [
       "7"
      ]
     },
     "execution_count": 72,
     "metadata": {},
     "output_type": "execute_result"
    }
   ],
   "source": [
    "len(l)"
   ]
  },
  {
   "cell_type": "code",
   "execution_count": 73,
   "id": "913b3be6-18da-4d24-a3b6-27da2bf771a7",
   "metadata": {},
   "outputs": [
    {
     "data": {
      "text/plain": [
       "82"
      ]
     },
     "execution_count": 73,
     "metadata": {},
     "output_type": "execute_result"
    }
   ],
   "source": [
    "max(l)"
   ]
  },
  {
   "cell_type": "code",
   "execution_count": 74,
   "id": "e093ec93-4530-428b-b040-05edd78b85ae",
   "metadata": {},
   "outputs": [
    {
     "data": {
      "text/plain": [
       "10"
      ]
     },
     "execution_count": 74,
     "metadata": {},
     "output_type": "execute_result"
    }
   ],
   "source": [
    "min(l)"
   ]
  },
  {
   "cell_type": "code",
   "execution_count": 75,
   "id": "969c0257-6561-4853-b87d-b6674334870a",
   "metadata": {},
   "outputs": [
    {
     "data": {
      "text/plain": [
       "257"
      ]
     },
     "execution_count": 75,
     "metadata": {},
     "output_type": "execute_result"
    }
   ],
   "source": [
    "sum(l)"
   ]
  },
  {
   "cell_type": "code",
   "execution_count": 76,
   "id": "3ed4569c-0bc6-4d92-b645-9e5f487cf605",
   "metadata": {},
   "outputs": [
    {
     "data": {
      "text/plain": [
       "[10, 12, 12, 17, 57, 67, 82]"
      ]
     },
     "execution_count": 76,
     "metadata": {},
     "output_type": "execute_result"
    }
   ],
   "source": [
    "sorted(l)"
   ]
  },
  {
   "cell_type": "code",
   "execution_count": 77,
   "id": "8d0b3f56-be65-465a-a05a-4bcedb5717f7",
   "metadata": {},
   "outputs": [
    {
     "data": {
      "text/plain": [
       "[82, 67, 57, 17, 12, 12, 10]"
      ]
     },
     "execution_count": 77,
     "metadata": {},
     "output_type": "execute_result"
    }
   ],
   "source": [
    "sorted(l, reverse = True)"
   ]
  },
  {
   "cell_type": "code",
   "execution_count": 78,
   "id": "e717c9c0-2fc3-4ab6-80ac-a0eecd9f94c8",
   "metadata": {},
   "outputs": [],
   "source": [
    "name = 'Sharvari'"
   ]
  },
  {
   "cell_type": "code",
   "execution_count": 79,
   "id": "9c76078d-a48a-4c48-a13c-03f645d12119",
   "metadata": {},
   "outputs": [
    {
     "data": {
      "text/plain": [
       "['S', 'h', 'a', 'r', 'v', 'a', 'r', 'i']"
      ]
     },
     "execution_count": 79,
     "metadata": {},
     "output_type": "execute_result"
    }
   ],
   "source": [
    "list(name)"
   ]
  },
  {
   "cell_type": "markdown",
   "id": "512d1294-a2ee-498f-a7cd-f442c2e5fb10",
   "metadata": {},
   "source": [
    "#### Methods on list"
   ]
  },
  {
   "cell_type": "code",
   "execution_count": 80,
   "id": "286c8b96-c142-4c6e-a878-30d34555b2ca",
   "metadata": {},
   "outputs": [
    {
     "data": {
      "text/plain": [
       "[12, 67, 82, 17, 12, 10, 57]"
      ]
     },
     "execution_count": 80,
     "metadata": {},
     "output_type": "execute_result"
    }
   ],
   "source": [
    "l"
   ]
  },
  {
   "cell_type": "code",
   "execution_count": 81,
   "id": "7f477200-d559-4ca5-a742-19e6f506681c",
   "metadata": {},
   "outputs": [],
   "source": [
    "l.append(100)   #adding at the end"
   ]
  },
  {
   "cell_type": "code",
   "execution_count": 82,
   "id": "9879a581-d366-4356-8c26-9312d04762b2",
   "metadata": {},
   "outputs": [
    {
     "data": {
      "text/plain": [
       "[12, 67, 82, 17, 12, 10, 57, 100]"
      ]
     },
     "execution_count": 82,
     "metadata": {},
     "output_type": "execute_result"
    }
   ],
   "source": [
    "l"
   ]
  },
  {
   "cell_type": "code",
   "execution_count": 83,
   "id": "b8e34798-7ada-4181-94a9-6d68a9be550b",
   "metadata": {},
   "outputs": [],
   "source": [
    "#append and extend"
   ]
  },
  {
   "cell_type": "code",
   "execution_count": 84,
   "id": "4eec69cd-73ae-4ec9-a6d3-1657f250bb64",
   "metadata": {},
   "outputs": [],
   "source": [
    "x = [12, 23, 34]\n",
    "y = [12, 23, 34]"
   ]
  },
  {
   "cell_type": "code",
   "execution_count": 85,
   "id": "e9c5d943-4245-4a72-bcb8-89f76eb5aace",
   "metadata": {},
   "outputs": [],
   "source": [
    "x.append([11, 22])\n",
    "y.extend([11, 22])"
   ]
  },
  {
   "cell_type": "code",
   "execution_count": 86,
   "id": "7745320f-2e04-4a15-95ce-cbe68bbb4c88",
   "metadata": {},
   "outputs": [
    {
     "name": "stdout",
     "output_type": "stream",
     "text": [
      "[12, 23, 34, [11, 22]]\n",
      "[12, 23, 34, 11, 22]\n"
     ]
    }
   ],
   "source": [
    "print(x)\n",
    "print(y)"
   ]
  },
  {
   "cell_type": "code",
   "execution_count": 87,
   "id": "649e4783-8608-4999-b15f-8d9f8a5a031c",
   "metadata": {},
   "outputs": [
    {
     "data": {
      "text/plain": [
       "[11, 22]"
      ]
     },
     "execution_count": 87,
     "metadata": {},
     "output_type": "execute_result"
    }
   ],
   "source": [
    "x[-1]"
   ]
  },
  {
   "cell_type": "code",
   "execution_count": 88,
   "id": "90ae0fab-a035-4874-9843-87f605dcde26",
   "metadata": {},
   "outputs": [
    {
     "data": {
      "text/plain": [
       "22"
      ]
     },
     "execution_count": 88,
     "metadata": {},
     "output_type": "execute_result"
    }
   ],
   "source": [
    "x[-1][1]"
   ]
  },
  {
   "cell_type": "code",
   "execution_count": 89,
   "id": "e8e22a25-f8c3-44d7-b62e-2839a6cacdad",
   "metadata": {},
   "outputs": [
    {
     "data": {
      "text/plain": [
       "[12, 67, 82, 17, 12, 10, 57, 100]"
      ]
     },
     "execution_count": 89,
     "metadata": {},
     "output_type": "execute_result"
    }
   ],
   "source": [
    "#insert\n",
    "l"
   ]
  },
  {
   "cell_type": "code",
   "execution_count": 90,
   "id": "f4c959b3-cb56-4864-892e-c129155c3047",
   "metadata": {},
   "outputs": [],
   "source": [
    "l.insert(2, 78)"
   ]
  },
  {
   "cell_type": "code",
   "execution_count": 91,
   "id": "5fe10338-cd8e-4bc0-9058-5ee32da7ebd5",
   "metadata": {},
   "outputs": [
    {
     "data": {
      "text/plain": [
       "[12, 67, 78, 82, 17, 12, 10, 57, 100]"
      ]
     },
     "execution_count": 91,
     "metadata": {},
     "output_type": "execute_result"
    }
   ],
   "source": [
    "l"
   ]
  },
  {
   "cell_type": "code",
   "execution_count": 92,
   "id": "b7dd0e13-3b34-4265-80df-fb6102b4d89d",
   "metadata": {},
   "outputs": [],
   "source": [
    "#remove\n",
    "\n",
    "l.remove(78)"
   ]
  },
  {
   "cell_type": "code",
   "execution_count": 93,
   "id": "53a3ddd1-2fe4-41a0-a6f3-ddb1fe9fc18c",
   "metadata": {},
   "outputs": [
    {
     "data": {
      "text/plain": [
       "[12, 67, 82, 17, 12, 10, 57, 100]"
      ]
     },
     "execution_count": 93,
     "metadata": {},
     "output_type": "execute_result"
    }
   ],
   "source": [
    "l"
   ]
  },
  {
   "cell_type": "code",
   "execution_count": 94,
   "id": "d9a81cbd-a24c-43eb-b412-7cc59ce8ceea",
   "metadata": {},
   "outputs": [
    {
     "data": {
      "text/plain": [
       "6"
      ]
     },
     "execution_count": 94,
     "metadata": {},
     "output_type": "execute_result"
    }
   ],
   "source": [
    "l.index(57)"
   ]
  },
  {
   "cell_type": "code",
   "execution_count": 95,
   "id": "7cc5a216-7d0e-48ca-b2dd-1480c4439060",
   "metadata": {},
   "outputs": [
    {
     "data": {
      "text/plain": [
       "2"
      ]
     },
     "execution_count": 95,
     "metadata": {},
     "output_type": "execute_result"
    }
   ],
   "source": [
    "l.count(12)"
   ]
  },
  {
   "cell_type": "code",
   "execution_count": 96,
   "id": "1c752c65-0fe6-4c58-97f3-c1fd34202e6a",
   "metadata": {},
   "outputs": [
    {
     "data": {
      "text/plain": [
       "[12, 67, 82, 17, 12, 10, 57, 100]"
      ]
     },
     "execution_count": 96,
     "metadata": {},
     "output_type": "execute_result"
    }
   ],
   "source": [
    "l"
   ]
  },
  {
   "cell_type": "code",
   "execution_count": 97,
   "id": "57f21633-4bfd-40e2-a6be-33480330b700",
   "metadata": {},
   "outputs": [],
   "source": [
    "# delete / pop"
   ]
  },
  {
   "cell_type": "code",
   "execution_count": 98,
   "id": "c9feaa87-f73e-4754-98f4-afe675af3239",
   "metadata": {},
   "outputs": [
    {
     "data": {
      "text/plain": [
       "100"
      ]
     },
     "execution_count": 98,
     "metadata": {},
     "output_type": "execute_result"
    }
   ],
   "source": [
    "l.pop()"
   ]
  },
  {
   "cell_type": "code",
   "execution_count": 99,
   "id": "0d0a28ca-2fc7-4163-8422-81ae0fac8e36",
   "metadata": {},
   "outputs": [
    {
     "data": {
      "text/plain": [
       "[12, 67, 82, 17, 12, 10, 57]"
      ]
     },
     "execution_count": 99,
     "metadata": {},
     "output_type": "execute_result"
    }
   ],
   "source": [
    "l"
   ]
  },
  {
   "cell_type": "code",
   "execution_count": 101,
   "id": "738aca73-3a6b-4dd1-91a1-9c700f4043de",
   "metadata": {},
   "outputs": [
    {
     "data": {
      "text/plain": [
       "10"
      ]
     },
     "execution_count": 101,
     "metadata": {},
     "output_type": "execute_result"
    }
   ],
   "source": [
    "l.pop(-2)"
   ]
  },
  {
   "cell_type": "code",
   "execution_count": 102,
   "id": "b442d81f-8850-462c-9bed-6f945ba71143",
   "metadata": {},
   "outputs": [
    {
     "data": {
      "text/plain": [
       "[12, 67, 82, 17, 12, 57]"
      ]
     },
     "execution_count": 102,
     "metadata": {},
     "output_type": "execute_result"
    }
   ],
   "source": [
    "l"
   ]
  },
  {
   "cell_type": "code",
   "execution_count": 103,
   "id": "5995a317-2e40-4df6-9b61-36cf96b27109",
   "metadata": {},
   "outputs": [],
   "source": [
    "l.reverse()"
   ]
  },
  {
   "cell_type": "code",
   "execution_count": 104,
   "id": "bea60510-83d8-4a55-941f-b6952cefd076",
   "metadata": {},
   "outputs": [
    {
     "data": {
      "text/plain": [
       "[57, 12, 17, 82, 67, 12]"
      ]
     },
     "execution_count": 104,
     "metadata": {},
     "output_type": "execute_result"
    }
   ],
   "source": [
    "l"
   ]
  },
  {
   "cell_type": "code",
   "execution_count": 105,
   "id": "95b3898b-8ebe-40c9-8f17-0cc07f8c1824",
   "metadata": {},
   "outputs": [],
   "source": [
    "l.sort(reverse = True)"
   ]
  },
  {
   "cell_type": "code",
   "execution_count": 106,
   "id": "9c2ba927-4c2b-4a95-8582-5e3b9c62a1e6",
   "metadata": {},
   "outputs": [
    {
     "data": {
      "text/plain": [
       "[82, 67, 57, 17, 12, 12]"
      ]
     },
     "execution_count": 106,
     "metadata": {},
     "output_type": "execute_result"
    }
   ],
   "source": [
    "l"
   ]
  },
  {
   "cell_type": "code",
   "execution_count": 108,
   "id": "f53b7255-2f84-42cb-b5b7-cd1bbe5d386e",
   "metadata": {},
   "outputs": [
    {
     "data": {
      "text/plain": [
       "[82, 67, 57, 17, 12, 12]"
      ]
     },
     "execution_count": 108,
     "metadata": {},
     "output_type": "execute_result"
    }
   ],
   "source": [
    "# Iterate over a list print index and the value assigned to it\n",
    "\n",
    "l\n",
    "\n",
    "# o/p => 0 82\n",
    " #        1 67"
   ]
  },
  {
   "cell_type": "code",
   "execution_count": 110,
   "id": "ac83e714-11d9-42c9-9047-cf5dd05c8ffa",
   "metadata": {},
   "outputs": [
    {
     "name": "stdout",
     "output_type": "stream",
     "text": [
      "0 82\n",
      "1 67\n",
      "2 57\n",
      "3 17\n",
      "4 12\n",
      "5 12\n"
     ]
    }
   ],
   "source": [
    "i = 0\n",
    "while i <= 5:\n",
    "    print(i, l[i])\n",
    "    i += 1"
   ]
  },
  {
   "cell_type": "code",
   "execution_count": 111,
   "id": "2382ec0b-2710-4695-a433-0aea70116c2a",
   "metadata": {},
   "outputs": [
    {
     "data": {
      "text/plain": [
       "[82, 67, 57, 17, 12, 12]"
      ]
     },
     "execution_count": 111,
     "metadata": {},
     "output_type": "execute_result"
    }
   ],
   "source": [
    "l"
   ]
  },
  {
   "cell_type": "code",
   "execution_count": 112,
   "id": "6815fb2e-bb58-454f-8b34-592a1a138ede",
   "metadata": {},
   "outputs": [
    {
     "name": "stdout",
     "output_type": "stream",
     "text": [
      "0 82\n",
      "1 67\n",
      "2 57\n",
      "3 17\n",
      "4 12\n",
      "4 12\n"
     ]
    }
   ],
   "source": [
    "for n in l:\n",
    "    print(l.index(n),n)"
   ]
  },
  {
   "cell_type": "code",
   "execution_count": 113,
   "id": "17483358-4cdd-40a5-918d-8459916c61d8",
   "metadata": {},
   "outputs": [],
   "source": [
    "#enumerate"
   ]
  },
  {
   "cell_type": "code",
   "execution_count": 114,
   "id": "ae841040-e451-4d1d-a8ff-ca0fa99bce24",
   "metadata": {},
   "outputs": [
    {
     "name": "stdout",
     "output_type": "stream",
     "text": [
      "0 82\n",
      "1 67\n",
      "2 57\n",
      "3 17\n",
      "4 12\n",
      "5 12\n"
     ]
    }
   ],
   "source": [
    "for index, n in enumerate(l):\n",
    "    print(index, n)"
   ]
  },
  {
   "cell_type": "markdown",
   "id": "5301bee6-1e9f-48a8-8679-da07032d7b4b",
   "metadata": {},
   "source": [
    "#### Shallow copy"
   ]
  },
  {
   "cell_type": "code",
   "execution_count": 115,
   "id": "6305f48f-b4bd-4d44-85e4-02e3866d7fab",
   "metadata": {},
   "outputs": [],
   "source": [
    "l1 = [34, 45, 56]"
   ]
  },
  {
   "cell_type": "code",
   "execution_count": 116,
   "id": "7804e006-5b73-48b8-83e5-eebe0262acc9",
   "metadata": {},
   "outputs": [],
   "source": [
    "l2 = l1"
   ]
  },
  {
   "cell_type": "code",
   "execution_count": 117,
   "id": "a2058543-0978-424a-8389-4730cc2cd723",
   "metadata": {},
   "outputs": [
    {
     "data": {
      "text/plain": [
       "[34, 45, 56]"
      ]
     },
     "execution_count": 117,
     "metadata": {},
     "output_type": "execute_result"
    }
   ],
   "source": [
    "l2"
   ]
  },
  {
   "cell_type": "code",
   "execution_count": 118,
   "id": "f039fd94-39cd-40d0-a8da-7900ed73cb0a",
   "metadata": {},
   "outputs": [],
   "source": [
    "l1.append(2)"
   ]
  },
  {
   "cell_type": "code",
   "execution_count": 119,
   "id": "8e9aa483-e675-4c71-a3e3-027dbacb191a",
   "metadata": {},
   "outputs": [
    {
     "data": {
      "text/plain": [
       "[34, 45, 56, 2]"
      ]
     },
     "execution_count": 119,
     "metadata": {},
     "output_type": "execute_result"
    }
   ],
   "source": [
    "l2"
   ]
  },
  {
   "cell_type": "code",
   "execution_count": 120,
   "id": "7db7f886-7e10-4c01-9dac-b472670b91a1",
   "metadata": {},
   "outputs": [],
   "source": [
    "l3 = l1.copy()"
   ]
  },
  {
   "cell_type": "code",
   "execution_count": 121,
   "id": "54e50c52-318a-4f35-ad17-bac0303b808f",
   "metadata": {},
   "outputs": [
    {
     "data": {
      "text/plain": [
       "[34, 45, 56, 2]"
      ]
     },
     "execution_count": 121,
     "metadata": {},
     "output_type": "execute_result"
    }
   ],
   "source": [
    "l3"
   ]
  },
  {
   "cell_type": "code",
   "execution_count": 122,
   "id": "747f320e-145f-47fd-a9a0-b8cf3733055d",
   "metadata": {},
   "outputs": [],
   "source": [
    "l1.append(1000)"
   ]
  },
  {
   "cell_type": "code",
   "execution_count": 123,
   "id": "0d8764fb-b52a-4172-a83c-1e46e1c466cc",
   "metadata": {},
   "outputs": [
    {
     "data": {
      "text/plain": [
       "[34, 45, 56, 2, 1000]"
      ]
     },
     "execution_count": 123,
     "metadata": {},
     "output_type": "execute_result"
    }
   ],
   "source": [
    "l1"
   ]
  },
  {
   "cell_type": "code",
   "execution_count": 124,
   "id": "89ada0bb-7e1c-4f2c-b288-260636e1b8d2",
   "metadata": {},
   "outputs": [
    {
     "data": {
      "text/plain": [
       "[34, 45, 56, 2, 1000]"
      ]
     },
     "execution_count": 124,
     "metadata": {},
     "output_type": "execute_result"
    }
   ],
   "source": [
    "l2"
   ]
  },
  {
   "cell_type": "code",
   "execution_count": 125,
   "id": "feed5a7a-5c2a-48ed-ab7f-e66f8f6e960d",
   "metadata": {},
   "outputs": [
    {
     "data": {
      "text/plain": [
       "[34, 45, 56, 2]"
      ]
     },
     "execution_count": 125,
     "metadata": {},
     "output_type": "execute_result"
    }
   ],
   "source": [
    "l3"
   ]
  },
  {
   "cell_type": "code",
   "execution_count": 126,
   "id": "e9fd7da4-08ec-4d67-81a7-2dbec0d5b74f",
   "metadata": {},
   "outputs": [
    {
     "data": {
      "text/plain": [
       "[34, 45, 56, 2, 1000]"
      ]
     },
     "execution_count": 126,
     "metadata": {},
     "output_type": "execute_result"
    }
   ],
   "source": [
    "l1"
   ]
  },
  {
   "cell_type": "code",
   "execution_count": 127,
   "id": "10750499-e85a-4d0a-9f82-0181b839a9ae",
   "metadata": {},
   "outputs": [
    {
     "data": {
      "text/plain": [
       "[34, 45, 56, 2, 1000]"
      ]
     },
     "execution_count": 127,
     "metadata": {},
     "output_type": "execute_result"
    }
   ],
   "source": [
    "l2"
   ]
  },
  {
   "cell_type": "code",
   "execution_count": 128,
   "id": "0daf779d-08c2-4e1e-8a52-53f1e4cb1308",
   "metadata": {},
   "outputs": [
    {
     "data": {
      "text/plain": [
       "[34, 45, 56, 2]"
      ]
     },
     "execution_count": 128,
     "metadata": {},
     "output_type": "execute_result"
    }
   ],
   "source": [
    "l3"
   ]
  },
  {
   "cell_type": "code",
   "execution_count": 129,
   "id": "7b72a5dc-ec8e-4838-a349-6016a7e85187",
   "metadata": {},
   "outputs": [],
   "source": [
    "l1.append([12, 34])"
   ]
  },
  {
   "cell_type": "code",
   "execution_count": 130,
   "id": "e7042cf3-1fa2-4bf0-959b-e0bb5a66d56d",
   "metadata": {},
   "outputs": [
    {
     "data": {
      "text/plain": [
       "[34, 45, 56, 2, 1000, [12, 34]]"
      ]
     },
     "execution_count": 130,
     "metadata": {},
     "output_type": "execute_result"
    }
   ],
   "source": [
    "l1"
   ]
  },
  {
   "cell_type": "code",
   "execution_count": 131,
   "id": "1bf7458d-7f37-40b5-bec3-23675a06651b",
   "metadata": {},
   "outputs": [],
   "source": [
    "l3 = l1.copy()"
   ]
  },
  {
   "cell_type": "code",
   "execution_count": 132,
   "id": "0c86cc62-474f-4554-b722-dc23f52a9a2b",
   "metadata": {},
   "outputs": [
    {
     "data": {
      "text/plain": [
       "[34, 45, 56, 2, 1000, [12, 34]]"
      ]
     },
     "execution_count": 132,
     "metadata": {},
     "output_type": "execute_result"
    }
   ],
   "source": [
    "l3"
   ]
  },
  {
   "cell_type": "code",
   "execution_count": 133,
   "id": "16d98dae-00b8-4e1a-943e-0b40c16c952a",
   "metadata": {},
   "outputs": [],
   "source": [
    "l1.append(200)"
   ]
  },
  {
   "cell_type": "code",
   "execution_count": 134,
   "id": "b354f97f-2b89-4520-8ef0-b9c6cba58957",
   "metadata": {},
   "outputs": [
    {
     "data": {
      "text/plain": [
       "[34, 45, 56, 2, 1000, [12, 34], 200]"
      ]
     },
     "execution_count": 134,
     "metadata": {},
     "output_type": "execute_result"
    }
   ],
   "source": [
    "l1"
   ]
  },
  {
   "cell_type": "code",
   "execution_count": 135,
   "id": "4a4315cf-d8f1-4be9-8816-bcb80d116b17",
   "metadata": {},
   "outputs": [
    {
     "data": {
      "text/plain": [
       "[34, 45, 56, 2, 1000, [12, 34]]"
      ]
     },
     "execution_count": 135,
     "metadata": {},
     "output_type": "execute_result"
    }
   ],
   "source": [
    "l3"
   ]
  },
  {
   "cell_type": "code",
   "execution_count": 136,
   "id": "bdf14fc2-f126-48cc-9db5-589fa506de69",
   "metadata": {},
   "outputs": [],
   "source": [
    "l1[-2].append(1000)"
   ]
  },
  {
   "cell_type": "code",
   "execution_count": 137,
   "id": "b5633794-2a4e-490c-acc4-28deca040591",
   "metadata": {},
   "outputs": [
    {
     "data": {
      "text/plain": [
       "[34, 45, 56, 2, 1000, [12, 34, 1000], 200]"
      ]
     },
     "execution_count": 137,
     "metadata": {},
     "output_type": "execute_result"
    }
   ],
   "source": [
    "l1"
   ]
  },
  {
   "cell_type": "code",
   "execution_count": 138,
   "id": "79addcc5-aafa-44f0-bea8-087979c8f3cf",
   "metadata": {},
   "outputs": [
    {
     "data": {
      "text/plain": [
       "[34, 45, 56, 2, 1000, [12, 34, 1000]]"
      ]
     },
     "execution_count": 138,
     "metadata": {},
     "output_type": "execute_result"
    }
   ],
   "source": [
    "l3"
   ]
  },
  {
   "cell_type": "code",
   "execution_count": 139,
   "id": "164e3a08-c8ad-4fd3-a075-cda9c846bd58",
   "metadata": {},
   "outputs": [
    {
     "name": "stdout",
     "output_type": "stream",
     "text": [
      "Help on class list in module builtins:\n",
      "\n",
      "class list(object)\n",
      " |  list(iterable=(), /)\n",
      " |  \n",
      " |  Built-in mutable sequence.\n",
      " |  \n",
      " |  If no argument is given, the constructor creates a new empty list.\n",
      " |  The argument must be an iterable if specified.\n",
      " |  \n",
      " |  Methods defined here:\n",
      " |  \n",
      " |  __add__(self, value, /)\n",
      " |      Return self+value.\n",
      " |  \n",
      " |  __contains__(self, key, /)\n",
      " |      Return key in self.\n",
      " |  \n",
      " |  __delitem__(self, key, /)\n",
      " |      Delete self[key].\n",
      " |  \n",
      " |  __eq__(self, value, /)\n",
      " |      Return self==value.\n",
      " |  \n",
      " |  __ge__(self, value, /)\n",
      " |      Return self>=value.\n",
      " |  \n",
      " |  __getattribute__(self, name, /)\n",
      " |      Return getattr(self, name).\n",
      " |  \n",
      " |  __getitem__(...)\n",
      " |      x.__getitem__(y) <==> x[y]\n",
      " |  \n",
      " |  __gt__(self, value, /)\n",
      " |      Return self>value.\n",
      " |  \n",
      " |  __iadd__(self, value, /)\n",
      " |      Implement self+=value.\n",
      " |  \n",
      " |  __imul__(self, value, /)\n",
      " |      Implement self*=value.\n",
      " |  \n",
      " |  __init__(self, /, *args, **kwargs)\n",
      " |      Initialize self.  See help(type(self)) for accurate signature.\n",
      " |  \n",
      " |  __iter__(self, /)\n",
      " |      Implement iter(self).\n",
      " |  \n",
      " |  __le__(self, value, /)\n",
      " |      Return self<=value.\n",
      " |  \n",
      " |  __len__(self, /)\n",
      " |      Return len(self).\n",
      " |  \n",
      " |  __lt__(self, value, /)\n",
      " |      Return self<value.\n",
      " |  \n",
      " |  __mul__(self, value, /)\n",
      " |      Return self*value.\n",
      " |  \n",
      " |  __ne__(self, value, /)\n",
      " |      Return self!=value.\n",
      " |  \n",
      " |  __repr__(self, /)\n",
      " |      Return repr(self).\n",
      " |  \n",
      " |  __reversed__(self, /)\n",
      " |      Return a reverse iterator over the list.\n",
      " |  \n",
      " |  __rmul__(self, value, /)\n",
      " |      Return value*self.\n",
      " |  \n",
      " |  __setitem__(self, key, value, /)\n",
      " |      Set self[key] to value.\n",
      " |  \n",
      " |  __sizeof__(self, /)\n",
      " |      Return the size of the list in memory, in bytes.\n",
      " |  \n",
      " |  append(self, object, /)\n",
      " |      Append object to the end of the list.\n",
      " |  \n",
      " |  clear(self, /)\n",
      " |      Remove all items from list.\n",
      " |  \n",
      " |  copy(self, /)\n",
      " |      Return a shallow copy of the list.\n",
      " |  \n",
      " |  count(self, value, /)\n",
      " |      Return number of occurrences of value.\n",
      " |  \n",
      " |  extend(self, iterable, /)\n",
      " |      Extend list by appending elements from the iterable.\n",
      " |  \n",
      " |  index(self, value, start=0, stop=9223372036854775807, /)\n",
      " |      Return first index of value.\n",
      " |      \n",
      " |      Raises ValueError if the value is not present.\n",
      " |  \n",
      " |  insert(self, index, object, /)\n",
      " |      Insert object before index.\n",
      " |  \n",
      " |  pop(self, index=-1, /)\n",
      " |      Remove and return item at index (default last).\n",
      " |      \n",
      " |      Raises IndexError if list is empty or index is out of range.\n",
      " |  \n",
      " |  remove(self, value, /)\n",
      " |      Remove first occurrence of value.\n",
      " |      \n",
      " |      Raises ValueError if the value is not present.\n",
      " |  \n",
      " |  reverse(self, /)\n",
      " |      Reverse *IN PLACE*.\n",
      " |  \n",
      " |  sort(self, /, *, key=None, reverse=False)\n",
      " |      Sort the list in ascending order and return None.\n",
      " |      \n",
      " |      The sort is in-place (i.e. the list itself is modified) and stable (i.e. the\n",
      " |      order of two equal elements is maintained).\n",
      " |      \n",
      " |      If a key function is given, apply it once to each list item and sort them,\n",
      " |      ascending or descending, according to their function values.\n",
      " |      \n",
      " |      The reverse flag can be set to sort in descending order.\n",
      " |  \n",
      " |  ----------------------------------------------------------------------\n",
      " |  Class methods defined here:\n",
      " |  \n",
      " |  __class_getitem__(...) from builtins.type\n",
      " |      See PEP 585\n",
      " |  \n",
      " |  ----------------------------------------------------------------------\n",
      " |  Static methods defined here:\n",
      " |  \n",
      " |  __new__(*args, **kwargs) from builtins.type\n",
      " |      Create and return a new object.  See help(type) for accurate signature.\n",
      " |  \n",
      " |  ----------------------------------------------------------------------\n",
      " |  Data and other attributes defined here:\n",
      " |  \n",
      " |  __hash__ = None\n",
      "\n"
     ]
    }
   ],
   "source": [
    "help(list)"
   ]
  },
  {
   "cell_type": "code",
   "execution_count": 140,
   "id": "fbce6c29-13f8-4705-8f69-f24b2ba8b21b",
   "metadata": {},
   "outputs": [
    {
     "data": {
      "text/plain": [
       "[34, 45, 56, 2, 1000, [12, 34, 1000], 200]"
      ]
     },
     "execution_count": 140,
     "metadata": {},
     "output_type": "execute_result"
    }
   ],
   "source": [
    "l1"
   ]
  },
  {
   "cell_type": "code",
   "execution_count": 141,
   "id": "ac11a14c-a927-47e3-82f9-6af1292e51b6",
   "metadata": {},
   "outputs": [],
   "source": [
    "l1.clear()"
   ]
  },
  {
   "cell_type": "code",
   "execution_count": 142,
   "id": "73c34f4b-24d2-4704-949a-4e1453483806",
   "metadata": {},
   "outputs": [
    {
     "data": {
      "text/plain": [
       "[]"
      ]
     },
     "execution_count": 142,
     "metadata": {},
     "output_type": "execute_result"
    }
   ],
   "source": [
    "l1"
   ]
  },
  {
   "cell_type": "markdown",
   "id": "bf61a3fa-8eef-4fe9-b440-fbe68a6c1ead",
   "metadata": {},
   "source": [
    "#### Tuple"
   ]
  },
  {
   "cell_type": "code",
   "execution_count": 143,
   "id": "392942b5-de80-442d-8398-6a6ddbf47a1a",
   "metadata": {},
   "outputs": [],
   "source": [
    "t = (23, 45, 67, 12, 78, 23)"
   ]
  },
  {
   "cell_type": "code",
   "execution_count": 144,
   "id": "764aa4ce-e999-4e9f-9303-b8a9a06637a3",
   "metadata": {},
   "outputs": [
    {
     "data": {
      "text/plain": [
       "(23, 45, 67, 12, 78, 23)"
      ]
     },
     "execution_count": 144,
     "metadata": {},
     "output_type": "execute_result"
    }
   ],
   "source": [
    "t"
   ]
  },
  {
   "cell_type": "code",
   "execution_count": 145,
   "id": "b384b589-d523-4c05-a400-a06a65dffab4",
   "metadata": {},
   "outputs": [
    {
     "data": {
      "text/plain": [
       "tuple"
      ]
     },
     "execution_count": 145,
     "metadata": {},
     "output_type": "execute_result"
    }
   ],
   "source": [
    "type(t)"
   ]
  },
  {
   "cell_type": "code",
   "execution_count": 146,
   "id": "e6ca5408-b5ef-436e-b4eb-aa4c2a333bda",
   "metadata": {},
   "outputs": [],
   "source": [
    "t1 = (34, 56, 'Sharvari')"
   ]
  },
  {
   "cell_type": "code",
   "execution_count": 147,
   "id": "bae403ad-7d55-4607-9340-9f45ad5e699d",
   "metadata": {},
   "outputs": [
    {
     "data": {
      "text/plain": [
       "(34, 56, 'Sharvari')"
      ]
     },
     "execution_count": 147,
     "metadata": {},
     "output_type": "execute_result"
    }
   ],
   "source": [
    "t1"
   ]
  },
  {
   "cell_type": "code",
   "execution_count": 148,
   "id": "ec20973e-8b47-4118-ab8e-cb12f8944ed2",
   "metadata": {},
   "outputs": [
    {
     "data": {
      "text/plain": [
       "45"
      ]
     },
     "execution_count": 148,
     "metadata": {},
     "output_type": "execute_result"
    }
   ],
   "source": [
    "t[1]"
   ]
  },
  {
   "cell_type": "code",
   "execution_count": 149,
   "id": "00daba40-d888-4033-baca-90a1ab9dcdfa",
   "metadata": {},
   "outputs": [
    {
     "ename": "TypeError",
     "evalue": "'tuple' object does not support item assignment",
     "output_type": "error",
     "traceback": [
      "\u001b[1;31m---------------------------------------------------------------------------\u001b[0m",
      "\u001b[1;31mTypeError\u001b[0m                                 Traceback (most recent call last)",
      "Cell \u001b[1;32mIn[149], line 1\u001b[0m\n\u001b[1;32m----> 1\u001b[0m t[\u001b[38;5;241m1\u001b[39m] \u001b[38;5;241m=\u001b[39m \u001b[38;5;241m30\u001b[39m\n",
      "\u001b[1;31mTypeError\u001b[0m: 'tuple' object does not support item assignment"
     ]
    }
   ],
   "source": [
    "t[1] = 30"
   ]
  },
  {
   "cell_type": "code",
   "execution_count": 150,
   "id": "f7c41dd2-c5c0-452e-a24e-d63dce729a7a",
   "metadata": {},
   "outputs": [
    {
     "name": "stdout",
     "output_type": "stream",
     "text": [
      "Help on class tuple in module builtins:\n",
      "\n",
      "class tuple(object)\n",
      " |  tuple(iterable=(), /)\n",
      " |  \n",
      " |  Built-in immutable sequence.\n",
      " |  \n",
      " |  If no argument is given, the constructor returns an empty tuple.\n",
      " |  If iterable is specified the tuple is initialized from iterable's items.\n",
      " |  \n",
      " |  If the argument is a tuple, the return value is the same object.\n",
      " |  \n",
      " |  Built-in subclasses:\n",
      " |      asyncgen_hooks\n",
      " |      UnraisableHookArgs\n",
      " |  \n",
      " |  Methods defined here:\n",
      " |  \n",
      " |  __add__(self, value, /)\n",
      " |      Return self+value.\n",
      " |  \n",
      " |  __contains__(self, key, /)\n",
      " |      Return key in self.\n",
      " |  \n",
      " |  __eq__(self, value, /)\n",
      " |      Return self==value.\n",
      " |  \n",
      " |  __ge__(self, value, /)\n",
      " |      Return self>=value.\n",
      " |  \n",
      " |  __getattribute__(self, name, /)\n",
      " |      Return getattr(self, name).\n",
      " |  \n",
      " |  __getitem__(self, key, /)\n",
      " |      Return self[key].\n",
      " |  \n",
      " |  __getnewargs__(self, /)\n",
      " |  \n",
      " |  __gt__(self, value, /)\n",
      " |      Return self>value.\n",
      " |  \n",
      " |  __hash__(self, /)\n",
      " |      Return hash(self).\n",
      " |  \n",
      " |  __iter__(self, /)\n",
      " |      Implement iter(self).\n",
      " |  \n",
      " |  __le__(self, value, /)\n",
      " |      Return self<=value.\n",
      " |  \n",
      " |  __len__(self, /)\n",
      " |      Return len(self).\n",
      " |  \n",
      " |  __lt__(self, value, /)\n",
      " |      Return self<value.\n",
      " |  \n",
      " |  __mul__(self, value, /)\n",
      " |      Return self*value.\n",
      " |  \n",
      " |  __ne__(self, value, /)\n",
      " |      Return self!=value.\n",
      " |  \n",
      " |  __repr__(self, /)\n",
      " |      Return repr(self).\n",
      " |  \n",
      " |  __rmul__(self, value, /)\n",
      " |      Return value*self.\n",
      " |  \n",
      " |  count(self, value, /)\n",
      " |      Return number of occurrences of value.\n",
      " |  \n",
      " |  index(self, value, start=0, stop=9223372036854775807, /)\n",
      " |      Return first index of value.\n",
      " |      \n",
      " |      Raises ValueError if the value is not present.\n",
      " |  \n",
      " |  ----------------------------------------------------------------------\n",
      " |  Class methods defined here:\n",
      " |  \n",
      " |  __class_getitem__(...) from builtins.type\n",
      " |      See PEP 585\n",
      " |  \n",
      " |  ----------------------------------------------------------------------\n",
      " |  Static methods defined here:\n",
      " |  \n",
      " |  __new__(*args, **kwargs) from builtins.type\n",
      " |      Create and return a new object.  See help(type) for accurate signature.\n",
      "\n"
     ]
    }
   ],
   "source": [
    "help(tuple)"
   ]
  },
  {
   "cell_type": "code",
   "execution_count": 151,
   "id": "86199543-2063-4dbf-8b84-5af6edd2936e",
   "metadata": {},
   "outputs": [
    {
     "data": {
      "text/plain": [
       "(34, 56, 'Sharvari')"
      ]
     },
     "execution_count": 151,
     "metadata": {},
     "output_type": "execute_result"
    }
   ],
   "source": [
    "t1"
   ]
  },
  {
   "cell_type": "markdown",
   "id": "0f840c98-68c0-4aa9-b1a9-f54eee0bceb6",
   "metadata": {},
   "source": [
    "m = list(t1)\n",
    "m"
   ]
  },
  {
   "cell_type": "code",
   "execution_count": 153,
   "id": "f8b01c31-1d51-437f-9a82-ceae93bfe8f9",
   "metadata": {},
   "outputs": [
    {
     "data": {
      "text/plain": [
       "(34, 56, 'Sharvari')"
      ]
     },
     "execution_count": 153,
     "metadata": {},
     "output_type": "execute_result"
    }
   ],
   "source": [
    "z1 = tuple(m)\n",
    "z1"
   ]
  },
  {
   "cell_type": "code",
   "execution_count": 154,
   "id": "65915f04-7f8a-4d69-b5da-0f0df42f06ea",
   "metadata": {},
   "outputs": [
    {
     "ename": "TypeError",
     "evalue": "'tuple' object doesn't support item deletion",
     "output_type": "error",
     "traceback": [
      "\u001b[1;31m---------------------------------------------------------------------------\u001b[0m",
      "\u001b[1;31mTypeError\u001b[0m                                 Traceback (most recent call last)",
      "Cell \u001b[1;32mIn[154], line 1\u001b[0m\n\u001b[1;32m----> 1\u001b[0m \u001b[38;5;28;01mdel\u001b[39;00m z1[\u001b[38;5;241m1\u001b[39m]\n",
      "\u001b[1;31mTypeError\u001b[0m: 'tuple' object doesn't support item deletion"
     ]
    }
   ],
   "source": [
    "del z1[1]"
   ]
  },
  {
   "cell_type": "markdown",
   "id": "afe2083a-9741-4980-aad4-f2abc63564a7",
   "metadata": {},
   "source": [
    "#### Set"
   ]
  },
  {
   "cell_type": "code",
   "execution_count": 155,
   "id": "2f611022-9cc3-4909-8a11-d8c818e35e0d",
   "metadata": {},
   "outputs": [
    {
     "data": {
      "text/plain": [
       "{12, 34, 56, 78}"
      ]
     },
     "execution_count": 155,
     "metadata": {},
     "output_type": "execute_result"
    }
   ],
   "source": [
    "s= {12, 34, 56, 78, 34}\n",
    "s # duplicates not allowed"
   ]
  },
  {
   "cell_type": "code",
   "execution_count": 156,
   "id": "e43cba97-51a6-4683-ae2c-204390e128b1",
   "metadata": {},
   "outputs": [
    {
     "data": {
      "text/plain": [
       "set"
      ]
     },
     "execution_count": 156,
     "metadata": {},
     "output_type": "execute_result"
    }
   ],
   "source": [
    "type(s)"
   ]
  },
  {
   "cell_type": "code",
   "execution_count": 157,
   "id": "3c40ccc7-f767-4a5c-9a30-8b1f894fd771",
   "metadata": {},
   "outputs": [
    {
     "ename": "TypeError",
     "evalue": "'set' object is not subscriptable",
     "output_type": "error",
     "traceback": [
      "\u001b[1;31m---------------------------------------------------------------------------\u001b[0m",
      "\u001b[1;31mTypeError\u001b[0m                                 Traceback (most recent call last)",
      "Cell \u001b[1;32mIn[157], line 1\u001b[0m\n\u001b[1;32m----> 1\u001b[0m s[\u001b[38;5;241m2\u001b[39m]\n",
      "\u001b[1;31mTypeError\u001b[0m: 'set' object is not subscriptable"
     ]
    }
   ],
   "source": [
    "s[2]   #unordered"
   ]
  },
  {
   "cell_type": "code",
   "execution_count": 158,
   "id": "83bdb154-37aa-4123-8fd0-e680daf21ba5",
   "metadata": {},
   "outputs": [],
   "source": [
    "s.add(45)"
   ]
  },
  {
   "cell_type": "code",
   "execution_count": 159,
   "id": "1d2ea9c3-37b3-4c0a-bb22-3121dd7658cd",
   "metadata": {},
   "outputs": [
    {
     "data": {
      "text/plain": [
       "{12, 34, 45, 56, 78}"
      ]
     },
     "execution_count": 159,
     "metadata": {},
     "output_type": "execute_result"
    }
   ],
   "source": [
    "s"
   ]
  },
  {
   "cell_type": "code",
   "execution_count": 160,
   "id": "c5a50067-1cd1-4109-90bc-50249c19a92e",
   "metadata": {},
   "outputs": [],
   "source": [
    "s.add('A')"
   ]
  },
  {
   "cell_type": "code",
   "execution_count": 161,
   "id": "da1b406b-bf71-41c5-8493-31a4ae8a5edf",
   "metadata": {},
   "outputs": [
    {
     "data": {
      "text/plain": [
       "{12, 34, 45, 56, 78, 'A'}"
      ]
     },
     "execution_count": 161,
     "metadata": {},
     "output_type": "execute_result"
    }
   ],
   "source": [
    "s"
   ]
  },
  {
   "cell_type": "code",
   "execution_count": 162,
   "id": "6ac6c984-8cb0-4c01-be72-0a4e7f40ff05",
   "metadata": {},
   "outputs": [],
   "source": [
    "s1 = frozenset(s)"
   ]
  },
  {
   "cell_type": "code",
   "execution_count": 163,
   "id": "be8ceb3b-a732-47bc-99e8-38ced187aad7",
   "metadata": {},
   "outputs": [
    {
     "data": {
      "text/plain": [
       "frozenset({12, 34, 45, 56, 78, 'A'})"
      ]
     },
     "execution_count": 163,
     "metadata": {},
     "output_type": "execute_result"
    }
   ],
   "source": [
    "s1"
   ]
  },
  {
   "cell_type": "code",
   "execution_count": 164,
   "id": "c6835563-80c4-4fc4-bf9c-1a0f560db1e5",
   "metadata": {},
   "outputs": [
    {
     "ename": "AttributeError",
     "evalue": "'frozenset' object has no attribute 'add'",
     "output_type": "error",
     "traceback": [
      "\u001b[1;31m---------------------------------------------------------------------------\u001b[0m",
      "\u001b[1;31mAttributeError\u001b[0m                            Traceback (most recent call last)",
      "Cell \u001b[1;32mIn[164], line 1\u001b[0m\n\u001b[1;32m----> 1\u001b[0m s1\u001b[38;5;241m.\u001b[39madd(\u001b[38;5;241m2\u001b[39m)\n",
      "\u001b[1;31mAttributeError\u001b[0m: 'frozenset' object has no attribute 'add'"
     ]
    }
   ],
   "source": [
    "s1.add(2)"
   ]
  },
  {
   "cell_type": "markdown",
   "id": "bf5c6790-ea0d-4fe2-87af-4f66222fe0e5",
   "metadata": {},
   "source": [
    "#### Dictionary"
   ]
  },
  {
   "cell_type": "code",
   "execution_count": 165,
   "id": "777163b6-61c4-41d3-b153-c51f40cb73ec",
   "metadata": {},
   "outputs": [],
   "source": [
    "d = {1: 67, 2: 89, 3: 75, 4: 72, 7: 67}"
   ]
  },
  {
   "cell_type": "code",
   "execution_count": 166,
   "id": "2ae24bbd-56c4-4272-ab53-512eb36c4e20",
   "metadata": {},
   "outputs": [
    {
     "data": {
      "text/plain": [
       "{1: 67, 2: 89, 3: 75, 4: 72, 7: 67}"
      ]
     },
     "execution_count": 166,
     "metadata": {},
     "output_type": "execute_result"
    }
   ],
   "source": [
    "d"
   ]
  },
  {
   "cell_type": "code",
   "execution_count": 167,
   "id": "bbd5642a-a1a1-4bce-8a32-06039f1c8749",
   "metadata": {},
   "outputs": [
    {
     "data": {
      "text/plain": [
       "67"
      ]
     },
     "execution_count": 167,
     "metadata": {},
     "output_type": "execute_result"
    }
   ],
   "source": [
    "d[7]"
   ]
  },
  {
   "cell_type": "code",
   "execution_count": 168,
   "id": "de912d9d-61f1-4ded-bc9f-b73e50b58901",
   "metadata": {},
   "outputs": [],
   "source": [
    "d1 = {1: 67, 2: 89, 3: 75, 4: 72, 7:67, 1: 37}"
   ]
  },
  {
   "cell_type": "code",
   "execution_count": 169,
   "id": "1b5ed1e8-82f0-40c3-9729-26d1314a10d8",
   "metadata": {},
   "outputs": [
    {
     "data": {
      "text/plain": [
       "{1: 37, 2: 89, 3: 75, 4: 72, 7: 67}"
      ]
     },
     "execution_count": 169,
     "metadata": {},
     "output_type": "execute_result"
    }
   ],
   "source": [
    "d1   #key must be unique"
   ]
  },
  {
   "cell_type": "code",
   "execution_count": 170,
   "id": "34cb534b-6f3e-4131-8de9-5c3b16592a8a",
   "metadata": {},
   "outputs": [],
   "source": [
    "d[3] = 100"
   ]
  },
  {
   "cell_type": "code",
   "execution_count": 171,
   "id": "43e0db50-cafb-404f-baca-f4a43e47877e",
   "metadata": {},
   "outputs": [
    {
     "data": {
      "text/plain": [
       "{1: 67, 2: 89, 3: 100, 4: 72, 7: 67}"
      ]
     },
     "execution_count": 171,
     "metadata": {},
     "output_type": "execute_result"
    }
   ],
   "source": [
    "d"
   ]
  },
  {
   "cell_type": "code",
   "execution_count": 172,
   "id": "5dced8d9-2947-4bcf-8d1d-d05a8a16fe1a",
   "metadata": {},
   "outputs": [],
   "source": [
    "d[10] = 78"
   ]
  },
  {
   "cell_type": "code",
   "execution_count": 173,
   "id": "f6bbcf48-6680-4965-87fc-93ac35fadbd9",
   "metadata": {},
   "outputs": [
    {
     "data": {
      "text/plain": [
       "{1: 67, 2: 89, 3: 100, 4: 72, 7: 67, 10: 78}"
      ]
     },
     "execution_count": 173,
     "metadata": {},
     "output_type": "execute_result"
    }
   ],
   "source": [
    "d"
   ]
  },
  {
   "cell_type": "code",
   "execution_count": 174,
   "id": "97078280-581c-40f9-bc8a-791381f67649",
   "metadata": {},
   "outputs": [
    {
     "data": {
      "text/plain": [
       "dict_keys([1, 2, 3, 4, 7, 10])"
      ]
     },
     "execution_count": 174,
     "metadata": {},
     "output_type": "execute_result"
    }
   ],
   "source": [
    "d.keys()"
   ]
  },
  {
   "cell_type": "code",
   "execution_count": 175,
   "id": "ab4ed99b-36ca-46f5-a58e-a03481c68eab",
   "metadata": {},
   "outputs": [
    {
     "data": {
      "text/plain": [
       "dict_values([67, 89, 100, 72, 67, 78])"
      ]
     },
     "execution_count": 175,
     "metadata": {},
     "output_type": "execute_result"
    }
   ],
   "source": [
    "d.values()"
   ]
  },
  {
   "cell_type": "markdown",
   "id": "a8e3ef81-00bc-4e0c-905f-71c02c94b479",
   "metadata": {},
   "source": []
  }
 ],
 "metadata": {
  "kernelspec": {
   "display_name": "Python 3 (ipykernel)",
   "language": "python",
   "name": "python3"
  },
  "language_info": {
   "codemirror_mode": {
    "name": "ipython",
    "version": 3
   },
   "file_extension": ".py",
   "mimetype": "text/x-python",
   "name": "python",
   "nbconvert_exporter": "python",
   "pygments_lexer": "ipython3",
   "version": "3.11.7"
  }
 },
 "nbformat": 4,
 "nbformat_minor": 5
}
