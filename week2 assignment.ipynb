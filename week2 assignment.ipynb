{
 "cells": [
  {
   "cell_type": "markdown",
   "id": "7f653d42-921b-4903-9bf1-57ba9512b930",
   "metadata": {},
   "source": [
    "##### Q.1) Create a package named 'cricket' which will contain modules named batsman & bowler.\n",
    "##### Create following functions in respective modules.\n",
    "##### Import the package and call all these functions in your program\n",
    "##### batsman: findaverage(runs,matches) , strikerate(runs,balls)\n",
    "##### bowler: findavg(runs,wicket), economyrate(overs,runs)"
   ]
  },
  {
   "cell_type": "code",
   "execution_count": 1,
   "id": "2d8a982e-945f-4f75-a979-2444a0bd9a38",
   "metadata": {},
   "outputs": [
    {
     "name": "stdout",
     "output_type": "stream",
     "text": [
      "FOR BATSMAN\n"
     ]
    },
    {
     "name": "stdin",
     "output_type": "stream",
     "text": [
      "Enter runs: 100\n",
      "Enter matches: 3\n",
      "Enter balls: 50\n"
     ]
    },
    {
     "name": "stdout",
     "output_type": "stream",
     "text": [
      "Batsman average= 33.333333333333336\n",
      "Batsman strikerate= 200.0\n",
      "\n",
      "FOR BOWLER\n"
     ]
    },
    {
     "name": "stdin",
     "output_type": "stream",
     "text": [
      "Enter runs: 50\n",
      "Enter wickets: 4\n",
      "Enter overs: 3\n"
     ]
    },
    {
     "name": "stdout",
     "output_type": "stream",
     "text": [
      "Bowler average= 12.5\n",
      "Bowler economyrate= 16.666666666666668\n"
     ]
    }
   ],
   "source": [
    "from cricket import batsman,bowler\n",
    "\n",
    "print('FOR BATSMAN')\n",
    "\n",
    "runs = int(input('Enter runs:'))\n",
    "matches = int(input('Enter matches:'))\n",
    "balls = int(input('Enter balls:'))\n",
    "\n",
    "print('Batsman average=',batsman.findaverage(runs,matches))\n",
    "\n",
    "print('Batsman strikerate=',batsman.strikerate(runs,balls))\n",
    "\n",
    "print('')\n",
    "\n",
    "print('FOR BOWLER')\n",
    "\n",
    "runs = int(input('Enter runs:'))\n",
    "wicket = int(input('Enter wickets:'))\n",
    "overs = int(input('Enter overs:'))\n",
    "\n",
    "print('Bowler average=',bowler.findavg(runs,wicket))\n",
    "\n",
    "print('Bowler economyrate=',bowler.economyrate(overs,runs))"
   ]
  },
  {
   "cell_type": "markdown",
   "id": "427dff09-240f-4e56-aa48-f2776fc3a9c8",
   "metadata": {},
   "source": [
    "##### Q.2) Write a python function to find whether number is prime or not\n",
    "##### def isPrime(num)"
   ]
  },
  {
   "cell_type": "code",
   "execution_count": 2,
   "id": "5fdea7f7-0bed-41fb-aaf3-68a702f076a4",
   "metadata": {},
   "outputs": [],
   "source": [
    "\n",
    "def isPrime(num):\n",
    "    if num > 1:\n",
    "        for i in range(2, (num //2)+1):\n",
    "            if(num % i) == 0:\n",
    "                print('not a prime number')\n",
    "                break\n",
    "            else:\n",
    "                print('prime number')\n",
    "    else:\n",
    "        print('not prime number')"
   ]
  },
  {
   "cell_type": "code",
   "execution_count": 3,
   "id": "1d21107c-5de6-42f8-92e9-2b6fe771b8c3",
   "metadata": {},
   "outputs": [
    {
     "name": "stdout",
     "output_type": "stream",
     "text": [
      "prime number\n"
     ]
    }
   ],
   "source": [
    "isPrime(5)"
   ]
  },
  {
   "cell_type": "code",
   "execution_count": 4,
   "id": "3eb8c680-0864-44d1-aa1a-b847fadac04d",
   "metadata": {},
   "outputs": [
    {
     "name": "stdout",
     "output_type": "stream",
     "text": [
      "not a prime number\n"
     ]
    }
   ],
   "source": [
    "isPrime(4)"
   ]
  },
  {
   "cell_type": "markdown",
   "id": "0775d27b-6cc3-4d7c-8c8a-65c92e8d1767",
   "metadata": {},
   "source": [
    "##### Q.3) Write a function is_palindrome(string) that takes a string as input and returns True if the string reads the same backward as forward\n",
    "##### eg. \"racecar\" is a palindrome"
   ]
  },
  {
   "cell_type": "code",
   "execution_count": 5,
   "id": "a1a43819-472a-4db2-94b8-d5f37bc6f27b",
   "metadata": {},
   "outputs": [],
   "source": [
    "def is_palindrome(string):\n",
    "    if string == string[::-1]:\n",
    "        print(string,'is palindrome')\n",
    "    else:\n",
    "        print(string,'is not palindrome')"
   ]
  },
  {
   "cell_type": "code",
   "execution_count": 6,
   "id": "160bf760-c07e-49ef-8b8d-34ee63c0a99c",
   "metadata": {},
   "outputs": [
    {
     "name": "stdout",
     "output_type": "stream",
     "text": [
      "racecar is palindrome\n"
     ]
    }
   ],
   "source": [
    "is_palindrome('racecar')"
   ]
  },
  {
   "cell_type": "code",
   "execution_count": 7,
   "id": "84b208fc-0e92-4fc2-ab3f-75c955d423b5",
   "metadata": {},
   "outputs": [
    {
     "name": "stdout",
     "output_type": "stream",
     "text": [
      "hello is not palindrome\n"
     ]
    }
   ],
   "source": [
    "is_palindrome('hello')"
   ]
  },
  {
   "cell_type": "markdown",
   "id": "48fcfa2c-fca4-44b7-913a-4fa1bc83f990",
   "metadata": {},
   "source": [
    "##### Q.4) Write a function reverse_list(data) that takes a list as input and returns a new list with elements in reverse order"
   ]
  },
  {
   "cell_type": "code",
   "execution_count": 8,
   "id": "83139d7f-5b7d-43b3-894f-120fe40483eb",
   "metadata": {},
   "outputs": [],
   "source": [
    "data = [12, 23, 34, 45, 56, 67]\n",
    "\n",
    "def reverse_list(data):\n",
    "    print(data[::-1])"
   ]
  },
  {
   "cell_type": "code",
   "execution_count": 9,
   "id": "63bfa344-d894-437c-b3a2-23358e5cdcf5",
   "metadata": {},
   "outputs": [
    {
     "name": "stdout",
     "output_type": "stream",
     "text": [
      "[67, 56, 45, 34, 23, 12]\n"
     ]
    }
   ],
   "source": [
    "reverse_list(data)"
   ]
  },
  {
   "cell_type": "markdown",
   "id": "1302631a-a4f1-4f9b-908e-d749dfe1ecd1",
   "metadata": {},
   "source": [
    "##### Q.5) Write a function write_file(filename, content) that takes a filename and content as input and writes the content to the specified file"
   ]
  },
  {
   "cell_type": "code",
   "execution_count": 10,
   "id": "b35eff2a-1b57-46f1-8227-c62bc129a306",
   "metadata": {},
   "outputs": [],
   "source": [
    "def write_file(filename,content):\n",
    "    with open(filename, 'w') as f:\n",
    "     f.write(content)"
   ]
  },
  {
   "cell_type": "code",
   "execution_count": 11,
   "id": "b403a894-ad85-49f8-805e-72d2502c6248",
   "metadata": {},
   "outputs": [],
   "source": [
    "content='This is 1st line.\\n This 2nd line.\\nThis is 3rd line'\n",
    "\n",
    "write_file('week2', content)"
   ]
  },
  {
   "cell_type": "markdown",
   "id": "7c306e29-12e9-4f1f-95e7-17447a11f997",
   "metadata": {},
   "source": [
    "##### Q.6)  Write a function copy_file(source_filename, destination_filename) that takes the source and destination filenames as input and copies the contents of the source file to destination file. Handle cases where the source file doesn't exist"
   ]
  },
  {
   "cell_type": "code",
   "execution_count": 12,
   "id": "20351f2a-bfea-476f-95e7-118d586b295d",
   "metadata": {},
   "outputs": [],
   "source": [
    "def copy_file(source_filename, destination_filename):\n",
    "    with open('source.txt','r') as s, open('destination.txt','w') as d:\n",
    "        \n",
    "        for line in s:\n",
    "            d.write(line)"
   ]
  },
  {
   "cell_type": "code",
   "execution_count": 13,
   "id": "0c0a5fc9-c653-4a0a-bbf0-a179cc445f49",
   "metadata": {},
   "outputs": [],
   "source": [
    "copy_file('source.txt','destination.txt')"
   ]
  },
  {
   "cell_type": "markdown",
   "id": "450cefb1-a987-4a1d-af33-f768c55ce5c2",
   "metadata": {},
   "source": [
    "##### Q.7) Implement a function to calculate the dot product of two NumPy arrays"
   ]
  },
  {
   "cell_type": "code",
   "execution_count": 14,
   "id": "c9f7f32e-7244-4604-80e1-1c67138dff63",
   "metadata": {},
   "outputs": [
    {
     "name": "stdout",
     "output_type": "stream",
     "text": [
      "Dot product of arrays= \n",
      " [[ 30  36  42]\n",
      " [ 66  81  96]\n",
      " [102 126 150]]\n"
     ]
    }
   ],
   "source": [
    "import numpy as np\n",
    "\n",
    "def dot_product(arr1 , arr2):\n",
    "    result = np.dot(arr1,arr2)\n",
    "    return(result)\n",
    "\n",
    "array1 = np.array([[1,2,3],[4,5,6],[7,8,9]])\n",
    "array2 = np.array([[1,2,3],[4,5,6],[7,8,9]])\n",
    "res = dot_product(array1,array2)\n",
    "print('Dot product of arrays= \\n',res)"
   ]
  },
  {
   "cell_type": "markdown",
   "id": "2c93c814-cf5a-4f85-a5ab-f0e7b3aaf41b",
   "metadata": {},
   "source": [
    "##### Q.8) Implement a GUI with a radio button selection for choosing a favorite colour.Change a background color of the window based on the selected radio button"
   ]
  },
  {
   "cell_type": "code",
   "execution_count": 15,
   "id": "cb758fc4-0fcb-42e2-8c29-e8c835a5be14",
   "metadata": {},
   "outputs": [],
   "source": [
    "import tkinter as tk\n",
    "from tkinter import ttk"
   ]
  },
  {
   "cell_type": "code",
   "execution_count": 16,
   "id": "995c839b-da67-4d98-9294-244532313f32",
   "metadata": {},
   "outputs": [],
   "source": [
    "def change_color():\n",
    "    selected_color = color_var.get()\n",
    "    top.configure(bg=selected_color)\n",
    "\n",
    "top= tk.Tk()\n",
    "top.title('color selection')\n",
    "top.geometry('300x200')\n",
    "\n",
    "color_var = tk.StringVar()\n",
    "\n",
    "colors = ['Pink','Sky Blue','Lavender','Crimson','Orange']\n",
    "for color in colors:\n",
    "    radio_button = ttk.Radiobutton(top, text=color, value=color, variable=color_var,command = change_color)\n",
    "    radio_button.pack(anchor=tk.W)\n",
    "\n",
    "color_var.set(colors[0])\n",
    "top.configure(bg=colors[0])\n",
    "\n",
    "top.mainloop()"
   ]
  },
  {
   "cell_type": "markdown",
   "id": "8c4320dd-f6be-48aa-b9fa-e736b4d0b110",
   "metadata": {},
   "source": [
    "##### Q.9) Design a currency converter in GUI.Allow users to enter an amount and select the currencies they want to convert between(eg.USD,EUR).Display the converted amount in the selected currency"
   ]
  },
  {
   "cell_type": "code",
   "execution_count": 17,
   "id": "7941a354-8566-44c4-b8fc-96ca54fcf930",
   "metadata": {},
   "outputs": [],
   "source": [
    "import tkinter as tk\n",
    "from tkinter import ttk\n",
    "\n",
    "# Fixed exchange rates for simplicity\n",
    "exchange_rates = {\n",
    "    \"USD\": {\"EUR\": 0.85, \"USD\": 1, \"GBP\": 0.75},\n",
    "    \"EUR\": {\"USD\": 1.18, \"EUR\": 1, \"GBP\": 0.88},\n",
    "    \"GBP\": {\"USD\": 1.34, \"EUR\": 1.14, \"GBP\": 1},\n",
    "}\n",
    "\n",
    "def convert_currency():\n",
    "    try:\n",
    "        amount = float(amount_entry.get())\n",
    "        from_currency = from_currency_var.get()\n",
    "        to_currency = to_currency_var.get()\n",
    "        rate = exchange_rates[from_currency][to_currency]\n",
    "        converted_amount = amount * rate\n",
    "        result_var.set(f\"{converted_amount:.2f} {to_currency}\")\n",
    "    except ValueError:\n",
    "        result_var.set(\"Invalid amount entered\")\n",
    "\n",
    "# Create the main window\n",
    "top = tk.Tk()\n",
    "top.title(\"Currency Converter\")\n",
    "top.geometry(\"400x200\")\n",
    "\n",
    "# Amount entry\n",
    "tk.Label(top, text=\"Amount:\").grid(row=0, column=0, padx=10, pady=10)\n",
    "amount_entry = tk.Entry(top)\n",
    "amount_entry.grid(row=0, column=1, padx=10, pady=10)\n",
    "\n",
    "# From currency selection\n",
    "tk.Label(top, text=\"From:\").grid(row=1, column=0, padx=10, pady=10)\n",
    "from_currency_var = tk.StringVar(value=\"USD\")\n",
    "from_currency_menu = ttk.Combobox(top, textvariable=from_currency_var, values=list(exchange_rates.keys()))\n",
    "from_currency_menu.grid(row=1, column=1, padx=10, pady=10)\n",
    "\n",
    "# To currency selection\n",
    "tk.Label(top, text=\"To:\").grid(row=2, column=0, padx=10, pady=10)\n",
    "to_currency_var = tk.StringVar(value=\"EUR\")\n",
    "to_currency_menu = ttk.Combobox(top, textvariable=to_currency_var, values=list(exchange_rates.keys()))\n",
    "to_currency_menu.grid(row=2, column=1, padx=10, pady=10)\n",
    "\n",
    "# Convert button\n",
    "convert_button = tk.Button(top, text=\"Convert\", command=convert_currency)\n",
    "convert_button.grid(row=3, column=0, columnspan=2, padx=10, pady=10)\n",
    "\n",
    "# Result label\n",
    "result_var = tk.StringVar()\n",
    "result_label = tk.Label(top, textvariable=result_var)\n",
    "result_label.grid(row=4, column=0, columnspan=2, padx=10, pady=10)\n",
    "\n",
    "# Run the main loop\n",
    "top.mainloop()"
   ]
  }
 ],
 "metadata": {
  "kernelspec": {
   "display_name": "Python 3 (ipykernel)",
   "language": "python",
   "name": "python3"
  },
  "language_info": {
   "codemirror_mode": {
    "name": "ipython",
    "version": 3
   },
   "file_extension": ".py",
   "mimetype": "text/x-python",
   "name": "python",
   "nbconvert_exporter": "python",
   "pygments_lexer": "ipython3",
   "version": "3.11.7"
  }
 },
 "nbformat": 4,
 "nbformat_minor": 5
}
