{
 "cells": [
  {
   "cell_type": "code",
   "execution_count": 1,
   "id": "a142044b-c83b-4450-a9d8-b1daf5e3037b",
   "metadata": {},
   "outputs": [],
   "source": [
    "import tkinter as tk"
   ]
  },
  {
   "cell_type": "code",
   "execution_count": 8,
   "id": "47cd8b66-b1d6-43a2-8d11-5e2224909fc9",
   "metadata": {},
   "outputs": [],
   "source": [
    "top =tk.Tk()\n",
    "\n",
    "top.title('My Application')\n",
    "top.geometry('500x400')\n",
    "\n",
    "top.mainloop()"
   ]
  },
  {
   "cell_type": "code",
   "execution_count": 12,
   "id": "68676955-8e24-4060-923a-f0f5bfd430a5",
   "metadata": {},
   "outputs": [],
   "source": [
    "# taking button\n",
    "top =tk.Tk()\n",
    "\n",
    "top.title('My Application')\n",
    "top.geometry('500x400')\n",
    "\n",
    "b1 = tk.Button(top, text = 'Click me!!!').pack()\n",
    "\n",
    "top.mainloop()"
   ]
  },
  {
   "cell_type": "code",
   "execution_count": 13,
   "id": "ebb27f9b-377f-4382-8435-d5dfd4265d10",
   "metadata": {},
   "outputs": [],
   "source": [
    "#background colour to button\n",
    "top =tk.Tk()\n",
    "\n",
    "top.title('My Application')\n",
    "top.geometry('500x400')\n",
    "\n",
    "b1 = tk.Button(top, text = 'Click me!!!', bg= 'pink').pack()\n",
    "\n",
    "top.mainloop()"
   ]
  },
  {
   "cell_type": "code",
   "execution_count": 14,
   "id": "cd44102b-d77c-4acf-bb06-c3d64d0ed53c",
   "metadata": {},
   "outputs": [],
   "source": [
    "#Entry\n",
    "\n",
    "top =tk.Tk()\n",
    "\n",
    "top.title('My Application')\n",
    "top.geometry('500x400')\n",
    "\n",
    "b1 = tk.Button(top, text = 'Click me!!!', bg= 'pink').pack()\n",
    "e1= tk.Entry(top).pack()\n",
    "\n",
    "top.mainloop()\n"
   ]
  },
  {
   "cell_type": "code",
   "execution_count": 15,
   "id": "9290ec9f-db7f-4d09-aacf-33a06618ac9a",
   "metadata": {},
   "outputs": [],
   "source": [
    "#Text widget\n",
    "\n",
    "top =tk.Tk()\n",
    "\n",
    "top.title('My Application')\n",
    "top.geometry('500x400')\n",
    "\n",
    "b1 = tk.Button(top, text = 'Click me!!!', bg= 'pink').pack()\n",
    "e1= tk.Entry(top).pack()\n",
    "t1= tk.Text(top).pack()\n",
    "\n",
    "top.mainloop()"
   ]
  },
  {
   "cell_type": "code",
   "execution_count": 16,
   "id": "0f087c2f-b27d-4e28-a934-7c3be3e2b9fb",
   "metadata": {},
   "outputs": [],
   "source": [
    "#using grid instead of pack\n",
    "\n",
    "top =tk.Tk()\n",
    "\n",
    "top.title('My Application')\n",
    "top.geometry('500x400')\n",
    "\n",
    "b1 = tk.Button(top, text = 'Click me!!!', bg= 'pink').grid(column=0, row=1)\n",
    "e1= tk.Entry(top).grid(column=1, row=1)\n",
    "t1= tk.Text(top).grid(column=2, row=2)\n",
    "\n",
    "top.mainloop()"
   ]
  },
  {
   "cell_type": "code",
   "execution_count": 18,
   "id": "d852f135-eba3-476b-9b30-aa7f11e27fef",
   "metadata": {},
   "outputs": [],
   "source": [
    "#label widget\n",
    "\n",
    "top =tk.Tk()\n",
    "\n",
    "top.title('My Application')\n",
    "top.geometry('500x400')\n",
    "\n",
    "b1 = tk.Button(top, text = 'Click me!!!', bg= 'pink').grid(column=0, row=1)\n",
    "e1= tk.Entry(top).grid(column=1, row=1)\n",
    "t1= tk.Text(top).grid(column=2, row=2)\n",
    "l1 = tk.Label(top,text= 'Welcome',font = ('Ariel Bold', 50)).grid(column=2, row = 4)\n",
    "\n",
    "top.mainloop()"
   ]
  }
 ],
 "metadata": {
  "kernelspec": {
   "display_name": "Python 3 (ipykernel)",
   "language": "python",
   "name": "python3"
  },
  "language_info": {
   "codemirror_mode": {
    "name": "ipython",
    "version": 3
   },
   "file_extension": ".py",
   "mimetype": "text/x-python",
   "name": "python",
   "nbconvert_exporter": "python",
   "pygments_lexer": "ipython3",
   "version": "3.11.7"
  }
 },
 "nbformat": 4,
 "nbformat_minor": 5
}
